{
 "cells": [
  {
   "cell_type": "markdown",
   "metadata": {},
   "source": [
    "# Ejercicio 4\n",
    "La idea principal de este ejercicio es estudiar si en las redes propuestas (ojo, la red de colaboraciones es una red pesada) existe asortatividad en el grado. Más en general, comprender cuál es el grado medio de los vecinos de un nodo, en función del grado de este nodo. A su vez, se pide que se repita el análisis para las redes de proteínas vistas anteriormente.\n",
    "\n",
    "### Inciso (a)\n",
    "Para este inciso, es importante entender los pasos necesarios para llevar acabo la tarea pedida. Entendemos que, en primer lugar, es recomendable trabajar con el diccionario de nodos y sus respesctivos grados antes que una lista de grados (pensar, de forma alternativa, si puede ser útil trabajar con un diccionario cuyas llaves -keys- sean los distintos grados y los valores -values- listas de nodos con determinado grado). A su vez, para tener acceso a los vecinos de un nodo, podemos hacer uso de la matriz de adyacencia de la red, pero también tenemos una función de la librería networkx que nos permite acceder a un iterable con los vecinos de determinado nodo:\n",
    "\n",
    "\n",
    "\n",
    "```\n",
    "# Opción 1\n",
    "vecinos_nodo_i = Red.neighbors(i) # donde Red es un nx.Graph() e i un nodo cualquiera\n",
    "\n",
    "# Opción 2\n",
    "vecinos_nodo_i = Red[i] # ojo porque acá obtenemos un diccionario donde podemso tener información sobre el enlace entre el nodo i y sus vecinos (por ejemplo el peso)\n",
    "```\n",
    "La idea final es que estudiemos la relación entre el grado medio de los vecinos de los nodos de grado k en función de k. El estudio de esta relación se debe hacer en base a los dos modelos propuestos (Newman y Barabasai) sobre el origen de la asortatividad.\n",
    "\n"
   ]
  },
  {
   "cell_type": "markdown",
   "metadata": {},
   "source": [
    "### i.\n"
   ]
  },
  {
   "cell_type": "code",
   "execution_count": 1,
   "metadata": {},
   "outputs": [
    {
     "ename": "NameError",
     "evalue": "name 'nx' is not defined",
     "output_type": "error",
     "traceback": [
      "\u001b[0;31m---------------------------------------------------------------------------\u001b[0m",
      "\u001b[0;31mNameError\u001b[0m                                 Traceback (most recent call last)",
      "\u001b[0;32m<ipython-input-1-1b33f29041e6>\u001b[0m in \u001b[0;36m<module>\u001b[0;34m\u001b[0m\n\u001b[1;32m      1\u001b[0m \u001b[0;32mimport\u001b[0m \u001b[0mnumpy\u001b[0m \u001b[0;32mas\u001b[0m \u001b[0mnp\u001b[0m\u001b[0;34m\u001b[0m\u001b[0;34m\u001b[0m\u001b[0m\n\u001b[0;32m----> 2\u001b[0;31m \u001b[0mRed_netscience\u001b[0m \u001b[0;34m=\u001b[0m \u001b[0mnx\u001b[0m\u001b[0;34m.\u001b[0m\u001b[0mread_gml\u001b[0m\u001b[0;34m(\u001b[0m\u001b[0;34m'./data_01/netscience.gml'\u001b[0m\u001b[0;34m)\u001b[0m\u001b[0;34m\u001b[0m\u001b[0;34m\u001b[0m\u001b[0m\n\u001b[0m\u001b[1;32m      3\u001b[0m \u001b[0mRed_asjuly06\u001b[0m \u001b[0;34m=\u001b[0m \u001b[0mnx\u001b[0m\u001b[0;34m.\u001b[0m\u001b[0mread_gml\u001b[0m\u001b[0;34m(\u001b[0m\u001b[0;34m'./data_01/as-22july06.gml'\u001b[0m\u001b[0;34m)\u001b[0m\u001b[0;34m\u001b[0m\u001b[0;34m\u001b[0m\u001b[0m\n",
      "\u001b[0;31mNameError\u001b[0m: name 'nx' is not defined"
     ]
    }
   ],
   "source": [
    "import numpy as np\n",
    "Red_netscience = nx.read_gml('./data_01/netscience.gml')\n",
    "Red_asjuly06 = nx.read_gml('./data_01/as-22july06.gml')"
   ]
  },
  {
   "cell_type": "code",
   "execution_count": null,
   "metadata": {},
   "outputs": [],
   "source": [
    "def asort(Red,title):\n",
    "    asortatividad={} \n",
    "    for nodo_i in Red.nodes():\n",
    "        #Calculo grado del nodo i\n",
    "        grado_i=Red.degree[nodo_i]\n",
    "\n",
    "        grado_vecinos_i=[]\n",
    "        vecinos_nodo_i = Red.neighbors(nodo_i) # G.neighbors(node) devuelve un type iterator\n",
    "        for vecino in vecinos_nodo_i:\n",
    "          grado_vecinos_i.append(Red.degree[vecino])\n",
    "\n",
    "        if len(grado_vecinos_i)==0: #no podemos hacer la media de un array vacio\n",
    "            grado_medio_vecinos_i=0\n",
    "        else:\n",
    "            grado_medio_vecinos_i=np.mean(grado_vecinos_i)\n",
    "\n",
    "        #Si ya existe la key con el grado, le appendeo el nuevo valor medio\n",
    "        if grado_i in asortatividad:\n",
    "            asortatividad[grado_i].append(grado_medio_vecinos_i)\n",
    "        #Si no, creo la key\n",
    "        else:\t\n",
    "            asortatividad[grado_i]=[grado_medio_vecinos_i]\n",
    "    #Para cada grado calculo el promedio del promedio de los grados de los vecinos de cada nodo\n",
    "    for grado in asortatividad:\n",
    "        asortatividad[grado]=np.mean(asortatividad[grado])\n",
    "\n",
    "    lists= sorted(asortatividad.items()) # sorted by key, return a list of tuples\n",
    "    x, y = zip(*lists) # unpack a list of pairs into two tuples\n",
    "\n",
    "    #Saco el grado 0 si es que existe porque no aporta informacion y complica el analisis posterior con logaritmos\n",
    "    if x[0]==0:\n",
    "        x, y = x[1:],y[1:]\n",
    "      \n",
    "    plt.figure()\n",
    "    plt.xlabel('Grado k')\n",
    "    plt.ylabel('knn(k)')\n",
    "    plt.title(title)\n",
    "    plt.plot(x,y)\n",
    "    plt.show()\n",
    "\n",
    "    return(x,y)"
   ]
  },
  {
   "cell_type": "code",
   "execution_count": null,
   "metadata": {},
   "outputs": [],
   "source": [
    "asortatividad_netscience=asort(Red_netscience,'netscience')\n",
    "asortatividad_asjuly06=asort(Red_asjuly06,'asjuly06')"
   ]
  },
  {
   "cell_type": "markdown",
   "metadata": {},
   "source": [
    "### ii.\n",
    "En el caso de la red netscience tenemos asortatividad dado que nodos de bajo grado se relacionan con nodos de bajo grado, y el valor medio del grado de los vecinos (knn(k)) se va incrementando a medida que aumenta el grado. \n",
    "\n",
    "Contrariamente, en el caso de la red asjuly06 tenemos disasortatividad dado que nodos de bajo grado se relacionan con nodos de muy alto grado y el valor medio del grado de los vecinos (knn(k)) se va reuciendo a medida que aumenta el grado."
   ]
  },
  {
   "cell_type": "markdown",
   "metadata": {},
   "source": [
    "### iii."
   ]
  },
  {
   "cell_type": "code",
   "execution_count": null,
   "metadata": {},
   "outputs": [],
   "source": [
    "def exponente_correlacion(asortatividad):\n",
    "    z=np.polyfit(np.log(asortatividad[0]), np.log(asortatividad[1]), 1)\n",
    "    p=np.poly1d(z)\n",
    "    mu=z[0]\n",
    "    print(f\"z es {z}\")\n",
    "    error_mu = z[1]\n",
    "    #devuelve mu (factor de correlacion) y el fit lineal p\n",
    "    return(mu,p,error_mu)\n",
    "\n",
    "def fit_lineal_log(asortatividad,title):\n",
    "    x_log=np.log(asortatividad[0])\n",
    "    y_log=np.log(asortatividad[1])\n",
    "    mu,p,error_mu=exponente_correlacion(asortatividad)\n",
    "    fit=p(x_log)\n",
    "    plt.plot(x_log,y_log, label='log(knn(k))')\n",
    "    \n",
    "    plt.plot(x_log,fit,label=f'fit mu={str(round(mu,2))+\"+/-\"+str(round(error_mu,3)+0.05)}')\n",
    "    plt.xlabel('log(k)')\n",
    "    plt.title(f'Red: {title}')\n",
    "    plt.legend(loc='best')\n",
    "    plt.show()\n",
    "    return(mu)"
   ]
  },
  {
   "cell_type": "code",
   "execution_count": null,
   "metadata": {},
   "outputs": [],
   "source": [
    "fit_lineal_log(asortatividad_netscience,'netscience')\n",
    "fit_lineal_log(asortatividad_asjuly06,'asjuly06')"
   ]
  },
  {
   "cell_type": "markdown",
   "metadata": {},
   "source": [
    "El valor de mu es positivo para la red netscience que es asortativa, y negativo para la red asjuly06 que presenta disortatividad. "
   ]
  },
  {
   "cell_type": "markdown",
   "metadata": {},
   "source": [
    "### iv."
   ]
  },
  {
   "cell_type": "code",
   "execution_count": null,
   "metadata": {},
   "outputs": [],
   "source": [
    "#http://math.sjtu.edu.cn/faculty/xiaodong/course/Networks%20An%20introduction.pdf\n",
    "#Aca usamos la formula 8.28 y 8.29\n",
    "def r_correlacion(red):\n",
    "     \n",
    "    Se, S1, S2, S3=0, 0, 0, 0    \n",
    "    for enlace in red.edges():\n",
    "        nodo_i=enlace[0]\n",
    "        nodo_j=enlace[1]\n",
    "        #Sumatoria sobre los enlaces distintos, de 2 ki kj\n",
    "        Se += 2*red.degree[nodo_i]*red.degree[nodo_j] \n",
    "\n",
    "    for nodo in red.nodes():\n",
    "        S1+=red.degree[nodo]\n",
    "        S2+=red.degree[nodo]**2\n",
    "        S3+=red.degree[nodo]**3\n",
    "\n",
    "    r= (S1*Se - S2*S2)/ (S1*S3-S2*S2)\n",
    "    \n",
    "    return(r)"
   ]
  },
  {
   "cell_type": "code",
   "execution_count": null,
   "metadata": {},
   "outputs": [],
   "source": [
    "print(f'Red netscience: r={r_correlacion(Red_netscience)}')\n",
    "print(f'Red asjuly06: r={r_correlacion(Red_asjuly06)}')"
   ]
  },
  {
   "cell_type": "markdown",
   "metadata": {},
   "source": [
    "El valor de r es positivo para la red netscience que es asortativa, y negativo para la red asjuly06 que presenta disortatividad. \n",
    "\n",
    "Teniendo en cuenta que la red netscience corresponde a interacciones entre individuos de la comunidad cientifica y la red asjuly06 a las interacciones entre sistemas autonomos en internet, estos resultados coinciden con los recopilados en el libro de Newman:\n",
    "\n",
    "<em>In Table 8.1 we show the values of r for a range of networks and the results reveal an interesting pattern.  A pesar de que ninguno de los valores es de una magnitud grande (las correlaciones entre los grados no son particularmente fuertes), hay una clara tendencia de las redes sociales a tener un valor r positivo. Esto indica un comportamento asortativo entre los nodos similares. Por otro lado, el resto de las redes (biológicas,tencológicas,informáticas) tienen un valor de r negativo, lo que indica que los nodos de grados altos tienden a enlazarse con nodos de grados más bajos.</em>"
   ]
  },
  {
   "cell_type": "markdown",
   "metadata": {},
   "source": [
    "## Inciso (b)\n",
    "Repetir lo anterior pero para las redes de proteínas"
   ]
  },
  {
   "cell_type": "code",
   "execution_count": null,
   "metadata": {},
   "outputs": [],
   "source": [
    "def analisis_asortatividad(G):\n",
    "    asortatividad=asort(G,red)\n",
    "    mu=fit_lineal_log(asortatividad,red)\n",
    "    r=r_correlacion(G)\n",
    "    return(mu,r)\n",
    "\n",
    "asortatividad_redes_proteinas={}\n",
    "\n",
    "for red in data:\n",
    "    mu,r = analisis_asortatividad(data[red][\"Grafo\"])\n",
    "    asortatividad_redes_proteinas[red]={}\n",
    "    asortatividad_redes_proteinas[red]['mu']=mu\n",
    "    asortatividad_redes_proteinas[red]['r']=r\n",
    "    \n",
    "pd.DataFrame(asortatividad_redes_proteinas)"
   ]
  },
  {
   "cell_type": "markdown",
   "metadata": {},
   "source": [
    "En el caso de las redes de proteinas AP_MS y LIT el comportamiento es asortativo, y en el caso de la red Y2H es disortativo. La explicacion en el caso de la res AP_MS podria venir del siguiente parrafo del libro de Newman:\n",
    "\n",
    "<em> Si una red está dividida en pequeños subgrupos unidos a vértices que están mayormente desconectados del resto de la red, entonces, como dijimos, los vértices de estos pequeños subrgrupos tienden a tener un menor grado que los vértices en subgrupos más grandes. Pero además como los miembros de los grupos pequeños comparten enlaces con miembros de ese mismo grupo,  termina sucediendo que los vértices de bajos grados van a estar unidos a otros vertices de grados bajos también. Análogamente ocurrirá con los de grado alto. Esta simple idea, al poder ser cuantificada en ciertas circunstancias, produce valores positivos de r.\n",
    "    \n",
    "Una posible explicación de estos patrones generados por el valor r es que la mayoría de las redes son naturalmente disasortativas por grado ya que son grafos simples. En cambio las redes sociales (y tal vez algunas otras más) anulan este sesgo natural y se vuelven asortativas según las condiciones de la estructura del grupo.\n",
    " </em>\n",
    "\n",
    "En efecto la red AP_MS corresponde a estructuras de grupos debido a que identifica conjuntos de proteinas y no interacciones uno a uno de proteinas, en este sentido era esperable que el analisis de la asortatividad de la red demostrara en cierta manera su estructura de grupos."
   ]
  },
  {
   "cell_type": "code",
   "execution_count": null,
   "metadata": {},
   "outputs": [],
   "source": []
  }
 ],
 "metadata": {
  "kernelspec": {
   "display_name": "Python 3",
   "language": "python",
   "name": "python3"
  },
  "language_info": {
   "codemirror_mode": {
    "name": "ipython",
    "version": 3
   },
   "file_extension": ".py",
   "mimetype": "text/x-python",
   "name": "python",
   "nbconvert_exporter": "python",
   "pygments_lexer": "ipython3",
   "version": "3.6.9"
  }
 },
 "nbformat": 4,
 "nbformat_minor": 4
}
