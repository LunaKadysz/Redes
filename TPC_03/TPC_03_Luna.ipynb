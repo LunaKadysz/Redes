{
 "cells": [
  {
   "cell_type": "markdown",
   "metadata": {},
   "source": [
    "Las cuatro redes de proteínas de levadura que\n",
    "disponemos: Y2H, AP-MS, LIT y Lit-Reguly. Las dos últimas son redes construidas a partir de\n",
    "interacciones reportadas en la literatura. "
   ]
  },
  {
   "cell_type": "code",
   "execution_count": 3,
   "metadata": {},
   "outputs": [],
   "source": [
    "#librerias a utilizar\n",
    "import networkx as nx\n",
    "import numpy as np\n",
    "import matplotlib.pyplot as plt\n",
    "import os\n",
    "import scipy.stats as scipy"
   ]
  },
  {
   "cell_type": "code",
   "execution_count": 4,
   "metadata": {},
   "outputs": [],
   "source": [
    "#Para abrir archivos\n",
    "def abrir_txt(nombre_archivo):\n",
    "    archivo=open(nombre_archivo)\n",
    "    data=[]\n",
    "    for linea in archivo:\n",
    "        linea=linea.strip()\n",
    "        columna=linea.split()\n",
    "        data.append(columna)\n",
    "    if os.path.basename(nombre_archivo) == 'yeast_LIT_Reguly.txt':\n",
    "        data = data[1:]\n",
    "        enlaces = []\n",
    "        for linea in data:\n",
    "            enlaces.append(linea[:2])\n",
    "        return(enlaces)\n",
    "    if os.path.basename(nombre_archivo) == 'Essential_ORFs_paperHe.txt': \n",
    "        data = data[2:]\n",
    "        esenciales = []\n",
    "        for linea in data:\n",
    "            if len(linea)>2:\n",
    "                esenciales.append(linea[1])\n",
    "        return esenciales\n",
    "    else:\n",
    "        return data\n",
    "\n",
    "def crear_redes(red):\n",
    "    lista_de_enlaces = abrir_txt(red)\n",
    "    Red = nx.Graph()\n",
    "    Red.add_edges_from(lista_de_enlaces)\n",
    "    return Red"
   ]
  },
  {
   "cell_type": "code",
   "execution_count": 5,
   "metadata": {},
   "outputs": [],
   "source": [
    "redes = {'Y2H': './data/yeast_Y2H.txt', \n",
    "         'AP_MS': './data/yeast_AP-MS.txt',\n",
    "         'Lit': './data/yeast_LIT.txt',\n",
    "         'Lit_reg': \"./data/yeast_LIT_Reguly.txt\"\n",
    "         }\n",
    "redes_dict = {}\n",
    "\n",
    "for red in redes:\n",
    "    grafo = crear_redes(redes[red])\n",
    "    redes_dict[red] = {}\n",
    "    redes_dict[red][\"Grafo\"] = grafo"
   ]
  },
  {
   "cell_type": "markdown",
   "metadata": {},
   "source": [
    "# Tabla 1"
   ]
  },
  {
   "cell_type": "code",
   "execution_count": 10,
   "metadata": {},
   "outputs": [],
   "source": [
    "def get_red_info(nombre_red):\n",
    "    \n",
    "    red = redes_dict[nombre_red]\n",
    "    grafo = red['Grafo']\n",
    "    red['Nodos'] = grafo.number_of_nodes() \n",
    "    red['Enlaces'] = grafo.number_of_edges()\n",
    "    red['Grado medio'] = 2 * red['Enlaces'] / red['Nodos']\n",
    "    red['Clustering medio'] = nx.average_clustering(grafo)   "
   ]
  },
  {
   "cell_type": "code",
   "execution_count": 11,
   "metadata": {},
   "outputs": [],
   "source": [
    "for red in redes_dict.keys():\n",
    "    get_red_info(red)"
   ]
  },
  {
   "cell_type": "code",
   "execution_count": 18,
   "metadata": {},
   "outputs": [
    {
     "data": {
      "text/html": [
       "<div>\n",
       "<style scoped>\n",
       "    .dataframe tbody tr th:only-of-type {\n",
       "        vertical-align: middle;\n",
       "    }\n",
       "\n",
       "    .dataframe tbody tr th {\n",
       "        vertical-align: top;\n",
       "    }\n",
       "\n",
       "    .dataframe thead th {\n",
       "        text-align: right;\n",
       "    }\n",
       "</style>\n",
       "<table border=\"1\" class=\"dataframe\">\n",
       "  <thead>\n",
       "    <tr style=\"text-align: right;\">\n",
       "      <th></th>\n",
       "      <th>Clustering medio</th>\n",
       "      <th>Enlaces</th>\n",
       "      <th>Grado medio</th>\n",
       "      <th>Nodos</th>\n",
       "    </tr>\n",
       "  </thead>\n",
       "  <tbody>\n",
       "    <tr>\n",
       "      <th>Y2H</th>\n",
       "      <td>0.05</td>\n",
       "      <td>2930</td>\n",
       "      <td>2.90</td>\n",
       "      <td>2018</td>\n",
       "    </tr>\n",
       "    <tr>\n",
       "      <th>AP_MS</th>\n",
       "      <td>0.55</td>\n",
       "      <td>9070</td>\n",
       "      <td>11.18</td>\n",
       "      <td>1622</td>\n",
       "    </tr>\n",
       "    <tr>\n",
       "      <th>Lit</th>\n",
       "      <td>0.29</td>\n",
       "      <td>2925</td>\n",
       "      <td>3.81</td>\n",
       "      <td>1536</td>\n",
       "    </tr>\n",
       "    <tr>\n",
       "      <th>Lit_reg</th>\n",
       "      <td>0.26</td>\n",
       "      <td>11858</td>\n",
       "      <td>7.17</td>\n",
       "      <td>3307</td>\n",
       "    </tr>\n",
       "  </tbody>\n",
       "</table>\n",
       "</div>"
      ],
      "text/plain": [
       "         Clustering medio Enlaces  Grado medio Nodos\n",
       "Y2H                  0.05    2930         2.90  2018\n",
       "AP_MS                0.55    9070        11.18  1622\n",
       "Lit                  0.29    2925         3.81  1536\n",
       "Lit_reg              0.26   11858         7.17  3307"
      ]
     },
     "execution_count": 18,
     "metadata": {},
     "output_type": "execute_result"
    }
   ],
   "source": [
    "import pandas as pd\n",
    "\n",
    "redes_df = redes_dict.copy() #no modificar data\n",
    "df = pd.DataFrame(redes_dict).transpose()\n",
    "df_sin_grafo = df.drop(columns = ['Grafo'])\n",
    "df_sin_grafo = df_sin_grafo.astype({'Clustering medio': float, 'Grado medio': float})\n",
    "df_sin_grafo.round({'Clustering medio': 2, 'Grado medio': 2})"
   ]
  },
  {
   "cell_type": "markdown",
   "metadata": {},
   "source": [
    "# Tabla 2"
   ]
  },
  {
   "cell_type": "code",
   "execution_count": 6,
   "metadata": {},
   "outputs": [],
   "source": [
    "nodos = {}\n",
    "enlaces = {}\n",
    "\n",
    "for red in redes_dict:\n",
    "    Red_proteinas = redes_dict[red]['Grafo']\n",
    "    #Guardo enlaces y nodos en un set para poder hacer comparaciones facilmente\n",
    "    enlaces[red], nodos[red] = set(), set()\n",
    "    for nodo in Red_proteinas.nodes(): nodos[red].add(nodo)\n",
    "    #Como los enlaces son NO dirigidos, los ordeno los nodos del enlace antes de guardarlo\n",
    "    for enlace in Red_proteinas.edges(): enlace=sorted(enlace);enlaces[red].add((enlace[0],enlace[1]))"
   ]
  },
  {
   "cell_type": "code",
   "execution_count": 20,
   "metadata": {},
   "outputs": [
    {
     "data": {
      "text/plain": [
       "['Y2H', 'AP_MS', 'Lit', 'Lit_reg']"
      ]
     },
     "execution_count": 20,
     "metadata": {},
     "output_type": "execute_result"
    }
   ],
   "source": [
    "overlap_dict = {}  \n",
    "lista_redes = list(redes_dict.keys())\n",
    "lista_redes"
   ]
  },
  {
   "cell_type": "code",
   "execution_count": 38,
   "metadata": {},
   "outputs": [],
   "source": [
    "def intersection(dicts):\n",
    "    for key in dicts.keys():\n",
    "        overlap_dict[key] = {}\n",
    "        overlap_dict[key][key] = 0\n",
    "        a = dicts[key]\n",
    "        lista = ('b', 'c', 'd')\n",
    "        for red in dicts.keys():\n",
    "            if red == key:\n",
    "                overlap_dict[key][key] = 0 \n",
    "            else:\n",
    "                interseccion = a.intersection(dicts[red])\n",
    "                overlap_dict[key][red] = len(interseccion) / len(a)\n",
    "            \n",
    "                           \n",
    "intersection(enlaces)     "
   ]
  },
  {
   "cell_type": "code",
   "execution_count": 39,
   "metadata": {},
   "outputs": [
    {
     "data": {
      "text/plain": [
       "{'Y2H': {'Y2H': 0,\n",
       "  'AP_MS': 0.08873720136518772,\n",
       "  'Lit': 0.08873720136518772,\n",
       "  'Lit_reg': 0.163481228668942},\n",
       " 'AP_MS': {'AP_MS': 0,\n",
       "  'Y2H': 0.02866593164277839,\n",
       "  'Lit': 0.14310915104740904,\n",
       "  'Lit_reg': 0.27783902976846747},\n",
       " 'Lit': {'Lit': 0,\n",
       "  'Y2H': 0.08888888888888889,\n",
       "  'AP_MS': 0.4437606837606838,\n",
       "  'Lit_reg': 0.9777777777777777},\n",
       " 'Lit_reg': {'Lit_reg': 0,\n",
       "  'Y2H': 0.040394670264800134,\n",
       "  'AP_MS': 0.21251475796930341,\n",
       "  'Lit': 0.24118738404452691}}"
      ]
     },
     "execution_count": 39,
     "metadata": {},
     "output_type": "execute_result"
    }
   ],
   "source": [
    "overlap_dict"
   ]
  },
  {
   "cell_type": "code",
   "execution_count": 40,
   "metadata": {},
   "outputs": [
    {
     "data": {
      "text/html": [
       "<div>\n",
       "<style scoped>\n",
       "    .dataframe tbody tr th:only-of-type {\n",
       "        vertical-align: middle;\n",
       "    }\n",
       "\n",
       "    .dataframe tbody tr th {\n",
       "        vertical-align: top;\n",
       "    }\n",
       "\n",
       "    .dataframe thead th {\n",
       "        text-align: right;\n",
       "    }\n",
       "</style>\n",
       "<table border=\"1\" class=\"dataframe\">\n",
       "  <thead>\n",
       "    <tr style=\"text-align: right;\">\n",
       "      <th></th>\n",
       "      <th>AP_MS</th>\n",
       "      <th>Lit</th>\n",
       "      <th>Lit_reg</th>\n",
       "      <th>Y2H</th>\n",
       "    </tr>\n",
       "  </thead>\n",
       "  <tbody>\n",
       "    <tr>\n",
       "      <th>Y2H</th>\n",
       "      <td>0.089</td>\n",
       "      <td>0.089</td>\n",
       "      <td>0.163</td>\n",
       "      <td>-</td>\n",
       "    </tr>\n",
       "    <tr>\n",
       "      <th>AP_MS</th>\n",
       "      <td>-</td>\n",
       "      <td>0.143</td>\n",
       "      <td>0.278</td>\n",
       "      <td>0.029</td>\n",
       "    </tr>\n",
       "    <tr>\n",
       "      <th>Lit</th>\n",
       "      <td>0.444</td>\n",
       "      <td>-</td>\n",
       "      <td>0.978</td>\n",
       "      <td>0.089</td>\n",
       "    </tr>\n",
       "    <tr>\n",
       "      <th>Lit_reg</th>\n",
       "      <td>0.213</td>\n",
       "      <td>0.241</td>\n",
       "      <td>-</td>\n",
       "      <td>0.04</td>\n",
       "    </tr>\n",
       "  </tbody>\n",
       "</table>\n",
       "</div>"
      ],
      "text/plain": [
       "         AP_MS    Lit Lit_reg    Y2H\n",
       "Y2H      0.089  0.089   0.163      -\n",
       "AP_MS        -  0.143   0.278  0.029\n",
       "Lit      0.444      -   0.978  0.089\n",
       "Lit_reg  0.213  0.241       -   0.04"
      ]
     },
     "execution_count": 40,
     "metadata": {},
     "output_type": "execute_result"
    }
   ],
   "source": [
    "enlaces_df = overlap_dict.copy() #no modificar data\n",
    "df = pd.DataFrame(enlaces_df).transpose()\n",
    "df = df.astype(float).round(3)\n",
    "for red, _ in df.iterrows():\n",
    "    df.loc[df[red] == 0, red] = '-'\n",
    "df\n"
   ]
  },
  {
   "cell_type": "markdown",
   "metadata": {},
   "source": [
    "Esta tabla se lee \"De los enlaces de Y2H un 8.9% de sus enlaces también está en AP MS\"."
   ]
  },
  {
   "cell_type": "markdown",
   "metadata": {},
   "source": [
    "Esto no lo pide, pero podriamos ponerlo. Lo mismo una tabla para nodos. "
   ]
  },
  {
   "cell_type": "code",
   "execution_count": 41,
   "metadata": {},
   "outputs": [
    {
     "ename": "ModuleNotFoundError",
     "evalue": "No module named 'venn'",
     "output_type": "error",
     "traceback": [
      "\u001b[1;31m---------------------------------------------------------------------------\u001b[0m",
      "\u001b[1;31mModuleNotFoundError\u001b[0m                       Traceback (most recent call last)",
      "\u001b[1;32m<ipython-input-41-8710a3ae1420>\u001b[0m in \u001b[0;36m<module>\u001b[1;34m\u001b[0m\n\u001b[1;32m----> 1\u001b[1;33m \u001b[1;32mfrom\u001b[0m \u001b[0mvenn\u001b[0m \u001b[1;32mimport\u001b[0m \u001b[0mvenn\u001b[0m\u001b[1;33m\u001b[0m\u001b[1;33m\u001b[0m\u001b[0m\n\u001b[0m\u001b[0;32m      2\u001b[0m \u001b[0mf\u001b[0m\u001b[1;33m,\u001b[0m \u001b[0maxs\u001b[0m \u001b[1;33m=\u001b[0m \u001b[0mplt\u001b[0m\u001b[1;33m.\u001b[0m\u001b[0msubplots\u001b[0m\u001b[1;33m(\u001b[0m\u001b[1;36m1\u001b[0m\u001b[1;33m,\u001b[0m \u001b[1;36m2\u001b[0m \u001b[1;33m,\u001b[0m \u001b[0mfigsize\u001b[0m\u001b[1;33m=\u001b[0m\u001b[1;33m(\u001b[0m\u001b[1;36m15\u001b[0m\u001b[1;33m,\u001b[0m\u001b[1;36m15\u001b[0m\u001b[1;33m)\u001b[0m\u001b[1;33m)\u001b[0m\u001b[1;33m\u001b[0m\u001b[1;33m\u001b[0m\u001b[0m\n\u001b[0;32m      3\u001b[0m \u001b[0mvenn_e\u001b[0m \u001b[1;33m=\u001b[0m \u001b[0mvenn\u001b[0m\u001b[1;33m(\u001b[0m\u001b[0menlaces\u001b[0m\u001b[1;33m,\u001b[0m \u001b[0mfmt\u001b[0m\u001b[1;33m=\u001b[0m\u001b[1;34m\"{percentage:.1f}%\"\u001b[0m\u001b[1;33m,\u001b[0m \u001b[0max\u001b[0m\u001b[1;33m=\u001b[0m \u001b[0maxs\u001b[0m\u001b[1;33m[\u001b[0m\u001b[1;36m0\u001b[0m\u001b[1;33m]\u001b[0m\u001b[1;33m,\u001b[0m \u001b[0mcmap\u001b[0m \u001b[1;33m=\u001b[0m \u001b[1;34m\"plasma\"\u001b[0m\u001b[1;33m)\u001b[0m\u001b[1;33m\u001b[0m\u001b[1;33m\u001b[0m\u001b[0m\n\u001b[0;32m      4\u001b[0m \u001b[0maxs\u001b[0m\u001b[1;33m[\u001b[0m\u001b[1;36m0\u001b[0m\u001b[1;33m]\u001b[0m\u001b[1;33m.\u001b[0m\u001b[0mset_title\u001b[0m\u001b[1;33m(\u001b[0m\u001b[1;34m\"Enlaces\"\u001b[0m\u001b[1;33m)\u001b[0m\u001b[1;33m\u001b[0m\u001b[1;33m\u001b[0m\u001b[0m\n\u001b[0;32m      5\u001b[0m \u001b[0mvenn\u001b[0m\u001b[1;33m(\u001b[0m\u001b[0mnodos\u001b[0m\u001b[1;33m,\u001b[0m \u001b[0mfmt\u001b[0m\u001b[1;33m=\u001b[0m\u001b[1;34m\"{percentage:.1f}%\"\u001b[0m\u001b[1;33m,\u001b[0m \u001b[0max\u001b[0m\u001b[1;33m=\u001b[0m \u001b[0maxs\u001b[0m\u001b[1;33m[\u001b[0m\u001b[1;36m1\u001b[0m\u001b[1;33m]\u001b[0m \u001b[1;33m)\u001b[0m\u001b[1;33m\u001b[0m\u001b[1;33m\u001b[0m\u001b[0m\n",
      "\u001b[1;31mModuleNotFoundError\u001b[0m: No module named 'venn'"
     ]
    }
   ],
   "source": [
    "from venn import venn\n",
    "f, axs = plt.subplots(1, 2 , figsize=(15,15))\n",
    "venn_e = venn(enlaces, fmt=\"{percentage:.1f}%\", ax= axs[0], cmap = \"plasma\")\n",
    "axs[0].set_title(\"Enlaces\")\n",
    "venn(nodos, fmt=\"{percentage:.1f}%\", ax= axs[1] )\n",
    "axs[1].set_title(\"Nodos\")\n",
    "plt.show()"
   ]
  },
  {
   "cell_type": "markdown",
   "metadata": {},
   "source": [
    "# Figura 1"
   ]
  },
  {
   "cell_type": "code",
   "execution_count": 6,
   "metadata": {},
   "outputs": [],
   "source": [
    "lista_esenciales = abrir_txt('./data/Essential_ORFs_paperHe.txt')\n",
    "\n",
    "grados_ordenados = {}\n",
    "\n",
    "def segundo_lugar(item):\n",
    "    return item[1]\n",
    "\n",
    "for red in redes_dict.keys():\n",
    "    grados_lista = list(redes_dict[red]['Grafo'].degree())\n",
    "    grados_lista.sort(key = segundo_lugar, reverse = True)\n",
    "    grados_ordenados[red] = grados_lista"
   ]
  },
  {
   "cell_type": "code",
   "execution_count": 43,
   "metadata": {},
   "outputs": [],
   "source": [
    "from operator import itemgetter\n",
    "\n",
    "def calcular_esenciales(red):\n",
    "    \n",
    "    nodos = list(map(itemgetter(0), grados_ordenados[red])) #lista de nodos ordenados por grado\n",
    "    orden_grados = list(map(itemgetter(1), grados_ordenados[red])) #grados de dichos nodos\n",
    "    \n",
    "    hub_definition = []\n",
    "    fraccion_hubs_esenciales = []\n",
    "\n",
    "    for i in orden_grados: \n",
    "        lista_nodos = []\n",
    "        for j in range(0,len(nodos)):\n",
    "            if orden_grados[j] >= i: \n",
    "                lista_nodos.append(nodos[j]) #solo si tienen mayor grado\n",
    "        \n",
    "        hub_definition.append(len(lista_nodos) / redes_dict[red]['Nodos']) #propocion de nodos que tomo como hub\n",
    "        hubs_esenciales = set(lista_nodos).intersection(lista_esenciales) #nodos esenciales dentro de los hubs\n",
    "        fraccion_hubs_esenciales.append(len(hubs_esenciales) / len(lista_nodos) ) #fraccion entre los hubs de esenciales       \n",
    "        \n",
    "    return hub_definition, fraccion_hubs_esenciales"
   ]
  },
  {
   "cell_type": "code",
   "execution_count": 44,
   "metadata": {},
   "outputs": [
    {
     "data": {
      "image/png": "[encoded data removed]",
      "text/plain": [
       "<Figure size 432x288 with 1 Axes>"
      ]
     },
     "metadata": {
      "needs_background": "light"
     },
     "output_type": "display_data"
    }
   ],
   "source": [
    "correlaciones = {}\n",
    "for red in redes_dict.keys():\n",
    "    x, y = calcular_esenciales(red)\n",
    "    correlaciones[red] = {}\n",
    "    correlaciones[red]['Kendall'] = scipy.kendalltau(x,y)[0]\n",
    "    correlaciones[red]['Kendall p value'] = (scipy.kendalltau(x,y)[1])\n",
    "    correlaciones[red]['Spearman'] = scipy.spearmanr(x,y)[0]\n",
    "    correlaciones[red]['Spearman p value'] = scipy.spearmanr(x,y)[1]\n",
    "    plt.plot(x, y, label = f'Red: {red}')\n",
    "    plt.xlabel('Proporción de hubs')\n",
    "    plt.ylabel('Fracción de hubs escenciales')\n",
    "    plt.legend()\n",
    "    \n",
    "\n",
    "plt.grid()\n",
    "plt.show()"
   ]
  },
  {
   "cell_type": "code",
   "execution_count": 45,
   "metadata": {},
   "outputs": [
    {
     "data": {
      "text/html": [
       "<div>\n",
       "<style scoped>\n",
       "    .dataframe tbody tr th:only-of-type {\n",
       "        vertical-align: middle;\n",
       "    }\n",
       "\n",
       "    .dataframe tbody tr th {\n",
       "        vertical-align: top;\n",
       "    }\n",
       "\n",
       "    .dataframe thead th {\n",
       "        text-align: right;\n",
       "    }\n",
       "</style>\n",
       "<table border=\"1\" class=\"dataframe\">\n",
       "  <thead>\n",
       "    <tr style=\"text-align: right;\">\n",
       "      <th></th>\n",
       "      <th>Kendall</th>\n",
       "      <th>Kendall p value</th>\n",
       "      <th>Spearman</th>\n",
       "      <th>Spearman p value</th>\n",
       "    </tr>\n",
       "  </thead>\n",
       "  <tbody>\n",
       "    <tr>\n",
       "      <th>Y2H</th>\n",
       "      <td>-0.351</td>\n",
       "      <td>0.0</td>\n",
       "      <td>-0.448</td>\n",
       "      <td>0.0</td>\n",
       "    </tr>\n",
       "    <tr>\n",
       "      <th>AP_MS</th>\n",
       "      <td>-0.689</td>\n",
       "      <td>0.0</td>\n",
       "      <td>-0.693</td>\n",
       "      <td>0.0</td>\n",
       "    </tr>\n",
       "    <tr>\n",
       "      <th>Lit</th>\n",
       "      <td>-0.971</td>\n",
       "      <td>0.0</td>\n",
       "      <td>-0.994</td>\n",
       "      <td>0.0</td>\n",
       "    </tr>\n",
       "    <tr>\n",
       "      <th>Lit_reg</th>\n",
       "      <td>-0.995</td>\n",
       "      <td>0.0</td>\n",
       "      <td>-0.998</td>\n",
       "      <td>0.0</td>\n",
       "    </tr>\n",
       "  </tbody>\n",
       "</table>\n",
       "</div>"
      ],
      "text/plain": [
       "         Kendall  Kendall p value  Spearman  Spearman p value\n",
       "Y2H       -0.351              0.0    -0.448               0.0\n",
       "AP_MS     -0.689              0.0    -0.693               0.0\n",
       "Lit       -0.971              0.0    -0.994               0.0\n",
       "Lit_reg   -0.995              0.0    -0.998               0.0"
      ]
     },
     "execution_count": 45,
     "metadata": {},
     "output_type": "execute_result"
    }
   ],
   "source": [
    "correlaciones_df = correlaciones.copy() #no modificar data\n",
    "df = pd.DataFrame(correlaciones_df).transpose()\n",
    "df = df.astype(float).round(3)\n",
    "df"
   ]
  },
  {
   "cell_type": "markdown",
   "metadata": {},
   "source": [
    "# Figura 3"
   ]
  },
  {
   "cell_type": "markdown",
   "metadata": {},
   "source": [
    "Esto es igualito al ejercicio 2c del TPC_01.\n",
    "Tenemos que considerar 7 centralidades:\n",
    "* Remover nodos esenciales de una\n",
    "* Random (ver código ya hecho)\n",
    "* Eigenvalue: diccionario_centralidad_autovalor = nx.eigenvector_centrality(Red, max_iter=100, tol=1e-06, nstart=None, weight='weight')\n",
    "* Degree centrality diccionario_centralidad_grado = nx.degree_centrality(Red)\n",
    "* Shortest path diccionario_centralidad_intermediatez = nx.betweenness_centrality(Red, k=None, normalized=True, weight=None, endpoints=False, seed=None)\n",
    "* current_flow \n",
    "* diccionario_centralidad_cercania = nx.closeness_centrality(Red, u=None, distance=None, wf_improved=True)\n",
    "*"
   ]
  },
  {
   "cell_type": "markdown",
   "metadata": {},
   "source": [
    "### 1) Esenciales"
   ]
  },
  {
   "cell_type": "code",
   "execution_count": 46,
   "metadata": {},
   "outputs": [],
   "source": [
    "def sacar_esenciales(red, lista_esenciales):\n",
    "    cant_nodos = redes_dict[red]['Nodos']\n",
    "    Graph = redes_dict[red]['Grafo'].copy() #no modifico originales\n",
    "    Graph.remove_nodes_from(lista_esenciales)\n",
    "    fracc_nodos_sacados = 1 - Graph.number_of_nodes() / cant_nodos\n",
    "      \n",
    "    \n",
    "    componentes=[Graph.subgraph(componente)\n",
    "                 for componente in sorted(nx.connected_components(Graph),\n",
    "                                          key=len, reverse=True)]\n",
    "    gigante = componentes[0]\n",
    "    fracc_tamamo_gigante = gigante.number_of_nodes() / cant_nodos\n",
    "    return fracc_nodos_sacados, fracc_tamamo_gigante"
   ]
  },
  {
   "cell_type": "markdown",
   "metadata": {},
   "source": [
    "Esto sólo para saber"
   ]
  },
  {
   "cell_type": "code",
   "execution_count": 47,
   "metadata": {},
   "outputs": [
    {
     "data": {
      "text/plain": [
       "{'Y2H': 0.22348860257680872,\n",
       " 'AP_MS': 0.37422934648581996,\n",
       " 'Lit': 0.4069010416666667,\n",
       " 'Lit_reg': 0.27094042939219837}"
      ]
     },
     "execution_count": 47,
     "metadata": {},
     "output_type": "execute_result"
    }
   ],
   "source": [
    "nodos_esenciales_frac = {}\n",
    "for red in redes_dict.keys():\n",
    "    nodos_esenciales_frac[red] = len(set(redes_dict[red][\"Grafo\"].nodes()).intersection(lista_esenciales)) / redes_dict[red]['Nodos']\n",
    "\n",
    "nodos_esenciales_frac"
   ]
  },
  {
   "cell_type": "markdown",
   "metadata": {},
   "source": [
    "Ploteo para ir viendo, pero después hacemos toda una figura"
   ]
  },
  {
   "cell_type": "code",
   "execution_count": 48,
   "metadata": {},
   "outputs": [
    {
     "data": {
      "image/png": "[encoded data removed]",
      "text/plain": [
       "<Figure size 432x288 with 1 Axes>"
      ]
     },
     "metadata": {
      "needs_background": "light"
     },
     "output_type": "display_data"
    }
   ],
   "source": [
    "x_esen = {}\n",
    "y_esen = {}\n",
    "\n",
    "for red in redes_dict.keys():\n",
    "    x_esen[red], y_esen[red] = sacar_esenciales(red, lista_esenciales)\n",
    "    plt.scatter(x_esen[red], y_esen[red], label = f'{red}')\n",
    "\n",
    "plt.xlabel(\"Fracción de nodos removidos\")\n",
    "plt.ylabel(\"Tamaño componente gigante\")\n",
    "plt.legend()\n",
    "plt.show()"
   ]
  },
  {
   "cell_type": "markdown",
   "metadata": {},
   "source": [
    "### 2) Random"
   ]
  },
  {
   "cell_type": "code",
   "execution_count": 49,
   "metadata": {},
   "outputs": [],
   "source": [
    "def desarme_random(red):\n",
    "    cant_nodos = redes_dict[red]['Nodos']\n",
    "    tamano_gigante = np.array([])\n",
    "    Red_rota_rand = redes_dict[red]['Grafo'].copy()\n",
    "    nodes = list(Red_rota_rand.nodes)\n",
    "    \n",
    "    for node in nodes:\n",
    "        Red_rota_rand.remove_node(node)\n",
    "        componentes  = sorted(nx.connected_components(Red_rota_rand), \n",
    "                                                   key=len, reverse=True)\n",
    "        \n",
    "                        \n",
    "        if len(componentes) >= 1:\n",
    "            gigante = Red_rota_rand.subgraph(componentes[0]) \n",
    "            tamano_gigante = np.append(tamano_gigante, gigante.number_of_nodes() / cant_nodos )\n",
    "            \n",
    "    tamano = np.size(tamano_gigante)        \n",
    "    tamano_gigante = np.pad(tamano_gigante, (0, cant_nodos - tamano ), 'constant')\n",
    "\n",
    "    return tamano_gigante"
   ]
  },
  {
   "cell_type": "code",
   "execution_count": 50,
   "metadata": {},
   "outputs": [
    {
     "name": "stdout",
     "output_type": "stream",
     "text": [
      "La red Y2H_0 tardó 12.1s\n",
      "La red AP_MS_0 tardó 7.53s\n",
      "La red Lit_0 tardó 6.85s\n",
      "La red Lit_reg_0 tardó 34.69s\n",
      "La red Y2H_1 tardó 11.66s\n",
      "La red AP_MS_1 tardó 7.47s\n",
      "La red Lit_1 tardó 6.97s\n",
      "La red Lit_reg_1 tardó 33.87s\n"
     ]
    }
   ],
   "source": [
    "import time\n",
    "\n",
    "times = 2\n",
    "i = 0\n",
    "y_rand = {k: np.zeros(shape = redes_dict[k][\"Nodos\"]) for k in redes_dict.keys()}\n",
    "\n",
    "while i < times:\n",
    "    for red in redes_dict.keys():\n",
    "        start = time.time()\n",
    "        y_rand[red] = y_rand[red] + desarme_random(red)\n",
    "        end = time.time()\n",
    "        print(f'La red {red}_{i} tardó {round(end - start, 2)}s')\n",
    "    i += 1"
   ]
  },
  {
   "cell_type": "code",
   "execution_count": 51,
   "metadata": {},
   "outputs": [
    {
     "data": {
      "image/png": "[encoded data removed]",
      "text/plain": [
       "<Figure size 432x288 with 1 Axes>"
      ]
     },
     "metadata": {
      "needs_background": "light"
     },
     "output_type": "display_data"
    }
   ],
   "source": [
    "for red in y_rand.keys():\n",
    "    y = y_rand[red] / times\n",
    "    cant_nodos = redes_dict[red]['Nodos']\n",
    "    x = [x / cant_nodos for x in range(0, len(y))]\n",
    "    plt.plot(x,y, label = f'{red}')\n",
    "    \n",
    "plt.xlabel(\"Fracción de nodos removidos\")\n",
    "plt.ylabel(\"Tamaño componente gigante\")\n",
    "plt.legend()\n",
    "plt.show()"
   ]
  },
  {
   "cell_type": "markdown",
   "metadata": {},
   "source": [
    "### 3) Eigenvalue"
   ]
  },
  {
   "cell_type": "code",
   "execution_count": 52,
   "metadata": {},
   "outputs": [],
   "source": [
    "import operator\n",
    "\n",
    "def desarme_eigenvalue(red):\n",
    "    centrality = nx.eigenvector_centrality(redes_dict[red][\"Grafo\"], max_iter=1000, tol=1e-03)\n",
    "\n",
    "    tamano_gigante = []\n",
    "    Red_rota = redes_dict[red]['Grafo'].copy()\n",
    "\n",
    "    while Red_rota.number_of_nodes() > 1:\n",
    "        node = max(centrality.items(), key=operator.itemgetter(1))[0]\n",
    "        Red_rota.remove_node(node)\n",
    "        \n",
    "        #print(Red_rota.number_of_nodes())\n",
    "        centrality = nx.eigenvector_centrality(Red_rota, max_iter=1000, tol=1e-03)\n",
    "        componentes  = sorted(nx.connected_components(Red_rota), \n",
    "                                                   key=len, reverse=True)\n",
    "                                       \n",
    "        if len(componentes) >= 1:\n",
    "            gigante = Red_rota.subgraph(componentes[0]) \n",
    "            tamano_gigante = np.append(tamano_gigante, gigante.number_of_nodes() / cant_nodos )\n",
    "    \n",
    "    tamano = np.size(tamano_gigante)        \n",
    "    tamano_gigante = np.pad(tamano_gigante, (0, cant_nodos - tamano ), 'constant')\n",
    "\n",
    "    return tamano_gigante"
   ]
  },
  {
   "cell_type": "code",
   "execution_count": null,
   "metadata": {},
   "outputs": [],
   "source": [
    "x_eigen = {}\n",
    "y_eigen = {}\n",
    "\n",
    "for red in redes_dict.keys():\n",
    "    y_eigen[red] = desarme_eigenvalue(red)\n",
    "    x_eigen[red] = [x / cant_nodos for x in range(0, len(y_eigen[red]))]\n",
    "    plt.plot(x_eigen[red], y_eigen[red], label = f'{red}')\n",
    "\n",
    "plt.xlabel(\"Fracción de nodos removidos\")\n",
    "plt.ylabel(\"Tamaño componente gigante\")\n",
    "plt.legend()\n",
    "plt.show()"
   ]
  },
  {
   "cell_type": "markdown",
   "metadata": {},
   "source": [
    "### 4) Degree"
   ]
  },
  {
   "cell_type": "code",
   "execution_count": null,
   "metadata": {},
   "outputs": [],
   "source": [
    "import operator\n",
    "\n",
    "def desarme_degree(red):\n",
    "    degree = nx.degree_centrality(redes_dict[red][\"Grafo\"])\n",
    "\n",
    "    tamano_gigante = []\n",
    "    Red_rota = redes_dict[red]['Grafo'].copy()\n",
    "\n",
    "    while Red_rota.number_of_nodes() > 1:\n",
    "        node = max(degree.items(), key=operator.itemgetter(1))[0]\n",
    "        Red_rota.remove_node(node)\n",
    "        \n",
    "        #print(Red_rota.number_of_nodes())\n",
    "        degree = nx.degree_centrality(Red_rota)\n",
    "        componentes  = sorted(nx.connected_components(Red_rota), \n",
    "                                                   key=len, reverse=True)\n",
    "                                       \n",
    "        if len(componentes) >= 1:\n",
    "            gigante = Red_rota.subgraph(componentes[0]) \n",
    "            tamano_gigante = np.append(tamano_gigante, gigante.number_of_nodes() / cant_nodos )\n",
    "    \n",
    "    tamano = np.size(tamano_gigante)        \n",
    "    tamano_gigante = np.pad(tamano_gigante, (0, cant_nodos - tamano ), 'constant')\n",
    "\n",
    "    return tamano_gigante"
   ]
  },
  {
   "cell_type": "code",
   "execution_count": null,
   "metadata": {},
   "outputs": [],
   "source": [
    "x_deg = {}\n",
    "y_deg = {}\n",
    "\n",
    "for red in redes_dict.keys():\n",
    "    y_deg[red] = desarme_degree(red)\n",
    "    x_deg[red] = [x / cant_nodos for x in range(0, len(y_deg[red]))]\n",
    "    plt.plot(x_deg[red], y_deg[red], label = f'{red}')\n",
    "\n",
    "plt.xlabel(\"Fracción de nodos removidos\")\n",
    "plt.ylabel(\"Tamaño componente gigante\")\n",
    "plt.legend()\n",
    "plt.show()"
   ]
  },
  {
   "cell_type": "markdown",
   "metadata": {},
   "source": [
    "### 5) Betweeness"
   ]
  },
  {
   "cell_type": "code",
   "execution_count": null,
   "metadata": {},
   "outputs": [],
   "source": [
    "import operator\n",
    "\n",
    "def desarme_bet(red):\n",
    "    k = 20\n",
    "    bet = nx.betweenness_centrality(redes_dict[red][\"Grafo\"], k = k)\n",
    "\n",
    "    tamano_gigante = []\n",
    "    Red_rota = redes_dict[red]['Grafo'].copy()\n",
    "\n",
    "    while Red_rota.number_of_nodes() > k:\n",
    "        node = max(bet.items(), key=operator.itemgetter(1))[0]\n",
    "        Red_rota.remove_node(node)\n",
    "       \n",
    "        bet = nx.betweenness_centrality(Red_rota, k = k)\n",
    "        componentes  = sorted(nx.connected_components(Red_rota), \n",
    "                                                   key=len, reverse=True)\n",
    "                                       \n",
    "        if len(componentes) >= 1:\n",
    "            gigante = Red_rota.subgraph(componentes[0]) \n",
    "            tamano_gigante = np.append(tamano_gigante, gigante.number_of_nodes() / cant_nodos )\n",
    "    \n",
    "    tamano = np.size(tamano_gigante)        \n",
    "    tamano_gigante = np.pad(tamano_gigante, (0, cant_nodos - tamano ), 'constant')\n",
    "\n",
    "    return tamano_gigante"
   ]
  },
  {
   "cell_type": "code",
   "execution_count": null,
   "metadata": {},
   "outputs": [],
   "source": [
    "x_bet = {}\n",
    "y_bet = {}\n",
    "\n",
    "for red in redes_dict.keys():\n",
    "    start = time.time()\n",
    "    y_bet[red] = desarme_bet(red)\n",
    "    end = time.time()\n",
    "    print(f'La red {red} tardó {round(end - start, 2)}s')\n",
    "    x_bet[red] = [x / cant_nodos for x in range(0, len(y_bet[red]))]\n",
    "    plt.plot(x_bet[red], y_bet[red], label = f'{red}')\n",
    "\n",
    "plt.xlabel(\"Fracción de nodos removidos\")\n",
    "plt.ylabel(\"Tamaño componente gigante\")\n",
    "plt.legend()\n",
    "plt.show()"
   ]
  },
  {
   "cell_type": "markdown",
   "metadata": {},
   "source": [
    "### 6) Closeness"
   ]
  },
  {
   "cell_type": "code",
   "execution_count": null,
   "metadata": {},
   "outputs": [],
   "source": [
    "import igraph as ig\n",
    "\n",
    "def close_ig(red):\n",
    "    G_ig = ig.Graph(directed=True)\n",
    "    G_ig.add_vertices(list(red.nodes()))\n",
    "    G_ig.add_edges(list(red.edges()))\n",
    "    conectado = G_ig.components()[0]\n",
    "    component = G_ig.subgraph(conectado)\n",
    "    closeness = component.closeness(vertices=None, mode='ALL', cutoff=None, weights=None, normalized=True)\n",
    "    keys = list(red.nodes())\n",
    "    close_dict = dict(zip(keys, closeness))\n",
    "    return close_dict\n",
    "\n"
   ]
  },
  {
   "cell_type": "code",
   "execution_count": null,
   "metadata": {},
   "outputs": [],
   "source": [
    "import operator\n",
    "\n",
    "def desarme_close(red):\n",
    "\n",
    "    close = close_ig(redes_dict[red]['Grafo'])\n",
    "       \n",
    "    tamano_gigante = []\n",
    "    Red_rota = redes_dict[red]['Grafo'].copy()\n",
    "    \n",
    "    i = 0\n",
    "    size_gigante = redes_dict[red]['Nodos']\n",
    "    \n",
    "    while 1 <  Red_rota.number_of_nodes():\n",
    "        node = max(close.items(), key=operator.itemgetter(1))[0]\n",
    "        Red_rota.remove_node(node)\n",
    "\n",
    "        close = close_ig(Red_rota)\n",
    "        componentes = sorted(nx.connected_components(Red_rota), key=len, reverse=True)\n",
    "        i += 1                                                   \n",
    "                                       \n",
    "        if len(componentes) >= 1:\n",
    "            gigante = Red_rota.subgraph(componentes[0])\n",
    "            size_gigante = gigante.number_of_nodes()\n",
    "            tamano_gigante = np.append(tamano_gigante, size_gigante / cant_nodos )\n",
    "    \n",
    "    tamano = np.size(tamano_gigante)        \n",
    "    tamano_gigante = np.pad(tamano_gigante, (0, cant_nodos - tamano ), 'constant')\n",
    "\n",
    "    return tamano_gigante \n",
    "     "
   ]
  },
  {
   "cell_type": "code",
   "execution_count": null,
   "metadata": {},
   "outputs": [],
   "source": [
    "x_clos = {}\n",
    "y_clos = {}\n",
    "\n",
    "for red in redes_dict.keys():\n",
    "    start = time.time()\n",
    "    y_clos[red] = desarme_close(red)\n",
    "    end = time.time()\n",
    "    print(f'La red {red} tardó {round(end - start, 2)}s')\n",
    "    x_clos[red] = [x / cant_nodos for x in range(0, len(y_clos[red]))]\n",
    "    plt.plot(x_clos[red], y_clos[red], label = f'{red}')\n",
    "\n",
    "plt.xlabel(\"Fracción de nodos removidos\")\n",
    "plt.ylabel(\"Tamaño componente gigante\")\n",
    "plt.legend()\n",
    "plt.show()"
   ]
  },
  {
   "cell_type": "markdown",
   "metadata": {},
   "source": [
    "# En un plot para cada una"
   ]
  },
  {
   "cell_type": "code",
   "execution_count": 54,
   "metadata": {},
   "outputs": [
    {
     "ename": "KeyError",
     "evalue": "'Y2H'",
     "output_type": "error",
     "traceback": [
      "\u001b[1;31m---------------------------------------------------------------------------\u001b[0m",
      "\u001b[1;31mKeyError\u001b[0m                                  Traceback (most recent call last)",
      "\u001b[1;32m<ipython-input-54-37db388a9f77>\u001b[0m in \u001b[0;36m<module>\u001b[1;34m\u001b[0m\n\u001b[0;32m     14\u001b[0m \u001b[1;33m\u001b[0m\u001b[0m\n\u001b[0;32m     15\u001b[0m \u001b[1;31m#eigen\u001b[0m\u001b[1;33m\u001b[0m\u001b[1;33m\u001b[0m\u001b[1;33m\u001b[0m\u001b[0m\n\u001b[1;32m---> 16\u001b[1;33m     \u001b[0max\u001b[0m\u001b[1;33m[\u001b[0m\u001b[0mi\u001b[0m\u001b[1;33m]\u001b[0m\u001b[1;33m.\u001b[0m\u001b[0mplot\u001b[0m\u001b[1;33m(\u001b[0m\u001b[0mx_eigen\u001b[0m\u001b[1;33m[\u001b[0m\u001b[0mred\u001b[0m\u001b[1;33m]\u001b[0m\u001b[1;33m,\u001b[0m \u001b[0my_eigen\u001b[0m\u001b[1;33m[\u001b[0m\u001b[0mred\u001b[0m\u001b[1;33m]\u001b[0m\u001b[1;33m,\u001b[0m \u001b[0mlabel\u001b[0m \u001b[1;33m=\u001b[0m \u001b[1;34m'Eigenvalue'\u001b[0m\u001b[1;33m)\u001b[0m\u001b[1;33m\u001b[0m\u001b[1;33m\u001b[0m\u001b[0m\n\u001b[0m\u001b[0;32m     17\u001b[0m \u001b[1;33m\u001b[0m\u001b[0m\n\u001b[0;32m     18\u001b[0m \u001b[1;31m#degree\u001b[0m\u001b[1;33m\u001b[0m\u001b[1;33m\u001b[0m\u001b[1;33m\u001b[0m\u001b[0m\n",
      "\u001b[1;31mKeyError\u001b[0m: 'Y2H'"
     ]
    },
    {
     "data": {
      "image/png": "[encoded data removed]",
      "text/plain": [
       "<Figure size 1080x1080 with 4 Axes>"
      ]
     },
     "metadata": {
      "needs_background": "light"
     },
     "output_type": "display_data"
    }
   ],
   "source": [
    "f, ax = plt.subplots(2, 2, figsize=(15,15))\n",
    "ax = ax.flatten()\n",
    "\n",
    "for i,red in enumerate(redes_dict.keys()):\n",
    "#esen\n",
    "    ax[i].plot(x_esen[red], y_esen[red], label = 'Esenciales')\n",
    "\n",
    "#rand\n",
    "    y = y_rand[red] / times\n",
    "    cant_nodos = redes_dict[red]['Nodos']\n",
    "    x = [x / cant_nodos for x in range(0, len(y))]\n",
    "    \n",
    "    ax[i].plot(x, y, label = 'Random')\n",
    "    \n",
    "#eigen\n",
    "    ax[i].plot(x_eigen[red], y_eigen[red], label = 'Eigenvalue')\n",
    "\n",
    "#degree\n",
    "    ax[i].plot(x_deg[red], y_deg[red], label = 'Degree')\n",
    "\n",
    "#Betweenness\n",
    "    ax[i].plot(x_bet[red], y_bet[red], label = 'Betweenness')\n",
    "\n",
    "#Closeness\n",
    "    ax[i].plot(x_clos[red], y_clos[red], label = 'Closeness')\n",
    "\n",
    "    ax[i].legend()\n",
    "    ax[i].set_title(f'Desarme de la red {red}')\n",
    "    ax[i].set_xlabel(\"Fracción de nodos removidos\")\n",
    "    ax[i].set_ylabel(\"Tamaño componente gigante\")\n",
    "    plt.grid()\n",
    "plt.savefig(f'{red}.png')\n",
    "plt.show()"
   ]
  },
  {
   "cell_type": "markdown",
   "metadata": {},
   "source": [
    "## Figura 2.b"
   ]
  },
  {
   "cell_type": "markdown",
   "metadata": {},
   "source": [
    "En la figura 2.b del paper de He se analiza la probabilidad que tiene un nodo de ser esencial. \n",
    "Primero de todo se evalua la fracción de enlaces esenciales $\\alfa$ y la fracción de nodos esenciales $\\beta$ para luego aplicar la fórmula susodicha de probabilidad\n",
    "\n",
    "$P_{E} = 1 - (1- \\beta)(1-\\alpha)^{k}$  Donde k es la conectividad de la red.\n",
    "\n",
    "En la figura que simularemos se utiliza la probabilidad linealizada $ln(1-P_{E}) = kln(1-\\alpha) + ln(1-\\beta)$\n",
    "\n"
   ]
  },
  {
   "cell_type": "markdown",
   "metadata": {},
   "source": [
    "El parámetro $\\beta$ viene dado por los nodos esenciales -listados en unos de los archivos- sobre el total de nodos de la red.\n",
    "Por otro lado, el factor $\\alfa$ no es trivial ya que no todos los enlaces entre nodos esenciales son esenciales.\n",
    "Para estimar el parámetro se parte de la premisa que afirma que todos los nodos enlazados entre nodos esenciales son esenciales. Por ende, para estimarlo vamos a recablear la red manteniendo su conectividad. La cantidad de enlaces esenciales estimada va a ser la diferecia entre el numero de IBEPs de la red real y la de la media de los recableados.\n"
   ]
  },
  {
   "cell_type": "code",
   "execution_count": 14,
   "metadata": {},
   "outputs": [],
   "source": [
    "import time\n",
    "\n",
    "def IBEP(red,lista_esenciales): #calcula el numero de interacciones entre nodos esenciales\n",
    "    interacciones_nodos_esenciales = len(red.edges(lista_esenciales))\n",
    "    return interacciones_nodos_esenciales\n",
    "\n",
    "\n",
    "#ESTE ES EL RECABLEO QUE MANTIENE CONECTIVIDAD PERO TARDA HORAS\n",
    "def recableado_IBEPs(red,num_recableos):\n",
    "    Red = redes_dict[red]['Grafo'].copy()\n",
    "    lista_IBEP = []\n",
    "    for i in range(num_recableos): #la recableo n veces:\n",
    "        start = time.time()\n",
    "        Red_recableada = nx.algorithms.smallworld.random_reference(Red, niter=1, connectivity=True, seed=None)\n",
    "        end = time.time()\n",
    "        print(f'El recableo de la red {red} tardó {round(end - start, 2)}s')\n",
    "        IBEPs = IBEP(Red_recableada,lista_esenciales) #calcula el numero de IBEP\n",
    "        lista_IBEP.append(IBEPs)\n",
    "    return lista_IBEP\n",
    "\n",
    "def alfa(red,media_recableado,IBPs_original): #definicion del alfa del paper\n",
    "    frac_int_esenciales = (IBEPs_original - media_recableado) / redes_dict[red]['Enlaces']\n",
    "    return frac_int_esenciales\n",
    "    \n",
    "def beta(red,lista_esenciales):\n",
    "    frac_nodos_esenciales = len(lista_esenciales)/redes_dict[red]['Nodos']\n",
    "    return frac_nodos_esenciales"
   ]
  },
  {
   "cell_type": "code",
   "execution_count": 59,
   "metadata": {},
   "outputs": [],
   "source": [
    "import random \n",
    "\n",
    "#ESTE ES UN RECABLEADO MEDIO FALOPA PORQUE NO MANTIENE LA CONECTIVIDAD\n",
    "def recableado(red,num_recableos):\n",
    "    Red = redes_dict[red]['Grafo'].copy()\n",
    "    lista_IBEP = []\n",
    "    for i in range(num_recableos): #la recableo n veces:\n",
    "        start = time.time()\n",
    "        enlaces_originales = Red.edges()\n",
    "        e1 = [x[1] for x in enlaces_originales]\n",
    "        e2 = [x[0] for x in enlaces_originales]\n",
    "        random.shuffle(e2) #los reacomodo de una manera arbitraria\n",
    "        enlaces_nuevos = list(zip(e1,e2))\n",
    "        \n",
    "        #creo una red nueva \n",
    "        Red_recableada=nx.Graph()\n",
    "        lista_nodos = Red.nodes()\n",
    "        lista_enlaces = enlaces_nuevos\n",
    "        Red_recableada.add_nodes_from(lista_nodos)\n",
    "        Red_recableada.add_edges_from(lista_enlaces)\n",
    "        \n",
    "        end = time.time()\n",
    "        #print(f'El recableo de la red {red} tardó {round(end - start, 2)}s')\n",
    "        IBEPs = IBEP(Red_recableada,lista_esenciales) #calcula el numero de IBEP\n",
    "        lista_IBEP.append(IBEPs)\n",
    "    return lista_IBEP\n",
    "    "
   ]
  },
  {
   "cell_type": "code",
   "execution_count": 62,
   "metadata": {},
   "outputs": [
    {
     "data": {
      "image/png": "[encoded data removed]",
      "text/plain": [
       "<Figure size 1080x1080 with 4 Axes>"
      ]
     },
     "metadata": {
      "needs_background": "light"
     },
     "output_type": "display_data"
    }
   ],
   "source": [
    "from statistics import mean \n",
    "\n",
    "fig, ax = plt.subplots(2, 2, figsize=(15,15))\n",
    "ax = ax.flatten()\n",
    "lista_alfa = []\n",
    "lista_beta = []\n",
    "lista_IBEPs_original = []\n",
    "lista_media_recableado = []\n",
    "\n",
    "for i,red in enumerate(redes_dict.keys()):\n",
    "    n = 50\n",
    "    lista_recableado = recableado(red,n) #recableo n veces. Ideal seria 10.000 como en el paper\n",
    "    #busco los valores que necesito\n",
    "    media_recableado = mean(lista_recableado)\n",
    "    IBEPs_original = (IBEP(redes_dict[red]['Grafo'],lista_esenciales))\n",
    "    alfa_red = alfa(red,media_recableado,IBEPs_original)\n",
    "    beta_red = beta(red,lista_esenciales)\n",
    "    \n",
    "    #los guardo en listas\n",
    "    lista_beta.append(beta_red)\n",
    "    lista_alfa.append(alfa_red)\n",
    "    lista_IBEPs_original.append(IBEPs_original)\n",
    "    lista_media_recableado.append(alfa_red)\n",
    "    \n",
    "    #grafico\n",
    "    ax[i].hist(lista_recableado, density=True)\n",
    "    ax[i].set_xlabel('Cantidad de IBEPs')\n",
    "    ax[i].set_ylabel('Frecuencia')\n",
    "    ax[i].set_title(f'Histograma correspondiente a {n} recableados')\n",
    "    ax[i].axvline(IBEPs_original, label = 'Red original')\n",
    "    \n",
    "plt.legend()\n",
    "plt.show()\n",
    "\n",
    "#COMENTARIO IMPORTANTE: eS MUY EXTRANIO QUE EL NUMERO DE ENLACES ENTRE PROTEINAS ESENCIALES SEA MENOR QUE EN UNA RED RANDOM\n",
    "#DEBERIA SER AL REVES.AIUDA"
   ]
  },
  {
   "cell_type": "code",
   "execution_count": 63,
   "metadata": {},
   "outputs": [
    {
     "data": {
      "image/png": "[encoded data removed]",
      "text/plain": [
       "<Figure size 1080x1080 with 4 Axes>"
      ]
     },
     "metadata": {
      "needs_background": "light"
     },
     "output_type": "display_data"
    }
   ],
   "source": [
    "#definimos P_e a la probailidad de que una proteina sea esencial\n",
    "\n",
    "def P_e_linealizada(alfa,beta,k):\n",
    "    return k*np.log(1-alfa) + np.log(1-beta)\n",
    "\n",
    "#ploteamos \n",
    "\n",
    "fig, ax = plt.subplots(2, 2, figsize=(15,15))\n",
    "ax = ax.flatten()\n",
    "\n",
    "for i,red in enumerate(redes_dict.keys()):\n",
    "    ks = np.arange(10)\n",
    "    Pe_lin = P_e_linealizada(lista_alfa[i],lista_beta[i],ks)\n",
    "    ax[i].scatter(ks,Pe_lin)\n",
    "    ax[i].set_xlabel('Conectividad (k)')\n",
    "    ax[i].set_ylabel('ln(1-P_e)')\n",
    "    ax[i].set_title(f'Probabilidad de que un nodo sea esencial red {red}')\n",
    "plt.show()\n",
    "    \n",
    "    \n",
    "    "
   ]
  },
  {
   "cell_type": "code",
   "execution_count": null,
   "metadata": {},
   "outputs": [],
   "source": []
  }
 ],
 "metadata": {
  "kernelspec": {
   "display_name": "Python 3",
   "language": "python",
   "name": "python3"
  },
  "language_info": {
   "codemirror_mode": {
    "name": "ipython",
    "version": 3
   },
   "file_extension": ".py",
   "mimetype": "text/x-python",
   "name": "python",
   "nbconvert_exporter": "python",
   "pygments_lexer": "ipython3",
   "version": "3.7.3"
  }
 },
 "nbformat": 4,
 "nbformat_minor": 2
}
