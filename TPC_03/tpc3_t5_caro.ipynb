{
 "cells": [
  {
   "cell_type": "code",
   "execution_count": null,
   "metadata": {},
   "outputs": [],
   "source": [
    "import random as random\n",
    "\n",
    "def null_model_PE(red,alpha,beta):\n",
    "    G = red.copy() #no modifico originales\n",
    "    lista_esenciales=[] \n",
    "    for node in G.nodes():\n",
    "        k=G.degree[node]\n",
    "        PE= 1- (1-beta) * ((1-alpha)**k) #Probabilidad de que sea esencial\n",
    "        random_sample = random.random()\n",
    "        if random_sample <= PE:\n",
    "            lista_esenciales.append(node) # Agrego el nodo al listado de esenciales\n",
    "    lista_esenciales = list( dict.fromkeys(lista_esenciales) ) # Saco duplicados\n",
    "    return(lista_esenciales)\n",
    "\n",
    "def null_model_alpha_beta(red, alpha, beta):\n",
    "    lista_esenciales=[]\n",
    "    G = red.copy() #no modifico originales\n",
    "    for node in G.nodes():\n",
    "        random_sample = random.random()\n",
    "        if random_sample <= beta:\n",
    "            lista_esenciales.append(node)\n",
    "    \n",
    "    for edge in G.edges(): \n",
    "        random_sample = random.random()\n",
    "        if random_sample <= alpha: \n",
    "            lista_esenciales.append(edge[0])\n",
    "            lista_esenciales.append(edge[1])\n",
    "    lista_esenciales = list( dict.fromkeys(lista_esenciales) ) # Saco duplicados\n",
    "    return(lista_esenciales)"
   ]
  },
  {
   "cell_type": "code",
   "execution_count": null,
   "metadata": {},
   "outputs": [],
   "source": [
    "#ejemplo de uso\n",
    "red= redes_dict['Y2H'][\"Grafo\"]\n",
    "a=null_model_alpha_beta(red, 0.01,0.01)\n",
    "b=null_model_PE(red, 0.01,0.01)\n",
    "\n",
    "print(len(a))\n",
    "print(len(b))"
   ]
  }
 ],
 "metadata": {
  "kernelspec": {
   "display_name": "Python 3",
   "language": "python",
   "name": "python3"
  },
  "language_info": {
   "codemirror_mode": {
    "name": "ipython",
    "version": 3
   },
   "file_extension": ".py",
   "mimetype": "text/x-python",
   "name": "python",
   "nbconvert_exporter": "python",
   "pygments_lexer": "ipython3",
   "version": "3.6.9"
  }
 },
 "nbformat": 4,
 "nbformat_minor": 4
}
