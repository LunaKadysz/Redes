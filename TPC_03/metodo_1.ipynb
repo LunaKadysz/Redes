{
 "cells": [
  {
   "cell_type": "markdown",
   "metadata": {},
   "source": [
    "Las cuatro redes de proteínas de levadura que\n",
    "disponemos: Y2H, AP-MS, LIT y Lit-Reguly. Las dos últimas son redes construidas a partir de\n",
    "interacciones reportadas en la literatura. "
   ]
  },
  {
   "cell_type": "code",
   "execution_count": 1,
   "metadata": {},
   "outputs": [],
   "source": [
    "#librerias a utilizar\n",
    "import networkx as nx\n",
    "import numpy as np\n",
    "import matplotlib.pyplot as plt\n",
    "import os\n",
    "import scipy.stats as scipy"
   ]
  },
  {
   "cell_type": "code",
   "execution_count": 2,
   "metadata": {},
   "outputs": [],
   "source": [
    "#Para abrir archivos\n",
    "def abrir_txt(nombre_archivo):\n",
    "    archivo=open(nombre_archivo)\n",
    "    data=[]\n",
    "    for linea in archivo:\n",
    "        linea=linea.strip()\n",
    "        columna=linea.split()\n",
    "        data.append(columna)\n",
    "    if os.path.basename(nombre_archivo) == 'yeast_LIT_Reguly.txt':\n",
    "        data = data[1:]\n",
    "        enlaces = []\n",
    "        for linea in data:\n",
    "            enlaces.append(linea[:2])\n",
    "        return(enlaces)\n",
    "    if os.path.basename(nombre_archivo) == 'Essential_ORFs_paperHe.txt': \n",
    "        data = data[2:]\n",
    "        esenciales = []\n",
    "        for linea in data:\n",
    "            if len(linea)>2:\n",
    "                esenciales.append(linea[1])\n",
    "        return esenciales\n",
    "    else:\n",
    "        return data\n",
    "\n",
    "def crear_redes(red):\n",
    "    lista_de_enlaces = abrir_txt(red)\n",
    "    Red = nx.Graph()\n",
    "    Red.add_edges_from(lista_de_enlaces)\n",
    "    return Red"
   ]
  },
  {
   "cell_type": "code",
   "execution_count": 3,
   "metadata": {},
   "outputs": [],
   "source": [
    "redes = {'Y2H': './data/yeast_Y2H.txt', \n",
    "         'AP_MS': './data/yeast_AP-MS.txt',\n",
    "         'Lit': './data/yeast_LIT.txt',\n",
    "         'Lit_reg': \"./data/yeast_LIT_Reguly.txt\"\n",
    "         }\n",
    "redes_dict = {}\n",
    "\n",
    "for red in redes:\n",
    "    grafo = crear_redes(redes[red])\n",
    "    redes_dict[red] = {}\n",
    "    redes_dict[red][\"Grafo\"] = grafo"
   ]
  },
  {
   "cell_type": "code",
   "execution_count": 8,
   "metadata": {},
   "outputs": [],
   "source": [
    "def get_red_info(nombre_red):\n",
    "    \n",
    "    red = redes_dict[nombre_red]\n",
    "    grafo = red['Grafo']\n",
    "    red['Nodos'] = grafo.number_of_nodes() \n",
    "    red['Enlaces'] = grafo.number_of_edges()\n",
    "    red['Grado medio'] = 2 * red['Enlaces'] / red['Nodos']\n",
    "    red['Clustering medio'] = nx.average_clustering(grafo)   "
   ]
  },
  {
   "cell_type": "code",
   "execution_count": 9,
   "metadata": {},
   "outputs": [],
   "source": [
    "for red in redes_dict.keys():\n",
    "    get_red_info(red)"
   ]
  },
  {
   "cell_type": "code",
   "execution_count": 4,
   "metadata": {},
   "outputs": [],
   "source": [
    "lista_esenciales = abrir_txt('./data/Essential_ORFs_paperHe.txt')"
   ]
  },
  {
   "cell_type": "markdown",
   "metadata": {},
   "source": [
    "En la figura 2.b del paper de He se analiza la probabilidad que tiene un nodo de ser esencial. \n",
    "Primero de todo se evalua la fracción de enlaces esenciales $\\alfa$ y la fracción de nodos esenciales $\\beta$ para luego aplicar la fórmula susodicha de probabilidad\n",
    "\n",
    "$P_{E} = 1 - (1- \\beta)(1-\\alpha)^{k}$  Donde k es la conectividad de la red.\n",
    "\n",
    "En la figura que simularemos se utiliza la probabilidad linealizada $ln(1-P_{E}) = kln(1-\\alpha) + ln(1-\\beta)$\n",
    "\n"
   ]
  },
  {
   "cell_type": "markdown",
   "metadata": {},
   "source": [
    "El parámetro $\\beta$ viene dado por los nodos esenciales -listados en unos de los archivos- sobre el total de nodos de la red.\n",
    "Por otro lado, el factor $\\alfa$ no es trivial ya que no todos los enlaces entre nodos esenciales son esenciales.\n",
    "Para estimar el parámetro se parte de la premisa que afirma que todos los nodos enlazados entre nodos esenciales son esenciales. Por ende, para estimarlo vamos a recablear la red manteniendo su conectividad. La cantidad de enlaces esenciales estimada va a ser la diferecia entre el numero de IBEPs de la red real y la de la media de los recableados.\n"
   ]
  },
  {
   "cell_type": "code",
   "execution_count": 33,
   "metadata": {},
   "outputs": [],
   "source": [
    "import time\n",
    "import itertools\n",
    "import random\n",
    "\n",
    "def IBEP(red,lista_esenciales): #calcula el numero de interacciones entre nodos esenciales\n",
    "    esenciales_en_red = list(set(red.nodes()).intersection(lista_esenciales))\n",
    "    interacciones_nodos_esenciales = 0\n",
    "    for i in range(0, len(esenciales_en_red)):\n",
    "        for j in range(i,len(esenciales_en_red)):\n",
    "            if not red.number_of_edges(esenciales_en_red[i],esenciales_en_red[j]) == 0:\n",
    "                interacciones_nodos_esenciales += 1\n",
    "                \n",
    "    return interacciones_nodos_esenciales\n",
    "\n",
    "\n",
    "#Este recableado mantiene el grado\n",
    "def recableado_IBEPs(red,num_recableos):\n",
    "    Red = redes_dict[red]['Grafo'].copy()\n",
    "    nodos = Red.nodes()\n",
    "    lista_IBEP = []\n",
    "    \n",
    "    for i in range(num_recableos): #la recableo n veces:\n",
    "        start = time.time()\n",
    "        Red_recableada = nx.double_edge_swap(Red, nswap=0.2*redes_dict[red]['Nodos'], max_tries=0.3*redes_dict[red]['Nodos'],)\n",
    "        end = time.time()\n",
    "        #print(f'El recableo de la red {red} tardó {round(end - start, 2)}s')\n",
    "        IBEPs = IBEP(Red_recableada,lista_esenciales) #calcula el numero de IBEP\n",
    "        lista_IBEP.append(IBEPs)\n",
    "        \n",
    "    return lista_IBEP\n",
    "\n",
    "def recableado_nodos(red,lista_esenciales,alfa,num_recableos):\n",
    "    Red = redes_dict[red]['Grafo'].copy()\n",
    "    prob_ibps = np.round(alfa,3)\n",
    "    interacciones = Red.edges()\n",
    "    nodos = Red.nodes()\n",
    "    lista_cant_faltantes = []\n",
    "    lista_esenciales_nueva =  [nodo for nodo in lista_esenciales if nodo in nodos]\n",
    "    \n",
    "    for i in range(num_recableos): #la recableo n veces:\n",
    "        \n",
    "        ibps_random = [] #aca voy a guardar los enlaces que con la probabilidad alfa dieron true\n",
    "        for i in interacciones:\n",
    "            ibp_random = np.random.choice([1,0],p=[prob_ibps,1-prob_ibps])\n",
    "            if ibp_random == 1:\n",
    "                ibps_random.append(i)\n",
    "\n",
    "        nodos_esenciales_random = list(set(itertools.chain.from_iterable(ibps_random))) #son los nodos asociados a las ibps random\n",
    "        cant_faltantes = len(lista_esenciales_nueva) - len(nodos_esenciales_random)\n",
    "        \n",
    "        #print(f'El recableo de la red {red} tardó {round(end - start, 2)}s')\n",
    "        \n",
    "        lista_cant_faltantes.append(cant_faltantes)\n",
    "        \n",
    "    #print(len(lista_esenciales),len(lista_esenciales_nueva))\n",
    "    return lista_cant_faltantes\n",
    "\n",
    "\n",
    "def alfa(red,media_recableado,IBPs_original): #definicion del alfa del paper\n",
    "    frac_int_esenciales = (IBEPs_original - media_recableado) / redes_dict[red]['Enlaces']\n",
    "    return frac_int_esenciales\n",
    "\n",
    "    \n"
   ]
  },
  {
   "cell_type": "code",
   "execution_count": 34,
   "metadata": {},
   "outputs": [],
   "source": [
    "import random \n",
    "\n",
    "#ESTE ES UN RECABLEADO MEDIO FALOPA, queda el otro.\n",
    "def recableado(red,num_recableos):\n",
    "    Red = redes_dict[red]['Grafo'].copy()\n",
    "    lista_IBEP = []\n",
    "    for i in range(num_recableos): #la recableo n veces:\n",
    "        start = time.time()\n",
    "        enlaces_originales = Red.edges()\n",
    "        e1 = [x[1] for x in enlaces_originales]\n",
    "        e2 = [x[0] for x in enlaces_originales]\n",
    "        random.shuffle(e2) #los reacomodo de una manera arbitraria\n",
    "        enlaces_nuevos = list(zip(e1,e2))\n",
    "        \n",
    "        #creo una red nueva \n",
    "        Red_recableada=nx.Graph()\n",
    "        lista_nodos = Red.nodes()\n",
    "        lista_enlaces = enlaces_nuevos\n",
    "        Red_recableada.add_nodes_from(lista_nodos)\n",
    "        Red_recableada.add_edges_from(lista_enlaces)\n",
    "        \n",
    "        end = time.time()\n",
    "        #print(f'El recableo de la red {red} tardó {round(end - start, 2)}s')\n",
    "        IBEPs = IBEP(Red_recableada,lista_esenciales) #calcula el numero de IBEP\n",
    "        lista_IBEP.append(IBEPs)\n",
    "    return lista_IBEP\n",
    "    "
   ]
  },
  {
   "cell_type": "code",
   "execution_count": 35,
   "metadata": {},
   "outputs": [
    {
     "data": {
      "image/png": "[encoded data removed]",
      "text/plain": [
       "<Figure size 1080x1080 with 4 Axes>"
      ]
     },
     "metadata": {
      "needs_background": "light"
     },
     "output_type": "display_data"
    }
   ],
   "source": [
    "from statistics import mean,stdev\n",
    "\n",
    "fig, ax = plt.subplots(2, 2, figsize=(15,15))\n",
    "ax = ax.flatten()\n",
    "lista_alfa = []\n",
    "lista_beta = []\n",
    "lista_errores_alfa = []\n",
    "lista_errores_beta = []\n",
    "lista_IBEPs_original = []\n",
    "lista_media_recableado = []\n",
    "\n",
    "for i,red in enumerate(redes_dict.keys()):\n",
    "    n = 1000\n",
    "    lista_recableado_enlaces = recableado_IBEPs(red,n) #recableo n veces. Ideal seria 10.000 como en el paper\n",
    "    \n",
    "    #busco los valores que necesito\n",
    "    media_recableado_enlaces = mean(lista_recableado_enlaces)\n",
    "    IBEPs_original = (IBEP(redes_dict[red]['Grafo'],lista_esenciales))\n",
    "    alfa_red = alfa(red,media_recableado_enlaces,IBEPs_original)\n",
    "    error_alfa = stdev(lista_recableado_enlaces)/redes_dict[red]['Enlaces']\n",
    "    \n",
    "    #hago el recableado para estimar el beta\n",
    "    lista_recableado_nodos = recableado_nodos(red,lista_esenciales,alfa_red,n)\n",
    "    beta_red = mean(lista_recableado_nodos)/redes_dict[red]['Nodos']\n",
    "    error_beta = stdev(lista_recableado_nodos)/redes_dict[red]['Nodos']\n",
    "    \n",
    "    #los guardo en listas\n",
    "    lista_beta.append(beta_red)\n",
    "    lista_alfa.append(alfa_red)\n",
    "    lista_errores_alfa.append(error_alfa)\n",
    "    lista_errores_beta.append(error_beta)\n",
    "    lista_IBEPs_original.append(IBEPs_original)\n",
    "    lista_media_recableado.append(alfa_red)\n",
    "    \n",
    "    #grafico\n",
    "    ax[i].hist(lista_recableado_enlaces,density=True)\n",
    "    ax[i].set_xlabel('Cantidad de IBEPs')\n",
    "    ax[i].set_ylabel('Frecuencia')\n",
    "    ax[i].set_title(f'Histograma correspondiente a la red {red} para {n} recableados')\n",
    "    ax[i].axvline(IBEPs_original, label = 'Red original')\n",
    "    ax[i].legend()\n",
    "plt.show()\n",
    "\n"
   ]
  },
  {
   "cell_type": "code",
   "execution_count": 36,
   "metadata": {},
   "outputs": [
    {
     "name": "stdout",
     "output_type": "stream",
     "text": [
      "[0.03251808873720136, 0.08631267916207279, 0.08405743589743592, 0.06223132062742451] [0.14943409316154607, -0.03999260172626387, 0.17549088541666666, -8.769277290595705e-05] [0.003625363056954787, 0.00699067320793123, 0.005843000805853242, 0.004602296999977536] [0.007613449513529814, 0.012390981424113294, 0.01290018495638544, 0.008355214965168877]\n"
     ]
    }
   ],
   "source": [
    "print(lista_alfa,lista_beta,lista_errores_alfa,lista_errores_beta)"
   ]
  }
 ],
 "metadata": {
  "kernelspec": {
   "display_name": "Python 3",
   "language": "python",
   "name": "python3"
  },
  "language_info": {
   "codemirror_mode": {
    "name": "ipython",
    "version": 3
   },
   "file_extension": ".py",
   "mimetype": "text/x-python",
   "name": "python",
   "nbconvert_exporter": "python",
   "pygments_lexer": "ipython3",
   "version": "3.7.3"
  }
 },
 "nbformat": 4,
 "nbformat_minor": 2
}
