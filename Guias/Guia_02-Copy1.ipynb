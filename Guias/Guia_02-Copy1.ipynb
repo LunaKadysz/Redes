{
 "cells": [
  {
   "cell_type": "markdown",
   "metadata": {},
   "source": [
    "# Ejercicio 2"
   ]
  },
  {
   "cell_type": "code",
   "execution_count": 2,
   "metadata": {},
   "outputs": [],
   "source": [
    "import numpy as np\n",
    "import networkx as nx"
   ]
  },
  {
   "cell_type": "markdown",
   "metadata": {},
   "source": [
    "![ej2](img/Guia_2_ej_2.png)"
   ]
  },
  {
   "cell_type": "markdown",
   "metadata": {},
   "source": [
    "### Inciso (a)"
   ]
  },
  {
   "cell_type": "code",
   "execution_count": 19,
   "metadata": {},
   "outputs": [],
   "source": [
    "#matriz de adyacencia (a)\n",
    "ady_a = np.matrix([[0,1,1,1,0,1],\n",
    "         [1,0,1,1,0,0],\n",
    "         [1,1,0,0,0,1],\n",
    "         [1,1,0,0,0,0],\n",
    "         [0,0,0,0,0,0],\n",
    "         [1,0,1,0,0,0]])\n",
    "\n",
    "#matriz de adyacencia (b)\n",
    "ady_b = np.matrix([[0,0,1,1,0,1],\n",
    "                     [1,0,1,0,0,0],\n",
    "                     [1,1,0,0,0,1],\n",
    "                     [0,1,0,0,0,0],\n",
    "                     [0,0,0,0,0,0],\n",
    "                     [0,0,0,0,0,0]])\n",
    "\n",
    "#creo los grafos a partir de las matrices de adyacencia\n",
    "Graf_a = nx.from_numpy_matrix(ady_a)\n",
    "Graf_b = nx.from_numpy_matrix(ady_b,create_using=nx.MultiDiGraph())\n",
    "\n",
    "#mapeo las permutaciones\n",
    "mapping = {4:5, 5:4}\n",
    "Graf_a_permutada = nx.relabel_nodes(Graf_a, mapping)\n",
    "Graf_b_permutada = nx.relabel_nodes(Graf_b, mapping)\n",
    "\n",
    "#matriz de adyacencia permutada (a)\n",
    "ady_a_permutada = nx.to_numpy_matrix(Graf_a_permutada)\n",
    "\n",
    "#matriz de adyacencia permutada (a)\n",
    "ady_b_permutada = nx.to_numpy_matrix(Graf_b_permutada)\n"
   ]
  },
  {
   "cell_type": "markdown",
   "metadata": {},
   "source": [
    "### Inciso (b)"
   ]
  },
  {
   "cell_type": "code",
   "execution_count": 21,
   "metadata": {},
   "outputs": [
    {
     "name": "stdout",
     "output_type": "stream",
     "text": [
      "El coeficiente de Clustering medio es 0.64\n"
     ]
    }
   ],
   "source": [
    "#busco el coeficiente de clustering medio\n",
    "clust_medio_a = nx.average_clustering(Graf_a)\n",
    "print(f'El coeficiente de Clustering medio es {round(clust_medio_a,2)}')"
   ]
  },
  {
   "cell_type": "markdown",
   "metadata": {},
   "source": [
    "### Inciso (c)"
   ]
  },
  {
   "cell_type": "code",
   "execution_count": 44,
   "metadata": {},
   "outputs": [
    {
     "name": "stdout",
     "output_type": "stream",
     "text": [
      "Los caminos posibles son 2: \n",
      " [[0, 1, 2], [0, 5, 2]] \n"
     ]
    }
   ],
   "source": [
    "#busco los posibles caminos simples entre el nodo 1 y 3 (0 y 2 para la nomeclatura que utilizo)\n",
    "\n",
    "caminos = []\n",
    "for camino in nx.all_simple_paths(Graf_a, source=0, target=2):\n",
    "    if (len(camino) == 3) :\n",
    "        caminos.append(camino)\n",
    "        \n",
    "print(f'Los caminos posibles son {len(caminos)}: \\n {caminos} ' )"
   ]
  },
  {
   "cell_type": "markdown",
   "metadata": {},
   "source": [
    "### Inciso (d)"
   ]
  },
  {
   "cell_type": "markdown",
   "metadata": {},
   "source": [
    "Networkx no tiene un algoritmo que cuente los ciclos en redes no dirigidas. El algoritmo que tiene es uno que te genera las bases de los ciclos. Asi que sacamos la idea del algoritmo de libro de Chai Lee$^{[1]}$ donde plantea el uso de combinaciones lineales desusodichas bases.\n",
    "\n",
    "[1]ALGORITHMIC APPROACHES TO CIRCUIT ENUMERATION PROBLEMS AND APPLICATIONS by BOON CHAI LEE (1978) page 52 http://dspace.mit.edu/bitstream/handle/1721.1/68106/FTL_R_1982_07.pdf"
   ]
  },
  {
   "cell_type": "code",
   "execution_count": 94,
   "metadata": {},
   "outputs": [
    {
     "data": {
      "text/plain": [
       "[(0, 1, 'forward'), (1, 2, 'forward'), (2, 0, 'forward')]"
      ]
     },
     "execution_count": 94,
     "metadata": {},
     "output_type": "execute_result"
    }
   ],
   "source": [
    "\n",
    "list(nx.find_cycle(Graf_a, orientation='ignore'))"
   ]
  },
  {
   "cell_type": "code",
   "execution_count": 149,
   "metadata": {},
   "outputs": [
    {
     "name": "stdout",
     "output_type": "stream",
     "text": [
      "[[2, 5, 0], [1, 3, 0], [1, 2, 0]]\n",
      "[[2, 5, 0, 1], [1, 3, 0, 2]]\n"
     ]
    }
   ],
   "source": [
    "import itertools\n",
    "\n",
    "#busco los ciclos de longitud 4 de la red a\n",
    "ciclos_a =[]\n",
    "bases_ciclos_a = nx.cycle_basis(Graf_a)\n",
    "print(bases_ciclos_a)\n",
    "\n",
    "#me fijo si las combinaciones lineales de las bases pertenecen al grafo:   \n",
    "for i in range(1,len(bases_ciclos_a) + 1):\n",
    "    for n in itertools.combinations(bases_ciclos_a, i):\n",
    "        ciclo = list(dict.fromkeys(np.concatenate(n))) #me deja la lista de nodos limpia sin repeticiones\n",
    "       \n",
    "        #chequeo que tenga longitud 4:\n",
    "        if len(ciclo) == 4:\n",
    "            \n",
    "            #chequeo si la combinacion pertenee al conjunto de caminos: \n",
    "            #esto lo que hace era chequear si todos los nodos del ciclo estan enlazados pero no es necesariamente cierto\n",
    "            if all(Graf_a.has_edge(enlace[0],enlace[1]) == False for enlace in list(itertools.combinations(ciclo, 2))) == False:\n",
    "                ciclos_a.append(ciclo)\n",
    "            \n",
    "            \n",
    "            #esto es falso porque no todas las combinaciones estan unidas si es un ciclo. lo que hice antes fue \n",
    "            #fijarme si para todas las permutaciones del string de un ciclo habia un camino posible. pero esto no es\n",
    "            # necesariemente cierto porque tal vez ese camino posible no es cerrado\n",
    "\n",
    "\n",
    "\n",
    "print(ciclos_a)\n",
    "    \n",
    "        \n",
    "\n"
   ]
  },
  {
   "cell_type": "code",
   "execution_count": 147,
   "metadata": {},
   "outputs": [
    {
     "name": "stdout",
     "output_type": "stream",
     "text": [
      "La cantidad de ciclos de longitud 4 de la red a es 26\n",
      "La cantidad de ciclos de longitud 4 de la red b es 1\n"
     ]
    }
   ],
   "source": [
    "#para las redes dirigidas (en nuestrp caso, b) networkx tiene un algoritmo armado\n",
    "ciclos_b = []\n",
    "for ciclo in nx.simple_cycles(Graf_b):\n",
    "    if len(ciclo) == 4 :\n",
    "        ciclos_b.append(ciclo)\n",
    "\n",
    "print(f'La cantidad de ciclos de longitud 4 de la red a es {len(ciclos_a)}')\n",
    "print(f'La cantidad de ciclos de longitud 4 de la red b es {len(ciclos_b)}')"
   ]
  },
  {
   "cell_type": "markdown",
   "metadata": {},
   "source": [
    "# Ejercicio 3 "
   ]
  },
  {
   "cell_type": "markdown",
   "metadata": {},
   "source": [
    "![ej3](img/Guia_2_ej_3.png)"
   ]
  },
  {
   "cell_type": "markdown",
   "metadata": {},
   "source": [
    "Para pasar de matrices calculadas en python a latex y verlas mejor pasamos arrays a latex con la siguiente función."
   ]
  },
  {
   "cell_type": "code",
   "execution_count": 19,
   "metadata": {},
   "outputs": [],
   "source": [
    "#make latex matrix\n",
    "import array_to_latex as a2l\n",
    "to_tex = lambda A : a2l.to_ltx(A, frmt = '{:6.0f}', arraytype = 'array', mathform=True)"
   ]
  },
  {
   "cell_type": "code",
   "execution_count": 20,
   "metadata": {},
   "outputs": [],
   "source": [
    "#* La matriz de adyacencia de la red (a)\n",
    "import numpy as np\n",
    "A_ady = np.matrix([[0 , 1 , 0 , 0 , 1], \n",
    "    [0 , 0 , 1 , 0 , 0],\n",
    "    [1 , 0 , 0 , 0 , 1],\n",
    "    [0 , 1 , 1 , 0 , 0],\n",
    "    [0 , 0 , 0 , 0 , 0]])"
   ]
  },
  {
   "cell_type": "code",
   "execution_count": 21,
   "metadata": {},
   "outputs": [],
   "source": [
    "#La matriz de co-citas de la red (a)\n",
    "A_ady_t = np.transpose(A_ady)\n",
    "A_co = A_ady * A_ady_t"
   ]
  },
  {
   "cell_type": "code",
   "execution_count": 23,
   "metadata": {},
   "outputs": [],
   "source": [
    "#La matriz de incidencia de la red (b)\n",
    "B_ind = np.matrix(\n",
    "    # 1 2 3 4 5 \n",
    "   # 1 \n",
    "    [[1 , 0 , 1 , 0 , 0], \n",
    "    # 2\n",
    "     [0 , 1 , 1 , 0 , 0],\n",
    "    #3\n",
    "     [0 , 0 , 0 , 1 , 0],\n",
    "    #4\n",
    "     [0 , 1 , 1 , 1 , 1]])"
   ]
  },
  {
   "cell_type": "code",
   "execution_count": 25,
   "metadata": {},
   "outputs": [],
   "source": [
    "#La matriz proyección de la red (b) en los vértices oscuros.\n",
    "B_ind_t = np.transpose(B_ind)\n",
    "B_proy_oscura = B_ind_t * B_ind"
   ]
  },
  {
   "cell_type": "markdown",
   "metadata": {},
   "source": [
    "* La matriz de adyacencia de la red (a):\n",
    "\n",
    "\n",
    "$$ A_{ady} = \n",
    "\\begin{array}{c}\n",
    "\\begin{matrix}\n",
    "1 & 2 & 3 & 4 & 5\n",
    "\\end{matrix} \\\\\n",
    "\\left(\\ \\begin{matrix}\n",
    "0 & 1 & 0 & 0 & 1 \\\\\n",
    "0 & 0 & 1 & 0 & 0\\\\\n",
    "1 & 0 & 0 & 0 & 1\\\\\n",
    "0 & 1 & 1 & 0 & 0\\\\\n",
    "0 & 0 & 0 & 0 & 0\n",
    "\\end{matrix}\\ \\right)\n",
    "\\end{array}\n",
    "$$\n",
    "\n",
    "* La matriz de co-citas de la red (a):\n",
    "\n",
    "$$A_{co} = \n",
    "\\begin{array}{c}\n",
    "\\begin{matrix}\n",
    "1 & 2 & 3 & 4 & 5\n",
    "\\end{matrix} \\\\\n",
    "\\left(\\ \\begin{matrix}\n",
    "       2  &       0  &       1  &       1  &       0 \\\\\n",
    "       0  &       1  &       0  &       1  &       0 \\\\\n",
    "       1  &       0  &       2  &       0  &       0 \\\\\n",
    "       1  &       1  &       0  &       2  &       0 \\\\\n",
    "       0  &       0  &       0  &       0  &       0 \n",
    "\\end{matrix}\\ \\right)\n",
    "\\end{array}\n",
    "$$\n",
    "\n",
    "La matriz de incidencia de la red (b): \n",
    "\n",
    "$$B_{ind} = \n",
    "\\begin{array}{c}\n",
    "\\begin{matrix}\n",
    "1 & 2 & 3 & 4 & 5\n",
    "\\end{matrix} \\\\\n",
    "\\left(\\ \\begin{matrix}\n",
    "       1  &       0  &       1  &       0  &       0 \\\\\n",
    "       0  &       1  &       1  &       0  &       0 \\\\\n",
    "       0  &       0  &       0  &       1  &       0 \\\\\n",
    "       0  &       1  &       1  &       1  &       1 \n",
    "\\end{matrix}\\ \\right)\n",
    "\\end{array}\n",
    "$$\n",
    "\n",
    "La matriz de proyección en los vértices oscuros de la red (b) es:\n",
    "\n",
    "$$B_{proy} =  \n",
    "\\begin{array}{c}\n",
    "\\begin{matrix}\n",
    "1 & 2 & 3 & 4 & 5\n",
    "\\end{matrix} \\\\\n",
    "\\left(\\ \\begin{matrix}\n",
    "       1  &       0  &       1  &       0  &       0 \\\\\n",
    "       0  &       1  &       1  &       0  &       0 \\\\\n",
    "       0  &       0  &       0  &       1  &       0 \\\\\n",
    "       0  &       1  &       1  &       1  &       1 \n",
    "\\end{matrix}\\ \\right)\n",
    "\\end{array}\n",
    "$$\n"
   ]
  },
  {
   "cell_type": "markdown",
   "metadata": {},
   "source": [
    "# Ejercicio 4"
   ]
  },
  {
   "cell_type": "markdown",
   "metadata": {},
   "source": [
    "![ej4](img/Guia_2_ej_4.png)"
   ]
  },
  {
   "cell_type": "markdown",
   "metadata": {},
   "source": [
    "# Ejercicio 5"
   ]
  },
  {
   "cell_type": "markdown",
   "metadata": {},
   "source": [
    "### Inciso (a)"
   ]
  },
  {
   "cell_type": "code",
   "execution_count": 136,
   "metadata": {},
   "outputs": [
    {
     "data": {
      "text/plain": [
       "(2, [(0, 1), (0, 2)])"
      ]
     },
     "execution_count": 136,
     "metadata": {},
     "output_type": "execute_result"
    }
   ],
   "source": [
    "#Lmax es la maxima cantidad de enlaces que puede tener una red bipartita\n",
    "\n",
    "def Lmax_bipartita(N1,N2):\n",
    "    N2 = N2 + N1\n",
    "    numero_enlaces = 0\n",
    "    enlaces = []\n",
    "    for n1 in range(N1):\n",
    "        for n2 in range(N1,N2):\n",
    "            enlaces.append((n1,n2))\n",
    "            numero_enlaces += 1\n",
    "    return numero_enlaces,enlaces\n"
   ]
  },
  {
   "cell_type": "markdown",
   "metadata": {},
   "source": [
    "### Inciso (b)"
   ]
  },
  {
   "cell_type": "code",
   "execution_count": 137,
   "metadata": {},
   "outputs": [],
   "source": [
    "def Lmax_monopartita(N1,N2):\n",
    "    N = N1 + N2\n",
    "    enlaces = list(itertools.combinations(np.arange(N), 2))\n",
    "    numero_enlaces = len(enlaces)\n",
    "    return numero_enlaces,enlaces\n",
    "                         \n",
    "\n",
    "def diferencia_enlaces(N1,N2):\n",
    "    Lmax_monopartita(N1,N2)[0]\n",
    "    diferencia =  Lmax_monopartita(N1,N2)[0] - Lmax_bipartita(N1,N2)[0]\n",
    "    return diferencia\n",
    "\n"
   ]
  },
  {
   "cell_type": "markdown",
   "metadata": {},
   "source": [
    "### Inciso (c)"
   ]
  },
  {
   "cell_type": "code",
   "execution_count": 138,
   "metadata": {},
   "outputs": [
    {
     "data": {
      "text/plain": [
       "<matplotlib.legend.Legend at 0x25ece30d9e8>"
      ]
     },
     "execution_count": 138,
     "metadata": {},
     "output_type": "execute_result"
    },
    {
     "data": {
      "image/png": "[encoded data removed]",
      "text/plain": [
       "<Figure size 432x288 with 1 Axes>"
      ]
     },
     "metadata": {
      "needs_background": "light"
     },
     "output_type": "display_data"
    }
   ],
   "source": [
    "import matplotlib.pyplot as plt\n",
    "from networkx.algorithms import bipartite\n",
    "\n",
    "i=4\n",
    "densidades = []\n",
    "lista_N2 = []\n",
    "while i<= 1000:\n",
    "    Red_i = nx.Graph()\n",
    "    Red_i.add_edges_from(Lmax_bipartita(4,i)[1])\n",
    "    densidad = nx.density(Red_i)\n",
    "    \n",
    "    densidades.append(densidad)\n",
    "    lista_N2.append(i)\n",
    "    i+=10\n",
    "\n",
    "\n",
    "    \n",
    "plt.figure()\n",
    "plt.scatter(lista_N2,densidades,label=\"Densidad/N2 con N1=4\")\n",
    "plt.xlabel(\"N2\")\n",
    "plt.ylabel(\"Densidad\")\n",
    "plt.legend()"
   ]
  },
  {
   "cell_type": "markdown",
   "metadata": {},
   "source": [
    "Como se puede observar en el gráfico, la densidad decrece exponencialmente a medida que N2 crece con respecto a N1.\n",
    "Este resultado tiene sentido ya que la matriz de adyacencia de una red bipartita tiene la forma $\\Re^{(n+m) \\times (n+m)}$ donde n "
   ]
  },
  {
   "cell_type": "markdown",
   "metadata": {},
   "source": [
    "### Inciso (d)"
   ]
  },
  {
   "cell_type": "code",
   "execution_count": 134,
   "metadata": {},
   "outputs": [
    {
     "name": "stdout",
     "output_type": "stream",
     "text": [
      "8 4\n",
      "OrderedDict([(0, 8.0), (1, 8.0), (2, 8.0), (3, 8.0), (4, 8.0), (5, 8.0), (6, 8.0), (7, 8.0), (9, 4.0), (10, 4.0), (11, 4.0), (12, 4.0)])\n"
     ]
    },
    {
     "data": {
      "image/png": "[encoded data removed]",
      "text/plain": [
       "<Figure size 432x288 with 1 Axes>"
      ]
     },
     "metadata": {},
     "output_type": "display_data"
    }
   ],
   "source": [
    "import random\n",
    "import collections\n",
    "\n",
    "i=4\n",
    "k1_medio = []\n",
    "k_medio = []\n",
    "while i<= 10:\n",
    "    #genero N1 y N2 random entre 1 y 100\n",
    "    N1 = random.randint(1,10)\n",
    "    N2 = random.randint(1,10)\n",
    "\n",
    "    #creo la red bipartita\n",
    "    Red_i = nx.Graph()\n",
    "    Red_i.add_edges_from(Lmax_bipartita(N1,N2)[1])\n",
    "\n",
    "    grado_medio_nodo = nx.average_neighbor_degree(Red_i)\n",
    "    nodos_k1 = red.number_of_nodes() \n",
    "    nodos_k2 = \n",
    "    data_dict['Enlaces'] = red.number_of_edges()\n",
    "    data_dict['Grado medio'] = 2 * data_dict['Enlaces'] / data_dict['Nodos']\n",
    "    \n",
    "    \n",
    "    grado_medio_nodo = collections.OrderedDict(sorted(grado_medio_nodo.items()))\n",
    "    print(grado_medio_nodo)\n",
    "    #k1_medio.append(grado_medio_nodo)\n",
    "\n",
    "    i+=10"
   ]
  },
  {
   "cell_type": "markdown",
   "metadata": {},
   "source": [
    "# Ejercicio 6"
   ]
  },
  {
   "cell_type": "markdown",
   "metadata": {},
   "source": [
    "Consideramos el conjunto de todos los caminos entre el nodo-i y el nodo-j en un grafo no dirigido de\n",
    "matriz de adyacencia A. Los caminos de largo r se representan por la matriz $A^{r}$. Queremos ver que la suma de los pesos de todos los caminos que conectan el nodo-i con el nodo-j también está dada por $Z_{ij}$, el elemento $ij$ de la matriz $Z = (I − \\alpha A)^{−1}$ *(1)*. \n",
    "\n",
    "#### a)\n",
    "Tenemos que $A^{r}$ son los caminos de largo r. La suma de todos los caminos la definimos como $Z = \\sum_{r=0}^{\\infty} \\alpha^{r} A^{r}$ y queremos demostrar la igualdad con *(1)*. \n",
    "Multiplicamos de ambos lados por $(I − \\alpha A)$ con lo cual nos queda:\n",
    "\n",
    "$Z(I − \\alpha A) = \\sum_{r=0}^{\\infty} \\alpha^{r} A^{r} (I − \\alpha A) = I\n",
    "$\n",
    "\n",
    "Distribuimos \n",
    "\n",
    "$\\sum_{r=0}^{\\infty} \\alpha^{r} A^{r}  − \\sum_{r=0}^{\\infty} \\alpha^{r+1} A^{r+1} = I$\n",
    "\n",
    "Arreglamos los límites de la sumatoria para tener iguales exponentes:\n",
    "\n",
    "$\\sum_{r=0}^{\\infty} \\alpha^{r} A^{r}  − \\sum_{r=1}^{\\infty} \\alpha^{r+1} A^{r+1} = I$\n",
    "\n",
    "Eso nos deja sólo el término con $r = 0$:\n",
    "\n",
    "$\\alpha^{0} A^{0} = I$\n",
    "\n",
    "$1 I = I$\n",
    "\n",
    "Con eso probamos la igualdad de ambas representaciones de Z. \n",
    "\n",
    "#### b)\n",
    "La sumatoria es infinita, podría diverger. Es una suma geométrica por lo cual $\\alpha A < 1$. Por ende necesita una restricción al valor de $\\alpha$ para que converja. Mientras que $\\alpha < \\frac{1}{max (A_{ij})}$ los caminos más largos tendran menos peso (pues un número menor a uno a la números positivos va dando más chico) que los más cortos. Esto tiene sentido, estamos diciendo que los vértices están más conectados lo hacen por caminos más cortos.\n",
    "\n",
    "#### c)\n",
    "\n",
    "# TODO\n",
    "Como $A_{ij}^{r}$ es la cantidad de caminos de i a j de largo $r$, necesitamos para ver la distancia más corta el menor $r$ para el cual el elemento es distinto de cero. Ejemplo: si los nodos i y j están conectados directamente la matriz $A$ tendrá un $1$ en la posición $(ij)$. Si otros dos nodos están a dos de distancia, $A_{ij} \\neq 1$, pero $A_{ij}^{2} \\geq 1$ . Por ende, necesitamos el menor $r$ para el cual $Z_{ij} \\neq 0$, ese $r$ es la distancia geodésica entre dos nodos.\n",
    "\n",
    "$Z_{ij}(r) = (\\delta_{ij} - \\alpha A_{ij})^{-1}$\n",
    "\n",
    "$Z_{ij}(r) = \\sum (\\alpha A_{ij})^{r} = \\frac{1}{1 - \\alpha A_{ij}}$\n",
    "\n",
    "\n",
    "Tomo logaritmo:\n",
    "\n",
    "$log(Z_{ij}(r)) = - log(1 - \\alpha A_{ij})$\n",
    "\n",
    "Tomo $log(\\alpha) = z$, entonces $\\alpha = e^z$\n",
    "\n",
    "$log(Z_{ij}(r)) = - log(1 - e^z A_{ij})$\n",
    "\n",
    "$\\frac{d  (log(Z_{ij}))}{dz} = \\frac{1}{1 - e^z A_{ij}} e^z  A_{ij} = \\frac{\\alpha  A_{ij}}{1 - \\alpha A_{ij}}  = \\sum_{r=0}^{\\infty} \\alpha A (\\alpha A)^r = \\sum_{r=0}^{\\infty} (\\alpha A)^{r+1} = \\sum_{r=1}^{\\infty} (\\alpha A)^{r} = \\alpha A \\sum_{r=0}^{\\infty} (\\alpha A)^{r} = \\alpha A Z_{ij} $"
   ]
  },
  {
   "cell_type": "markdown",
   "metadata": {},
   "source": [
    "# Ejercicio 9"
   ]
  },
  {
   "cell_type": "markdown",
   "metadata": {},
   "source": [
    "O como nos gusta llamarlo...\n",
    "\n",
    "<table><tr>\n",
    "<td> <img src=\"img/meme_guia_02.jpg\" alt=\"Drawing\" style=\"width: 500px;\"/> </td>\n",
    "<td> <img src=\"img/Guia_2_ej_9_rta.svg\" alt=\"Drawing\" style=\"width: 800px;\"/> </td>\n",
    "</tr></table>"
   ]
  },
  {
   "cell_type": "markdown",
   "metadata": {},
   "source": [
    "El tamaño del conjunto de vértices de corte minimal entre los nodos $s$ y $t$ es $k = 3$. En gris se seleccionó una elección particular de los nodos. De colores se observan los $k$ caminos independientes.Los nodos a elegir entonces deben pertenecer uno a cada camino, como mínimo, de manera de separar por completo a $s$ y $t$. "
   ]
  }
 ],
 "metadata": {
  "kernelspec": {
   "display_name": "Python 3",
   "language": "python",
   "name": "python3"
  },
  "language_info": {
   "codemirror_mode": {
    "name": "ipython",
    "version": 3
   },
   "file_extension": ".py",
   "mimetype": "text/x-python",
   "name": "python",
   "nbconvert_exporter": "python",
   "pygments_lexer": "ipython3",
   "version": "3.7.3"
  }
 },
 "nbformat": 4,
 "nbformat_minor": 2
}
