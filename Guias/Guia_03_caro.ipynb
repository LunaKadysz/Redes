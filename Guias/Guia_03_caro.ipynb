{
 "cells": [
  {
   "cell_type": "code",
   "execution_count": 89,
   "metadata": {},
   "outputs": [],
   "source": [
    "import networkx as nx\n",
    "import random as random\n",
    "import numpy as np\n",
    "import matplotlib.pyplot as plt\n",
    "import os\n",
    "import time\n",
    "from tqdm import tqdm\n",
    "import pandas as pd\n"
   ]
  },
  {
   "cell_type": "markdown",
   "metadata": {},
   "source": [
    "Armamos un código para generar una red aleatoria tipo Erdos Renyi, con $n$ cantidad de nodos\n",
    "y probabilidad $p$. Este tipo de red consiste en simplemente tomar\n",
    "$n$ nodos y enlazar cada par con una probabilidad $p$."
   ]
  },
  {
   "cell_type": "markdown",
   "metadata": {},
   "source": [
    "# Ejercicio 3\n",
    "Consideramos una red de Erdos-Renyi de 3000 nodos conectados con una probabilidad $p=10^{-3}$"
   ]
  },
  {
   "cell_type": "markdown",
   "metadata": {},
   "source": [
    "## a.\n",
    "El numero esperado de enlaces es $\\langle L \\rangle = \\frac{pn(n - 1)}{2} =  4498.5 $ \n",
    "\n",
    "Esto se debe a que la cantidad de enlaces $L$, si la probabilidad fuera 1, seria el número de combinaciones sin repetición de 2 elementos elegidos entre los n. Usando la formula de combinatoria esto termina siendo $n(n-1)/2$. Si luego en cada iteracion agregamos que $p<1$, el valor mas probable termina siendo $pn(n-1)/2$.\n"
   ]
  },
  {
   "cell_type": "markdown",
   "metadata": {},
   "source": [
    "## b. \n",
    "¿En qué régimen de conectividad ubicaría a esta red?\n",
    "Para encontrar en qué regimen de conectividad se ubica esta red necesitamos encontrar el $\\langle k \\rangle $ que esta determinado de la siguiente manera:\n",
    "\n",
    "$$\\langle k \\rangle = 2 \\frac{ \\langle L \\rangle } {N}= \\frac{2pN(N - 1)}{2N} = p \\cdot (N-1) = 2.999$$\n",
    "\n",
    "Sabemos que el $k_c$ se encuentra en $\\langle k \\rangle = 1$ y que el regimen conectado comienza en $\\langle k \\rangle = ln(N) = 8.006$\n",
    "\n",
    "Con lo cual esta red se encuentra en el regimen supercrítico pero por no llega a estar en el régimen conectado."
   ]
  },
  {
   "cell_type": "markdown",
   "metadata": {},
   "source": [
    "## c. \n",
    "Para estimar la probabilidad critica de esta red tenemos que toman en cuenta la cuenta anterior, con lo cual:\n",
    "\n",
    "$$ \\langle k_c \\rangle  = p_c \\cdot (N-1) = 1$$\n",
    "\n",
    "$$ p_c = \\frac{1}{N-1}= 3.33 \\cdot 10^{-4}$$"
   ]
  },
  {
   "cell_type": "markdown",
   "metadata": {},
   "source": [
    "##  d. \n",
    "Dada la probabilidad  $ p=10^{-3}$, el numero de nodos $N^*$ para el cual la red posee una unica componente es tal que el $ \\langle k \\rangle \\ge ln(N)$ es decir que la red entra en el regimen conectado.  Con lo cual podemos obtener $N^*$ resolviendo la siguiente ecuación:\n",
    "\n",
    "$$  \\langle k^* \\rangle  = p \\cdot (N^*-1) \\ge ln(N^*)$$\n",
    "\n",
    "Es decir si buscamos el valor minimo de $N^*$, entonces:\n",
    "\n",
    "$$ e^{p\\cdot (N^*-1)} = N^*$$\n",
    "\n"
   ]
  },
  {
   "cell_type": "code",
   "execution_count": 66,
   "metadata": {},
   "outputs": [
    {
     "data": {
      "image/png": "[encoded data removed]",
      "text/plain": [
       "<Figure size 432x288 with 1 Axes>"
      ]
     },
     "metadata": {
      "needs_background": "light"
     },
     "output_type": "display_data"
    }
   ],
   "source": [
    "n = 3000 #cantidad de nodos\n",
    "p = 10**(-3)\n",
    "n_vect=np.arange(0,10000)\n",
    "y_vect=np.exp(p*(n_vect-1))\n",
    "plt.plot(n_vect,y_vect, label='exp(p*(N-1))')\n",
    "plt.plot(n_vect,n_vect, label='N')\n",
    "plt.xlabel('N')\n",
    "plt.ylabel('y')\n",
    "plt.legend()\n",
    "plt.show()"
   ]
  },
  {
   "cell_type": "markdown",
   "metadata": {},
   "source": [
    "El punto que queremos encontrar el el cruce que esta entre 8k y 10k, para eso lo vamos a hacer graficamente.\n",
    "\n",
    "El valor de N que buscamos es el primer $N^*$ tal que $ e^{p\\cdot (N^*-1)} - N^* \\ge 0$\n"
   ]
  },
  {
   "cell_type": "code",
   "execution_count": 67,
   "metadata": {},
   "outputs": [
    {
     "name": "stdout",
     "output_type": "stream",
     "text": [
      "N*=9120\n"
     ]
    }
   ],
   "source": [
    "n_vect=np.arange(8000,10000)\n",
    "y_vect=np.exp(p*(n_vect-1))\n",
    "r_vect= y_vect-n_vect\n",
    "r_index=np.where(r_vect >= 0)[0][0]\n",
    "n_buscado=n_vect[r_index]\n",
    "print(f'N*={n_buscado}')"
   ]
  },
  {
   "cell_type": "markdown",
   "metadata": {},
   "source": [
    "Es decir que a partir de 9120 nodos, la red entraria en el regimen conectado y la fracion de enlaces pertenecientes a la componente gigante tendería exponencialmente a 1."
   ]
  },
  {
   "cell_type": "markdown",
   "metadata": {},
   "source": [
    "## e. \n",
    "Para la red anterior, el grado medio es el siguiente:\n",
    "$$\\langle k^* \\rangle = p \\cdot (N^*-1) = 9.120 \\ge ln(N^*)$$\n",
    " y la distancia media $\\langle d \\rangle$ entre pares de nodos elegidos al azar es:\n",
    " $$\\langle d \\rangle = \\frac{ln(N^*)}{N^*}= $$\n",
    "# ??????? consultar con las demas el punto e"
   ]
  },
  {
   "cell_type": "markdown",
   "metadata": {},
   "source": [
    "# Ejercicio 4\n",
    "Veamos los resutados  obtenidos  en  los  puntos  (a),  (c)  y  (d)  del  problema  anterior  con simulaciones del ensemble de redes G(N,p)"
   ]
  },
  {
   "cell_type": "code",
   "execution_count": 50,
   "metadata": {},
   "outputs": [],
   "source": [
    "#Inicialmente creo una funcion que devuelva cantidad de enlaces en funcion de n y p\n",
    "def ErdosRenyi_m(n,p):\n",
    "    m = 0\n",
    "    #Itero sobre los pares i-j\n",
    "    for i in range(n):\n",
    "        for j in range(i+1,n):\n",
    "            random_sample = random.random()\n",
    "            if random_sample <= p:\n",
    "                m+=1\n",
    "    return(m)\n",
    "\n",
    "#Creo una funcion que devuelve el listado de edges en funcion de n y p\n",
    "def ErdosRenyi_edges(n,p):\n",
    "    edges = []\n",
    "    #Itero sobre los pares i-j\n",
    "    for i in range(n):\n",
    "        for j in range(i+1,n):\n",
    "            random_sample = random.random()\n",
    "            if random_sample <= p:\n",
    "                edges.append((i,j))\n",
    "    return(edges)"
   ]
  },
  {
   "cell_type": "markdown",
   "metadata": {},
   "source": [
    "## Comparacion con el punto 3a.\n",
    "Veamos la cantidad de enlaces para distintas iteraciones de este ensemble de $n=3000$ y $p=10^{-3}$"
   ]
  },
  {
   "cell_type": "code",
   "execution_count": 19,
   "metadata": {},
   "outputs": [],
   "source": [
    "n = 3000 #cantidad de nodos\n",
    "p = 10**(-3)"
   ]
  },
  {
   "cell_type": "code",
   "execution_count": 20,
   "metadata": {},
   "outputs": [
    {
     "name": "stderr",
     "output_type": "stream",
     "text": [
      "100%|██████████| 100/100 [00:41<00:00,  2.39it/s]\n"
     ]
    }
   ],
   "source": [
    "nIteraciones=100\n",
    "nEnlaces=[]\n",
    "for i in tqdm(range(nIteraciones)):\n",
    "    nEnlaces.append(ErdosRenyi_m(n,p))"
   ]
  },
  {
   "cell_type": "code",
   "execution_count": 21,
   "metadata": {},
   "outputs": [
    {
     "data": {
      "image/png": "[encoded data removed]",
      "text/plain": [
       "<Figure size 432x288 with 1 Axes>"
      ]
     },
     "metadata": {
      "needs_background": "light"
     },
     "output_type": "display_data"
    }
   ],
   "source": [
    "plt.hist(nEnlaces, bins =20)\n",
    "plt.show()"
   ]
  },
  {
   "cell_type": "code",
   "execution_count": 29,
   "metadata": {},
   "outputs": [
    {
     "ename": "NameError",
     "evalue": "name 'np' is not defined",
     "output_type": "error",
     "traceback": [
      "\u001b[0;31m---------------------------------------------------------------------------\u001b[0m",
      "\u001b[0;31mNameError\u001b[0m                                 Traceback (most recent call last)",
      "\u001b[0;32m<ipython-input-29-4e0d897de52f>\u001b[0m in \u001b[0;36m<module>\u001b[0;34m\u001b[0m\n\u001b[0;32m----> 1\u001b[0;31m \u001b[0mnEnlaces_mean\u001b[0m\u001b[0;34m=\u001b[0m\u001b[0mnp\u001b[0m\u001b[0;34m.\u001b[0m\u001b[0mmean\u001b[0m\u001b[0;34m(\u001b[0m\u001b[0mnEnlaces\u001b[0m\u001b[0;34m)\u001b[0m\u001b[0;34m\u001b[0m\u001b[0;34m\u001b[0m\u001b[0m\n\u001b[0m\u001b[1;32m      2\u001b[0m \u001b[0mnEnlaces_std\u001b[0m\u001b[0;34m=\u001b[0m\u001b[0mnp\u001b[0m\u001b[0;34m.\u001b[0m\u001b[0mstd\u001b[0m\u001b[0;34m(\u001b[0m\u001b[0mnEnlaces\u001b[0m\u001b[0;34m)\u001b[0m\u001b[0;34m\u001b[0m\u001b[0;34m\u001b[0m\u001b[0m\n\u001b[1;32m      3\u001b[0m \u001b[0mnEnlaces_calculado\u001b[0m\u001b[0;34m=\u001b[0m\u001b[0mp\u001b[0m\u001b[0;34m*\u001b[0m\u001b[0mn\u001b[0m\u001b[0;34m*\u001b[0m\u001b[0;34m(\u001b[0m\u001b[0mn\u001b[0m\u001b[0;34m-\u001b[0m\u001b[0;36m1\u001b[0m\u001b[0;34m)\u001b[0m\u001b[0;34m/\u001b[0m\u001b[0;36m2\u001b[0m\u001b[0;34m\u001b[0m\u001b[0;34m\u001b[0m\u001b[0m\n\u001b[1;32m      4\u001b[0m \u001b[0mprint\u001b[0m\u001b[0;34m(\u001b[0m\u001b[0;34mf'<L> calculado={nEnlaces_calculado}\\n<L> simulado={nEnlaces_mean} +/- {np.round(nEnlaces_std,2)}'\u001b[0m\u001b[0;34m)\u001b[0m\u001b[0;34m\u001b[0m\u001b[0;34m\u001b[0m\u001b[0m\n",
      "\u001b[0;31mNameError\u001b[0m: name 'np' is not defined"
     ]
    }
   ],
   "source": [
    "nEnlaces_mean=np.mean(nEnlaces)\n",
    "nEnlaces_std=np.std(nEnlaces)\n",
    "nEnlaces_calculado=p*n*(n-1)/2\n",
    "del nEnlaces\n",
    "print(f'<L> calculado={nEnlaces_calculado}\\n<L> simulado={nEnlaces_mean} +/- {np.round(nEnlaces_std,2)}')"
   ]
  },
  {
   "cell_type": "markdown",
   "metadata": {},
   "source": [
    "El valor medio de enlaces calculado está dentro del intervalo de confianza alrededor del valor medio de enlaces simulado con una muestra de 100 iteraciones."
   ]
  },
  {
   "cell_type": "markdown",
   "metadata": {},
   "source": [
    "## Comparacion con el punto 3c."
   ]
  },
  {
   "cell_type": "markdown",
   "metadata": {},
   "source": [
    "De los calculos teoricos obtuvimos el resultado $ p_c = \\frac{1}{N-1}= 3.33 \\cdot 10^{-4}$\n",
    "\n",
    "Para compararlo con las simulaciones lo que vamos a hacer es armar el grafico de la fraccion de nodos pertenecientes a la CG (S), en funcion de la probabilidad p.\n",
    "\n",
    "Teniendo en cuenta que esto tipicamente se grafica en funcion de $\\langle k \\rangle $, primero recordemos la relacion entre $\\langle kc \\rangle $ y $p_c$:\n",
    "$$ \\langle k_c \\rangle  = p_c \\cdot (N-1) = 1$$"
   ]
  },
  {
   "cell_type": "code",
   "execution_count": 79,
   "metadata": {},
   "outputs": [],
   "source": [
    "def ErdosRenyi_sizeGC(n,p):\n",
    "    red=nx.empty_graph(n)\n",
    "    red.add_edges_from(ErdosRenyi_edges(n,p))\n",
    "    componentes=[red.subgraph(componente) \n",
    "                      for componente in sorted(nx.connected_components(red), \n",
    "                                               key=len, reverse=True)]\n",
    "    del red\n",
    "    gigante = componentes[0]\n",
    "    del componentes\n",
    "    frac_gigante=gigante.number_of_nodes()/n\n",
    "    del gigante\n",
    "    return(frac_gigante)"
   ]
  },
  {
   "cell_type": "code",
   "execution_count": 81,
   "metadata": {},
   "outputs": [
    {
     "name": "stderr",
     "output_type": "stream",
     "text": [
      "100%|██████████| 10/10 [00:19<00:00,  1.91s/it]\n"
     ]
    }
   ],
   "source": [
    "n = 3000 #cantidad de nodos\n",
    "nProb=10\n",
    "p_vect =  np.geomspace(10**(-4), 1, num=nProb)\n",
    "sizeGC=[]\n",
    "for p in tqdm(p_vect):\n",
    "    sizeGC.append(ErdosRenyi_sizeGC(n,p))\n",
    "    percent_used = getattr(psutil.virtual_memory(), 'percent')\n",
    "    if percent_used > 80: print('breaking');break\n"
   ]
  },
  {
   "cell_type": "code",
   "execution_count": 82,
   "metadata": {},
   "outputs": [
    {
     "data": {
      "image/png": "[encoded data removed]",
      "text/plain": [
       "<Figure size 432x288 with 1 Axes>"
      ]
     },
     "metadata": {
      "needs_background": "light"
     },
     "output_type": "display_data"
    }
   ],
   "source": [
    "plt.plot(p_vect,sizeGC,'b.',label='Tamaño CG simulada')\n",
    "plt.axvline(x=1/(n-1), color='red',label='p_c calculada')\n",
    "plt.xlabel('p')\n",
    "plt.ylabel('Tamaño CG')\n",
    "plt.legend()\n",
    "plt.show()"
   ]
  },
  {
   "cell_type": "markdown",
   "metadata": {},
   "source": [
    "La probabilidad critica, que habiamos predecido que ocurría en $ 3.33 \\cdot 10^{-4}$ parece ocurrir muy cercana a 0, vamos a graficar en el intervalo $\\left \\{ 10^{-4} , 10^{-3}\\right \\}$"
   ]
  },
  {
   "cell_type": "code",
   "execution_count": 83,
   "metadata": {},
   "outputs": [
    {
     "name": "stderr",
     "output_type": "stream",
     "text": [
      "100%|██████████| 500/500 [06:04<00:00,  1.37it/s]\n"
     ]
    }
   ],
   "source": [
    "n = 3000 #cantidad de nodos\n",
    "nProb=100\n",
    "p_vect =  np.geomspace(10**(-4), 10**(-3), num=nProb)\n",
    "p_vect = np.repeat(p_vect,5)\n",
    "sizeGC=[]\n",
    "for p in tqdm(p_vect):\n",
    "    sizeGC.append(ErdosRenyi_sizeGC(n,p))\n",
    "    percent_used = getattr(psutil.virtual_memory(), 'percent')\n",
    "    if percent_used > 80: print('breaking');break"
   ]
  },
  {
   "cell_type": "code",
   "execution_count": 86,
   "metadata": {},
   "outputs": [
    {
     "data": {
      "image/png": "[encoded data removed]",
      "text/plain": [
       "<Figure size 432x288 with 1 Axes>"
      ]
     },
     "metadata": {
      "needs_background": "light"
     },
     "output_type": "display_data"
    }
   ],
   "source": [
    "plt.plot(p_vect,sizeGC,'b.',label='Fracción CG simulada')\n",
    "plt.axvline(x=1/(n-1), color='red',label='p_c calculada')\n",
    "plt.xlabel('p')\n",
    "plt.ylabel('Fracción CG')\n",
    "plt.legend()\n",
    "plt.show()"
   ]
  },
  {
   "cell_type": "markdown",
   "metadata": {},
   "source": [
    "Para una mejor visualización de los datos vamos a promediar agrupando por p, ya que para cada p se usaron 5 muestras."
   ]
  },
  {
   "cell_type": "code",
   "execution_count": 102,
   "metadata": {},
   "outputs": [
    {
     "data": {
      "image/png": "[encoded data removed]",
      "text/plain": [
       "<Figure size 432x288 with 1 Axes>"
      ]
     },
     "metadata": {
      "needs_background": "light"
     },
     "output_type": "display_data"
    }
   ],
   "source": [
    "values= pd.DataFrame(p_vect,columns=['p'])\n",
    "values['S']=sizeGC\n",
    "result= values.groupby(['p'], as_index=False).agg({'S':['mean','std']})\n",
    "\n",
    "plt.plot(result['p'],result['S']['mean'],'b.',label='Fracción CG sim. promedio')\n",
    "plt.axvline(x=1/(n-1), color='red',label='p_c calculada')\n",
    "plt.xlabel('p')\n",
    "plt.ylabel('Fracción CG')\n",
    "plt.legend()\n",
    "plt.show()"
   ]
  },
  {
   "cell_type": "markdown",
   "metadata": {},
   "source": [
    "Se observa un cambio de comportamiento en la p crítica calculada anteriormente."
   ]
  },
  {
   "cell_type": "markdown",
   "metadata": {},
   "source": [
    "## Comparacion con el punto 3d."
   ]
  },
  {
   "cell_type": "code",
   "execution_count": 104,
   "metadata": {},
   "outputs": [],
   "source": [
    "def ErdosRenyi_nComponentes(n,p):\n",
    "    red=nx.empty_graph(n)\n",
    "    red.add_edges_from(ErdosRenyi_edges(n,p))\n",
    "    componentes=[red.subgraph(componente) \n",
    "                      for componente in sorted(nx.connected_components(red), \n",
    "                                               key=len, reverse=True)]\n",
    "    del red\n",
    "    nComponentes= len(componentes)\n",
    "    del componentes\n",
    "    return(nComponentes)"
   ]
  },
  {
   "cell_type": "code",
   "execution_count": 120,
   "metadata": {},
   "outputs": [
    {
     "name": "stderr",
     "output_type": "stream",
     "text": [
      "100%|██████████| 45/45 [01:58<00:00,  2.64s/it]\n"
     ]
    }
   ],
   "source": [
    "p=10**(-3)\n",
    "n_vect=np.arange(3000,12000,1000)\n",
    "nComponentes=[]\n",
    "for n in tqdm(n_vect):\n",
    "    nComponentes.append(ErdosRenyi_nComponentes(n,p))\n",
    "    percent_used = getattr(psutil.virtual_memory(), 'percent')\n",
    "    if percent_used > 80: print('breaking');break"
   ]
  },
  {
   "cell_type": "code",
   "execution_count": 123,
   "metadata": {},
   "outputs": [
    {
     "data": {
      "image/png": "[encoded data removed]",
      "text/plain": [
       "<Figure size 432x288 with 1 Axes>"
      ]
     },
     "metadata": {
      "needs_background": "light"
     },
     "output_type": "display_data"
    },
    {
     "data": {
      "image/png": "[encoded data removed]",
      "text/plain": [
       "<Figure size 432x288 with 1 Axes>"
      ]
     },
     "metadata": {
      "needs_background": "light"
     },
     "output_type": "display_data"
    }
   ],
   "source": [
    "plt.plot(n_vect,nComponentes,'b.',label='Cantidad de componentes')\n",
    "plt.plot(n_vect,1+n_vect*0,'g-',label='y=1')\n",
    "plt.axvline(x=9120, color='red',label='N*')\n",
    "plt.xlabel('N')\n",
    "plt.ylabel('N componentes')\n",
    "plt.legend()\n",
    "plt.show()\n",
    "\n",
    "plt.plot(n_vect,nComponentes,'b.',label='Cantidad de componentes')\n",
    "plt.plot(n_vect,1+n_vect*0,'g-',label='y=1')\n",
    "plt.axvline(x=9120, color='red',label='N* calculado')\n",
    "plt.xlabel('N')\n",
    "plt.ylabel('# componentes')\n",
    "plt.ylim([0,10])\n",
    "plt.legend()\n",
    "plt.show()"
   ]
  },
  {
   "cell_type": "markdown",
   "metadata": {},
   "source": [
    "Podemos ver que a medida que N crece,la cantidad de componentes separados desciende rapidamente a 1. \n",
    "\n",
    "Vamos a ver qué pasa en la zona mas cercana al N* encontrado y tomando mas muestras."
   ]
  },
  {
   "cell_type": "code",
   "execution_count": 156,
   "metadata": {},
   "outputs": [
    {
     "name": "stderr",
     "output_type": "stream",
     "text": [
      "  1%|          | 4/600 [00:13<32:42,  3.29s/it]\n"
     ]
    },
    {
     "ename": "KeyboardInterrupt",
     "evalue": "",
     "output_type": "error",
     "traceback": [
      "\u001b[0;31m---------------------------------------------------------------------------\u001b[0m",
      "\u001b[0;31mKeyboardInterrupt\u001b[0m                         Traceback (most recent call last)",
      "\u001b[0;32m<ipython-input-156-fc96dc873f66>\u001b[0m in \u001b[0;36m<module>\u001b[0;34m\u001b[0m\n\u001b[1;32m      4\u001b[0m \u001b[0mnComponentes\u001b[0m\u001b[0;34m=\u001b[0m\u001b[0;34m[\u001b[0m\u001b[0;34m]\u001b[0m\u001b[0;34m\u001b[0m\u001b[0;34m\u001b[0m\u001b[0m\n\u001b[1;32m      5\u001b[0m \u001b[0;32mfor\u001b[0m \u001b[0mn\u001b[0m \u001b[0;32min\u001b[0m \u001b[0mtqdm\u001b[0m\u001b[0;34m(\u001b[0m\u001b[0mn_vect\u001b[0m\u001b[0;34m)\u001b[0m\u001b[0;34m:\u001b[0m\u001b[0;34m\u001b[0m\u001b[0;34m\u001b[0m\u001b[0m\n\u001b[0;32m----> 6\u001b[0;31m     \u001b[0mnComponentes\u001b[0m\u001b[0;34m.\u001b[0m\u001b[0mappend\u001b[0m\u001b[0;34m(\u001b[0m\u001b[0mErdosRenyi_nComponentes\u001b[0m\u001b[0;34m(\u001b[0m\u001b[0mn\u001b[0m\u001b[0;34m,\u001b[0m\u001b[0mp\u001b[0m\u001b[0;34m)\u001b[0m\u001b[0;34m)\u001b[0m\u001b[0;34m\u001b[0m\u001b[0;34m\u001b[0m\u001b[0m\n\u001b[0m\u001b[1;32m      7\u001b[0m     \u001b[0mpercent_used\u001b[0m \u001b[0;34m=\u001b[0m \u001b[0mgetattr\u001b[0m\u001b[0;34m(\u001b[0m\u001b[0mpsutil\u001b[0m\u001b[0;34m.\u001b[0m\u001b[0mvirtual_memory\u001b[0m\u001b[0;34m(\u001b[0m\u001b[0;34m)\u001b[0m\u001b[0;34m,\u001b[0m \u001b[0;34m'percent'\u001b[0m\u001b[0;34m)\u001b[0m\u001b[0;34m\u001b[0m\u001b[0;34m\u001b[0m\u001b[0m\n\u001b[1;32m      8\u001b[0m     \u001b[0;32mif\u001b[0m \u001b[0mpercent_used\u001b[0m \u001b[0;34m>\u001b[0m \u001b[0;36m80\u001b[0m\u001b[0;34m:\u001b[0m \u001b[0mprint\u001b[0m\u001b[0;34m(\u001b[0m\u001b[0;34m'breaking'\u001b[0m\u001b[0;34m)\u001b[0m\u001b[0;34m;\u001b[0m\u001b[0;32mbreak\u001b[0m\u001b[0;34m\u001b[0m\u001b[0;34m\u001b[0m\u001b[0m\n",
      "\u001b[0;32m<ipython-input-104-33ae735f0a79>\u001b[0m in \u001b[0;36mErdosRenyi_nComponentes\u001b[0;34m(n, p)\u001b[0m\n\u001b[1;32m      1\u001b[0m \u001b[0;32mdef\u001b[0m \u001b[0mErdosRenyi_nComponentes\u001b[0m\u001b[0;34m(\u001b[0m\u001b[0mn\u001b[0m\u001b[0;34m,\u001b[0m\u001b[0mp\u001b[0m\u001b[0;34m)\u001b[0m\u001b[0;34m:\u001b[0m\u001b[0;34m\u001b[0m\u001b[0;34m\u001b[0m\u001b[0m\n\u001b[1;32m      2\u001b[0m     \u001b[0mred\u001b[0m\u001b[0;34m=\u001b[0m\u001b[0mnx\u001b[0m\u001b[0;34m.\u001b[0m\u001b[0mempty_graph\u001b[0m\u001b[0;34m(\u001b[0m\u001b[0mn\u001b[0m\u001b[0;34m)\u001b[0m\u001b[0;34m\u001b[0m\u001b[0;34m\u001b[0m\u001b[0m\n\u001b[0;32m----> 3\u001b[0;31m     \u001b[0mred\u001b[0m\u001b[0;34m.\u001b[0m\u001b[0madd_edges_from\u001b[0m\u001b[0;34m(\u001b[0m\u001b[0mErdosRenyi_edges\u001b[0m\u001b[0;34m(\u001b[0m\u001b[0mn\u001b[0m\u001b[0;34m,\u001b[0m\u001b[0mp\u001b[0m\u001b[0;34m)\u001b[0m\u001b[0;34m)\u001b[0m\u001b[0;34m\u001b[0m\u001b[0;34m\u001b[0m\u001b[0m\n\u001b[0m\u001b[1;32m      4\u001b[0m     componentes=[red.subgraph(componente) \n\u001b[1;32m      5\u001b[0m                       for componente in sorted(nx.connected_components(red), \n",
      "\u001b[0;32m<ipython-input-50-448cd5027b8f>\u001b[0m in \u001b[0;36mErdosRenyi_edges\u001b[0;34m(n, p)\u001b[0m\n\u001b[1;32m     16\u001b[0m     \u001b[0;32mfor\u001b[0m \u001b[0mi\u001b[0m \u001b[0;32min\u001b[0m \u001b[0mrange\u001b[0m\u001b[0;34m(\u001b[0m\u001b[0mn\u001b[0m\u001b[0;34m)\u001b[0m\u001b[0;34m:\u001b[0m\u001b[0;34m\u001b[0m\u001b[0;34m\u001b[0m\u001b[0m\n\u001b[1;32m     17\u001b[0m         \u001b[0;32mfor\u001b[0m \u001b[0mj\u001b[0m \u001b[0;32min\u001b[0m \u001b[0mrange\u001b[0m\u001b[0;34m(\u001b[0m\u001b[0mi\u001b[0m\u001b[0;34m+\u001b[0m\u001b[0;36m1\u001b[0m\u001b[0;34m,\u001b[0m\u001b[0mn\u001b[0m\u001b[0;34m)\u001b[0m\u001b[0;34m:\u001b[0m\u001b[0;34m\u001b[0m\u001b[0;34m\u001b[0m\u001b[0m\n\u001b[0;32m---> 18\u001b[0;31m             \u001b[0mrandom_sample\u001b[0m \u001b[0;34m=\u001b[0m \u001b[0mrandom\u001b[0m\u001b[0;34m.\u001b[0m\u001b[0mrandom\u001b[0m\u001b[0;34m(\u001b[0m\u001b[0;34m)\u001b[0m\u001b[0;34m\u001b[0m\u001b[0;34m\u001b[0m\u001b[0m\n\u001b[0m\u001b[1;32m     19\u001b[0m             \u001b[0;32mif\u001b[0m \u001b[0mrandom_sample\u001b[0m \u001b[0;34m<=\u001b[0m \u001b[0mp\u001b[0m\u001b[0;34m:\u001b[0m\u001b[0;34m\u001b[0m\u001b[0;34m\u001b[0m\u001b[0m\n\u001b[1;32m     20\u001b[0m                 \u001b[0medges\u001b[0m\u001b[0;34m.\u001b[0m\u001b[0mappend\u001b[0m\u001b[0;34m(\u001b[0m\u001b[0;34m(\u001b[0m\u001b[0mi\u001b[0m\u001b[0;34m,\u001b[0m\u001b[0mj\u001b[0m\u001b[0;34m)\u001b[0m\u001b[0;34m)\u001b[0m\u001b[0;34m\u001b[0m\u001b[0;34m\u001b[0m\u001b[0m\n",
      "\u001b[0;31mKeyboardInterrupt\u001b[0m: "
     ]
    }
   ],
   "source": [
    "p=10**(-3)\n",
    "n_vect=np.arange(8000,20000,1000)\n",
    "n_vect = np.repeat(n_vect,50)\n",
    "nComponentes=[]\n",
    "for n in tqdm(n_vect):\n",
    "    nComponentes.append(ErdosRenyi_nComponentes(n,p))\n",
    "    percent_used = getattr(psutil.virtual_memory(), 'percent')\n",
    "    if percent_used > 80: print('breaking');break"
   ]
  },
  {
   "cell_type": "markdown",
   "metadata": {},
   "source": [
    "Es importante notar que lo que queremos ver es cuantas veces la red llega a tener una unica componente para cada N, con lo cual queremos agrupar por N y promediar la cantidad de veces que fue tuvo una solo componente."
   ]
  },
  {
   "cell_type": "code",
   "execution_count": 153,
   "metadata": {},
   "outputs": [
    {
     "data": {
      "image/png": "[encoded data removed]",
      "text/plain": [
       "<Figure size 432x288 with 1 Axes>"
      ]
     },
     "metadata": {
      "needs_background": "light"
     },
     "output_type": "display_data"
    }
   ],
   "source": [
    "values= pd.DataFrame(n_vect,columns=['n'])\n",
    "values['nComponentes']=nComponentes\n",
    "values['is1']=values['nComponentes']==1\n",
    "result= values.groupby(['n'], as_index=False).agg({'is1':['mean','std']})\n",
    "plt.plot(result['n'],result['is1']['mean'],'b.',label='Fraccion de muestras con 1 componente')\n",
    "plt.axvline(x=9120, color='red',label='N* calculado')\n",
    "plt.xlabel('N')\n",
    "plt.ylabel('Fraccion de muestras con 1 componente')\n",
    "plt.legend()\n",
    "plt.show()"
   ]
  },
  {
   "cell_type": "markdown",
   "metadata": {},
   "source": [
    "De aca vemos que no alcanza con tomar $N^*=9120$ si queremos asegurar que siempre va a haber una unica componente conectada, pero podemos dar una idea de la proporcion de veces que va a haber una unica componente conectada para cada N. Podriamos asegurar por ejemplo que para $N > 10500$ en el 60% de las veces vamos a tener 1 sola componente."
   ]
  },
  {
   "cell_type": "code",
   "execution_count": null,
   "metadata": {},
   "outputs": [],
   "source": []
  }
 ],
 "metadata": {
  "kernelspec": {
   "display_name": "Python 3",
   "language": "python",
   "name": "python3"
  },
  "language_info": {
   "codemirror_mode": {
    "name": "ipython",
    "version": 3
   },
   "file_extension": ".py",
   "mimetype": "text/x-python",
   "name": "python",
   "nbconvert_exporter": "python",
   "pygments_lexer": "ipython3",
   "version": "3.6.9"
  }
 },
 "nbformat": 4,
 "nbformat_minor": 4
}
