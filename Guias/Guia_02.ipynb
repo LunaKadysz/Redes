{
 "cells": [
  {
   "cell_type": "markdown",
   "metadata": {},
   "source": [
    "# Ejercicio 2"
   ]
  },
  {
   "cell_type": "markdown",
   "metadata": {},
   "source": [
    "![ej2](img/Guia_2_ej_2.png)"
   ]
  },
  {
   "cell_type": "markdown",
   "metadata": {},
   "source": [
    "# Ejercicio 3 "
   ]
  },
  {
   "cell_type": "markdown",
   "metadata": {},
   "source": [
    "![ej3](img/Guia_2_ej_3.png)"
   ]
  },
  {
   "cell_type": "markdown",
   "metadata": {},
   "source": [
    "* La matriz de adyacencia de la red (a)\n",
    "* La matriz de co-citas de la red (a)\n",
    "* La matriz de incidencia de la red (b)\n",
    "* La matriz proyección de la red (b) en los vértices oscuros."
   ]
  },
  {
   "cell_type": "markdown",
   "metadata": {},
   "source": [
    "# Ejercicio 4"
   ]
  },
  {
   "cell_type": "markdown",
   "metadata": {},
   "source": [
    "![ej4](img/Guia_2_ej_4.png)"
   ]
  },
  {
   "cell_type": "markdown",
   "metadata": {},
   "source": [
    "# Ejercicio 6"
   ]
  },
  {
   "cell_type": "markdown",
   "metadata": {},
   "source": [
    "Considere el conjunto de todos los caminos entre el nodo-i y el nodo-j en un grafo no dirigido de\n",
    "matriz de adyacencia A. Asigne a cada camino un peso α\n",
    "\n",
    "r donde r es la longitud del camino.\n",
    "\n",
    "*  Muestre que la suma de los pesos de todos los caminos que conectan el nodo-i con el nodo-\n",
    "j está dada por Zij, el elemento ij de la matriz Z = (I − αA)\n",
    "\n",
    "−1\n",
    "*  Qué condición debe satisfacer α para que la suma converja?\n",
    "* Muestre que la longitud del camino geodésico que separa al nodo-i del nodo-j, si existe, es:"
   ]
  },
  {
   "cell_type": "markdown",
   "metadata": {},
   "source": [
    "# Ejercicio 9"
   ]
  },
  {
   "cell_type": "markdown",
   "metadata": {},
   "source": [
    "![ej9](img/Guia_2_ej_9.png)"
   ]
  },
  {
   "cell_type": "markdown",
   "metadata": {},
   "source": [
    "* Cuál es el tamaño k del conjunto de vértices de corte minimal entre los nodos s y t de la red? \n",
    "* Pruebe su resultado encontrando un posible conjunto de corte de tamaño k y un posible conjunto de k caminos independientes entre s y t. Por qué esto demuestra que el conjunto minimal de corte tiene tamaño k?"
   ]
  },
  {
   "cell_type": "code",
   "execution_count": null,
   "metadata": {},
   "outputs": [],
   "source": []
  }
 ],
 "metadata": {
  "kernelspec": {
   "display_name": "Python 3",
   "language": "python",
   "name": "python3"
  },
  "language_info": {
   "codemirror_mode": {
    "name": "ipython",
    "version": 3
   },
   "file_extension": ".py",
   "mimetype": "text/x-python",
   "name": "python",
   "nbconvert_exporter": "python",
   "pygments_lexer": "ipython3",
   "version": "3.6.9"
  }
 },
 "nbformat": 4,
 "nbformat_minor": 2
}
