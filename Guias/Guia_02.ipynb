{
 "cells": [
  {
   "cell_type": "markdown",
   "metadata": {},
   "source": [
    "En este notebook se presenta la resolución de la Guía $2$ de la materia Introducción a Redes Complejas en Biología de Sistemas. Los enunciados se pueden revisar [aquí](https://drive.google.com/file/d/1plf9DaSbcC7t-kDiyCmzbtQv0o2JZjeW/view). "
   ]
  },
  {
   "cell_type": "markdown",
   "metadata": {},
   "source": [
    "# Ejercicio 1\n",
    "\n",
    "\n",
    "### Inciso (a)\n",
    "El vector k cuyos elementos son los grados ki de todos los nodos puede calcularse sumando $A_ij$ sobre j, con lo cual:\n",
    "$$k_i = \\sum_{j}^{n}A_{ij} = A \\cdot \\begin{bmatrix}1\\\\0\\\\0\\\\0\\\\\\end{bmatrix}$$\n",
    "Con lo cual el vector k buscado no es mas que:\n",
    "$$k= A \\cdot  \\mathbf{1}$$\n"
   ]
  },
  {
   "cell_type": "markdown",
   "metadata": {},
   "source": [
    "### Inciso (b)\n",
    "La cantidad de enlaces L se puede calcular como la mitad de la sumatoria sobre ki. Veamos con un ejemplo como el vector k es $Diag\\left (A^2\\right )$\n",
    "Sea A:\n",
    "\n",
    "$$A =\\begin{bmatrix}0&1&1&0\\\\1&0&1&1\\\\1&1&0&1\\\\0&1&1&0\\\\\\end{bmatrix}  $$\n",
    "\n",
    "Entonces $A^2$:\n",
    "\n",
    "$$A \\cdot A = \\begin{bmatrix}0&1&1&0\\\\1&0&1&1\\\\1&1&0&1\\\\0&1&1&0\\\\\\end{bmatrix} \\cdot \\begin{bmatrix}0&1&1&0\\\\1&0&1&1\\\\1&1&0&1\\\\0&1&1&0\\\\\\end{bmatrix} = \\begin{bmatrix}2&1&1&2\\\\1&3&2&1\\\\1&2&3&1\\\\2&1&1&2\\\\\\end{bmatrix} $$\n",
    "\n",
    "$$k = A \\cdot \\mathbf{1} = \\begin{bmatrix}2&3&3&2\\\\\\end{bmatrix} = Diag\\left (A^2\\right )$$\n",
    "\n",
    "Entonces para calcular la cantidad de enlaces podemos hacer  simplemente $Tr\\left (A^2\\right )$ y dividirlo por los dos sentidos posibles:\n",
    "$$\\sum_{i}^{n}\\frac{k_{i}}{2} = \\frac{Tr\\left (A^2\\right )}{2}$$"
   ]
  },
  {
   "cell_type": "markdown",
   "metadata": {},
   "source": [
    "### Inciso (c) \n",
    "Dada la propiedad de la matriz de adyacencia de que $$A^r_{ij}= \\textrm{cantidad de caminos de largo r entre i y j}$$\n",
    "Entonces la diagonal de $A^3$ contiene en la posicion i la cantidad de caminos de largo 3 (triangulos) que van de i a i (triangulos cerrados). Como cada traingulo involucra tres nodos y dos sentidos posibles (red no dirigida), la cantidad de triangulos  T es :\n",
    "\n",
    "$$ T = \\frac{ Tr\\left (A^3\\right )}{6}$$\n"
   ]
  },
  {
   "cell_type": "markdown",
   "metadata": {},
   "source": [
    "### Inciso (d)\n",
    "Queremos sumar los grados de los vecinos de i, para lo cual recordemos que $ A \\cdot \\mathbf{1}$ nos devuelve $k_i$:\n",
    "$$  A \\cdot \\mathbf{1} = \\begin{bmatrix}0&1&1&0\\\\1&0&1&1\\\\1&1&0&1\\\\0&1&1&0\\\\\\end{bmatrix} \\cdot \\begin{bmatrix}1\\\\1\\\\1\\\\1\\\\\\end{bmatrix} = \\begin{bmatrix}2&3&3&2\\\\\\end{bmatrix} $$\n",
    "\n",
    "De ese vector, para $k_{nn}^{i}$ queremos unicamente sumar los grados de los que son vecinos de i. Por ejemplo para i=1 queremos sumar unicamente los grados $k_2$ y $k_3$, que es lo equivalente a hacer:\n",
    "$$  A \\cdot \\mathbf{1} \\cdot \\begin{bmatrix}0\\\\1\\\\1\\\\0\\\\\\end{bmatrix}= \\begin{bmatrix}2&3&3&2\\\\\\end{bmatrix} \\cdot \\begin{bmatrix}0\\\\1\\\\1\\\\0\\\\\\end{bmatrix} = 3+3=6$$\n",
    "\n",
    "Es decir, que multiplicando $ A \\cdot \\mathbf{1}$ por el vector $A_i$ obtenemos $k_{nn}^{i}$, o lo que es lo mismo:\n",
    "$$k_{nn}= \\begin{bmatrix}2&3&3&2\\\\\\end{bmatrix}\\cdot \\begin{bmatrix}0&1&1&0\\\\1&0&1&1\\\\1&1&0&1\\\\0&1&1&0\\\\\\end{bmatrix} =  A \\cdot \\mathbf{1} \\cdot A$$"
   ]
  },
  {
   "cell_type": "markdown",
   "metadata": {},
   "source": [
    "# Ejercicio 2"
   ]
  },
  {
   "cell_type": "markdown",
   "metadata": {},
   "source": [
    "![ej2](img/Guia_2_ej_2.png)"
   ]
  },
  {
   "cell_type": "markdown",
   "metadata": {},
   "source": [
    "### Inciso (a)"
   ]
  },
  {
   "cell_type": "code",
   "execution_count": 35,
   "metadata": {},
   "outputs": [
    {
     "name": "stdout",
     "output_type": "stream",
     "text": [
      "Matriz adyacencia de la red a: \n",
      " [[0 1 1 1 0 1]\n",
      " [1 0 1 1 0 0]\n",
      " [1 1 0 0 0 1]\n",
      " [1 1 0 0 0 0]\n",
      " [0 0 0 0 0 0]\n",
      " [1 0 1 0 0 0]]\n",
      "Matriz permutada de la red a: \n",
      " [[0. 1. 1. 1. 1. 0.]\n",
      " [1. 0. 1. 1. 0. 0.]\n",
      " [1. 1. 0. 0. 1. 0.]\n",
      " [1. 1. 0. 0. 0. 0.]\n",
      " [1. 0. 1. 0. 0. 0.]\n",
      " [0. 0. 0. 0. 0. 0.]] \n",
      "\n",
      "Matriz adyacencia de la red b: \n",
      " [[0 0 1 1 0 1]\n",
      " [1 0 1 0 0 0]\n",
      " [0 1 0 0 0 1]\n",
      " [0 1 0 0 0 0]\n",
      " [0 0 0 0 0 0]\n",
      " [0 0 0 0 0 0]]\n",
      "Matriz permutada de la red b: \n",
      " [[0. 0. 1. 1. 1. 0.]\n",
      " [1. 0. 1. 0. 0. 0.]\n",
      " [0. 1. 0. 0. 1. 0.]\n",
      " [0. 1. 0. 0. 0. 0.]\n",
      " [0. 0. 0. 0. 0. 0.]\n",
      " [0. 0. 0. 0. 0. 0.]]\n"
     ]
    }
   ],
   "source": [
    "import numpy as np\n",
    "import networkx as nx\n",
    "import matplotlib.pyplot as plt\n",
    "\n",
    "#matriz de adyacencia (a)\n",
    "ady_a = np.matrix([\n",
    "         [0,1,1,1,0,1],\n",
    "         [1,0,1,1,0,0],\n",
    "         [1,1,0,0,0,1],\n",
    "         [1,1,0,0,0,0],\n",
    "         [0,0,0,0,0,0],\n",
    "         [1,0,1,0,0,0]])\n",
    "\n",
    "#matriz de adyacencia (b)\n",
    "ady_b = np.matrix([\n",
    "                     [0,0,1,1,0,1],\n",
    "                     [1,0,1,0,0,0],\n",
    "                     [0,1,0,0,0,1],\n",
    "                     [0,1,0,0,0,0],\n",
    "                     [0,0,0,0,0,0],\n",
    "                     [0,0,0,0,0,0]])\n",
    "\n",
    "#creo los grafos a partir de las matrices de adyacencia\n",
    "Graf_a = nx.from_numpy_matrix(ady_a)\n",
    "Graf_b = nx.from_numpy_matrix(ady_b,create_using=nx.MultiDiGraph())\n",
    "\n",
    "#mapeo las permutaciones, considerando que networkx empieza desde el cero\n",
    "mapping = {4:5, 5:4} \n",
    "Graf_a_permutada = nx.relabel_nodes(Graf_a, mapping)\n",
    "Graf_b_permutada = nx.relabel_nodes(Graf_b, mapping)\n",
    "\n",
    "#matriz de adyacencia permutada (a)\n",
    "ady_a_permutada = nx.to_numpy_matrix(Graf_a_permutada, nodelist = sorted(Graf_a_permutada))\n",
    "print(f'Matriz adyacencia de la red a: \\n {ady_a}')\n",
    "print(f'Matriz permutada de la red a: \\n {ady_a_permutada} \\n')\n",
    "\n",
    "#matriz de adyacencia permutada (a)\n",
    "ady_b_permutada = nx.to_numpy_matrix(Graf_b_permutada, nodelist = sorted(Graf_b_permutada))\n",
    "print(f'Matriz adyacencia de la red b: \\n {ady_b}')\n",
    "print(f'Matriz permutada de la red b: \\n {ady_b_permutada}')"
   ]
  },
  {
   "cell_type": "markdown",
   "metadata": {},
   "source": [
    "Al intercambiar las etiquetas de los nodos se intercambian filas por columnas de los nodos reetiquetados. \n"
   ]
  },
  {
   "cell_type": "markdown",
   "metadata": {},
   "source": [
    "### Inciso (b)"
   ]
  },
  {
   "cell_type": "code",
   "execution_count": 4,
   "metadata": {},
   "outputs": [
    {
     "name": "stdout",
     "output_type": "stream",
     "text": [
      "El coeficiente de Clustering medio es 0.64\n"
     ]
    }
   ],
   "source": [
    "#busco el coeficiente de clustering medio\n",
    "clust_medio_a = nx.average_clustering(Graf_a)\n",
    "print(f'El coeficiente de Clustering medio es {round(clust_medio_a,2)}')"
   ]
  },
  {
   "cell_type": "markdown",
   "metadata": {},
   "source": [
    "### Inciso (c)"
   ]
  },
  {
   "cell_type": "code",
   "execution_count": 36,
   "metadata": {},
   "outputs": [
    {
     "name": "stdout",
     "output_type": "stream",
     "text": [
      "Los caminos posibles son 2: \n",
      " [[0, 1, 2], [0, 5, 2]] \n"
     ]
    }
   ],
   "source": [
    "#busco los posibles caminos simples entre el nodo 1 y 3 (0 y 2 para la nomeclatura que utilizo)\n",
    "\n",
    "caminos = []\n",
    "for camino in nx.all_simple_paths(Graf_a, source=0, target=2):\n",
    "    if (len(camino) == 3) :\n",
    "        caminos.append(camino)\n",
    "        \n",
    "print(f'Los caminos posibles son {len(caminos)}: \\n {caminos} ' )"
   ]
  },
  {
   "cell_type": "markdown",
   "metadata": {},
   "source": [
    "### Inciso (d)"
   ]
  },
  {
   "cell_type": "markdown",
   "metadata": {},
   "source": [
    "Networkx no tiene un algoritmo que cuente los ciclos en redes no dirigidas. El algoritmo que tiene es uno que te genera las bases de los ciclos. Asi que sacamos la idea del algoritmo de libro de Chai Lee$^{[1]}$ donde plantea el uso de combinaciones lineales desusodichas bases.\n",
    "\n",
    "[1]ALGORITHMIC APPROACHES TO CIRCUIT ENUMERATION PROBLEMS AND APPLICATIONS by BOON CHAI LEE (1978) page 52 http://dspace.mit.edu/bitstream/handle/1721.1/68106/FTL_R_1982_07.pdf"
   ]
  },
  {
   "cell_type": "code",
   "execution_count": 38,
   "metadata": {},
   "outputs": [
    {
     "data": {
      "text/plain": [
       "[(0, 1, 'forward'), (1, 2, 'forward'), (2, 0, 'forward')]"
      ]
     },
     "execution_count": 38,
     "metadata": {},
     "output_type": "execute_result"
    }
   ],
   "source": [
    "list(nx.find_cycle(Graf_a, orientation='ignore'))"
   ]
  },
  {
   "cell_type": "code",
   "execution_count": 43,
   "metadata": {},
   "outputs": [
    {
     "name": "stdout",
     "output_type": "stream",
     "text": [
      "Bases de los ciclos: [[2, 5, 0], [1, 3, 0], [1, 2, 0]]\n",
      "Ciclos: [[2, 5, 0, 1], [1, 3, 0, 2]]\n"
     ]
    }
   ],
   "source": [
    "import itertools\n",
    "\n",
    "#busco los ciclos de longitud 4 de la red a\n",
    "ciclos_a =[]\n",
    "bases_ciclos_a = nx.cycle_basis(Graf_a)\n",
    "print(f'Bases de los ciclos: {bases_ciclos_a}')\n",
    "\n",
    "#me fijo si las combinaciones lineales de las bases pertenecen al grafo:   \n",
    "for i in range(1,len(bases_ciclos_a) + 1):\n",
    "    for n in itertools.combinations(bases_ciclos_a, i):\n",
    "        ciclo = list(dict.fromkeys(np.concatenate(n))) #me deja la lista de nodos limpia sin repeticiones\n",
    "       \n",
    "        #chequeo que tenga longitud 4:\n",
    "        if len(ciclo) == 4:\n",
    "            \n",
    "            #chequeo si la combinacion pertenee al conjunto de caminos: \n",
    "            #esto lo que hace era chequear si todos los nodos del ciclo estan enlazados pero no es necesariamente cierto\n",
    "            if all(Graf_a.has_edge(enlace[0],enlace[1]) == False for enlace in list(itertools.combinations(ciclo, 2))) == False:\n",
    "                ciclos_a.append(ciclo)\n",
    "            \n",
    "            \n",
    "            #esto es falso porque no todas las combinaciones estan unidas si es un ciclo. lo que hice antes fue \n",
    "            #fijarme si para todas las permutaciones del string de un ciclo habia un camino posible. pero esto no es\n",
    "            # necesariemente cierto porque tal vez ese camino posible no es cerrado\n",
    "\n",
    "\n",
    "\n",
    "print(f'Ciclos: {ciclos_a}')"
   ]
  },
  {
   "cell_type": "code",
   "execution_count": 44,
   "metadata": {},
   "outputs": [
    {
     "name": "stdout",
     "output_type": "stream",
     "text": [
      "La cantidad de ciclos de longitud 4 de la red a es 2\n",
      "La cantidad de ciclos de longitud 4 de la red b es 0\n"
     ]
    }
   ],
   "source": [
    "#para las redes dirigidas (en nuestrp caso, b) networkx tiene un algoritmo armado\n",
    "ciclos_b = []\n",
    "for ciclo in nx.simple_cycles(Graf_b):\n",
    "    if len(ciclo) == 4 :\n",
    "        ciclos_b.append(ciclo)\n",
    "\n",
    "print(f'La cantidad de ciclos de longitud 4 de la red a es {len(ciclos_a)}')\n",
    "print(f'La cantidad de ciclos de longitud 4 de la red b es {len(ciclos_b)}')"
   ]
  },
  {
   "cell_type": "markdown",
   "metadata": {},
   "source": [
    "# Ejercicio 3 "
   ]
  },
  {
   "cell_type": "markdown",
   "metadata": {},
   "source": [
    "![ej3](img/Guia_2_ej_3.png)"
   ]
  },
  {
   "cell_type": "markdown",
   "metadata": {},
   "source": [
    "Para pasar de matrices calculadas en python a latex y verlas mejor pasamos arrays a latex con la siguiente función."
   ]
  },
  {
   "cell_type": "code",
   "execution_count": 1,
   "metadata": {},
   "outputs": [],
   "source": [
    "#crea matriz de latex a partir de matrices de numpy\n",
    "import array_to_latex as a2l\n",
    "to_tex = lambda A : a2l.to_ltx(A, frmt = '{:6.0f}', arraytype = 'array', mathform=True)"
   ]
  },
  {
   "cell_type": "code",
   "execution_count": 6,
   "metadata": {},
   "outputs": [],
   "source": [
    "#* La matriz de adyacencia de la red (a)\n",
    "import numpy as np\n",
    "A_ady = np.matrix([[0 , 1 , 0 , 0 , 1], \n",
    "    [0 , 0 , 1 , 0 , 0],\n",
    "    [1 , 0 , 0 , 0 , 1],\n",
    "    [0 , 1 , 1 , 0 , 0],\n",
    "    [0 , 0 , 0 , 0 , 0]])"
   ]
  },
  {
   "cell_type": "markdown",
   "metadata": {},
   "source": [
    "Se define coeficiente de cocitación entre nodos $i$ y $j$ como el número de nodos que tienen enlaces que apuntan a nodos $i$ y $j$ al mismo tiempo. Se puede escribir como $C = A A^t$"
   ]
  },
  {
   "cell_type": "code",
   "execution_count": 7,
   "metadata": {},
   "outputs": [],
   "source": [
    "#La matriz de co-citas de la red (a)\n",
    "A_ady_t = np.transpose(A_ady)\n",
    "A_co = A_ady * A_ady_t"
   ]
  },
  {
   "cell_type": "markdown",
   "metadata": {},
   "source": [
    "La matriz de incidencia de un grafo cumple con los siguientes requisitos:\n",
    "* Las columnas de la matriz representan las aristas del grafo.\n",
    "* Las filas representan a los distintos nodos.\n",
    "* Por cada nodo unido por una arista, ponemos un uno (1) en el lugar correspondiente, y llenamos el resto de las ubicaciones con ceros (0)."
   ]
  },
  {
   "cell_type": "code",
   "execution_count": 8,
   "metadata": {},
   "outputs": [],
   "source": [
    "#La matriz de incidencia de la red (b)\n",
    "B_ind = np.matrix(\n",
    "    # 1 2 3 4 5 \n",
    "   # 1 \n",
    "    [[1 , 0 , 1 , 0 , 0], \n",
    "    # 2\n",
    "     [0 , 1 , 1 , 0 , 0],\n",
    "    #3\n",
    "     [0 , 0 , 0 , 1 , 0],\n",
    "    #4\n",
    "     [0 , 1 , 1 , 1 , 1]])"
   ]
  },
  {
   "cell_type": "markdown",
   "metadata": {},
   "source": [
    "Una red bipartita se puede proyectar para cualquiera de sus dos conjuntos. Según el criterio con el que se defina la matriz de incidencia, la proyección será $ I I^t$ o $I^t I$."
   ]
  },
  {
   "cell_type": "code",
   "execution_count": 9,
   "metadata": {},
   "outputs": [],
   "source": [
    "#La matriz proyección de la red (b) en los vértices oscuros.\n",
    "B_ind_t = np.transpose(B_ind)\n",
    "B_proy_oscura = B_ind_t * B_ind"
   ]
  },
  {
   "cell_type": "markdown",
   "metadata": {},
   "source": [
    "* La matriz de adyacencia de la red (a):\n",
    "\n",
    "\n",
    "$$ A_{ady} = \n",
    "\\begin{array}{c}\n",
    "\\begin{matrix}\n",
    "1 & 2 & 3 & 4 & 5\n",
    "\\end{matrix} \\\\\n",
    "\\left(\\ \\begin{matrix}\n",
    "0 & 1 & 0 & 0 & 1 \\\\\n",
    "0 & 0 & 1 & 0 & 0\\\\\n",
    "1 & 0 & 0 & 0 & 1\\\\\n",
    "0 & 1 & 1 & 0 & 0\\\\\n",
    "0 & 0 & 0 & 0 & 0\n",
    "\\end{matrix}\\ \\right)\n",
    "\\end{array}\n",
    "$$\n",
    "\n",
    "* La matriz de co-citas de la red (a):\n",
    "\n",
    "$$A_{co} = \n",
    "\\begin{array}{c}\n",
    "\\begin{matrix}\n",
    "1 & 2 & 3 & 4 & 5\n",
    "\\end{matrix} \\\\\n",
    "\\left(\\ \\begin{matrix}\n",
    "       2  &       0  &       1  &       1  &       0 \\\\\n",
    "       0  &       1  &       0  &       1  &       0 \\\\\n",
    "       1  &       0  &       2  &       0  &       0 \\\\\n",
    "       1  &       1  &       0  &       2  &       0 \\\\\n",
    "       0  &       0  &       0  &       0  &       0 \n",
    "\\end{matrix}\\ \\right)\n",
    "\\end{array}\n",
    "$$\n",
    "\n",
    "La matriz de incidencia de la red (b): \n",
    "\n",
    "$$B_{ind} = \n",
    "\\begin{array}{c}\n",
    "\\begin{matrix}\n",
    "1 & 2 & 3 & 4 & 5\n",
    "\\end{matrix} \\\\\n",
    "\\left(\\ \\begin{matrix}\n",
    "       1  &       0  &       1  &       0  &       0 \\\\\n",
    "       0  &       1  &       1  &       0  &       0 \\\\\n",
    "       0  &       0  &       0  &       1  &       0 \\\\\n",
    "       0  &       1  &       1  &       1  &       1 \n",
    "\\end{matrix}\\ \\right)\n",
    "\\end{array}\n",
    "$$\n",
    "\n",
    "La matriz de proyección en los vértices oscuros de la red (b) es:\n",
    "\n",
    "$$B_{proy} =  \n",
    "\\begin{array}{c}\n",
    "\\begin{matrix}\n",
    "1 & 2 & 3 & 4 & 5\n",
    "\\end{matrix} \\\\\n",
    "\\left(\\ \\begin{matrix}\n",
    "       1  &       0  &       1  &       0  &       0 \\\\\n",
    "       0  &       1  &       1  &       0  &       0 \\\\\n",
    "       0  &       0  &       0  &       1  &       0 \\\\\n",
    "       0  &       1  &       1  &       1  &       1 \n",
    "\\end{matrix}\\ \\right)\n",
    "\\end{array}\n",
    "$$\n"
   ]
  },
  {
   "cell_type": "markdown",
   "metadata": {},
   "source": [
    "# Ejercicio 4"
   ]
  },
  {
   "cell_type": "markdown",
   "metadata": {},
   "source": [
    "![ej4](img/Guia_2_ej_4.png)"
   ]
  },
  {
   "cell_type": "markdown",
   "metadata": {},
   "source": [
    "### Inciso (a)\n",
    "La matriz de adyacencia que corresponde a la red es la siguiente:\n",
    "$$A = \n",
    "\\begin{array}{c}\n",
    "\\begin{array}\n",
    "\\\\1 & 2 & 3 & 4 & 5 & 6 & 7 & 8 & 9 & 10 & 11\\\\\n",
    "\\end{array} \\\\\n",
    "\\left(\\ \\begin{array}{@{}cccccc|ccccc@{}}\n",
    "0&\t0&\t0&\t0&\t0&\t0&\t1&\t0&\t0&\t0&\t0\\\\\n",
    "0&\t0&\t0&\t0&\t0&\t0&\t0&\t0&\t1&\t0&\t0\\\\\n",
    "0&\t0&\t0&\t0&\t0&\t0&\t1&\t1&\t1&\t0&\t0\\\\\n",
    "0&\t0&\t0&\t0&\t0&\t0&\t0&\t0&\t1&\t1&\t0\\\\\n",
    "0&\t0&\t0&\t0&\t0&\t0&\t0&\t0&\t1&\t0&\t1\\\\\n",
    "0&\t0&\t0&\t0&\t0&\t0&\t0&\t0&\t0&\t0&\t1\\\\\\hline\n",
    "1&\t0&\t1&\t0&\t0&\t0&\t0&\t0&\t0&\t0&\t0\\\\\n",
    "0&\t0&\t1&\t0&\t0&\t0&\t0&\t0&\t0&\t0&\t0\\\\\n",
    "0&\t1&\t1&\t1&\t1&\t0&\t0&\t0&\t0&\t0&\t0\\\\\n",
    "0&\t0&\t0&\t1&\t0&\t0&\t0&\t0&\t0&\t0&\t0\\\\\n",
    "0&\t0&\t0&\t0&\t1&\t1&\t0&\t0&\t0&\t0&\t0\\\\\n",
    "\\end{array}\\ \\right)\n",
    "\\end{array}\n",
    "$$\n",
    "\n",
    "Esta separada en bloques dado hay dos grupos marcados que no interactuan entre si: {1,2,3,4,5,6} y {7,8,9,10,11}"
   ]
  },
  {
   "cell_type": "markdown",
   "metadata": {},
   "source": [
    "### Inciso (b)\n",
    "Las dos posibles proyecciones de esa red se dan segun a que grupo de nodos consideramos como afiliados y a cual como afiliaciones.\n",
    "\n",
    "#### Opción 1: \n",
    "Afiliados: {1-6} Afiliaciones: {7-11}\n",
    "$$ \\begin{array}{c}\n",
    "\\begin{array}\\\\\n",
    "1 & 2 & 3 & 4 & 5 & 6\\\\\n",
    "\\end{array} \\\\\n",
    "\\left(\\ \\begin{array}\\\\\n",
    "0&\t0&\t1&\t0&\t0&\t0\\\\\n",
    "0&\t0&\t1&\t1&\t1&\t0\\\\\n",
    "1&\t1&\t0&\t1&\t1&\t0\\\\\n",
    "0&\t1&\t1&\t0&\t1&\t0\\\\\n",
    "0&\t1&\t1&\t1&\t0&\t1\\\\\n",
    "0&\t0&\t0&\t0&\t1&\t0\\\\\n",
    "\\end{array}\\ \\right)\n",
    "\\end{array}$$\n",
    "#### Opción 2: \n",
    "Afiliados: {7-11} Afiliaciones: {1-6}\n",
    "$$ \\begin{array}{c}\n",
    "\\begin{array}\\\\\n",
    "7&8&9&10&11\\\\\n",
    "\\end{array} \\\\\n",
    "\\left(\\ \\begin{array}\\\\\n",
    "0&\t1&\t1&\t0&\t0\\\\\n",
    "1&\t0&\t1&\t0&\t0\\\\\n",
    "1&\t1&\t0&\t1&\t1\\\\\n",
    "0&\t0&\t1&\t0&\t0\\\\\n",
    "0&\t0&\t1&\t0&\t0\\\\\n",
    "\\end{array}\\ \\right)\n",
    "\\end{array}$$"
   ]
  },
  {
   "cell_type": "markdown",
   "metadata": {},
   "source": [
    "### Inciso (c)\n",
    "El grado medio para cada tipo de nodo es el siguiente:"
   ]
  },
  {
   "cell_type": "code",
   "execution_count": 28,
   "metadata": {},
   "outputs": [
    {
     "name": "stdout",
     "output_type": "stream",
     "text": [
      "k=[1 1 3 2 2 1 2 1 4 1 2]\n"
     ]
    }
   ],
   "source": [
    "import numpy as np\n",
    "A= np.matrix([\n",
    "[0, 0, 0, 0, 0, 0, 1, 0, 0, 0, 0],\n",
    "[0, 0, 0, 0, 0, 0, 0, 0, 1, 0, 0],\n",
    "[0, 0, 0, 0, 0, 0, 1, 1, 1, 0, 0],\n",
    "[0, 0, 0, 0, 0, 0, 0, 0, 1, 1, 0],\n",
    "[0, 0, 0, 0, 0, 0, 0, 0, 1, 0, 1],\n",
    "[0, 0, 0, 0, 0, 0, 0, 0, 0, 0, 1],\n",
    "[1, 0, 1, 0, 0, 0, 0, 0, 0, 0, 0],\n",
    "[0, 0, 1, 0, 0, 0, 0, 0, 0, 0, 0],\n",
    "[0, 1, 1, 1, 1, 0, 0, 0, 0, 0, 0],\n",
    "[0, 0, 0, 1, 0, 0, 0, 0, 0, 0, 0],\n",
    "[0, 0, 0, 0, 1, 1, 0, 0, 0, 0, 0]]\n",
    ")\n",
    "\n",
    "k=np.diagonal(A*A)\n",
    "print(f'k={k}')"
   ]
  },
  {
   "cell_type": "code",
   "execution_count": 27,
   "metadata": {},
   "outputs": [
    {
     "name": "stdout",
     "output_type": "stream",
     "text": [
      "El grado medio de los nodos 1-6 es 1.6666666666666667\n",
      "El grado medio de los nodos 7-11 es 2.0\n"
     ]
    }
   ],
   "source": [
    "print(f'El grado medio de los nodos 1-6 es {np.mean(k[:6])}')\n",
    "print(f'El grado medio de los nodos 7-11 es {np.mean(k[6:])}')"
   ]
  },
  {
   "cell_type": "markdown",
   "metadata": {},
   "source": [
    "### Inciso (d)\n",
    "El grado medio en las dos redes proyectadas es la siguiente:"
   ]
  },
  {
   "cell_type": "code",
   "execution_count": 34,
   "metadata": {},
   "outputs": [
    {
     "name": "stdout",
     "output_type": "stream",
     "text": [
      "k1=[1 3 4 3 4 1]\n",
      "k2=[2 2 4 1 1]\n",
      "Afiliados: 1-6, Afiliaciones: 7-11 => <k>=2.6666666666666665\n",
      "Afiliados: 7-11, Afiliaciones: 1-6 => <k>=2.0\n"
     ]
    }
   ],
   "source": [
    "A_proyeccion1=np.matrix([\n",
    "[0, 0, 1, 0, 0, 0],\n",
    "[0, 0, 1, 1, 1, 0],\n",
    "[1, 1, 0, 1, 1, 0],\n",
    "[0, 1, 1, 0, 1, 0],\n",
    "[0, 1, 1, 1, 0, 1],\n",
    "[0, 0, 0, 0, 1, 0]])\n",
    "A_proyeccion2=np.matrix([\n",
    "[0, 1, 1, 0, 0],\n",
    "[1, 0, 1, 0, 0],\n",
    "[1, 1, 0, 1, 1],\n",
    "[0, 0, 1, 0, 0],\n",
    "[0, 0, 1, 0, 0]])\n",
    "\n",
    "k_1=np.diagonal(A_proyeccion1*A_proyeccion1)\n",
    "k_2=np.diagonal(A_proyeccion2*A_proyeccion2)\n",
    "print(f'k1={k_1}')\n",
    "print(f'k2={k_2}')\n",
    "print(f'Afiliados: 1-6, Afiliaciones: 7-11 => <k>={np.mean(k_1)}')\n",
    "print(f'Afiliados: 7-11, Afiliaciones: 1-6 => <k>={np.mean(k_2)}')"
   ]
  },
  {
   "cell_type": "markdown",
   "metadata": {},
   "source": [
    "# Ejercicio 5 "
   ]
  },
  {
   "cell_type": "markdown",
   "metadata": {},
   "source": [
    "### Inciso (a)"
   ]
  },
  {
   "cell_type": "markdown",
   "metadata": {},
   "source": [
    "El número de enlaces máximo será $N_1 * N_2$. Ya que todos los nodos $N_1$ se pueden enlazar con todos los nodos $N_2$, pero no entre sí debido a la naturaleza de la red."
   ]
  },
  {
   "cell_type": "code",
   "execution_count": 60,
   "metadata": {},
   "outputs": [
    {
     "data": {
      "text/plain": [
       "200"
      ]
     },
     "execution_count": 60,
     "metadata": {},
     "output_type": "execute_result"
    }
   ],
   "source": [
    "#Lmax es la maxima cantidad de enlaces que puede tener una red bipartita\n",
    "\n",
    "def Lmax_bipartita(N1,N2):\n",
    "    N2 = N2 + N1\n",
    "    numero_enlaces = 0\n",
    "    enlaces = []\n",
    "    for n1 in range(N1):\n",
    "        for n2 in range(N1,N2):\n",
    "            enlaces.append((n1,n2))\n",
    "            numero_enlaces += 1\n",
    "    return numero_enlaces, enlaces\n",
    "\n",
    "#ejemplo:\n",
    "Lmax_bipartita(10, 20)[0]"
   ]
  },
  {
   "cell_type": "markdown",
   "metadata": {},
   "source": [
    "### Inciso (b)"
   ]
  },
  {
   "cell_type": "markdown",
   "metadata": {},
   "source": [
    "En una red de $N$ nodos monopartita puedo realizar $\\frac{N (N-1)}{2}$ enlances considerando que un nodo no puede enlazarse consigo mismo y que estamos contando los enlaces dos veces (enlace $3-4$ es el mismo que $4-3$ en una red no dirigida).\n",
    "\n",
    "Entonces tenemos $\\frac{(N_1 + N_2) (N_1 + N_2 - 1)}{2} - N_1 N_2$"
   ]
  },
  {
   "cell_type": "code",
   "execution_count": 62,
   "metadata": {},
   "outputs": [
    {
     "data": {
      "text/plain": [
       "235"
      ]
     },
     "execution_count": 62,
     "metadata": {},
     "output_type": "execute_result"
    }
   ],
   "source": [
    "def Lmax_monopartita(N1,N2):\n",
    "    N = N1 + N2\n",
    "    enlaces = list(itertools.combinations(np.arange(N), 2))\n",
    "    numero_enlaces = len(enlaces)\n",
    "    return numero_enlaces, enlaces\n",
    "                         \n",
    "\n",
    "def diferencia_enlaces(N1,N2):\n",
    "    Lmax_monopartita(N1,N2)[0]\n",
    "    diferencia =  Lmax_monopartita(N1,N2)[0] - Lmax_bipartita(N1,N2)[0]\n",
    "    return diferencia\n",
    "\n",
    "#Ejemplo numerico\n",
    "diferencia_enlaces(10, 20)"
   ]
  },
  {
   "cell_type": "markdown",
   "metadata": {},
   "source": [
    "### Inciso (c)"
   ]
  },
  {
   "cell_type": "code",
   "execution_count": 63,
   "metadata": {},
   "outputs": [
    {
     "data": {
      "text/plain": [
       "<matplotlib.legend.Legend at 0x7f8649d20ba8>"
      ]
     },
     "execution_count": 63,
     "metadata": {},
     "output_type": "execute_result"
    },
    {
     "data": {
      "image/png": "[encoded data removed]",
      "text/plain": [
       "<Figure size 432x288 with 1 Axes>"
      ]
     },
     "metadata": {
      "needs_background": "light"
     },
     "output_type": "display_data"
    }
   ],
   "source": [
    "from networkx.algorithms import bipartite\n",
    "\n",
    "i=4\n",
    "densidades = []\n",
    "lista_N2 = []\n",
    "while i<= 1000:\n",
    "    Red_i = nx.Graph()\n",
    "    Red_i.add_edges_from(Lmax_bipartita(4,i)[1])\n",
    "    densidad = nx.density(Red_i)\n",
    "    \n",
    "    densidades.append(densidad)\n",
    "    lista_N2.append(i)\n",
    "    i+=10\n",
    "\n",
    "\n",
    "    \n",
    "plt.figure()\n",
    "plt.scatter(lista_N2,densidades,label=\"Densidad/N2 con N1=4\")\n",
    "plt.xlabel(\"N2\")\n",
    "plt.ylabel(\"Densidad\")\n",
    "plt.legend()"
   ]
  },
  {
   "cell_type": "markdown",
   "metadata": {},
   "source": [
    "Como se puede observar en el gráfico, la densidad decrece exponencialmente a medida que N2 crece con respecto a N1.\n",
    "Este resultado tiene sentido ya que la matriz de adyacencia de una red bipartita tiene la forma $\\Re^{(n+m) \\times (n+m)}$ donde $\\Re^{(n) \\times (n)}$ y $\\Re^{(m) \\times (m)}$ son matrices de ceros acomodadas segun el Ejercicio 4 (a)."
   ]
  },
  {
   "cell_type": "markdown",
   "metadata": {},
   "source": [
    "### Inciso (d)"
   ]
  },
  {
   "cell_type": "code",
   "execution_count": 68,
   "metadata": {},
   "outputs": [
    {
     "data": {
      "image/png": "[encoded data removed]",
      "text/plain": [
       "<Figure size 432x288 with 1 Axes>"
      ]
     },
     "metadata": {
      "needs_background": "light"
     },
     "output_type": "display_data"
    }
   ],
   "source": [
    "import random\n",
    "import collections\n",
    "\n",
    "i=4\n",
    "k1_medio = []\n",
    "k2_medio = []\n",
    "N1_list = []\n",
    "N2_list = []\n",
    "while i<= 1000:\n",
    "    #genero N1 y N2 random entre 1 y 100\n",
    "    N1 = random.randint(1,10)\n",
    "    N2 = random.randint(1,10)\n",
    "    #print(N1,N2)\n",
    "    \n",
    "    #creo la red bipartita\n",
    "    Red_i = nx.Graph()\n",
    "\n",
    "    Red_i.add_nodes_from(np.arange(N1), bipartite=0)\n",
    "    Red_i.add_nodes_from(np.arange(N1,N1+N2), bipartite=1)\n",
    "    Red_i.add_edges_from(Lmax_bipartita(N1,N2)[1])\n",
    "    \n",
    "    n1, n2 = bipartite.sets(Red_i)\n",
    "    k1,k2 = bipartite.degrees(Red_i,n2)\n",
    "    \n",
    "    #busco la media de los grados de cada set\n",
    "    k1_m = np.mean(np.array([i[1] for i in k1]))\n",
    "    k2_m = np.mean(np.array([i[1] for i in k2]))\n",
    "\n",
    "    k1_medio.append(k1_m)\n",
    "    k2_medio.append(k2_m)\n",
    "    N1_list.append(N1)\n",
    "    N2_list.append(N2)\n",
    "    \n",
    "    \n",
    "    #print(k1)\n",
    "    #print(k2)\n",
    "    i+=10 \n",
    "    \n",
    "x = np.array(k1_medio)*np.array(N1_list)\n",
    "y = np.array(k2_medio)*np.array(N2_list)\n",
    "plt.figure()\n",
    "plt.scatter(x,y)\n",
    "plt.xlabel(\"<k1> N1\")\n",
    "plt.ylabel(\"<k2> N2\")\n",
    "plt.show()"
   ]
  },
  {
   "cell_type": "markdown",
   "metadata": {},
   "source": [
    "Esto ocurre ya que en una red bipartita la cantidad de enlaces maximo va a estar dada por el limite que impone el conjunto opuesto: la cantidad de enlaces por nodo va a ser exactamente el numero de nodos del otro conjunto.\n",
    "Entonces se va a cumplir que $\\langle k_{1}\\rangle N_{1}= \\langle k_{2} \\rangle N_{2}$"
   ]
  },
  {
   "cell_type": "markdown",
   "metadata": {},
   "source": [
    "# Ejercicio 6"
   ]
  },
  {
   "cell_type": "markdown",
   "metadata": {},
   "source": [
    "Consideramos el conjunto de todos los caminos entre el nodo-i y el nodo-j en un grafo no dirigido de\n",
    "matriz de adyacencia A. Los caminos de largo r se representan por la matriz $A^{r}$. Queremos ver que la suma de los pesos de todos los caminos que conectan el nodo-i con el nodo-j también está dada por $Z_{ij}$, el elemento $ij$ de la matriz $Z = (I − \\alpha A)^{−1}$ *(1)*. \n",
    "\n",
    "#### a)\n",
    "Tenemos que $A^{r}$ son los caminos de largo r. La suma de todos los caminos la definimos como $Z = \\sum_{r=0}^{\\infty} \\alpha^{r} A^{r}$ y queremos demostrar la igualdad con *(1)*. \n",
    "Multiplicamos de ambos lados por $(I − \\alpha A)$ con lo cual nos queda:\n",
    "\n",
    "$Z(I − \\alpha A) = \\sum_{r=0}^{\\infty} \\alpha^{r} A^{r} (I − \\alpha A) = I\n",
    "$\n",
    "\n",
    "Distribuimos \n",
    "\n",
    "$\\sum_{r=0}^{\\infty} \\alpha^{r} A^{r}  − \\sum_{r=0}^{\\infty} \\alpha^{r+1} A^{r+1} = I$\n",
    "\n",
    "Arreglamos los límites de la sumatoria para tener iguales exponentes:\n",
    "\n",
    "$\\sum_{r=0}^{\\infty} \\alpha^{r} A^{r}  − \\sum_{r=1}^{\\infty} \\alpha^{r+1} A^{r+1} = I$\n",
    "\n",
    "Eso nos deja sólo el término con $r = 0$:\n",
    "\n",
    "$\\alpha^{0} A^{0} = I$\n",
    "\n",
    "$1 I = I$\n",
    "\n",
    "Con eso probamos la igualdad de ambas representaciones de Z. \n",
    "\n",
    "#### b)\n",
    "La sumatoria es infinita, podría diverger. Es una suma geométrica por lo cual $\\left| \\alpha \\right| \\left|\\left|A \\right|\\right| < 1$. Por ende necesita una restricción al valor de $\\alpha$ para que converja. Mientras que $\\alpha < \\frac{1}{\\left|\\left|A \\right|\\right|}$ los caminos más largos tendran menos peso  que los más cortos. Esto se debe a que un número menor a uno elevado a números positivos va dando más chico para cada término de la sumatoria. Tiene sentido ya que estamos diciendo que los vértices que están más conectados lo hacen por caminos más cortos.\n",
    "\n",
    "#### c)\n",
    "\n",
    "Como $A_{ij}^{r}$ es la cantidad de caminos de i a j de largo $r$, necesitamos para ver la distancia más corta el menor $r$ para el cual el elemento es distinto de cero. Ejemplo: si los nodos i y j están conectados directamente la matriz $A$ tendrá un $1$ en la posición $(ij)$. Si otros dos nodos están a dos de distancia, $A_{ij} \\neq 1$, pero $A_{ij}^{2} \\geq 1$ . Por ende, necesitamos el menor $r$ para el cual $Z_{ij} \\neq 0$, ese $r$ es la distancia geodésica entre dos nodos.\n",
    "\n",
    "\n",
    "$Z_{ij}(r) = \\sum_{r=0}^{\\infty} \\alpha^{r} (A^{r})_{ij}$\n",
    "\n",
    "Tomo $log(\\alpha) = z$, entonces $\\alpha = e^z$\n",
    "\n",
    "$\\begin{split}\n",
    " \\frac{d \\ log Z_{ij}}{d \\log \\alpha} & = \\frac{d}{dz} \\left( log \\sum_{r=0}^{\\infty} e^{zr} (A^r)_{ij} \\right) \\\\ \n",
    " & = \\frac{\\sum_{r=0}^{\\infty} \\frac{d}{dz} e^{zr} (A^r)_{ij}}{\\sum_{r=0}^{\\infty} e^{zr} (A^r)_{ij}} \\\\\n",
    "& = \\frac{\\sum_{r=0}^{\\infty} e^{zr} r (A^r)_{ij}}{\\sum_{r=0}^{\\infty} e^{zr} (A^r)_{ij}} \\\\\n",
    "& = \\frac{\\sum_{r=0}^{\\infty} \\alpha^{r} r (A^r)_{ij}}{\\sum_{r=0}^{\\infty} \\alpha^{r} (A^r)_{ij}}\n",
    "\\end{split}$\n",
    "\n",
    "$(A^r)_{ij} = 0$ para todo $r < r_{min}$ con $r_{min}$ la distancia geodésica entre los nodos $i$ y $j$. \n",
    "\n",
    "$\\frac{d \\ logZ_{ij}}{d \\log \\alpha} = \\frac{\\sum_{r=r_{min}}^{\\infty} \\alpha^{r} r (A^r)_{ij}}{\\sum_{r=r_{min}}^{\\infty} \\alpha^{r} (A^r)_{ij}}$\n",
    "\n",
    "\n",
    "\n",
    "Si tomamos $\\alpha \\rightarrow 0$ y tachamos, nos queda:\n",
    "\n",
    "$\\lim_{\\alpha\\to\\ 0}\\frac{d \\ logZ_{ij}}{d \\log \\alpha} = r_{min} \\equiv l_{ij}$"
   ]
  },
  {
   "cell_type": "markdown",
   "metadata": {},
   "source": [
    "# Ejercicio 7\n",
    "La diferencia entre un 2-componente y un 2-core es que un 2-componente da informacion sobre el numero de caminos independientes, mientras que un 2-core da informacion de la cantidad de enlaces en el conjunto. Una interpretacion posible es que un k-core tiene $min(k_i) = k$  dentro del conjunto.\n",
    "\n",
    "Es decir, los k-core limitan el grado minimo mientras que los k-componentes limitan la existencia de los puentes locales.\n",
    "\n",
    "Tomemos los siguientes ejemplos para explicarlo graficamente:"
   ]
  },
  {
   "cell_type": "code",
   "execution_count": 51,
   "metadata": {},
   "outputs": [],
   "source": [
    "import networkx as nx\n",
    "import matplotlib.pyplot as plt \n",
    "import array_to_latex as a2l"
   ]
  },
  {
   "cell_type": "code",
   "execution_count": 57,
   "metadata": {},
   "outputs": [
    {
     "data": {
      "image/png": "[encoded data removed]",
      "text/plain": [
       "<Figure size 432x288 with 1 Axes>"
      ]
     },
     "metadata": {},
     "output_type": "display_data"
    }
   ],
   "source": [
    "Red1= nx.Graph() \n",
    "edges1=[(1,2),(1,3),(2,3),(2,4),(4,5),(4,6),(4,5),(5,6)]\n",
    "Red1.add_edges_from(edges1)\n",
    "nx.draw(Red1, with_labels=True)\n",
    "plt.title(\"Ejemplo 1\")\n",
    "plt.show()"
   ]
  },
  {
   "cell_type": "markdown",
   "metadata": {},
   "source": [
    "En este primer ejemplo podemos observar que este grafo es 2-core ya que todos los nodos conectan con al menos otros 2 nodos del conjunto, pero no 2-componente ya que no hay dos caminos indepedientes entre, por ejemplo, los nodos 1 y 6.\n",
    "\n",
    "$$k= Diag\\left(A^2\\right)= [2, 3, 2, 3, 2, 2] $$\n",
    "\n",
    "A su vez, los conjuntos de nodos {1,2,3} y {4,5,6} forman cada uno un 2-componente. Es decir que esta red tiene un unico 2-core y dos 2-componentes.\n",
    "\n",
    "En cambio si ahora conectamos los nodos 3 y 6:"
   ]
  },
  {
   "cell_type": "code",
   "execution_count": 58,
   "metadata": {},
   "outputs": [
    {
     "data": {
      "image/png": "[encoded data removed]",
      "text/plain": [
       "<Figure size 432x288 with 1 Axes>"
      ]
     },
     "metadata": {},
     "output_type": "display_data"
    }
   ],
   "source": [
    "Red1.add_edges_from([(3,6)])\n",
    "nx.draw(Red1, with_labels=True)\n",
    "plt.title(\"Ejemplo 2\")\n",
    "plt.show()"
   ]
  },
  {
   "cell_type": "markdown",
   "metadata": {},
   "source": [
    "$$k= Diag\\left(A^2\\right)= [2, 3, 3, 3, 2, 3] $$\n",
    "El grafo sigue siendo un 2-core pero ahora tambien es un 2-componente ya que cada par de nodos tiene dos caminos independientes. Con lo cual conseguimos modificar el grafo con un solo enlace para que tenga un unico 2-componente y un unico 2-core.\n",
    "\n",
    "Es decir, un 2-componente tiene que ser minimamente un 2-core pero no necesariamente a la inversa."
   ]
  },
  {
   "cell_type": "markdown",
   "metadata": {},
   "source": [
    "# Ejercicio 8"
   ]
  },
  {
   "cell_type": "markdown",
   "metadata": {},
   "source": [
    "### Inciso (a)"
   ]
  },
  {
   "cell_type": "markdown",
   "metadata": {},
   "source": [
    "Se considera el nivel trófico, $x_i$, de una especie en una red trófica (que es una red dirigida), como el valor medio de los niveles tróficos de sus presas, más uno. Es decir, los nodos que apuntan al nodo $i$ más uno.\n",
    "\n",
    "Los nodos que apuntan al nodo $i$ los calculamos tomando la multiplicación entre $x_j$ (un vector que tiene los valores tróficos) y $A$ (la matriz de adyacencia). Esto nos asegura que se estarán considerando los niveles tróficos que van de $j$ a $i$ ($j$ va desde $1$ hasta el nodo n-ésimo). Para tomar el valor medio dividimos este valor por el total de enlaces que le entran al nodo (la componente $ii$ de $D$, matriz diagonal de in-degrees). Luego le sumamos $1$ por definición.\n",
    "\n",
    "$\\begin{split}\n",
    "x_i &= \\frac{\\sum_{j=1}^{N} A_{ij} x_j}{D_{ii}} + 1 \\\\\n",
    "& = \\frac{\\sum_{j=1}^{N} A_{ij} x_j + D_{ii}}{D_{ii}} \n",
    "\\end{split}$\n",
    "\n",
    "$D_{ii} \\ x_i = \\sum_{j=1}^{N} A_{ij} x_j + D_{ii}$\n",
    "\n",
    "Esto lo podemos reescribir como: \n",
    "\n",
    "$\\begin{align*}\n",
    "(D \\ x)_i &= (A \\ x + D \\ \\mathbb{1})_i\\\\\n",
    "D \\ x - A \\ x &= D \\ \\mathbb{1}\\\\\n",
    "(D - A) \\ x &= D \\ \\mathbb{1} \\\\\n",
    "x &= (D - A)^{-1} D \\ \\mathbb{1}\n",
    "\\end{align*}$"
   ]
  },
  {
   "cell_type": "markdown",
   "metadata": {},
   "source": [
    "### Inciso (b)\n",
    "\n",
    "El cálculo anterior diverge para especies que no poseen predadores, ya que eso se representa como un $0$ en $D_{ii}$. Se podría tomar $D + \\mathbb{1}$ o de manera equivalente $D_{ii} + 1$ para asegurarse de que cada especie tenga al menos $1$ \"presa\"."
   ]
  },
  {
   "cell_type": "markdown",
   "metadata": {},
   "source": [
    "# Ejercicio 9"
   ]
  },
  {
   "cell_type": "markdown",
   "metadata": {},
   "source": [
    "O como nos gusta llamarlo...\n",
    "\n",
    "<table><tr>\n",
    "<td> <img src=\"img/meme_guia_02.jpg\" alt=\"Drawing\" style=\"width: 500px;\"/> </td>\n",
    "<td> <img src=\"img/Guia_2_ej_9_rta.svg\" alt=\"Drawing\" style=\"width: 800px;\"/> </td>\n",
    "</tr></table>"
   ]
  },
  {
   "cell_type": "markdown",
   "metadata": {},
   "source": [
    "El tamaño del conjunto de vértices de corte minimal entre los nodos $s$ y $t$ es $k = 3$. En gris se seleccionó una elección particular de los nodos. De colores se observan los $k$ caminos independientes.Los nodos a elegir entonces deben pertenecer uno a cada camino, como mínimo, de manera de separar por completo a $s$ y $t$. "
   ]
  }
 ],
 "metadata": {
  "kernelspec": {
   "display_name": "Python 3",
   "language": "python",
   "name": "python3"
  },
  "language_info": {
   "codemirror_mode": {
    "name": "ipython",
    "version": 3
   },
   "file_extension": ".py",
   "mimetype": "text/x-python",
   "name": "python",
   "nbconvert_exporter": "python",
   "pygments_lexer": "ipython3",
   "version": "3.6.9"
  }
 },
 "nbformat": 4,
 "nbformat_minor": 4
}
