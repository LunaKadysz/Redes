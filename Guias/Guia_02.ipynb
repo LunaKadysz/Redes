{
 "cells": [
  {
   "cell_type": "markdown",
   "metadata": {},
   "source": [
    "# Ejercicio 2"
   ]
  },
  {
   "cell_type": "markdown",
   "metadata": {},
   "source": [
    "![ej2](img/Guia_2_ej_2.png)"
   ]
  },
  {
   "cell_type": "markdown",
   "metadata": {},
   "source": [
    "# Ejercicio 3 "
   ]
  },
  {
   "cell_type": "markdown",
   "metadata": {},
   "source": [
    "![ej3](img/Guia_2_ej_3.png)"
   ]
  },
  {
   "cell_type": "markdown",
   "metadata": {},
   "source": [
    "Para pasar de matrices calculadas en python a latex y verlas mejor pasamos arrays a latex con la siguiente función."
   ]
  },
  {
   "cell_type": "code",
   "execution_count": 19,
   "metadata": {},
   "outputs": [],
   "source": [
    "#make latex matrix\n",
    "import array_to_latex as a2l\n",
    "to_tex = lambda A : a2l.to_ltx(A, frmt = '{:6.0f}', arraytype = 'array', mathform=True)"
   ]
  },
  {
   "cell_type": "code",
   "execution_count": 20,
   "metadata": {},
   "outputs": [],
   "source": [
    "#* La matriz de adyacencia de la red (a)\n",
    "import numpy as np\n",
    "A_ady = np.matrix([[0 , 1 , 0 , 0 , 1], \n",
    "    [0 , 0 , 1 , 0 , 0],\n",
    "    [1 , 0 , 0 , 0 , 1],\n",
    "    [0 , 1 , 1 , 0 , 0],\n",
    "    [0 , 0 , 0 , 0 , 0]])"
   ]
  },
  {
   "cell_type": "code",
   "execution_count": 21,
   "metadata": {},
   "outputs": [],
   "source": [
    "#La matriz de co-citas de la red (a)\n",
    "A_ady_t = np.transpose(A_ady)\n",
    "A_co = A_ady * A_ady_t"
   ]
  },
  {
   "cell_type": "code",
   "execution_count": 23,
   "metadata": {},
   "outputs": [],
   "source": [
    "#La matriz de incidencia de la red (b)\n",
    "B_ind = np.matrix(\n",
    "    # 1 2 3 4 5 \n",
    "   # 1 \n",
    "    [[1 , 0 , 1 , 0 , 0], \n",
    "    # 2\n",
    "     [0 , 1 , 1 , 0 , 0],\n",
    "    #3\n",
    "     [0 , 0 , 0 , 1 , 0],\n",
    "    #4\n",
    "     [0 , 1 , 1 , 1 , 1]])"
   ]
  },
  {
   "cell_type": "code",
   "execution_count": 25,
   "metadata": {},
   "outputs": [],
   "source": [
    "#La matriz proyección de la red (b) en los vértices oscuros.\n",
    "B_ind_t = np.transpose(B_ind)\n",
    "B_proy_oscura = B_ind_t * B_ind"
   ]
  },
  {
   "cell_type": "markdown",
   "metadata": {},
   "source": [
    "* La matriz de adyacencia de la red (a):\n",
    "\n",
    "\n",
    "$$ A_{ady} = \n",
    "\\begin{array}{c}\n",
    "\\begin{matrix}\n",
    "1 & 2 & 3 & 4 & 5\n",
    "\\end{matrix} \\\\\n",
    "\\left(\\ \\begin{matrix}\n",
    "0 & 1 & 0 & 0 & 1 \\\\\n",
    "0 & 0 & 1 & 0 & 0\\\\\n",
    "1 & 0 & 0 & 0 & 1\\\\\n",
    "0 & 1 & 1 & 0 & 0\\\\\n",
    "0 & 0 & 0 & 0 & 0\n",
    "\\end{matrix}\\ \\right)\n",
    "\\end{array}\n",
    "$$\n",
    "\n",
    "* La matriz de co-citas de la red (a):\n",
    "\n",
    "$$A_{co} = \n",
    "\\begin{array}{c}\n",
    "\\begin{matrix}\n",
    "1 & 2 & 3 & 4 & 5\n",
    "\\end{matrix} \\\\\n",
    "\\left(\\ \\begin{matrix}\n",
    "       2  &       0  &       1  &       1  &       0 \\\\\n",
    "       0  &       1  &       0  &       1  &       0 \\\\\n",
    "       1  &       0  &       2  &       0  &       0 \\\\\n",
    "       1  &       1  &       0  &       2  &       0 \\\\\n",
    "       0  &       0  &       0  &       0  &       0 \n",
    "\\end{matrix}\\ \\right)\n",
    "\\end{array}\n",
    "$$\n",
    "\n",
    "La matriz de incidencia de la red (b): \n",
    "\n",
    "$$B_{ind} = \n",
    "\\begin{array}{c}\n",
    "\\begin{matrix}\n",
    "1 & 2 & 3 & 4 & 5\n",
    "\\end{matrix} \\\\\n",
    "\\left(\\ \\begin{matrix}\n",
    "       1  &       0  &       1  &       0  &       0 \\\\\n",
    "       0  &       1  &       1  &       0  &       0 \\\\\n",
    "       0  &       0  &       0  &       1  &       0 \\\\\n",
    "       0  &       1  &       1  &       1  &       1 \n",
    "\\end{matrix}\\ \\right)\n",
    "\\end{array}\n",
    "$$\n",
    "\n",
    "La matriz de proyección en los vértices oscuros de la red (b) es:\n",
    "\n",
    "$$B_{proy} =  \n",
    "\\begin{array}{c}\n",
    "\\begin{matrix}\n",
    "1 & 2 & 3 & 4 & 5\n",
    "\\end{matrix} \\\\\n",
    "\\left(\\ \\begin{matrix}\n",
    "       1  &       0  &       1  &       0  &       0 \\\\\n",
    "       0  &       1  &       1  &       0  &       0 \\\\\n",
    "       0  &       0  &       0  &       1  &       0 \\\\\n",
    "       0  &       1  &       1  &       1  &       1 \n",
    "\\end{matrix}\\ \\right)\n",
    "\\end{array}\n",
    "$$\n"
   ]
  },
  {
   "cell_type": "markdown",
   "metadata": {},
   "source": [
    "# Ejercicio 4"
   ]
  },
  {
   "cell_type": "markdown",
   "metadata": {},
   "source": [
    "![ej4](img/Guia_2_ej_4.png)"
   ]
  },
  {
   "cell_type": "markdown",
   "metadata": {},
   "source": [
    "# Ejercicio 6"
   ]
  },
  {
   "cell_type": "markdown",
   "metadata": {},
   "source": [
    "Consideramos el conjunto de todos los caminos entre el nodo-i y el nodo-j en un grafo no dirigido de\n",
    "matriz de adyacencia A. Los caminos de largo r se representan por la matriz $A^{r}$. Queremos ver que la suma de los pesos de todos los caminos que conectan el nodo-i con el nodo-j también está dada por $Z_{ij}$, el elemento $ij$ de la matriz $Z = (I − \\alpha A)^{−1}$ *(1)*. \n",
    "\n",
    "#### a)\n",
    "Tenemos que $A^{r}$ son los caminos de largo r. La suma de todos los caminos la definimos como $Z = \\sum_{r=0}^{\\infty} \\alpha^{r} A^{r}$ y queremos demostrar la igualdad con *(1)*. \n",
    "Multiplicamos de ambos lados por $(I − \\alpha A)$ con lo cual nos queda:\n",
    "\n",
    "$Z(I − \\alpha A) = \\sum_{r=0}^{\\infty} \\alpha^{r} A^{r} (I − \\alpha A) = I\n",
    "$\n",
    "\n",
    "Distribuimos \n",
    "\n",
    "$\\sum_{r=0}^{\\infty} \\alpha^{r} A^{r}  − \\sum_{r=0}^{\\infty} \\alpha^{r+1} A^{r+1} = I$\n",
    "\n",
    "Arreglamos los límites de la sumatoria para tener iguales exponentes:\n",
    "\n",
    "$\\sum_{r=0}^{\\infty} \\alpha^{r} A^{r}  − \\sum_{r=1}^{\\infty} \\alpha^{r+1} A^{r+1} = I$\n",
    "\n",
    "Eso nos deja sólo el término con $r = 0$:\n",
    "\n",
    "$\\alpha^{0} A^{0} = I$\n",
    "\n",
    "$1 I = I$\n",
    "\n",
    "Con eso probamos la igualdad de ambas representaciones de Z. \n",
    "\n",
    "#### b)\n",
    "La sumatoria es infinita, podría diverger. Es una suma geométrica por lo cual $\\alpha A < 1$. Por ende necesita una restricción al valor de $\\alpha$ para que converja. Mientras que $\\alpha < \\frac{1}{max (A_{ij})}$ los caminos más largos tendran menos peso (pues un número menor a uno a la números positivos va dando más chico) que los más cortos. Esto tiene sentido, estamos diciendo que los vértices están más conectados lo hacen por caminos más cortos.\n",
    "\n",
    "#### c)\n",
    "\n",
    "# TODO\n",
    "Como $A_{ij}^{r}$ es la cantidad de caminos de i a j de largo $r$, necesitamos para ver la distancia más corta el menor $r$ para el cual el elemento es distinto de cero. Ejemplo: si los nodos i y j están conectados directamente la matriz $A$ tendrá un $1$ en la posición $(ij)$. Si otros dos nodos están a dos de distancia, $A_{ij} \\neq 1$, pero $A_{ij}^{2} \\geq 1$ . Por ende, necesitamos el menor $r$ para el cual $Z_{ij} \\neq 0$, ese $r$ es la distancia geodésica entre dos nodos.\n",
    "\n",
    "$Z_{ij}(r) = (\\delta_{ij} - \\alpha A_{ij})^{-1}$\n",
    "\n",
    "$Z_{ij}(r) = \\sum (\\alpha A_{ij})^{r} = \\frac{1}{1 - \\alpha A_{ij}}$\n",
    "\n",
    "\n",
    "Tomo logaritmo:\n",
    "\n",
    "$log(Z_{ij}(r)) = - log(1 - \\alpha A_{ij})$\n",
    "\n",
    "Tomo $log(\\alpha) = z$, entonces $\\alpha = e^z$\n",
    "\n",
    "$log(Z_{ij}(r)) = - log(1 - e^z A_{ij})$\n",
    "\n",
    "$\\frac{d  (log(Z_{ij}))}{dz} = \\frac{1}{1 - e^z A_{ij}} e^z  A_{ij} = \\frac{\\alpha  A_{ij}}{1 - \\alpha A_{ij}}  = \\sum_{r=0}^{\\infty} \\alpha A (\\alpha A)^r = \\sum_{r=0}^{\\infty} (\\alpha A)^{r+1} = \\sum_{r=1}^{\\infty} (\\alpha A)^{r} = \\alpha A \\sum_{r=0}^{\\infty} (\\alpha A)^{r} = \\alpha A Z_{ij} $"
   ]
  },
  {
   "cell_type": "markdown",
   "metadata": {},
   "source": [
    "# Ejercicio 9"
   ]
  },
  {
   "cell_type": "markdown",
   "metadata": {},
   "source": [
    "O como nos gusta llamarlo...\n",
    "\n",
    "<table><tr>\n",
    "<td> <img src=\"img/meme_guia_02.jpg\" alt=\"Drawing\" style=\"width: 500px;\"/> </td>\n",
    "<td> <img src=\"img/Guia_2_ej_9_rta.svg\" alt=\"Drawing\" style=\"width: 800px;\"/> </td>\n",
    "</tr></table>"
   ]
  },
  {
   "cell_type": "markdown",
   "metadata": {},
   "source": [
    "El tamaño del conjunto de vértices de corte minimal entre los nodos $s$ y $t$ es $k = 3$. En gris se seleccionó una elección particular de los nodos. De colores se observan los $k$ caminos independientes.Los nodos a elegir entonces deben pertenecer uno a cada camino, como mínimo, de manera de separar por completo a $s$ y $t$. "
   ]
  }
 ],
 "metadata": {
  "kernelspec": {
   "display_name": "Python 3",
   "language": "python",
   "name": "python3"
  },
  "language_info": {
   "codemirror_mode": {
    "name": "ipython",
    "version": 3
   },
   "file_extension": ".py",
   "mimetype": "text/x-python",
   "name": "python",
   "nbconvert_exporter": "python",
   "pygments_lexer": "ipython3",
   "version": "3.6.9"
  }
 },
 "nbformat": 4,
 "nbformat_minor": 2
}
