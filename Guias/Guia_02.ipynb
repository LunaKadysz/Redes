{
 "cells": [
  {
   "cell_type": "markdown",
   "metadata": {},
   "source": [
    "# Ejercicio 2"
   ]
  },
  {
   "cell_type": "markdown",
   "metadata": {},
   "source": [
    "![ej2](img/Guia_2_ej_2.png)"
   ]
  },
  {
   "cell_type": "markdown",
   "metadata": {},
   "source": [
    "# Ejercicio 3 "
   ]
  },
  {
   "cell_type": "markdown",
   "metadata": {},
   "source": [
    "![ej3](img/Guia_2_ej_3.png)"
   ]
  },
  {
   "cell_type": "code",
   "execution_count": 28,
   "metadata": {},
   "outputs": [],
   "source": [
    "B_ind = np.matrix(\n",
    "    # 1 2 3 4 5 \n",
    "   # 1 \n",
    "    [[1 , 0 , 1 , 0 , 0], \n",
    "    # 2\n",
    "     [0 , 1 , 1 , 0 , 0],\n",
    "    #3\n",
    "     [0 , 0 , 0 , 1 , 0],\n",
    "    #4\n",
    "     [0 , 1 , 1 , 1 , 1]])"
   ]
  },
  {
   "cell_type": "code",
   "execution_count": 30,
   "metadata": {},
   "outputs": [],
   "source": [
    "B_ind_t = np.transpose(B_ind)\n",
    "B_proy_oscura = B_ind_t * B_ind"
   ]
  },
  {
   "cell_type": "markdown",
   "metadata": {},
   "source": [
    "* La matriz de adyacencia de la red (a)\n",
    "* La matriz de co-citas de la red (a)\n",
    "* La matriz de incidencia de la red (b)\n",
    "* La matriz proyección de la red (b) en los vértices oscuros."
   ]
  },
  {
   "cell_type": "markdown",
   "metadata": {},
   "source": [
    "* La matriz de adyacencia de la red (a):\n",
    "\n",
    "\n",
    "$$ A_{ady} = \n",
    "\\begin{array}{c}\n",
    "\\begin{matrix}\n",
    "1 & 2 & 3 & 4 & 5\n",
    "\\end{matrix} \\\\\n",
    "\\left(\\ \\begin{matrix}\n",
    "0 & 1 & 0 & 0 & 1 \\\\\n",
    "0 & 0 & 1 & 0 & 0\\\\\n",
    "1 & 0 & 0 & 0 & 1\\\\\n",
    "0 & 1 & 1 & 0 & 0\\\\\n",
    "0 & 0 & 0 & 0 & 0\n",
    "\\end{matrix}\\ \\right)\n",
    "\\end{array}\n",
    "$$\n",
    "\n",
    "* La matriz de co-citas de la red (a):\n"
   ]
  },
  {
   "cell_type": "code",
   "execution_count": 23,
   "metadata": {},
   "outputs": [],
   "source": [
    "import numpy as np\n",
    "A_ady = np.matrix([[0 , 1 , 0 , 0 , 1], \n",
    "    [0 , 0 , 1 , 0 , 0],\n",
    "    [1 , 0 , 0 , 0 , 1],\n",
    "    [0 , 1 , 1 , 0 , 0],\n",
    "    [0 , 0 , 0 , 0 , 0]])\n",
    "\n",
    "#make latex matrix\n",
    "import array_to_latex as a2l\n",
    "to_tex = lambda A : a2l.to_ltx(A, frmt = '{:6.2f}', arraytype = 'array', mathform=True)"
   ]
  },
  {
   "cell_type": "code",
   "execution_count": 29,
   "metadata": {},
   "outputs": [],
   "source": [
    "A_ady_t = np.transpose(A_ady)\n",
    "A_co = A_ady * A_ady_t"
   ]
  },
  {
   "cell_type": "markdown",
   "metadata": {},
   "source": [
    "# Ejercicio 4"
   ]
  },
  {
   "cell_type": "markdown",
   "metadata": {},
   "source": [
    "![ej4](img/Guia_2_ej_4.png)"
   ]
  },
  {
   "cell_type": "markdown",
   "metadata": {},
   "source": [
    "# Ejercicio 6"
   ]
  },
  {
   "cell_type": "markdown",
   "metadata": {},
   "source": [
    "Consideramos el conjunto de todos los caminos entre el nodo-i y el nodo-j en un grafo no dirigido de\n",
    "matriz de adyacencia A. Los caminos de largo r se representan por la matriz $A^{r}$\n",
    "\n",
    "#### a)\n",
    "DEMO DE CLASE"
   ]
  },
  {
   "cell_type": "markdown",
   "metadata": {},
   "source": [
    "# Ejercicio 9"
   ]
  },
  {
   "cell_type": "markdown",
   "metadata": {},
   "source": [
    "![ej9](img/Guia_2_ej_9.png)"
   ]
  },
  {
   "cell_type": "markdown",
   "metadata": {},
   "source": [
    "* Cuál es el tamaño k del conjunto de vértices de corte minimal entre los nodos s y t de la red? \n",
    "* Pruebe su resultado encontrando un posible conjunto de corte de tamaño k y un posible conjunto de k caminos independientes entre s y t. Por qué esto demuestra que el conjunto minimal de corte tiene tamaño k?"
   ]
  },
  {
   "cell_type": "code",
   "execution_count": null,
   "metadata": {},
   "outputs": [],
   "source": []
  }
 ],
 "metadata": {
  "kernelspec": {
   "display_name": "Python 3",
   "language": "python",
   "name": "python3"
  },
  "language_info": {
   "codemirror_mode": {
    "name": "ipython",
    "version": 3
   },
   "file_extension": ".py",
   "mimetype": "text/x-python",
   "name": "python",
   "nbconvert_exporter": "python",
   "pygments_lexer": "ipython3",
   "version": "3.6.9"
  }
 },
 "nbformat": 4,
 "nbformat_minor": 2
}
