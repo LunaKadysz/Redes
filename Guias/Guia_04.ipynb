{
 "cells": [
  {
   "cell_type": "markdown",
   "metadata": {},
   "source": [
    "En este notebook se presenta la resolución de la Guía $4$ de la materia Introducción a Redes Complejas en Biología de Sistemas. Los enunciados se pueden revisar [aquí](http://http://materias.df.uba.ar/scytda2020c1/files/2020/04/G04_Comunidades.pdf). \n",
    "Las integrantes del grupo 13 somos:\n",
    "* Carolina Fritz\n",
    "* Luna Kadysz\n",
    "* Melisa Vinograd"
   ]
  },
  {
   "cell_type": "markdown",
   "metadata": {},
   "source": [
    "# Ejercicio 1 - La comunidad del anillo:\n",
    "1)Considere una red udimimensional de N nodos que forma un círculo. Cada nodo está conectado a sus dos vecinos. Particione el grafo en $N_c$ grupos de tamaño $N/N_c$ \n",
    "\n",
    "a)Calcule la modularidad de la partición obtenida\n",
    "\n",
    "b)Cuál es el tamaño de comunidades que maximiza la modularidad?"
   ]
  },
  {
   "cell_type": "markdown",
   "metadata": {},
   "source": [
    "# Ejercicio 2 - Límite de resolución\n",
    "2)Considere  una  red  conformada  por  un  anillo  de n$_c$ M-cliques,  cada  uno  de m nodos  y m(m-1)/2 enlaces. Cliques vecinos están conectados mediante un único enlace. Esta red tiene una estructura de comunidades natural, donde cada cluster se corresponde con un clique.\n",
    "\n",
    "a)Determine la modularidad $M_single$ de esta partición natural de la red\n",
    "\n",
    "b)Determine  la  modularidad $M_pair$ de  una  partición  en  la  que  pares  consecutivos  de  cliques  se juntan en un único cluster (ver figura)\n",
    "\n",
    "c)Muestre  que  sólo  si $n_c<2L$ el  criterio  de  máxima  modularidad  predice  la  partición  intuitiva, donde\n",
    "\n",
    "(falta la figura que todavia no la subieron)"
   ]
  },
  {
   "cell_type": "code",
   "execution_count": null,
   "metadata": {},
   "outputs": [],
   "source": []
  }
 ],
 "metadata": {
  "kernelspec": {
   "display_name": "Python 3",
   "language": "python",
   "name": "python3"
  },
  "language_info": {
   "codemirror_mode": {
    "name": "ipython",
    "version": 3
   },
   "file_extension": ".py",
   "mimetype": "text/x-python",
   "name": "python",
   "nbconvert_exporter": "python",
   "pygments_lexer": "ipython3",
   "version": "3.6.9"
  }
 },
 "nbformat": 4,
 "nbformat_minor": 4
}
