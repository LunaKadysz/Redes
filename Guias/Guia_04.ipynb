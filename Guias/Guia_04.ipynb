{
 "cells": [
  {
   "cell_type": "markdown",
   "metadata": {},
   "source": [
    "En este notebook se presenta la resolución de la Guía $4$ de la materia Introducción a Redes Complejas en Biología de Sistemas. Los enunciados se pueden revisar [aquí](http://http://materias.df.uba.ar/scytda2020c1/files/2020/04/G04_Comunidades.pdf). \n",
    "Las integrantes del grupo 13 somos:\n",
    "* Carolina Fritz\n",
    "* Luna Kadysz\n",
    "* Melisa Vinograd"
   ]
  },
  {
   "cell_type": "markdown",
   "metadata": {},
   "source": [
    "# Ejercicio 1 - La comunidad del anillo:\n",
    "<!---\n",
    "1)Considere una red udimimensional de N nodos que forma un círculo. Cada nodo está conectado a sus dos vecinos. Particione el grafo en $N_c$ grupos de tamaño $N/N_c$ \n",
    "\n",
    "a)Calcule la modularidad de la partición obtenida\n",
    "\n",
    "b)Cuál es el tamaño de comunidades que maximiza la modularidad?\n",
    "-->"
   ]
  },
  {
   "cell_type": "markdown",
   "metadata": {},
   "source": [
    "Considerando una red unidimensional de N nodos que forman un círculo, donde cada nodo esta conectado a sus dos vecinos vamos a particionar el grafo en $N_c$ grupos de tamaño $N/N_c$"
   ]
  },
  {
   "cell_type": "markdown",
   "metadata": {},
   "source": [
    "## a) \n",
    "Vamos a calcular la modularidad de la particion obtenida de la siguiente manera:\n",
    "\n",
    "$$Q= \\frac{1}{2m} \\sum_{ij} \\left ( A_{ij} - \\frac{k_ik_j}{2m}\\right ) \\delta (c_i,c_j) $$\n",
    "\n",
    "Donde Q representa en cierta manera una medida de cuan buena es la separacion en comunidades de una dada red. El término $\\sum_{ij}  \\frac {A_{ij}}{2m}  \\delta (c_i,c_j)$ representa la fraccion de enlaces de la misma comunidad y el otro termino representa la fraccion de enlaces del mismo tipo esperados por azar. Haciendo algunas operaciones con deltas se puede llegar a la siguiente igualdad:\n",
    "\n",
    "$$Q=  \\sum_{r}\\left (e_{rr} - a_{r}^2 \\right )$$\n",
    "\n",
    "Donde $e_{rr}$ representa la fraccion de enlaces del tipo r-r y $a_{r}^2$ representa la fracción de puntas del tipo r."
   ]
  },
  {
   "cell_type": "markdown",
   "metadata": {},
   "source": [
    "Veamos estos parametros visualmente con un ejemplo sencillo: $N= 9$, $N_c=3$"
   ]
  },
  {
   "cell_type": "code",
   "execution_count": 39,
   "metadata": {},
   "outputs": [
    {
     "data": {
      "image/png": "[encoded data removed]",
      "text/plain": [
       "<Figure size 432x288 with 1 Axes>"
      ]
     },
     "metadata": {},
     "output_type": "display_data"
    }
   ],
   "source": [
    "import networkx as nx\n",
    "import matplotlib.pyplot as plt\n",
    "from itertools import count\n",
    "N=9\n",
    "Nc=3\n",
    "G = nx.cycle_graph(N)\n",
    "for nodo in G.nodes():\n",
    "    comunidad=nodo//Nc\n",
    "    G.nodes[nodo]['comunidad']=comunidad\n",
    "\n",
    "comunidades = set(nx.get_node_attributes(G,'comunidad').values())    \n",
    "mapping = dict(zip(sorted(comunidades),count()))\n",
    "nodes = G.nodes()\n",
    "\n",
    "colors = [mapping[G.nodes[n]['comunidad']] for n in nodes]\n",
    "\n",
    "pos = nx.spring_layout(G)\n",
    "ec = nx.draw_networkx_edges(G, pos, alpha=0.2)\n",
    "nc = nx.draw_networkx_nodes(G,pos, nodelist=nodes, node_color=colors, \n",
    "                            with_labels=True, node_size=300, cmap=plt.cm.jet)\n",
    "plt.axis('off')\n",
    "plt.show()"
   ]
  },
  {
   "cell_type": "markdown",
   "metadata": {},
   "source": [
    "Usando este ejemplo es simple ver que se dan las siguientes relaciones para las redes ciclicas:\n",
    "* $Nenlaces= N$\n",
    "\n",
    "* $e_{rr} = \\frac{N_c -1}{  Nenlaces} = \\frac{N_c -1}{  N} $ : fracción de enlaces r-r\n",
    "\n",
    "* $a_r = \\frac{2 N_c}{  Nenlaces \\cdot 2} = \\frac{N_c}{N}$ : fracción de puntas r\n",
    "\n",
    "* $\\#r =\\frac{N}{N_c} $ : cantidad de comunidades\n",
    "\n",
    "Entonces para este tipo de redes y comunidades:\n",
    "$$Q=  \\sum_{r}\\left (e_{rr} - a_{r}^2 \\right ) =  \\sum_{r} \\left ( \\frac{N_c -1}{  N} -  \\left (\\frac{N_c}{N}\\right )^2 \\right )$$\n",
    "\n",
    "Como todos los terminos de la sumatoria se mantienen constantes porque todas las comunidades $r$ son equivalentes, entonces:\n",
    "\n",
    "$$ Q=\\frac{N}{N_c} \\cdot \\left ( \\frac{N_c -1}{  N} -  \\left (\\frac{N_c}{N}\\right )^2 \\right )= \\frac{N_c -1}{N_c} -\\frac{N_c}{N}$$\n",
    "\n",
    "\n",
    "Está claro que en todas estas cuentas se asume que N es _divisible_ por Nc."
   ]
  },
  {
   "cell_type": "markdown",
   "metadata": {},
   "source": [
    "Para el ejemplo de $N=9, N_c=3$ se obtiene:\n",
    "$$Q\\left (N=9, N_c=3\\right )=  3 \\cdot \\left ( \\frac{3 -1}{  9} -  \\left (\\frac{3}{9}\\right )^2 \\right ) = \\frac{1}{3}$$"
   ]
  },
  {
   "cell_type": "markdown",
   "metadata": {},
   "source": [
    "## b) \n",
    "El tamaño de comunidades que maximiza la modularidad se obtiene derivando $Q$ en funcion de la proporcion $N/N_c$ e igualando a 0.\n",
    "\n",
    "$$\\frac{\\partial Q}{\\partial \\left ( N/N_c\\right)} = 0$$\n",
    "\n",
    "Para eso reescribimos $Q(N, N_c)$como $Q(N,x)$ donde $x=N/Nc$:\n",
    "\n",
    "$$Q(N,x)= 1 - \\left( \\frac{x}{N}+ \\frac{1}{x} \\right)$$\n",
    "\n",
    "$$\\frac{\\partial Q}{\\partial x} = \\frac{\\partial}{\\partial x}  \\left(1 - \\left( \\frac{x}{N}+ \\frac{1}{x} \\right)\\right)= \\frac{1}{x^2}-\\frac{1}{N}$$\n",
    "\n",
    "Igualando a cero la ecuacion obtenemos\n",
    "\n",
    "$$N=x^2 = \\left ( \\frac{N}{N_c}\\right)^2$$\n",
    "\n",
    "Con lo cual la modularidad máxima se alcanza cuando $N_c = \\sqrt{N}$, es decir que en la situacion de modularidad máxima se tienen $N_c$ comunidades de tamaño $N_c$."
   ]
  },
  {
   "cell_type": "markdown",
   "metadata": {},
   "source": [
    "# Ejercicio 2 - Límite de resolución\n",
    "2)Considere  una  red  conformada  por  un  anillo  de n$_c$ M-cliques,  cada  uno  de m nodos  y m(m-1)/2 enlaces. Cliques vecinos están conectados mediante un único enlace. Esta red tiene una estructura de comunidades natural, donde cada cluster se corresponde con un clique.\n",
    "\n",
    "a)Determine la modularidad $M_{single}$ de esta partición natural de la red\n",
    "\n",
    "b)Determine  la  modularidad $M_{pair}$ de  una  partición  en  la  que  pares  consecutivos  de  cliques  se juntan en un único cluster (ver figura)\n",
    "\n",
    "c)Muestre  que  sólo  si $n_c<2L$ el  criterio  de  máxima  modularidad  predice  la  partición  intuitiva, donde\n",
    "\n",
    "$$L = \\frac{n_c m (m-1)}{2} + n_c$$\n",
    "\n",
    "![ej2](img/Guia_4_ej_2.png)"
   ]
  },
  {
   "cell_type": "markdown",
   "metadata": {},
   "source": [
    "video min 21:56 https://fbmcfcenubaar-my.sharepoint.com/personal/fsevlever_fbmc_fcen_uba_ar/_layouts/15/onedrive.aspx?id=%2Fpersonal%2Ffsevlever%5Ffbmc%5Ffcen%5Fuba%5Far%2FDocuments%2FClases%20Redes%2FG04%2Emp4&parent=%2Fpersonal%2Ffsevlever%5Ffbmc%5Ffcen%5Fuba%5Far%2FDocuments%2FClases%20Redes&originalPath=aHR0cHM6Ly9mYm1jZmNlbnViYWFyLW15LnNoYXJlcG9pbnQuY29tLzp2Oi9nL3BlcnNvbmFsL2ZzZXZsZXZlcl9mYm1jX2ZjZW5fdWJhX2FyL0VWdXZoejhkenpORWswYUdlUnJIWFRnQlZkT25sWGtDLXFvMVFKNnBYQURjcEE_cnRpbWU9eWJNbGNjc0YyRWc"
   ]
  },
  {
   "cell_type": "markdown",
   "metadata": {},
   "source": [
    "Considerando una red conformada por un anillo de $n_c$ M-cliques, donde cada uno tiene _m_ nodos y _m(m-1)/2_ enlaces y cliques vecinos estan conectados mediante un único enlace. Esta red tiene una estructura de comunidades natural, donde cada cluster es un clique. \n",
    "\n",
    "## a) \n",
    "La modularidad $M_{single}$ de la particion natural de la red es la siguiente:\n",
    "\n",
    "* $M_{single}=  \\sum_{r}\\left (e_{rr} - a_{r}^2 \\right )$ \n",
    "\n",
    "* $e_{rr}=\\frac{ m (m-1) / 2 }{n_c \\cdot  \\left(m (m-1) / 2 + 1 \\right)} =$ : fracción de enlaces r-r\n",
    "\n",
    "* $a_r = \\frac{ m (m-1) + 2 }{n_c \\cdot \\left( m (m-1) + 2\\right)} = \\frac{1}{n_c} $ : fracción de puntas r\n",
    "\n",
    "* $\\sum_{r} 1 = n_c$"
   ]
  },
  {
   "cell_type": "markdown",
   "metadata": {},
   "source": [
    "Como $e_{rr}$ y $a_r$ no dependen de r, obtenemos:\n",
    "$$M_{single}= n_c \\cdot \\left ( \\frac{ m (m-1) / 2 }{n_c \\cdot  \\left(m (m-1) / 2 + 1 \\right)} -  \\left(\\frac{1}{n_c}\\right)^2\\right)=\\left ( \\frac{ m (m-1) / 2 }{\\left(m (m-1) / 2 + 1 \\right)} -  \\frac{1}{n_c}\\right)$$\n"
   ]
  },
  {
   "cell_type": "markdown",
   "metadata": {},
   "source": [
    "# b)\n",
    "![ej2](img/Guia_4_ej_2.png)\n",
    "\n",
    "La modularidad $M_{pair}$ de una particion en la que pares consecutivos de cliques se juntan en un único cluster se calcula de la siguiente manera:\n",
    "\n",
    "\n",
    "\n",
    "* $M_{pair}=  \\sum_{r}\\left (e_{rr} - a_{r}^2 \\right )$ \n",
    "\n",
    "* $e_{rr}=\\frac{ m (m-1) / 2\\mathbf{ \\cdot 2  + 1}}{n_c \\cdot  \\left(m (m-1) / 2  + 1 \\right)} =$ : fracción de enlaces r-r\n",
    "\n",
    "* $a_r = \\frac{ \\left(m (m-1) + 2 \\right) \\mathbf{\\cdot 2}}{n_c \\cdot \\left( m (m-1) + 2\\right)} = \\frac{\\mathbf{2}}{n_c} $ : fracción de puntas r\n",
    "\n",
    "* $\\sum_{r} 1 = \\frac{n_c}{2}$"
   ]
  },
  {
   "cell_type": "markdown",
   "metadata": {},
   "source": [
    "En __negrita__ estan marcados los términos que se agregan respecto de $ M_{single}$"
   ]
  },
  {
   "cell_type": "markdown",
   "metadata": {},
   "source": [
    "Como $e_{rr}$ y $a_r$ no dependen de r, obtenemos:\n",
    "$$M_{pair}=  \\frac{n_c}{2} \\cdot  \\left ( \\frac{ m (m-1)+1 }{n_c \\cdot  \\left(m (m-1) / 2 + 1 \\right)} -  \\left(\\frac{2}{n_c}\\right)^2\\right)=\\left ( \\frac{ m (m-1) +1 }{\\left(m (m-1) + 2 \\right)} -  \\frac{2}{n_c}\\right)$$"
   ]
  },
  {
   "cell_type": "markdown",
   "metadata": {},
   "source": [
    "## c)\n",
    "\n",
    "Tomando la nocion intuitiva de que separar un clique no podria incrementar la modularidad, entonces la modularidad máxima se tiene que alcanzar juntando de a K cliques.\n",
    "\n",
    "Una condicion excluyente para que la particion intuitiva sea la de máxima modularidad, es que $M_{single} > M_{pair}$. Entonces primero vamos a buscar la condicion para que eso se cumpla:\n",
    "\n",
    "Reescribimos ambas modularidades en funcion de $L = \\frac{n_c m (m-1)}{2} + n_c$:\n",
    "\n",
    "* $M_{single} = \\left [ \\frac{\\frac{L}{n_c}-1}{L} -\\left (\\frac{1}{n_c}  \\right )^2\\right ] n_c$\n",
    "\n",
    "* $M_{pair} =\\left [ \\frac{\\left (\\frac{L}{n_c}-1  \\right )2+1}{L} -\\left (\\frac{2}{n_c}  \\right )^2\\right ] \\frac{n_c}{2} $\n",
    "\n"
   ]
  },
  {
   "cell_type": "markdown",
   "metadata": {},
   "source": [
    "$$\\left [ \\frac{\\frac{L}{n_c}-1}{L} -\\left (\\frac{1}{n_c}  \\right )^2\\right ] n_c > \\left [ \\frac{\\left (\\frac{L}{n_c}-1  \\right )2+1}{L} -\\left (\\frac{2}{n_c}  \\right )^2\\right ] \\frac{n_c}{2}  $$\n",
    "\n",
    "$$\\frac{1}{n_c} - \\frac{1}{L} - \\frac{1}{{n_c}^2} > \\frac{1}{n_c} - \\frac{1}{L} + \\frac{1}{2L} - \\frac{2}{{n_c}^2}$$\n",
    "\n",
    "$$  \\frac{1}{{n_c}^2} >\\frac{1}{2L} $$"
   ]
  },
  {
   "cell_type": "markdown",
   "metadata": {},
   "source": [
    "Con lo cual, que la condicion $ {{n_c}^2} <{2L} $ se cumpla, equivale a que $M_{single} > M_{pair}$, es decir que $M_{single}$ corresponda al criterio de máxima modularidad.\n",
    "\n",
    "NO SE COMO MOSTRAR QUE NO NO ES UN MAXIMO LOCAL\n"
   ]
  }
 ],
 "metadata": {
  "kernelspec": {
   "display_name": "Python 3",
   "language": "python",
   "name": "python3"
  },
  "language_info": {
   "codemirror_mode": {
    "name": "ipython",
    "version": 3
   },
   "file_extension": ".py",
   "mimetype": "text/x-python",
   "name": "python",
   "nbconvert_exporter": "python",
   "pygments_lexer": "ipython3",
   "version": "3.7.3"
  }
 },
 "nbformat": 4,
 "nbformat_minor": 4
}
