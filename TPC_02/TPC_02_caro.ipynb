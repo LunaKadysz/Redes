{
 "cells": [
  {
   "cell_type": "markdown",
   "metadata": {},
   "source": [
    "# 2) En el paper de Barabasi, comparan dos mecanismos de generación de redes aleatorias no dirigidas para explicar las distribuciones tipo power law observadas en muchos tipos de redes muy diversos.\n",
    "## a)\n",
    "Arme un código para generar una red aleatoria tipo Erdos Renyi, con n cantidad de nodos\n",
    "y aproximadamente m cantidad de enlaces. Este tipo de red consiste en simplemente tomar\n",
    "n nodos y enlazar cada par con una probabilidad p.\n",
    "### i. Arme una red de $n = 10000$ nodos y muestre que cumpla $m \\cong  pn(n − 1)/2$\n",
    "¿Por qué vale esta relación?\n"
   ]
  },
  {
   "cell_type": "markdown",
   "metadata": {},
   "source": [
    "<ins>Aclaracion:</ins> Para optimizar los tiempos de ejecucion de las funciones voy a armar una que exclusivamente devuelva m (cantidad de enlaces) y otra que devuelva edges (vector de enlaces). La construccion es la misma pero sirven propositos distintos. Para el caso i. interesa unicamente el valor de m en funcion de valores de p. Y para el caso ii. interesa armar la red para un unico valor de p."
   ]
  },
  {
   "cell_type": "code",
   "execution_count": 2,
   "metadata": {},
   "outputs": [],
   "source": [
    "import networkx as nx\n",
    "import random as random\n",
    "import numpy as np\n",
    "import matplotlib.pyplot as plt\n",
    "\n",
    "#Inicialmente creo una funcion que devuelva m en funcion de n y p (p es un vector)\n",
    "def ErdosRenyi_m(n,p_vect):\n",
    "    m=0\n",
    "    #Itero sobre los pares i-j\n",
    "    for i in range(n):\n",
    "        for j in range(i+1,n):\n",
    "            random_sample = random.random()\n",
    "            if random_sample < p:\n",
    "                m+=1\n",
    "    return(m)\n",
    "\n",
    "#Creo una funcion que devuelve el listado de edges en funcion de n y p\n",
    "def ErdosRenyi_edges(n,p):\n",
    "    edges=[]\n",
    "    #Itero sobre los pares i-j\n",
    "    for i in range(n):\n",
    "        for j in range(i+1,n):\n",
    "            random_sample = random.random()\n",
    "            if random_sample < p:\n",
    "                edges.append((i,j))\n",
    "    return(edges)"
   ]
  },
  {
   "cell_type": "code",
   "execution_count": 16,
   "metadata": {},
   "outputs": [
    {
     "data": {
      "image/png": "[encoded data removed]",
      "text/plain": [
       "<Figure size 432x288 with 1 Axes>"
      ]
     },
     "metadata": {
      "needs_background": "light"
     },
     "output_type": "display_data"
    }
   ],
   "source": [
    "# Tarda aprox 40s en correr\n",
    "n=10000 #cantidad de nodos\n",
    "p_vect=np.linspace(0,1,5) # probabilidad de enlazar\n",
    "m=[]\n",
    "for p in p_vect:\n",
    "    m.append(ErdosRenyi_m(n,p))\n",
    "    \n",
    "plt.plot(p_vect,m,'.',label = 'Cantidad de enlaces')\n",
    "m_teorico=p_vect*n*(n - 1)/2\n",
    "plt.plot(p_vect,m_teorico,label='pn(n − 1)/2')\n",
    "plt.title(f'Cantidad de enlaces para N={n}')\n",
    "plt.legend()\n",
    "plt.show()"
   ]
  },
  {
   "cell_type": "markdown",
   "metadata": {},
   "source": [
    "Es evidente del grafico que la relacion $m \\cong  pn(n − 1)/2$ se cumple, esto se debe a que la cantidad de enlaces m, si la probabilidad fuera 1, seria el número de combinaciones sin repetición de 2 elementos elegidos entre los n. Usando la formula de combinatoria esto termina siendo $n(n-1)/2$. Si luego en cada iteracion agregamos que $p<1$, el valor mas probable termina siendo $pn(n-1)/2$.\n",
    "\n"
   ]
  },
  {
   "cell_type": "markdown",
   "metadata": {},
   "source": [
    "### ii. Con la misma red, muestre que cumpla 〈ki〉 = p(n − 1). ¿Por qué vale esta relación?\n"
   ]
  },
  {
   "cell_type": "markdown",
   "metadata": {},
   "source": [
    "Tomamos de ejemplo la red con $p=0.1$ y utilizamos la funcion ErdosRenyi_edges(n,p) armada anteriormente. Usamos un valor de p bajo para que la cantidad de enlaces agregar sea de un orden menor."
   ]
  },
  {
   "cell_type": "code",
   "execution_count": 3,
   "metadata": {},
   "outputs": [],
   "source": [
    "#Tarda aprox 8s\n",
    "n=10000 #cantidad de nodos\n",
    "p=0.1\n",
    "edges=ErdosRenyi_edges(n,p)"
   ]
  },
  {
   "cell_type": "code",
   "execution_count": 4,
   "metadata": {},
   "outputs": [],
   "source": [
    "#Tarda aprox 7s\n",
    "#Genera la red con los nodos, sin conectar\n",
    "Red_ErdosRenyi = nx.empty_graph(n) \n",
    "Red_ErdosRenyi.add_edges_from(edges)"
   ]
  },
  {
   "cell_type": "code",
   "execution_count": 40,
   "metadata": {},
   "outputs": [
    {
     "name": "stdout",
     "output_type": "stream",
     "text": [
      "〈ki〉= 1000.086 \n",
      " p(n-1)= 999.9000000000001\n"
     ]
    }
   ],
   "source": [
    "#Calcula el grado medio\n",
    "k_sum=0\n",
    "for node in Red_ErdosRenyi.nodes():\n",
    "    k_sum+=Red_ErdosRenyi.degree(node)\n",
    "k_mean=k_sum/n\n",
    "\n",
    "print(f\"〈ki〉= {k_mean} \\n p(n-1)= {p*(n - 1)}\")"
   ]
  },
  {
   "cell_type": "markdown",
   "metadata": {},
   "source": [
    "Podemos ver que en la red del ejemplo la relacion se cumple. Esto se debe a que el grado medio se puede redefinir de la siguiente manera:\n",
    "$$ \\left \\langle ki \\right \\rangle = \\sum_{i}^{N} \\frac{ki}{N} = \\sum_{i,j}^{N} \\frac{A_{ij}}{2N} = \\frac{pn(n-1)/2}{2n} = p(n-1) $$\n",
    "Donde $A_{ij}$ es la matriz de adyacencia, y el factor 2N se agrega debido a que al iterar sobre i y j, se recorre cada enlace dos veces (debido a que la matriz es simetrica)."
   ]
  },
  {
   "cell_type": "code",
   "execution_count": null,
   "metadata": {},
   "outputs": [],
   "source": [
    "#Defino una funcion para generar una red de tipo erdos renyi en base a n y m\n",
    "#Tarda aproximadamente 16 s para una red de n=10000 y p=0.1\n",
    "def Red_ErdosRenyi(n,m):\n",
    "    p=m/( n*(n-1)/2 )\n",
    "    ErdosRenyi_edges(n,p)\n",
    "    #Genera la red con los nodos, sin conectar\n",
    "    Red = nx.empty_graph(n) \n",
    "    Red.add_edges_from(edges)\n",
    "    return(Red)"
   ]
  },
  {
   "cell_type": "markdown",
   "metadata": {},
   "source": [
    "## b) Arme un código para generar una red aleatoria, con n cantidad de nodos y un grado inicial k0 fijo e igual para cada nodo.\n",
    "Este tipo de red consiste en comenzar con k0 nodos de grado k0 e ir agregando un nodo de grado k0 en cada paso. Los nodos ya agregados irán aumentando su grado al conectarse con los nodos nuevos que se vayan agregando. La manera de conectar un nodo nuevo a los existentes es aleatoria, donde el enlace entre el nuevo nodo y uno existente ocurre con igual propabilidad para todos los nodos existentes. Es decir, la probabilidad de que el nodo nuevo se enlace a uno existente (i) es: P = 1/N. Donde N son todos los nodos existentes en ese paso."
   ]
  },
  {
   "cell_type": "code",
   "execution_count": 99,
   "metadata": {},
   "outputs": [],
   "source": [
    "def Aleatoria_n_k0(n,k0):\n",
    "    #Comienza con k0 nodos de grado k0\n",
    "    Red = nx.complete_graph(k0)\n",
    "    for paso in range(k0,n):\n",
    "        nodos_a_enlazar=random.sample(Red.nodes(), k0)\n",
    "        enlaces_nuevos=[]\n",
    "        for nodo in nodos_a_enlazar:\n",
    "            enlaces_nuevos.append((nodo,paso))\n",
    "        Red.add_edges_from(enlaces_nuevos)\n",
    "    return(Red)"
   ]
  },
  {
   "cell_type": "code",
   "execution_count": 101,
   "metadata": {},
   "outputs": [
    {
     "name": "stdout",
     "output_type": "stream",
     "text": [
      "45\n"
     ]
    }
   ],
   "source": [
    "k0=10\n",
    "n=10000\n",
    "Red_aleatoria=Aleatoria(n,k0)"
   ]
  },
  {
   "cell_type": "markdown",
   "metadata": {},
   "source": [
    "Para este tipo de red, la cantidad de enlaces corresponde a la suma de los enlaces de la red completa inicial mas la suma de los k0 enlaces agregados uno por uno: \n",
    "$$ m= k_0(k_0-1)/2 + (n-k_0)k_0 $$\n",
    "\n",
    "De esta manera de obtiene la siguiente formula para la relacion entre $k_0$ n y m:\n",
    "$$0 =- \\frac{1}{2} k_0^{2} + \\left (  n-\\frac{1}{2}\\right ) k_0 - m$$\n",
    "\n",
    "Con lo cual los $k_0$ que generan una red de n nodos y ~m enlaces son el entero positivo mas cercano a las raices reales y positivas de esa ecuacion. "
   ]
  },
  {
   "cell_type": "code",
   "execution_count": 102,
   "metadata": {},
   "outputs": [
    {
     "name": "stdout",
     "output_type": "stream",
     "text": [
      "Para n=1000, m=89000, el k0 obtenido con este metodo es 1906.0 y genera 88629.0 enlaces.\n"
     ]
    }
   ],
   "source": [
    "#Por ejemplo tomamos n=100, m=1000\n",
    "n=1000\n",
    "m=89000\n",
    "c=[-0.5 , n-0.5 , -m]\n",
    "k0=[round(x) for x in np.roots(c) if np.isreal(x) and x > 0][0]\n",
    "m_obtenido=k0*(k0-1)/2 + (n-k0)*k0\n",
    "print(f\"Para n={n}, m={m}, el k0 obtenido con este metodo es {k0} y genera {m_obtenido} enlaces.\")"
   ]
  },
  {
   "cell_type": "code",
   "execution_count": 103,
   "metadata": {},
   "outputs": [],
   "source": [
    "def Red_aleatoria(n,m):\n",
    "    c=[-0.5 , n-0.5 , -m]\n",
    "    k0=[round(x) for x in np.roots(c) if np.isreal(x) and x > 0][0]\n",
    "    #En caso que devuelva k0=0, lo redefino como 1\n",
    "    if k0==0: k0=1\n",
    "    Red=Aleatoria_n_k0(n,k0)\n",
    "    return(Red)  "
   ]
  },
  {
   "cell_type": "markdown",
   "metadata": {},
   "source": [
    "## c) Arme un código para generar una red aleatoria tipo Barabasi, con n cantidad de nodos y un grado inicial k0 fijo e igual para cada nodo. \n",
    "Este tipo de red consiste en comenzar con pocos nodos de grado k0 e ir agregando un nodo de grado k en cada paso. Los nodos ya\n",
    "agregados irán aumentando su grado al conectarse con los nodos nuevos que se vayan agregando. La manera de conectar un nodo nuevo a los existentes es aleatoria, determinada por una probabilidad proporcional al grado de cada nodo existente. Es decir, la probabilidad de que el nodo nuevo se enlace a uno existente (i) es: P = ki/ ∑j kj\n",
    "\n",
    ". Donde la sumatoria es sobre todos los nodos existentes.\n",
    "### i. Arme una red de n = 10000 nodos y muestre que cumpla m ≅ k0n. ¿Por qué vale esta relación?\n",
    "Ayuda: puede comparar las redes de sus códigos con la de la librería networkx que cumple\n",
    "la misma función: barabasi_albert_graph(n, k0).\n",
    "Ayuda: para agregar los enlaces con una probabilidad dada por el grado de cada nodo,\n",
    "una estrategia podría ser armar una lista de los nodos, donde cada nodo aparezca tantas\n",
    "veces como su grado."
   ]
  },
  {
   "cell_type": "markdown",
   "metadata": {},
   "source": [
    "## d) Calcule y grafique la distribución de grado para los 3 tipos de redes, para 4 casos donde m y n sean similares a aquellos de las redes del ejercicio 1). \n",
    "¿Qué tipo de red da una distribución más parecida a las de los datos? ¿Es posible extraer una conclusión general\n",
    "sobre el mecanismo de generación de estas redes?"
   ]
  }
 ],
 "metadata": {
  "kernelspec": {
   "display_name": "Python 3",
   "language": "python",
   "name": "python3"
  },
  "language_info": {
   "codemirror_mode": {
    "name": "ipython",
    "version": 3
   },
   "file_extension": ".py",
   "mimetype": "text/x-python",
   "name": "python",
   "nbconvert_exporter": "python",
   "pygments_lexer": "ipython3",
   "version": "3.7.3"
  }
 },
 "nbformat": 4,
 "nbformat_minor": 4
}
