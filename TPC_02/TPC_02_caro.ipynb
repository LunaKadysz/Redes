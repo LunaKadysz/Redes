{
 "cells": [
  {
   "cell_type": "markdown",
   "metadata": {},
   "source": [
    "# 2) \n",
    "En el paper de Barabasi, comparan dos mecanismos de generación de redes aleatorias no dirigidas para explicar las distribuciones tipo power law observadas en muchos tipos de redes muy diversos.\n",
    "## a)\n",
    "Arme un código para generar una red aleatoria tipo Erdos Renyi, con n cantidad de nodos\n",
    "y aproximadamente m cantidad de enlaces. Este tipo de red consiste en simplemente tomar\n",
    "n nodos y enlazar cada par con una probabilidad p.\n",
    "### i. Arme una red de $n = 10000$ nodos y muestre que cumpla $m \\cong  pn(n − 1)/2$\n",
    "¿Por qué vale esta relación?\n"
   ]
  },
  {
   "cell_type": "markdown",
   "metadata": {},
   "source": [
    "<ins>Aclaracion:</ins> Para optimizar los tiempos de ejecucion de las funciones voy a armar una que exclusivamente devuelva m (cantidad de enlaces) y otra que devuelva edges (vector de enlaces). La construccion es la misma pero sirven propositos distintos. Para el caso i. interesa unicamente el valor de m en funcion de valores de p. Y para el caso ii. interesa armar la red para un unico valor de p."
   ]
  },
  {
   "cell_type": "code",
   "execution_count": 2,
   "metadata": {},
   "outputs": [],
   "source": [
    "import networkx as nx\n",
    "import random as random\n",
    "import numpy as np\n",
    "import matplotlib.pyplot as plt\n",
    "\n",
    "#Inicialmente creo una funcion que devuelva m en funcion de n y p (p es un vector)\n",
    "def ErdosRenyi_m(n,p_vect):\n",
    "    m=0\n",
    "    #Itero sobre los pares i-j\n",
    "    for i in range(n):\n",
    "        for j in range(i+1,n):\n",
    "            random_sample = random.random()\n",
    "            if random_sample < p:\n",
    "                m+=1\n",
    "    return(m)\n",
    "\n",
    "#Creo una funcion que devuelve el listado de edges en funcion de n y p\n",
    "def ErdosRenyi_edges(n,p):\n",
    "    edges=[]\n",
    "    #Itero sobre los pares i-j\n",
    "    for i in range(n):\n",
    "        for j in range(i+1,n):\n",
    "            random_sample = random.random()\n",
    "            if random_sample < p:\n",
    "                edges.append((i,j))\n",
    "    return(edges)"
   ]
  },
  {
   "cell_type": "code",
   "execution_count": 16,
   "metadata": {},
   "outputs": [
    {
     "data": {
      "image/png": "[encoded data removed]",
      "text/plain": [
       "<Figure size 432x288 with 1 Axes>"
      ]
     },
     "metadata": {
      "needs_background": "light"
     },
     "output_type": "display_data"
    }
   ],
   "source": [
    "# Tarda aprox 40s en correr\n",
    "n=10000 #cantidad de nodos\n",
    "p_vect=np.linspace(0,1,5) # probabilidad de enlazar\n",
    "m=[]\n",
    "for p in p_vect:\n",
    "    m.append(ErdosRenyi_m(n,p))\n",
    "    \n",
    "plt.plot(p_vect,m,'.',label = 'Cantidad de enlaces')\n",
    "m_teorico=p_vect*n*(n - 1)/2\n",
    "plt.plot(p_vect,m_teorico,label='pn(n − 1)/2')\n",
    "plt.title(f'Cantidad de enlaces para N={n}')\n",
    "plt.legend()\n",
    "plt.show()"
   ]
  },
  {
   "cell_type": "markdown",
   "metadata": {},
   "source": [
    "Es evidente del grafico que la relacion $m \\cong  pn(n − 1)/2$ se cumple, esto se debe a que la cantidad de enlaces m, si la probabilidad fuera 1, seria el número de combinaciones sin repetición de 2 elementos elegidos entre los n. Usando la formula de combinatoria esto termina siendo $n(n-1)/2$. Si luego en cada iteracion agregamos que $p<1$, el valor mas probable termina siendo $pn(n-1)/2$.\n",
    "\n"
   ]
  },
  {
   "cell_type": "markdown",
   "metadata": {},
   "source": [
    "### ii. Con la misma red, muestre que cumpla 〈ki〉 = p(n − 1). ¿Por qué vale esta relación?\n"
   ]
  },
  {
   "cell_type": "markdown",
   "metadata": {},
   "source": [
    "Tomamos de ejemplo la red con $p=0.1$ y utilizamos la funcion ErdosRenyi_edges(n,p) armada anteriormente. Usamos un valor de p bajo para que la cantidad de enlaces agregar sea de un orden menor."
   ]
  },
  {
   "cell_type": "code",
   "execution_count": 3,
   "metadata": {},
   "outputs": [],
   "source": [
    "#Tarda aprox 8s\n",
    "n=10000 #cantidad de nodos\n",
    "p=0.1\n",
    "edges=ErdosRenyi_edges(n,p)"
   ]
  },
  {
   "cell_type": "code",
   "execution_count": 4,
   "metadata": {},
   "outputs": [],
   "source": [
    "#Tarda aprox 7s\n",
    "#Genera la red con los nodos, sin conectar\n",
    "Red_ErdosRenyi = nx.empty_graph(n) \n",
    "Red_ErdosRenyi.add_edges_from(edges)"
   ]
  },
  {
   "cell_type": "code",
   "execution_count": 40,
   "metadata": {},
   "outputs": [
    {
     "name": "stdout",
     "output_type": "stream",
     "text": [
      "〈ki〉= 1000.086 \n",
      " p(n-1)= 999.9000000000001\n"
     ]
    }
   ],
   "source": [
    "#Calcula el grado medio\n",
    "k_sum=0\n",
    "for node in Red_ErdosRenyi.nodes():\n",
    "    k_sum+=Red_ErdosRenyi.degree(node)\n",
    "k_mean=k_sum/n\n",
    "\n",
    "print(f\"〈ki〉= {k_mean} \\n p(n-1)= {p*(n - 1)}\")"
   ]
  },
  {
   "cell_type": "markdown",
   "metadata": {},
   "source": [
    "Podemos ver que en la red del ejemplo la relacion se cumple. Esto se debe a que el grado medio se puede redefinir de la siguiente manera:\n",
    "$$ \\left \\langle ki \\right \\rangle = \\sum_{i}^{N} \\frac{ki}{N} = \\sum_{i,j}^{N} \\frac{A_{ij}}{2N} = \\frac{pn(n-1)/2}{2n} = p(n-1) $$\n",
    "Donde $A_{ij}$ es la matriz de adyacencia, y el factor 2N se agrega debido a que al iterar sobre i y j, se recorre cada enlace dos veces (debido a que la matriz es simetrica)."
   ]
  },
  {
   "cell_type": "code",
   "execution_count": null,
   "metadata": {},
   "outputs": [],
   "source": [
    "#Defino una funcion para generar una red de tipo erdos renyi en base a n y m\n",
    "#Tarda aproximadamente 16 s para una red de n=10000 y p=0.1\n",
    "def Red_ErdosRenyi(n,m):\n",
    "    p=m/( n*(n-1)/2 )\n",
    "    ErdosRenyi_edges(n,p)\n",
    "    #Genera la red con los nodos, sin conectar\n",
    "    Red = nx.empty_graph(n) \n",
    "    Red.add_edges_from(edges)\n",
    "    return(Red)"
   ]
  },
  {
   "cell_type": "markdown",
   "metadata": {},
   "source": [
    "## b) Arme un código para generar una red aleatoria, con n cantidad de nodos y un grado inicial k0 fijo e igual para cada nodo.\n",
    "Este tipo de red consiste en comenzar con k0 nodos de grado k0 e ir agregando un nodo de grado k0 en cada paso. Los nodos ya agregados irán aumentando su grado al conectarse con los nodos nuevos que se vayan agregando. La manera de conectar un nodo nuevo a los existentes es aleatoria, donde el enlace entre el nuevo nodo y uno existente ocurre con igual propabilidad para todos los nodos existentes. Es decir, la probabilidad de que el nodo nuevo se enlace a uno existente (i) es: P = 1/N. Donde N son todos los nodos existentes en ese paso."
   ]
  },
  {
   "cell_type": "code",
   "execution_count": 99,
   "metadata": {},
   "outputs": [],
   "source": [
    "def Aleatoria_n_k0(n,k0):\n",
    "    #Comienza con k0 nodos de grado k0\n",
    "    Red = nx.complete_graph(k0)\n",
    "    for paso in range(k0,n):\n",
    "        nodos_a_enlazar=random.sample(Red.nodes(), k0)\n",
    "        enlaces_nuevos=[]\n",
    "        for nodo in nodos_a_enlazar:\n",
    "            enlaces_nuevos.append((nodo,paso))\n",
    "        Red.add_edges_from(enlaces_nuevos)\n",
    "    return(Red)"
   ]
  },
  {
   "cell_type": "code",
   "execution_count": 101,
   "metadata": {},
   "outputs": [
    {
     "name": "stdout",
     "output_type": "stream",
     "text": [
      "45\n"
     ]
    }
   ],
   "source": [
    "k0=10\n",
    "n=10000\n",
    "Red_aleatoria=Aleatoria(n,k0)"
   ]
  },
  {
   "cell_type": "markdown",
   "metadata": {},
   "source": [
    "Para este tipo de red, la cantidad de enlaces corresponde a la suma de los enlaces de la red completa inicial mas la suma de los k0 enlaces agregados uno por uno: \n",
    "$$ m= k_0(k_0-1)/2 + (n-k_0)k_0 $$\n",
    "\n",
    "De esta manera de obtiene la siguiente formula para la relacion entre $k_0$ n y m:\n",
    "$$0 =- \\frac{1}{2} k_0^{2} + \\left (  n-\\frac{1}{2}\\right ) k_0 - m$$\n",
    "\n",
    "Con lo cual los $k_0$ que generan una red de n nodos y ~m enlaces son el entero positivo mas cercano a las raices reales y positivas de esa ecuacion. "
   ]
  },
  {
   "cell_type": "code",
   "execution_count": 102,
   "metadata": {},
   "outputs": [
    {
     "name": "stdout",
     "output_type": "stream",
     "text": [
      "Para n=1000, m=89000, el k0 obtenido con este metodo es 1906.0 y genera 88629.0 enlaces.\n"
     ]
    }
   ],
   "source": [
    "#Por ejemplo tomamos n=100, m=1000\n",
    "n=1000\n",
    "m=89000\n",
    "c=[-0.5 , n-0.5 , -m]\n",
    "k0=[round(x) for x in np.roots(c) if np.isreal(x) and x > 0][0]\n",
    "m_obtenido=k0*(k0-1)/2 + (n-k0)*k0\n",
    "print(f\"Para n={n}, m={m}, el k0 obtenido con este metodo es {k0} y genera {m_obtenido} enlaces.\")"
   ]
  },
  {
   "cell_type": "code",
   "execution_count": 103,
   "metadata": {},
   "outputs": [],
   "source": [
    "def Red_aleatoria(n,m):\n",
    "    c=[-0.5 , n-0.5 , -m]\n",
    "    k0=[round(x) for x in np.roots(c) if np.isreal(x) and x > 0][0]\n",
    "    #En caso que devuelva k0=0, lo redefino como 1\n",
    "    if k0==0: k0=1\n",
    "    Red=Aleatoria_n_k0(n,k0)\n",
    "    return(Red)  "
   ]
  },
  {
   "cell_type": "markdown",
   "metadata": {},
   "source": [
    "## c) \n",
    "Armamos un código para generar una red aleatoria tipo Barabasi, con $n$ cantidad de nodos y un grado inicial $k_0$ fijo e igual para cada nodo. \n",
    "Este tipo de red consiste en comenzar con pocos nodos de grado $k_0$ e ir agregando un nodo de grado $k_0$ en cada paso. Los nodos ya agregados irán aumentando su grado al conectarse con los nodos nuevos que se vayan agregando. La manera de conectar un nodo nuevo a los existentes es aleatoria, determinada por una probabilidad proporcional al grado de cada nodo existente. Es decir, la probabilidad de que el nodo nuevo se enlace a uno existente (i) es: $P = \\frac{k_i}{\\sum{j}k_j}$. Donde la sumatoria es sobre todos los nodos existentes. Para lo mismo, utilizamos una función de Numpy.Random.choice que elije de una lista con una dada probabilidad para cada elemento. \n"
   ]
  },
  {
   "cell_type": "code",
   "execution_count": 3,
   "metadata": {},
   "outputs": [],
   "source": [
    "import numpy as np\n",
    "def barabasi(m, final_nodes):\n",
    "    #m es el grado de los nodos iniciales y a la vez la cantidad de enlaces que agrego por iteracion\n",
    "    \n",
    "    new_node = m + 1 \n",
    "        \n",
    "    G = nx.complete_graph(m) #primero un grafo completo\n",
    "    G_dict = {key: m-1 for key in range(m)} #usamos un dict para no recorrer siempre la red \n",
    "    \n",
    "    for step in range(final_nodes - m):\n",
    "        nodes_to_add = add_edges(G_dict, m)      \n",
    "        G.add_node(new_node)\n",
    "        G_dict[new_node] = m\n",
    "        \n",
    "        for node in nodes_to_add:\n",
    "            G.add_edge(new_node, node)\n",
    "            G_dict[node] += 1\n",
    "                    \n",
    "        new_node += 1\n",
    "        \n",
    "    return G\n",
    "\n",
    "        \n",
    "def add_edges(G_dict, m):\n",
    "    nodes_probs = []\n",
    "    nodes = list(G_dict.keys())\n",
    "    total_degree = sum(G_dict.values())\n",
    "    \n",
    "    for node in nodes:\n",
    "        node_degr = G_dict[node]\n",
    "        node_prob = node_degr / total_degree #probabilidad definida en el enunciado\n",
    "        nodes_probs.append(node_prob)\n",
    "        \n",
    "    random_nodes = np.random.choice(nodes, size = m, p = nodes_probs)\n",
    "             \n",
    "    return random_nodes"
   ]
  },
  {
   "cell_type": "markdown",
   "metadata": {},
   "source": [
    "Armamos redes con $n = 10000$ y comprobamos que cumple la relación: $ enlaces \\cong k_0 n$\n",
    "Para lo mismo generamos 10 redes con $k_0$ aleatorios dentro de un rango (la idea de estos grafos es empezar con número 'pequeño' de nodos. \n",
    "\n",
    "Creamos un diccionario que para cada red nos guarda su $k_0$, la diferencia entre los enlaces y el valor teórico y el porcentaje que eso representa del total. "
   ]
  },
  {
   "cell_type": "code",
   "execution_count": 6,
   "metadata": {},
   "outputs": [
    {
     "name": "stdout",
     "output_type": "stream",
     "text": [
      "(480330, 9670, 2.013199258842879)\n",
      "(129103, 897, 0.6947940791461081)\n",
      "(286086, 3914, 1.3681200757814083)\n",
      "(158699, 1301, 0.8197909249585694)\n",
      "(79624, 376, 0.47221943132723804)\n",
      "(344707, 5293, 1.535506966786285)\n",
      "(129118, 882, 0.6830960826530771)\n",
      "(325244, 4756, 1.462286775467034)\n",
      "(188173, 1827, 0.970915062203398)\n",
      "(138947, 1053, 0.75784291852289)\n"
     ]
    }
   ],
   "source": [
    "import networkx as nx\n",
    "m_dict = {}\n",
    "n = 10000\n",
    "\n",
    "for _ in range(10):\n",
    "    k_0 = np.random.randint(0,50)\n",
    "    Network = barabasi(k_0, n)\n",
    "    num_edges = Network.number_of_edges()\n",
    "    diff = abs(num_edges - k_0 * n)\n",
    "    diff_percent = diff / num_edges * 100\n",
    "    m_dict[k_0] = num_edges , diff, diff_percent\n",
    "    print(m_dict[k_0])"
   ]
  },
  {
   "cell_type": "markdown",
   "metadata": {},
   "source": [
    "Graficamos los valores esperados y el número de enlaces de cada red en función de su $k_0$. Podemos ver que la relación se cumple ya que cada nodo \n",
    "\n",
    "# TODO "
   ]
  },
  {
   "cell_type": "markdown",
   "metadata": {},
   "source": [
    "## d)\n",
    "Calcule y grafique la distribución de grado para los 3 tipos de redes, para 4 casos donde m y n sean similares a aquellos de las redes del ejercicio 1). \n",
    "¿Qué tipo de red da una distribución más parecida a las de los datos? ¿Es posible extraer una conclusión general\n",
    "sobre el mecanismo de generación de estas redes?"
   ]
  },
  {
   "cell_type": "markdown",
   "metadata": {},
   "source": [
    "# Ejercicio 3\n",
    "Construímos una red de tipo Barabasi con $n = 10000$ y $k_0 = 7$. Tomamos los 2 nodos\n",
    "agregados en los pasos 5 y 95 para analiazar el grado de estos nodos en función\n",
    "de los pasos siguientes. "
   ]
  },
  {
   "cell_type": "code",
   "execution_count": 7,
   "metadata": {},
   "outputs": [],
   "source": [
    "\"Esta funcion es la misma que el 2C, pero ahora guarda la informacion de los nodos agregados en el paso 5 y el paso 95\"\n",
    "\n",
    "def barabasi_mod(m, final_nodes):\n",
    "    #m es el grado de los nodos iniciales y a la vez la cantidad de enlaces que agrego por iteracion\n",
    "    \n",
    "    node_5 = []\n",
    "    node_95 = []\n",
    "    new_node = m + 1 \n",
    "        \n",
    "    G = nx.complete_graph(m)\n",
    "    G_dict = {key: m-1 for key in range(m)}\n",
    "    \n",
    "    for step in range(final_nodes - m):\n",
    "        nodes_to_add = add_edges_mod(G_dict, m)      \n",
    "        G.add_node(new_node)\n",
    "        G_dict[new_node] = m\n",
    "        \n",
    "         \n",
    "        for node in nodes_to_add:\n",
    "            G.add_edge(new_node, node)\n",
    "            G_dict[node] += 1\n",
    "        \n",
    "                \n",
    "        if G_dict.get(m + 5):\n",
    "            degree_5 = G_dict[m + 5]\n",
    "            node_5.append(degree_5)\n",
    "        \n",
    "            \n",
    "        if G_dict.get(m + 95):\n",
    "            degree_95 = G_dict[m + 95]\n",
    "            node_95.append(degree_95)\n",
    "        \n",
    "        new_node += 1\n",
    "        \n",
    "    return G,node_5, node_95\n",
    "\n",
    "\n",
    "        \n",
    "def add_edges_mod(G_dict, m):\n",
    "    nodes_probs = []\n",
    "    nodes = list(G_dict.keys())\n",
    "    total_degree = sum(G_dict.values())\n",
    "    \n",
    "    for node in nodes:\n",
    "        node_degr = G_dict[node]\n",
    "        node_prob = node_degr / total_degree\n",
    "        nodes_probs.append(node_prob)\n",
    "        \n",
    "    random_nodes = np.random.choice(nodes, size = m, p = nodes_probs)\n",
    "    \n",
    "         \n",
    "    return random_nodes"
   ]
  },
  {
   "cell_type": "code",
   "execution_count": 13,
   "metadata": {},
   "outputs": [],
   "source": [
    "n_3 = 10000\n",
    "k_0_3 = 7\n",
    "Network_3, grado_5, grado_95 = barabasi_mod(k_0_3,n_3)"
   ]
  },
  {
   "cell_type": "markdown",
   "metadata": {},
   "source": [
    "Graficamos el grado de los nodos elegidos en escala logarítmica en ambos ejes. "
   ]
  },
  {
   "cell_type": "code",
   "execution_count": 15,
   "metadata": {},
   "outputs": [
    {
     "data": {
      "image/png": "[encoded data removed]",
      "text/plain": [
       "<Figure size 432x288 with 1 Axes>"
      ]
     },
     "metadata": {
      "needs_background": "light"
     },
     "output_type": "display_data"
    }
   ],
   "source": [
    "import matplotlib.pyplot as plt\n",
    "\n",
    "plt.loglog(list(range(k_0_3 -1 + 95, 10000)),grado_95, label = \"Nodo 95\")\n",
    "plt.loglog(list(range(k_0_3 -1 + 5 , 10000)), grado_5, label = \"Nodo 5\")\n",
    "plt.legend()\n",
    "plt.show()"
   ]
  },
  {
   "cell_type": "markdown",
   "metadata": {},
   "source": [
    "# TODO \n",
    "¿Qué puede concluir de la\n",
    "pendiente de las curvas? ¿Cuál es la diferencia entre un Hub (nodo de alto grado) y otro nodo de la\n",
    "red?"
   ]
  }
 ],
 "metadata": {
  "kernelspec": {
   "display_name": "Python 3",
   "language": "python",
   "name": "python3"
  },
  "language_info": {
   "codemirror_mode": {
    "name": "ipython",
    "version": 3
   },
   "file_extension": ".py",
   "mimetype": "text/x-python",
   "name": "python",
   "nbconvert_exporter": "python",
   "pygments_lexer": "ipython3",
   "version": "3.6.9"
  }
 },
 "nbformat": 4,
 "nbformat_minor": 4
}
