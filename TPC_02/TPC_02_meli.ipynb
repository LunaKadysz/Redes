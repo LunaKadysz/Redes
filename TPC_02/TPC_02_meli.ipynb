{
 "cells": [
  {
   "cell_type": "markdown",
   "metadata": {},
   "source": [
    "# 2) c"
   ]
  },
  {
   "cell_type": "code",
   "execution_count": 8,
   "metadata": {},
   "outputs": [],
   "source": [
    "import networkx as nx \n",
    "import matplotlib.pyplot as plt\n",
    "import numpy as np"
   ]
  },
  {
   "cell_type": "code",
   "execution_count": 72,
   "metadata": {},
   "outputs": [],
   "source": [
    "def barabasi(m, final_nodes):\n",
    "    #m es el grado de los nodos iniciales y a la vez la cantidad de enlaces que agrego por iteracion\n",
    "    \n",
    "    new_node = m + 1 \n",
    "        \n",
    "    G = nx.complete_graph(m)\n",
    "    G_dict = {key: m-1 for key in range(m)}\n",
    "    \n",
    "    for step in range(final_nodes - m):\n",
    "        nodes_to_add = add_edges(G_dict, m)      \n",
    "        G.add_node(new_node)\n",
    "        G_dict[new_node] = m\n",
    "        \n",
    "         \n",
    "        for node in nodes_to_add:\n",
    "            G.add_edge(new_node, node)\n",
    "            G_dict[node] += 1\n",
    "                    \n",
    "        new_node += 1\n",
    "        \n",
    "    return G\n",
    "\n",
    "\n",
    "        \n",
    "def add_edges(G_dict, m):\n",
    "    nodes_probs = []\n",
    "    nodes = list(G_dict.keys())\n",
    "    total_degree = sum(G_dict.values())\n",
    "    \n",
    "    for node in nodes:\n",
    "        node_degr = G_dict[node]\n",
    "        node_prob = node_degr / total_degree\n",
    "        nodes_probs.append(node_prob)\n",
    "        \n",
    "\n",
    "    random_nodes = np.random.choice(nodes, size = m, p = nodes_probs)\n",
    "    \n",
    "         \n",
    "    return random_nodes"
   ]
  },
  {
   "cell_type": "code",
   "execution_count": 186,
   "metadata": {},
   "outputs": [
    {
     "name": "stdout",
     "output_type": "stream",
     "text": [
      "(19974, 26, 0.02180750681484588)\n",
      "(29947, 53, 0.044453763891801217)\n",
      "(305699, 4301, 3.607464877332774)\n",
      "(227491, 2509, 2.1044244076326275)\n",
      "(237256, 2744, 2.30153071922835)\n",
      "(49849, 151, 0.126651289578528)\n",
      "(119168, 832, 0.6978402180750681)\n",
      "(19980, 20, 0.01677500524218914)\n",
      "(383364, 6636, 5.565946739358356)\n",
      "(198015, 1985, 1.664919270287272)\n"
     ]
    }
   ],
   "source": [
    "m_dict = {}\n",
    "n = 10000\n",
    "\n",
    "for _ in range(10):\n",
    "    k_0 = np.random.randint(0,50)\n",
    "    Network = barabasi(k_0, n)\n",
    "    num_edges = Network.number_of_edges()\n",
    "    diff = abs(num_edges - k_0 * n)\n",
    "    diff_percent = diff / m * 100\n",
    "    m_dict[k_0] = num_edges , diff, diff_percent\n",
    "    print(m_dict[k_0])\n",
    "       "
   ]
  },
  {
   "cell_type": "code",
   "execution_count": 187,
   "metadata": {},
   "outputs": [
    {
     "data": {
      "image/png": "[encoded data removed]",
      "text/plain": [
       "<Figure size 432x288 with 1 Axes>"
      ]
     },
     "metadata": {
      "needs_background": "light"
     },
     "output_type": "display_data"
    }
   ],
   "source": [
    "fig, ax = plt.subplots()\n",
    "plt.xlabel('$k_0$')\n",
    "plt.ylabel('Enlaces')\n",
    "plt.title(f'Red de Barabasi con {n} nodos')\n",
    "\n",
    "for key in m_dict.keys():\n",
    "    \n",
    "    scatter1 = ax.scatter(key, m_dict[key][0], c = 'r')\n",
    "    scatter2 = ax.scatter(key, key * n, c = 'b')\n",
    "\n",
    "ax.legend((scatter1, scatter2),\n",
    "           ('Enlaces', '$k_0 * n$'),\n",
    "           scatterpoints=1,\n",
    "           loc='lower right',\n",
    "           ncol=3,\n",
    "           fontsize=10)\n",
    "\n",
    "plt.show()   "
   ]
  },
  {
   "cell_type": "markdown",
   "metadata": {},
   "source": [
    "# 3 (opcional)"
   ]
  },
  {
   "cell_type": "code",
   "execution_count": 138,
   "metadata": {},
   "outputs": [],
   "source": [
    "\"Esta funcion es la misma que el 2C, pero ahora guarda la informacion de los nodos agregados en el paso 5 y el paso 95\"\n",
    "\n",
    "def barabasi_mod(m, final_nodes):\n",
    "    #m es el grado de los nodos iniciales y a la vez la cantidad de enlaces que agrego por iteracion\n",
    "    \n",
    "    node_5 = []\n",
    "    node_95 = []\n",
    "    new_node = m + 1 \n",
    "        \n",
    "    G = nx.complete_graph(m)\n",
    "    G_dict = {key: m-1 for key in range(m)}\n",
    "    \n",
    "    for step in range(final_nodes - m):\n",
    "        nodes_to_add = add_edges_mod(G_dict, m)      \n",
    "        G.add_node(new_node)\n",
    "        G_dict[new_node] = m\n",
    "        \n",
    "         \n",
    "        for node in nodes_to_add:\n",
    "            G.add_edge(new_node, node)\n",
    "            G_dict[node] += 1\n",
    "        \n",
    "                \n",
    "        if G_dict.get(m + 5):\n",
    "            degree_5 = G_dict[m + 5]\n",
    "            node_5.append(degree_5)\n",
    "        \n",
    "            \n",
    "        if G_dict.get(m + 95):\n",
    "            degree_95 = G_dict[m + 95]\n",
    "            node_95.append(degree_95)\n",
    "        \n",
    "        \n",
    "\n",
    "        new_node += 1\n",
    "        \n",
    "    return G,node_5, node_95\n",
    "\n",
    "\n",
    "        \n",
    "def add_edges_mod(G_dict, m):\n",
    "    nodes_probs = []\n",
    "    nodes = list(G_dict.keys())\n",
    "    total_degree = sum(G_dict.values())\n",
    "    \n",
    "    for node in nodes:\n",
    "        node_degr = G_dict[node]\n",
    "        node_prob = node_degr / total_degree\n",
    "        nodes_probs.append(node_prob)\n",
    "        \n",
    "    random_nodes = np.random.choice(nodes, size = m, p = nodes_probs)\n",
    "    \n",
    "         \n",
    "    return random_nodes\n",
    "    "
   ]
  },
  {
   "cell_type": "code",
   "execution_count": 189,
   "metadata": {},
   "outputs": [],
   "source": [
    "Network_3, grado_5, grado_95 = barabasi_mod(7,10000)"
   ]
  },
  {
   "cell_type": "code",
   "execution_count": 190,
   "metadata": {},
   "outputs": [
    {
     "data": {
      "image/png": "[encoded data removed]",
      "text/plain": [
       "<Figure size 432x288 with 1 Axes>"
      ]
     },
     "metadata": {
      "needs_background": "light"
     },
     "output_type": "display_data"
    }
   ],
   "source": [
    "plt.loglog(list(range(6 + 95, 10000)),grado_95, label = \"Nodo 95\")\n",
    "plt.loglog(list(range(6 + 5, 10000)), grado_5, label = \"Nodo 5\")\n",
    "plt.legend()\n",
    "plt.show()"
   ]
  },
  {
   "cell_type": "markdown",
   "metadata": {},
   "source": [
    "Heavily linked nodes (\"hubs\") tend to quickly accumulate even more links, while nodes with only a few links are unlikely to be chosen as the destination for a new link. The new nodes have a \"preference\" to attach themselves to the already heavily linked nodes."
   ]
  },
  {
   "cell_type": "code",
   "execution_count": null,
   "metadata": {},
   "outputs": [],
   "source": []
  }
 ],
 "metadata": {
  "kernelspec": {
   "display_name": "Python 3",
   "language": "python",
   "name": "python3"
  },
  "language_info": {
   "codemirror_mode": {
    "name": "ipython",
    "version": 3
   },
   "file_extension": ".py",
   "mimetype": "text/x-python",
   "name": "python",
   "nbconvert_exporter": "python",
   "pygments_lexer": "ipython3",
   "version": "3.6.9"
  }
 },
 "nbformat": 4,
 "nbformat_minor": 2
}
