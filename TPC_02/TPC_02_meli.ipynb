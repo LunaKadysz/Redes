{
 "cells": [
  {
   "cell_type": "markdown",
   "metadata": {},
   "source": [
    "CARO"
   ]
  },
  {
   "cell_type": "code",
   "execution_count": null,
   "metadata": {},
   "outputs": [],
   "source": []
  },
  {
   "cell_type": "markdown",
   "metadata": {},
   "source": [
    "# 2) "
   ]
  },
  {
   "cell_type": "markdown",
   "metadata": {},
   "source": [
    "## c) \n",
    "Armamos un código para generar una red aleatoria tipo Barabasi, con $n$ cantidad de nodos y un grado inicial $k_0$ fijo e igual para cada nodo. \n",
    "Este tipo de red consiste en comenzar con pocos nodos de grado $k_0$ e ir agregando un nodo de grado $k_0$ en cada paso. Los nodos ya agregados irán aumentando su grado al conectarse con los nodos nuevos que se vayan agregando. La manera de conectar un nodo nuevo a los existentes es aleatoria, determinada por una probabilidad proporcional al grado de cada nodo existente. Es decir, la probabilidad de que el nodo nuevo se enlace a uno existente (i) es: $P = \\frac{k_i}{\\sum{j}k_j}$. Donde la sumatoria es sobre todos los nodos existentes. Para lo mismo, utilizamos una función de Numpy.Random.choice que elije de una lista con una dada probabilidad para cada elemento. \n"
   ]
  },
  {
   "cell_type": "code",
   "execution_count": 11,
   "metadata": {},
   "outputs": [],
   "source": [
    "import networkx as nx \n",
    "import matplotlib.pyplot as plt\n",
    "import numpy as np"
   ]
  },
  {
   "cell_type": "code",
   "execution_count": 12,
   "metadata": {},
   "outputs": [],
   "source": [
    "import numpy as np\n",
    "def barabasi(k_0, final_nodes):\n",
    "    #m es el grado de los nodos iniciales y a la vez la cantidad de enlaces que agrego por iteracion\n",
    "    \n",
    "    new_node = k_0\n",
    "        \n",
    "    G = nx.complete_graph(k_0) #primero un grafo completo\n",
    "    G_dict = {key: k_0-1 for key in range(k_0)} #usamos un dict para no recorrer siempre la red \n",
    "    \n",
    "    for step in range(final_nodes - k_0):\n",
    "        nodes_to_add = add_edges(G_dict, k_0)      \n",
    "        G.add_node(new_node)\n",
    "        G_dict[new_node] = k_0\n",
    "        \n",
    "        for node in nodes_to_add:\n",
    "            G.add_edge(new_node, node)\n",
    "            G_dict[node] += 1\n",
    "                    \n",
    "        new_node += 1\n",
    "        \n",
    "    return G\n",
    "\n",
    "        \n",
    "def add_edges(G_dict, k_0):\n",
    "    nodes_probs = []\n",
    "    nodes = list(G_dict.keys())\n",
    "    total_degree = sum(G_dict.values())\n",
    "    \n",
    "    for node in nodes:\n",
    "        node_degr = G_dict[node]\n",
    "        node_prob = node_degr / total_degree if total_degree > 0 else 1/len(nodes) #probabilidad definida en el enunciado, puede elegir dos veces el mismo\n",
    "        nodes_probs.append(node_prob)\n",
    "        \n",
    "    random_nodes = np.random.choice(nodes, size = k_0, p = nodes_probs, replace = False)\n",
    "             \n",
    "    return random_nodes"
   ]
  },
  {
   "cell_type": "markdown",
   "metadata": {},
   "source": [
    "Armamos redes con $n = 10000$ y comprobamos que cumple la relación: $ enlaces \\cong k_0 n$\n",
    "Para lo mismo generamos 10 redes con $k_0$ aleatorios dentro de un rango (la idea de estos grafos es empezar con número 'pequeño' de nodos). En este caso el rango era de $0$ a $50$ que es, a lo sumo, un $0.5 \\%$ del total de nodos $n$.\n",
    "\n",
    "Creamos un diccionario que para cada red nos guarda su $k_0$, la diferencia entre los enlaces y el valor teórico y el porcentaje que eso representa del total. "
   ]
  },
  {
   "cell_type": "code",
   "execution_count": 13,
   "metadata": {},
   "outputs": [
    {
     "name": "stdout",
     "output_type": "stream",
     "text": [
      "{45: (448965, 1035, 0.2305302195048612)}\n"
     ]
    }
   ],
   "source": [
    "import networkx as nx\n",
    "m_dict = {}\n",
    "n = 10000\n",
    "times = 1\n",
    "\n",
    "for _ in range(times):\n",
    "    k_0 = np.random.randint(0,50)\n",
    "    Network = barabasi(k_0, n)\n",
    "    num_edges = Network.number_of_edges()\n",
    "    diff = abs(num_edges - k_0 * n)\n",
    "    diff_percent = diff / num_edges * 100\n",
    "    m_dict[k_0] = num_edges , diff, diff_percent\n",
    "\n",
    "print(m_dict)"
   ]
  },
  {
   "cell_type": "code",
   "execution_count": 14,
   "metadata": {},
   "outputs": [
    {
     "name": "stdout",
     "output_type": "stream",
     "text": [
      " El porcentaje que representa la diferencia de enlaces presentes y el valor teórico es, para 1 redes: \n",
      " (0.23 + 0.0)%\n"
     ]
    }
   ],
   "source": [
    "mean = np.round(np.array([m_dict[k][2] for k in m_dict]).mean(), 2)\n",
    "std = np.round(np.array([m_dict[k][2] for k in m_dict]).std(),2)\n",
    "\n",
    "print(f' El porcentaje que representa la diferencia de enlaces presentes y el valor teórico es, para {times} redes: \\n ({mean} + {std})%')"
   ]
  },
  {
   "cell_type": "markdown",
   "metadata": {},
   "source": [
    "Graficamos los valores esperados y el número de enlaces de cada red en función de su $k_0$. Podemos ver que la relación se cumple ya que cada nodo agregado ($n - k_0$) por paso crea $k_0$ enlaces nuevos a los $\\frac{n (n-1)}{2}$ originales de un grafo completo (de entrada tenemos $k_0$  menos enlaces de lo predicho por la teoría.\n",
    "\n",
    "\n",
    "Por como está definida random.choice puede elegir varias veces el mismo nodo, con lo cual hay nuevos nodos que generan menos de $k_0$ enlaces. Para cambiar esto, se usa la opción \"replace = False\" que asegura no estar sacando dos veces el mismo. De no ser así, tanto esa diferencia como los $k_0$ iniciales contribuirían a la diferencia calculada anteriormente. \n"
   ]
  },
  {
   "cell_type": "code",
   "execution_count": 15,
   "metadata": {},
   "outputs": [
    {
     "data": {
      "image/png": "[encoded data removed]",
      "text/plain": [
       "<Figure size 432x288 with 1 Axes>"
      ]
     },
     "metadata": {
      "needs_background": "light"
     },
     "output_type": "display_data"
    }
   ],
   "source": [
    "import matplotlib.pyplot as plt #esto se va cuando corramos todo\n",
    "\n",
    "fig, ax = plt.subplots()\n",
    "plt.xlabel('$k_0$')\n",
    "plt.ylabel('Enlaces')\n",
    "plt.title(f'Red de Barabasi con {n} nodos')\n",
    "\n",
    "for key in m_dict.keys():\n",
    "    \n",
    "    scatter1 = ax.scatter(key, m_dict[key][0], c = 'r', alpha = 1, marker = 's')\n",
    "    scatter2 = ax.scatter(key, key * n, c = 'b', alpha = 1, marker = '.')\n",
    "\n",
    "ax.legend((scatter1, scatter2),\n",
    "           ('Enlaces', '$k_0 * n$'),\n",
    "           scatterpoints=1,\n",
    "           loc='lower right',\n",
    "           ncol=3,\n",
    "           fontsize=10)\n",
    "\n",
    "plt.show()   "
   ]
  },
  {
   "cell_type": "code",
   "execution_count": 16,
   "metadata": {},
   "outputs": [],
   "source": [
    "\"Creo funcion que acepte n y m como parametros para realizar una Red Barabasi\"\n",
    "def Red_barabasi(n, m):\n",
    "    k_0 = int(m / n)\n",
    "    red = barabasi(k_0, n)\n",
    "    return red\n",
    "    "
   ]
  },
  {
   "cell_type": "markdown",
   "metadata": {},
   "source": [
    "# 2 d"
   ]
  },
  {
   "cell_type": "markdown",
   "metadata": {},
   "source": [
    "## d)\n",
    "Calcule y grafique la distribución de grado para los 3 tipos de redes, para 4 casos donde m y n sean similares a aquellos de las redes del ejercicio 1). \n",
    "¿Qué tipo de red da una distribución más parecida a las de los datos? ¿Es posible extraer una conclusión general\n",
    "sobre el mecanismo de generación de estas redes?"
   ]
  },
  {
   "cell_type": "code",
   "execution_count": 17,
   "metadata": {},
   "outputs": [],
   "source": [
    "#importamos las librerías generales a utilizar\n",
    "import networkx as nx \n",
    "import matplotlib.pyplot as plt\n",
    "import numpy as np\n",
    "import pandas as pd\n",
    "import os\n",
    "\n",
    "\n",
    "#creamos función para abrir .txt\n",
    "def abrir_txt(nombre_archivo):\n",
    "    archivo=open(nombre_archivo)\n",
    "    data=[]\n",
    "    for linea in archivo:\n",
    "        linea=linea.strip()\n",
    "        columna=linea.split()\n",
    "        data.append(columna)\n",
    "    return data"
   ]
  },
  {
   "cell_type": "code",
   "execution_count": 6,
   "metadata": {},
   "outputs": [],
   "source": [
    "redes = {'Y2H': './data/yeast_Y2H.txt', \n",
    "         'Sistema Electrico': './data/power_enlaces.txt',\n",
    "         'Papers': './data/netscience.gml',\n",
    "         'Internet': './data/as-22july06.gml'\n",
    "         }\n",
    "\n",
    "\n",
    "def info_red(red):\n",
    "    nombre, extension = os.path.splitext(red)\n",
    "    if extension != '.txt':\n",
    "        Red = nx.read_gml('./data/as-22july06.gml')\n",
    "    else:\n",
    "        lista_de_enlaces = abrir_txt(red)\n",
    "        Red = nx.Graph()\n",
    "        Red.add_edges_from(lista_de_enlaces)\n",
    "    Grafo = Red\n",
    "    Grados = Red.degree()\n",
    "    return Grafo,Grados\n",
    "\n",
    "def distribucion_grado_normal(lista_grados):\n",
    "    \n",
    "    hist,binedges = np.histogram(lista_grados,density=True,bins=max(lista_grados))\n",
    "    bincenters = np.round(np.mean(np.vstack([binedges[0:-1],binedges[1:]]), axis=0))\n",
    "    Hist = np.array((bincenters,hist)).T\n",
    "    Hist = np.array([i for i in Hist if i[1]*1 != 0.0]).T #me saco de encima los grados con P_{k} = 0\n",
    "    \n",
    "    return Hist[0],Hist[1]\n",
    "    \n",
    "def cumulative_binning(lista_grados):\n",
    "    lista_grados= np.flip(np.sort((lista_grados)))\n",
    "    ranking = np.arange(1,len(lista_grados)+1)\n",
    "    pk = ranking/len(ranking)                  \n",
    "    return lista_grados,pk\n",
    "    "
   ]
  },
  {
   "cell_type": "code",
   "execution_count": 7,
   "metadata": {},
   "outputs": [],
   "source": [
    "Grafo_dict = {}\n",
    "for red in redes:\n",
    "    grafo, _ = info_red(redes[red])\n",
    "    Grafo_dict[red] = {}\n",
    "    Grafo_dict[red][\"Grafo\"] = grafo\n",
    "    Grafo_dict[red][\"Nodos\"] = grafo.number_of_nodes()\n",
    "    Grafo_dict[red][\"Enlaces\"] = grafo.number_of_edges()"
   ]
  },
  {
   "cell_type": "code",
   "execution_count": 8,
   "metadata": {},
   "outputs": [
    {
     "data": {
      "text/plain": [
       "{'Y2H': {'Grafo': <networkx.classes.graph.Graph at 0x7f015df8e0b8>,\n",
       "  'Nodos': 2018,\n",
       "  'Enlaces': 2930},\n",
       " 'Sistema Electrico': {'Grafo': <networkx.classes.graph.Graph at 0x7f015dd1ca20>,\n",
       "  'Nodos': 4941,\n",
       "  'Enlaces': 6594},\n",
       " 'Papers': {'Grafo': <networkx.classes.graph.Graph at 0x7f015df6a860>,\n",
       "  'Nodos': 22963,\n",
       "  'Enlaces': 48436},\n",
       " 'Internet': {'Grafo': <networkx.classes.graph.Graph at 0x7f015dd161d0>,\n",
       "  'Nodos': 22963,\n",
       "  'Enlaces': 48436}}"
      ]
     },
     "execution_count": 8,
     "metadata": {},
     "output_type": "execute_result"
    }
   ],
   "source": [
    "Grafo_dict"
   ]
  },
  {
   "cell_type": "code",
   "execution_count": 18,
   "metadata": {},
   "outputs": [
    {
     "name": "stdout",
     "output_type": "stream",
     "text": [
      "Listo red Y2H!\n",
      "Listo red Sistema Electrico!\n",
      "Listo red Papers!\n",
      "Listo red Internet!\n"
     ]
    }
   ],
   "source": [
    "for red in Grafo_dict:\n",
    "    n = Grafo_dict[red]['Nodos']\n",
    "    m = Grafo_dict[red]['Enlaces'] \n",
    "    Grafo_dict[red][\"Barabasi\"] = Red_barabasi(n,m)\n",
    "    \n",
    "    #Grafo_dict[red][\"Erdos Renyi\"] = Red_ErdosRenyi(n,m)\n",
    "    #Grafo_dict[red][\"Aleatoria\"] = Red_aleatoria(n,m)\n",
    "    \n",
    "    print(f'Listo red {red}!')\n",
    "    \n",
    "\n"
   ]
  },
  {
   "cell_type": "code",
   "execution_count": 22,
   "metadata": {},
   "outputs": [],
   "source": [
    "def distribucion_grado_normal_meli(red):\n",
    "    Grados = red.degree()\n",
    "    lista_grados= [val for (node, val) in Grados]\n",
    "    hist,binedges = np.histogram(lista_grados,density=True,bins=max(lista_grados))\n",
    "    bincenters = np.round(np.mean(np.vstack([binedges[0:-1],binedges[1:]]), axis=0))\n",
    "    Hist = np.array((bincenters,hist)).T\n",
    "    Hist = np.array([i for i in Hist if i[1]*1 != 0.0]).T #me saco de encima los grados con P_{k} = 0\n",
    "    \n",
    "    return Hist[0],Hist[1]"
   ]
  },
  {
   "cell_type": "code",
   "execution_count": 29,
   "metadata": {},
   "outputs": [
    {
     "data": {
      "image/png": "[encoded data removed]",
      "text/plain": [
       "<Figure size 1080x720 with 16 Axes>"
      ]
     },
     "metadata": {
      "needs_background": "light"
     },
     "output_type": "display_data"
    }
   ],
   "source": [
    "fig, axes = plt.subplots(nrows = 4,ncols = len(Grafo_dict), figsize=(15, 10))\n",
    "plt.setp(axes.flat, xlabel='Grado', ylabel='P(grado)')\n",
    "cols = [f'Red {red}' for red in Grafo_dict]\n",
    "rows = ['Modelo {}'.format(row) for row in ['Barabasi', 'Erdos Renyi', 'Aleatoria', 'Original']]\n",
    "\n",
    "pad = 20\n",
    "for ax, col in zip(axes[0], cols):\n",
    "    ax.annotate(col, xy=(0.5, 1), xytext=(0, pad),\n",
    "                xycoords='axes fraction', textcoords='offset points',\n",
    "                size='large', ha='center', va='baseline')\n",
    "\n",
    "for ax, row in zip(axes[:,0], rows):\n",
    "    ax.annotate(row, xy=(0, 0.5), xytext=(-ax.yaxis.labelpad - pad, 0),\n",
    "                xycoords=ax.yaxis.label, textcoords='offset points',\n",
    "                size='large', ha='right', va='center')\n",
    "\n",
    "for i,red in enumerate(Grafo_dict):\n",
    "    x0,y0 = distribucion_grado_normal(Grafo_dict[red]['Barabasi'])\n",
    "    #x1, y1 = distribucion_grado_normal_meli(Grafo_dict[red]['Erdos Reyni'])\n",
    "    #x2, y2 = distribucion_grado_normal_meli(Grafo_dict[red]['Aleatoria'])\n",
    "    x3, y3 = distribucion_grado_normal_meli(Grafo_dict[red]['Grafo'])\n",
    "    axes[0,i].scatter(x0,y0)\n",
    "    #axes[1,i].scatter(x1,y1)\n",
    "    #axes[2,i].scatter(x2,y2)\n",
    "    axes[3,i].scatter(x3,y3)\n",
    "\n",
    "plt.tight_layout()\n",
    "    \n",
    "    "
   ]
  },
  {
   "cell_type": "markdown",
   "metadata": {},
   "source": [
    "# 3 (opcional)"
   ]
  },
  {
   "cell_type": "code",
   "execution_count": 2,
   "metadata": {},
   "outputs": [],
   "source": [
    "\"Esta funcion es la misma que el 2C, pero ahora guarda la informacion de los nodos agregados en el paso 5 y el paso 95\"\n",
    "\n",
    "def barabasi_mod(m, final_nodes):\n",
    "    #m es el grado de los nodos iniciales y a la vez la cantidad de enlaces que agrego por iteracion\n",
    "    \n",
    "    node_5 = []\n",
    "    node_95 = []\n",
    "    new_node = m + 1 \n",
    "        \n",
    "    G = nx.complete_graph(m)\n",
    "    G_dict = {key: m-1 for key in range(m)}\n",
    "    \n",
    "    for step in range(final_nodes - m):\n",
    "        nodes_to_add = add_edges_mod(G_dict, m)      \n",
    "        G.add_node(new_node)\n",
    "        G_dict[new_node] = m\n",
    "        \n",
    "         \n",
    "        for node in nodes_to_add:\n",
    "            G.add_edge(new_node, node)\n",
    "            G_dict[node] += 1\n",
    "        \n",
    "                \n",
    "        if G_dict.get(m + 5):\n",
    "            degree_5 = G_dict[m + 5]\n",
    "            node_5.append(degree_5)\n",
    "        \n",
    "            \n",
    "        if G_dict.get(m + 95):\n",
    "            degree_95 = G_dict[m + 95]\n",
    "            node_95.append(degree_95)\n",
    "        \n",
    "        \n",
    "\n",
    "        new_node += 1\n",
    "        \n",
    "    return G,node_5, node_95\n",
    "\n",
    "\n",
    "        \n",
    "def add_edges_mod(G_dict, m):\n",
    "    nodes_probs = []\n",
    "    nodes = list(G_dict.keys())\n",
    "    total_degree = sum(G_dict.values())\n",
    "    \n",
    "    for node in nodes:\n",
    "        node_degr = G_dict[node]\n",
    "        node_prob = node_degr / total_degree\n",
    "        nodes_probs.append(node_prob)\n",
    "        \n",
    "    random_nodes = np.random.choice(nodes, size = m, p = nodes_probs)\n",
    "    \n",
    "         \n",
    "    return random_nodes\n",
    "    "
   ]
  },
  {
   "cell_type": "code",
   "execution_count": 3,
   "metadata": {},
   "outputs": [],
   "source": [
    "k_0 = 7\n",
    "n = 10000\n",
    "Network_3, grado_5, grado_95 = barabasi_mod(k_0,n)"
   ]
  },
  {
   "cell_type": "code",
   "execution_count": 21,
   "metadata": {},
   "outputs": [
    {
     "data": {
      "image/png": "[encoded data removed]",
      "text/plain": [
       "<Figure size 432x288 with 1 Axes>"
      ]
     },
     "metadata": {
      "needs_background": "light"
     },
     "output_type": "display_data"
    }
   ],
   "source": [
    "x_5 = list(range(k_0 -1 + 5, n))\n",
    "x_5_log = np.log(x_5)\n",
    "y_5 = grado_5\n",
    "y_5_log = np.log(y_5)\n",
    "\n",
    "values_5, cov_5 = np.polyfit(x_5_log, y_5_log, 1, cov = True)\n",
    "lineal_5 = np.poly1d(values_5)\n",
    "error_5 = np.sqrt(cov_5[1][1])\n",
    "yfit_5 = lambda x: np.exp(lineal_5(np.log(x)))\n",
    "\n",
    "plt.loglog(x_5, yfit_5(x_5), label= f'pendiente_5 = ({np.round(lineal_5[1],3)} +/- {np.round(error_5, 3)})',c=(0.9,0.1,0))\n",
    "plt.loglog(x_5, y_5 , c=(0.9,0.3,0))\n",
    "\n",
    "x_95 = list(range(k_0 -1 + 95, n))\n",
    "x_95_log = np.log(x_95)\n",
    "y_95 = grado_95\n",
    "y_95_log = np.log(y_95)\n",
    "\n",
    "values_95, cov_95 = np.polyfit(x_95_log, y_95_log, 1, cov=True)\n",
    "error_95 = np.sqrt(cov_95[1][1])\n",
    "lineal_95 = np.poly1d(values_95)\n",
    "yfit_95 = lambda x: np.exp(lineal_95(np.log(x)))\n",
    "\n",
    "plt.loglog(x_95, yfit_95(x_95), c='b', label= f'pendiente_95 = ({np.round(lineal_95[1],3)} +/- {np.round(error_95, 3)})')\n",
    "plt.loglog(x_95, y_95)\n",
    "plt.xlabel(\"Paso (log)\")\n",
    "plt.ylabel(\"Grado (log)\")\n",
    "plt.title(\"Nodos 5 y 95\")\n",
    "plt.legend()\n",
    "plt.show()"
   ]
  },
  {
   "cell_type": "markdown",
   "metadata": {},
   "source": [
    "El grado de cada nodo aumenta siguiendo una ley de potencias con el mismo exponente. Este pendiente es menor a $1$, cada nodo que se agrega tiene más nodos para \"elegir\", es decir hay más nodos que \"compiten\" por aumentar su grado. A su vez, los nodos agregados antes tienen mayor grado (por ende, más ventaja a la hora de conseguir nuevos enlaces). "
   ]
  }
 ],
 "metadata": {
  "kernelspec": {
   "display_name": "Python 3",
   "language": "python",
   "name": "python3"
  },
  "language_info": {
   "codemirror_mode": {
    "name": "ipython",
    "version": 3
   },
   "file_extension": ".py",
   "mimetype": "text/x-python",
   "name": "python",
   "nbconvert_exporter": "python",
   "pygments_lexer": "ipython3",
   "version": "3.6.9"
  }
 },
 "nbformat": 4,
 "nbformat_minor": 2
}
