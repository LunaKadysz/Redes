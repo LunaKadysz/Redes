{
 "cells": [
  {
   "cell_type": "markdown",
   "metadata": {},
   "source": [
    "# 2) c"
   ]
  },
  {
   "cell_type": "code",
   "execution_count": 8,
   "metadata": {},
   "outputs": [],
   "source": [
    "import networkx as nx \n",
    "import matplotlib.pyplot as plt\n",
    "import numpy as np"
   ]
  },
  {
   "cell_type": "code",
   "execution_count": 72,
   "metadata": {},
   "outputs": [],
   "source": [
    "def barabasi(m, final_nodes):\n",
    "    #m es el grado de los nodos iniciales y a la vez la cantidad de enlaces que agrego por iteracion\n",
    "    \n",
    "    new_node = m + 1 \n",
    "        \n",
    "    G = nx.complete_graph(m)\n",
    "    G_dict = {key: m-1 for key in range(m)}\n",
    "    \n",
    "    for step in range(final_nodes - m):\n",
    "        nodes_to_add = add_edges(G_dict, m)      \n",
    "        G.add_node(new_node)\n",
    "        G_dict[new_node] = m\n",
    "        \n",
    "         \n",
    "        for node in nodes_to_add:\n",
    "            G.add_edge(new_node, node)\n",
    "            G_dict[node] += 1\n",
    "                    \n",
    "        new_node += 1\n",
    "        \n",
    "    return G\n",
    "\n",
    "\n",
    "        \n",
    "def add_edges(G_dict, m):\n",
    "    nodes_probs = []\n",
    "    nodes = list(G_dict.keys())\n",
    "    total_degree = sum(G_dict.values())\n",
    "    \n",
    "    for node in nodes:\n",
    "        node_degr = G_dict[node]\n",
    "        node_prob = node_degr / total_degree\n",
    "        nodes_probs.append(node_prob)\n",
    "        \n",
    "\n",
    "    random_nodes = np.random.choice(nodes, size = m, p = nodes_probs)\n",
    "    \n",
    "         \n",
    "    return random_nodes\n",
    "    \n",
    "    \n",
    "        \n",
    "        \n",
    "            \n"
   ]
  },
  {
   "cell_type": "code",
   "execution_count": 79,
   "metadata": {},
   "outputs": [
    {
     "name": "stdout",
     "output_type": "stream",
     "text": [
      "(99433, 567, 0.4755713986160621)\n",
      "(461224, 8776, 7.360872300272593)\n",
      "(266667, 3333, 2.79555462361082)\n",
      "(363941, 6059, 5.081987838121199)\n",
      "(138949, 1051, 0.8815265254770391)\n",
      "(207754, 2246, 1.88383308869784)\n",
      "(99463, 537, 0.45040889075277835)\n",
      "(335009, 4991, 4.1862025581883)\n",
      "(138966, 1034, 0.8672677710211784)\n",
      "(431996, 8004, 6.713357097924093)\n"
     ]
    }
   ],
   "source": [
    "m_dict = {}\n",
    "\n",
    "for _ in range(10):\n",
    "    k_0 = np.random.randint(0,50)\n",
    "    Network = barabasi(k_0, 10000)\n",
    "    num_edges = Network.number_of_edges()\n",
    "    diff = abs(num_edges - k_0 * 10000)\n",
    "    diff_percent = diff / m * 100\n",
    "    m_dict[k_0] = num_edges , diff, diff_percent\n",
    "    print(m_dict[k_0])\n",
    "       "
   ]
  },
  {
   "cell_type": "markdown",
   "metadata": {},
   "source": [
    "# 3 (opcional)"
   ]
  },
  {
   "cell_type": "code",
   "execution_count": 138,
   "metadata": {},
   "outputs": [],
   "source": [
    "\"Esta funcion es la misma que el 2C, pero ahora guarda la informacion de los nodos agregados en el paso 5 y el paso 95\"\n",
    "\n",
    "def barabasi_mod(m, final_nodes):\n",
    "    #m es el grado de los nodos iniciales y a la vez la cantidad de enlaces que agrego por iteracion\n",
    "    \n",
    "    node_5 = []\n",
    "    node_95 = []\n",
    "    new_node = m + 1 \n",
    "        \n",
    "    G = nx.complete_graph(m)\n",
    "    G_dict = {key: m-1 for key in range(m)}\n",
    "    \n",
    "    for step in range(final_nodes - m):\n",
    "        nodes_to_add = add_edges_mod(G_dict, m)      \n",
    "        G.add_node(new_node)\n",
    "        G_dict[new_node] = m\n",
    "        \n",
    "         \n",
    "        for node in nodes_to_add:\n",
    "            G.add_edge(new_node, node)\n",
    "            G_dict[node] += 1\n",
    "        \n",
    "                \n",
    "        if G_dict.get(m + 5):\n",
    "            degree_5 = G_dict[m + 5]\n",
    "            node_5.append(degree_5)\n",
    "        \n",
    "            \n",
    "        if G_dict.get(m + 95):\n",
    "            degree_95 = G_dict[m + 95]\n",
    "            node_95.append(degree_95)\n",
    "        \n",
    "        \n",
    "\n",
    "        new_node += 1\n",
    "        \n",
    "    return G,node_5, node_95\n",
    "\n",
    "\n",
    "        \n",
    "def add_edges_mod(G_dict, m):\n",
    "    nodes_probs = []\n",
    "    nodes = list(G_dict.keys())\n",
    "    total_degree = sum(G_dict.values())\n",
    "    \n",
    "    for node in nodes:\n",
    "        node_degr = G_dict[node]\n",
    "        node_prob = node_degr / total_degree\n",
    "        nodes_probs.append(node_prob)\n",
    "        \n",
    "    random_nodes = np.random.choice(nodes, size = m, p = nodes_probs)\n",
    "    \n",
    "         \n",
    "    return random_nodes\n",
    "    "
   ]
  },
  {
   "cell_type": "code",
   "execution_count": 124,
   "metadata": {},
   "outputs": [],
   "source": [
    "Network_3, grado_5, grado_95 = barabasi_mod(7,10000)"
   ]
  },
  {
   "cell_type": "code",
   "execution_count": 137,
   "metadata": {},
   "outputs": [
    {
     "data": {
      "image/png": "[encoded data removed]",
      "text/plain": [
       "<Figure size 432x288 with 1 Axes>"
      ]
     },
     "metadata": {
      "needs_background": "light"
     },
     "output_type": "display_data"
    }
   ],
   "source": [
    "plt.loglog(list(range(6 + 95, 10000)),grado_95, label = \"Nodo 95\")\n",
    "plt.loglog(list(range(6 + 5, 10000)), grado_5, label = \"Nodo 5\")\n",
    "plt.legend()\n",
    "plt.show()"
   ]
  }
 ],
 "metadata": {
  "kernelspec": {
   "display_name": "Python 3",
   "language": "python",
   "name": "python3"
  },
  "language_info": {
   "codemirror_mode": {
    "name": "ipython",
    "version": 3
   },
   "file_extension": ".py",
   "mimetype": "text/x-python",
   "name": "python",
   "nbconvert_exporter": "python",
   "pygments_lexer": "ipython3",
   "version": "3.6.9"
  }
 },
 "nbformat": 4,
 "nbformat_minor": 2
}
