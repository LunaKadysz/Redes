{
 "cells": [
  {
   "cell_type": "code",
   "execution_count": 38,
   "metadata": {},
   "outputs": [],
   "source": [
    "import networkx as nx"
   ]
  },
  {
   "cell_type": "code",
   "execution_count": 39,
   "metadata": {},
   "outputs": [],
   "source": [
    "def abrir_txt(nombre_archivo):\n",
    "    archivo=open(nombre_archivo)\n",
    "    data=[]\n",
    "    for linea in archivo:\n",
    "        linea=linea.strip()\n",
    "        columna=linea.split()\n",
    "        data.append(columna)\n",
    "    return data"
   ]
  },
  {
   "cell_type": "markdown",
   "metadata": {},
   "source": [
    "Agrego a la red data del género de los delfines."
   ]
  },
  {
   "cell_type": "code",
   "execution_count": 40,
   "metadata": {},
   "outputs": [],
   "source": [
    "Red_delfines = nx.read_gml('./data/dolphins.gml')\n",
    "dolphins_gender = abrir_txt('./data/dolphinsGender.txt')\n",
    "gender_dict = dict(dolphins_gender)\n",
    "nx.set_node_attributes(Red_delfines, gender_dict, 'gender')"
   ]
  },
  {
   "cell_type": "code",
   "execution_count": 41,
   "metadata": {},
   "outputs": [],
   "source": [
    "nodos = dict(Red_delfines.nodes(data = True))\n",
    "masculinos = []\n",
    "femeninos = []\n",
    "sin_genero = []\n",
    "for nodo in nodos:\n",
    "    if gender_dict[nodo] == 'm':\n",
    "        masculinos.append(nodo)\n",
    "    if gender_dict[nodo] == 'f':\n",
    "        femeninos.append(nodo)\n",
    "    if gender_dict[nodo] == 'NA':\n",
    "        sin_genero.append(nodo)"
   ]
  },
  {
   "cell_type": "code",
   "execution_count": 42,
   "metadata": {},
   "outputs": [
    {
     "name": "stdout",
     "output_type": "stream",
     "text": [
      "Stored 'masculinos' (list)\n",
      "Stored 'femeninos' (list)\n",
      "Stored 'sin_genero' (list)\n",
      "Stored 'gender_dict' (dict)\n"
     ]
    }
   ],
   "source": [
    "%store masculinos\n",
    "%store femeninos\n",
    "%store sin_genero\n",
    "%store gender_dict"
   ]
  },
  {
   "cell_type": "markdown",
   "metadata": {},
   "source": [
    "Queremos ver la relación entre genéro y las comunidades halladas. "
   ]
  },
  {
   "cell_type": "code",
   "execution_count": 43,
   "metadata": {},
   "outputs": [
    {
     "name": "stdout",
     "output_type": "stream",
     "text": [
      "Tenemos 54.84% de delfines masculinos, 38.71% de hembras y 6.45% sin género.\n"
     ]
    }
   ],
   "source": [
    "print(f'Tenemos {round(len(masculinos) / Red_delfines.number_of_nodes() * 100, 2)}% de delfines masculinos, {round(len(femeninos) / Red_delfines.number_of_nodes() * 100, 2)}% de hembras y {round(len(sin_genero) / Red_delfines.number_of_nodes() * 100, 2)}% sin género.')"
   ]
  },
  {
   "cell_type": "markdown",
   "metadata": {},
   "source": [
    "Queremos ver si las comunidades halladas tienen la distribución de grado que se esperaría al hacer comunidades al azar (similar a las de la red total) o si tienen prevalencia de algún género. "
   ]
  },
  {
   "cell_type": "code",
   "execution_count": 44,
   "metadata": {},
   "outputs": [],
   "source": [
    "%store -r particiones"
   ]
  },
  {
   "cell_type": "markdown",
   "metadata": {},
   "source": [
    "Nos guardamos un diccionario con los géneros y las particiones."
   ]
  },
  {
   "cell_type": "code",
   "execution_count": 59,
   "metadata": {},
   "outputs": [],
   "source": [
    "from collections import defaultdict\n",
    "particiones_con_genero = {}\n",
    "\n",
    "for metodo in particiones.keys():\n",
    "    particiones_con_genero[metodo] = defaultdict(list)\n",
    "    for d in (particiones[metodo], gender_dict): # you can list as many input dicts as you want here\n",
    "        for key, value in d.items():\n",
    "            particiones_con_genero[metodo][key].append(value)"
   ]
  },
  {
   "cell_type": "code",
   "execution_count": 76,
   "metadata": {},
   "outputs": [],
   "source": [
    "dicc_genero_metodo_comunidad = {}\n",
    "\n",
    "for metodo in particiones_con_genero:\n",
    "    dicc_genero_metodo_comunidad[metodo] = {}\n",
    "    cantidad_de_comunidades = max(particiones_con_genero[metodo].values(), key=lambda x: x[0])[0]\n",
    "    for comunidad in range(0, cantidad_de_comunidades):\n",
    "        dicc_genero_metodo_comunidad[metodo][comunidad] = {}\n",
    "        dicc_genero_metodo_comunidad[metodo][comunidad]['Hombres'] = 0\n",
    "        dicc_genero_metodo_comunidad[metodo][comunidad]['Mujeres'] = 0\n",
    "        \n",
    "        for delfin in particiones_con_genero[metodo]:\n",
    "            if particiones_con_genero[metodo][delfin][0] == comunidad and particiones_con_genero[metodo][delfin][1] == 'm':\n",
    "                dicc_genero_metodo_comunidad[metodo][comunidad]['Hombres'] += 1\n",
    "            if particiones_con_genero[metodo][delfin][0] == comunidad and particiones_con_genero[metodo][delfin][1] == 'f':\n",
    "                dicc_genero_metodo_comunidad[metodo][comunidad]['Mujeres'] += 1\n",
    "                "
   ]
  },
  {
   "cell_type": "code",
   "execution_count": 116,
   "metadata": {},
   "outputs": [
    {
     "data": {
      "text/html": [
       "<div>\n",
       "<style scoped>\n",
       "    .dataframe tbody tr th:only-of-type {\n",
       "        vertical-align: middle;\n",
       "    }\n",
       "\n",
       "    .dataframe tbody tr th {\n",
       "        vertical-align: top;\n",
       "    }\n",
       "\n",
       "    .dataframe thead tr th {\n",
       "        text-align: left;\n",
       "    }\n",
       "</style>\n",
       "<table border=\"1\" class=\"dataframe\">\n",
       "  <thead>\n",
       "    <tr>\n",
       "      <th></th>\n",
       "      <th colspan=\"2\" halign=\"left\">Edge_bet</th>\n",
       "      <th colspan=\"2\" halign=\"left\">Fast_greedy</th>\n",
       "      <th colspan=\"2\" halign=\"left\">Infomap</th>\n",
       "      <th colspan=\"2\" halign=\"left\">Louvline</th>\n",
       "    </tr>\n",
       "    <tr>\n",
       "      <th></th>\n",
       "      <th>Hombres</th>\n",
       "      <th>Mujeres</th>\n",
       "      <th>Hombres</th>\n",
       "      <th>Mujeres</th>\n",
       "      <th>Hombres</th>\n",
       "      <th>Mujeres</th>\n",
       "      <th>Hombres</th>\n",
       "      <th>Mujeres</th>\n",
       "    </tr>\n",
       "  </thead>\n",
       "  <tbody>\n",
       "    <tr>\n",
       "      <th>0</th>\n",
       "      <td>5.0</td>\n",
       "      <td>2.0</td>\n",
       "      <td>8.0</td>\n",
       "      <td>15.0</td>\n",
       "      <td>3.0</td>\n",
       "      <td>2.0</td>\n",
       "      <td>7.0</td>\n",
       "      <td>2.0</td>\n",
       "    </tr>\n",
       "    <tr>\n",
       "      <th>1</th>\n",
       "      <td>3.0</td>\n",
       "      <td>16.0</td>\n",
       "      <td>9.0</td>\n",
       "      <td>5.0</td>\n",
       "      <td>4.0</td>\n",
       "      <td>13.0</td>\n",
       "      <td>14.0</td>\n",
       "      <td>2.0</td>\n",
       "    </tr>\n",
       "    <tr>\n",
       "      <th>2</th>\n",
       "      <td>9.0</td>\n",
       "      <td>3.0</td>\n",
       "      <td>17.0</td>\n",
       "      <td>2.0</td>\n",
       "      <td>9.0</td>\n",
       "      <td>3.0</td>\n",
       "      <td>0.0</td>\n",
       "      <td>4.0</td>\n",
       "    </tr>\n",
       "    <tr>\n",
       "      <th>3</th>\n",
       "      <td>16.0</td>\n",
       "      <td>3.0</td>\n",
       "      <td>NaN</td>\n",
       "      <td>NaN</td>\n",
       "      <td>8.0</td>\n",
       "      <td>0.0</td>\n",
       "      <td>9.0</td>\n",
       "      <td>3.0</td>\n",
       "    </tr>\n",
       "    <tr>\n",
       "      <th>4</th>\n",
       "      <td>NaN</td>\n",
       "      <td>NaN</td>\n",
       "      <td>NaN</td>\n",
       "      <td>NaN</td>\n",
       "      <td>10.0</td>\n",
       "      <td>2.0</td>\n",
       "      <td>NaN</td>\n",
       "      <td>NaN</td>\n",
       "    </tr>\n",
       "  </tbody>\n",
       "</table>\n",
       "</div>"
      ],
      "text/plain": [
       "  Edge_bet         Fast_greedy         Infomap         Louvline        \n",
       "   Hombres Mujeres     Hombres Mujeres Hombres Mujeres  Hombres Mujeres\n",
       "0      5.0     2.0         8.0    15.0     3.0     2.0      7.0     2.0\n",
       "1      3.0    16.0         9.0     5.0     4.0    13.0     14.0     2.0\n",
       "2      9.0     3.0        17.0     2.0     9.0     3.0      0.0     4.0\n",
       "3     16.0     3.0         NaN     NaN     8.0     0.0      9.0     3.0\n",
       "4      NaN     NaN         NaN     NaN    10.0     2.0      NaN     NaN"
      ]
     },
     "execution_count": 116,
     "metadata": {},
     "output_type": "execute_result"
    }
   ],
   "source": [
    "df_genero = pd.concat({k: pd.DataFrame(v) for k, v in dicc_genero_metodo_comunidad.items()}).transpose()\n",
    "df_genero"
   ]
  },
  {
   "cell_type": "code",
   "execution_count": 100,
   "metadata": {},
   "outputs": [],
   "source": [
    "import scipy.stats as stats\n",
    "generos_red = [len(masculinos), len(femeninos)]\n",
    "\n",
    "fisher_dict = {}\n",
    "\n",
    "for metodo in dicc_genero_metodo_comunidad:\n",
    "    fisher_dict[metodo] = {}\n",
    "    for comunidad in dicc_genero_metodo_comunidad[metodo]:\n",
    "        generos_comu = [dicc_genero_metodo_comunidad[metodo][comunidad]['Hombres'], dicc_genero_metodo_comunidad[metodo][comunidad]['Mujeres']]\n",
    "        _, pvalue = stats.fisher_exact([generos_comu, generos_red]) \n",
    "        fisher_dict[metodo][comunidad] = pvalue"
   ]
  },
  {
   "cell_type": "code",
   "execution_count": 117,
   "metadata": {},
   "outputs": [
    {
     "data": {
      "text/html": [
       "<div>\n",
       "<style scoped>\n",
       "    .dataframe tbody tr th:only-of-type {\n",
       "        vertical-align: middle;\n",
       "    }\n",
       "\n",
       "    .dataframe tbody tr th {\n",
       "        vertical-align: top;\n",
       "    }\n",
       "\n",
       "    .dataframe thead th {\n",
       "        text-align: right;\n",
       "    }\n",
       "</style>\n",
       "<table border=\"1\" class=\"dataframe\">\n",
       "  <thead>\n",
       "    <tr style=\"text-align: right;\">\n",
       "      <th></th>\n",
       "      <th>Edge_bet</th>\n",
       "      <th>Fast_greedy</th>\n",
       "      <th>Louvline</th>\n",
       "      <th>Infomap</th>\n",
       "    </tr>\n",
       "    <tr>\n",
       "      <th>Comunidad</th>\n",
       "      <th></th>\n",
       "      <th></th>\n",
       "      <th></th>\n",
       "      <th></th>\n",
       "    </tr>\n",
       "  </thead>\n",
       "  <tbody>\n",
       "    <tr>\n",
       "      <th>0</th>\n",
       "      <td>0.69</td>\n",
       "      <td>0.08</td>\n",
       "      <td>0.46</td>\n",
       "      <td>1.00</td>\n",
       "    </tr>\n",
       "    <tr>\n",
       "      <th>1</th>\n",
       "      <td>0.00</td>\n",
       "      <td>0.77</td>\n",
       "      <td>0.04</td>\n",
       "      <td>0.01</td>\n",
       "    </tr>\n",
       "    <tr>\n",
       "      <th>2</th>\n",
       "      <td>0.35</td>\n",
       "      <td>0.01</td>\n",
       "      <td>0.04</td>\n",
       "      <td>0.35</td>\n",
       "    </tr>\n",
       "    <tr>\n",
       "      <th>3</th>\n",
       "      <td>0.05</td>\n",
       "      <td>NaN</td>\n",
       "      <td>0.35</td>\n",
       "      <td>0.04</td>\n",
       "    </tr>\n",
       "    <tr>\n",
       "      <th>4</th>\n",
       "      <td>NaN</td>\n",
       "      <td>NaN</td>\n",
       "      <td>NaN</td>\n",
       "      <td>0.19</td>\n",
       "    </tr>\n",
       "  </tbody>\n",
       "</table>\n",
       "</div>"
      ],
      "text/plain": [
       "           Edge_bet  Fast_greedy  Louvline  Infomap\n",
       "Comunidad                                          \n",
       "0              0.69         0.08      0.46     1.00\n",
       "1              0.00         0.77      0.04     0.01\n",
       "2              0.35         0.01      0.04     0.35\n",
       "3              0.05          NaN      0.35     0.04\n",
       "4               NaN          NaN       NaN     0.19"
      ]
     },
     "execution_count": 117,
     "metadata": {},
     "output_type": "execute_result"
    }
   ],
   "source": [
    "df_fisher = pd.DataFrame.from_dict(fisher_dict)\n",
    "df_fisher.index.name = 'Comunidad'\n",
    "df_fisher.round(2)"
   ]
  },
  {
   "cell_type": "markdown",
   "metadata": {},
   "source": [
    "# Aca me falta ver algo: es valido hacer un promedio de los p values para cada metodo??"
   ]
  }
 ],
 "metadata": {
  "kernelspec": {
   "display_name": "Python 3",
   "language": "python",
   "name": "python3"
  },
  "language_info": {
   "codemirror_mode": {
    "name": "ipython",
    "version": 3
   },
   "file_extension": ".py",
   "mimetype": "text/x-python",
   "name": "python",
   "nbconvert_exporter": "python",
   "pygments_lexer": "ipython3",
   "version": "3.6.9"
  }
 },
 "nbformat": 4,
 "nbformat_minor": 2
}
