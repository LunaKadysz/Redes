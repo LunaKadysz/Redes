{
 "cells": [
  {
   "cell_type": "markdown",
   "metadata": {},
   "source": [
    "Vamos a tomar dos medidas para ver la coherencia entre dos particiones:\n",
    "* **Presición** usando algo similar a la [matriz confusion](https://es.wikipedia.org/wiki/Matriz_de_confusi%C3%B3n)\n",
    "* [**Información mutua**](https://es.wikipedia.org/wiki/Informaci%C3%B3n_mutua) que mide la dependencia mutua de las dos variables, es decir, mide la reducción de la incertidumbre (entropía) de una variable X debido al conocimiento del valor de otra variable de referencia Y."
   ]
  },
  {
   "cell_type": "markdown",
   "metadata": {},
   "source": [
    "El primer método consiste en buscar la presición de la nueva partición (test) para eso consideraremos que hay un \"error\" en la nueva partición cuando se cumplan dos cosas:\n",
    "\n",
    "* Dos nodos que pertenecen a la misma comunidad de referencia son\n",
    "asignados a comunidades diferentes\n",
    "* Dos nodos de diferentes comunidades de referencia son asignados a una\n",
    "misma comunidad\n",
    "\n",
    "Para ver la presición nos quedaremos con los casos donde no hubo error. Para eso buscamos dos valores: los nodos que siguen estando en la nueva partición juntos y los nodos que siguen separados. "
   ]
  },
  {
   "cell_type": "code",
   "execution_count": 85,
   "metadata": {},
   "outputs": [],
   "source": [
    "#A estas funciones hay que pasarles array de los clusters\n",
    "def matriz_confusion(test, control, cantidad_de_nodos):\n",
    "    mismo_mismo = 0\n",
    "    mismo_distinto = 0\n",
    "    distinto_mismo = 0\n",
    "    distinto_distinto = 0\n",
    "    \n",
    "    for par in combinations(range(0, cantidad_de_nodos), 2):\n",
    "        idx_1, idx_2 = par\n",
    "        if test[idx_1] == test[idx_2] and control[idx_1] == control[idx_2]:\n",
    "            mismo_mismo += 1 \n",
    "        if not test[idx_1] == test[idx_2] and not control[idx_1] == control[idx_2]:\n",
    "            distinto_distinto += 1\n",
    "    \n",
    "    return mismo_mismo + distinto_distinto\n",
    "\n",
    "def precision(test, control):\n",
    "    cantidad_de_nodos = len(test)\n",
    "    aciertos = matriz_confusion(test, control, cantidad_de_nodos)\n",
    "    pares_totales = cantidad_de_nodos * (cantidad_de_nodos - 1) / 2\n",
    "    return aciertos / pares_totales"
   ]
  },
  {
   "cell_type": "markdown",
   "metadata": {},
   "source": [
    "La otra medida que usaremos será información mutua. Para lo mismo usaremos la función [normalized_mutual_info_score](https://scikit-learn.org/stable/modules/generated/sklearn.metrics.normalized_mutual_info_score.html) de la libreria Scikit-Learn. "
   ]
  },
  {
   "cell_type": "code",
   "execution_count": 86,
   "metadata": {},
   "outputs": [],
   "source": [
    "from sklearn.metrics import normalized_mutual_info_score as info_mutua"
   ]
  },
  {
   "cell_type": "markdown",
   "metadata": {},
   "source": [
    "Me importo las particiones halladas en el inciso **(a)**. Hay cuatro métodos, por cada uno tenemos un diccionario que tiene de *keys* a los nodos y como *value* su comunidad."
   ]
  },
  {
   "cell_type": "code",
   "execution_count": 87,
   "metadata": {},
   "outputs": [],
   "source": [
    "%store -r particiones"
   ]
  },
  {
   "cell_type": "markdown",
   "metadata": {},
   "source": [
    "Queremos convertir el diccionario de cada método en un array. "
   ]
  },
  {
   "cell_type": "code",
   "execution_count": 103,
   "metadata": {},
   "outputs": [],
   "source": [
    "comparaciones = {}\n",
    "for m_1, m_2 in list(combinations(metodos, 2)):\n",
    "    par = (m_1, m_2)\n",
    "    comparaciones[par] = {}\n",
    "    test = particiones_listas[m_2]\n",
    "    control = particiones_listas[m_1] \n",
    "    comparaciones[par][\"Precision\"] = precision(test, control)\n",
    "    comparaciones[par]['Info_mutua'] = info_mutua(test, control) #aritmethic es default"
   ]
  },
  {
   "cell_type": "code",
   "execution_count": 104,
   "metadata": {},
   "outputs": [
    {
     "data": {
      "text/html": [
       "<div>\n",
       "<style scoped>\n",
       "    .dataframe tbody tr th:only-of-type {\n",
       "        vertical-align: middle;\n",
       "    }\n",
       "\n",
       "    .dataframe tbody tr th {\n",
       "        vertical-align: top;\n",
       "    }\n",
       "\n",
       "    .dataframe thead tr th {\n",
       "        text-align: left;\n",
       "    }\n",
       "</style>\n",
       "<table border=\"1\" class=\"dataframe\">\n",
       "  <thead>\n",
       "    <tr>\n",
       "      <th></th>\n",
       "      <th colspan=\"3\" halign=\"left\">Edge_bet</th>\n",
       "      <th colspan=\"2\" halign=\"left\">Fast_greedy</th>\n",
       "      <th>Louvline</th>\n",
       "    </tr>\n",
       "    <tr>\n",
       "      <th></th>\n",
       "      <th>Fast_greedy</th>\n",
       "      <th>Louvline</th>\n",
       "      <th>Infomap</th>\n",
       "      <th>Louvline</th>\n",
       "      <th>Infomap</th>\n",
       "      <th>Infomap</th>\n",
       "    </tr>\n",
       "  </thead>\n",
       "  <tbody>\n",
       "    <tr>\n",
       "      <th>Info_mutua</th>\n",
       "      <td>0.811</td>\n",
       "      <td>0.071</td>\n",
       "      <td>0.741</td>\n",
       "      <td>0.047</td>\n",
       "      <td>0.717</td>\n",
       "      <td>0.129</td>\n",
       "    </tr>\n",
       "    <tr>\n",
       "      <th>Precision</th>\n",
       "      <td>0.891</td>\n",
       "      <td>0.634</td>\n",
       "      <td>0.885</td>\n",
       "      <td>0.599</td>\n",
       "      <td>0.850</td>\n",
       "      <td>0.668</td>\n",
       "    </tr>\n",
       "  </tbody>\n",
       "</table>\n",
       "</div>"
      ],
      "text/plain": [
       "              Edge_bet                  Fast_greedy         Louvline\n",
       "           Fast_greedy Louvline Infomap    Louvline Infomap  Infomap\n",
       "Info_mutua       0.811    0.071   0.741       0.047   0.717    0.129\n",
       "Precision        0.891    0.634   0.885       0.599   0.850    0.668"
      ]
     },
     "execution_count": 104,
     "metadata": {},
     "output_type": "execute_result"
    }
   ],
   "source": [
    "df = pd.DataFrame(comparaciones)\n",
    "df.round(3)"
   ]
  }
 ],
 "metadata": {
  "kernelspec": {
   "display_name": "Python 3",
   "language": "python",
   "name": "python3"
  },
  "language_info": {
   "codemirror_mode": {
    "name": "ipython",
    "version": 3
   },
   "file_extension": ".py",
   "mimetype": "text/x-python",
   "name": "python",
   "nbconvert_exporter": "python",
   "pygments_lexer": "ipython3",
   "version": "3.7.3"
  }
 },
 "nbformat": 4,
 "nbformat_minor": 2
}
