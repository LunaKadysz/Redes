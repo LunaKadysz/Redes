{
 "cells": [
  {
   "cell_type": "markdown",
   "metadata": {},
   "source": [
    "Este notebook es para testear las metricas a calcular en las redes. Las mismas luego se pasarán a una clase *analizer*. \n",
    "Cosas a hacer:\n",
    "* Comunidades\n",
    "* Agregar attributos\n",
    "* Modularidad: por partido y comunidad\n",
    "* NMI\n",
    "* Diversity: communities, parties\n",
    "* Distancia\n",
    "* Shortest path mean (de toda red)\n",
    "* Shortest path entre partidos"
   ]
  },
  {
   "cell_type": "code",
   "execution_count": 1,
   "metadata": {},
   "outputs": [],
   "source": [
    "year = 2019\n",
    "alpha = 0.17"
   ]
  },
  {
   "cell_type": "code",
   "execution_count": 2,
   "metadata": {},
   "outputs": [],
   "source": [
    "import matplotlib.pyplot as plt\n",
    "import networkx as nx"
   ]
  },
  {
   "cell_type": "code",
   "execution_count": 3,
   "metadata": {},
   "outputs": [],
   "source": [
    "from procesador_votaciones import ProcesadorDeVotaciones\n",
    "from heavy_graph_maker import HeavyGraphMaker\n",
    "from new_disparity_filter import NewDisparityFilter"
   ]
  },
  {
   "cell_type": "code",
   "execution_count": 4,
   "metadata": {},
   "outputs": [
    {
     "name": "stdout",
     "output_type": "stream",
     "text": [
      "Loading from data/2019/1\n",
      "Loading from data/2019/2\n",
      "Loading from data/2019/3\n",
      "Loading from data/2019/4\n",
      "Loading from data/2019/5\n",
      "Loading from data/2019/6\n",
      "Loading from data/2019/7\n",
      "Loading from data/2019/8\n",
      "Loading from data/2019/9\n",
      "Loading from data/2019/10\n",
      "Loading from data/2019/11\n",
      "Loading from data/2019/12\n",
      "Changing vote 3952 in 2019 to 2020\n",
      "Changing vote 3958 in 2019 to 2020\n",
      "Changing vote 3942 in 2019 to 2020\n",
      "Changing vote 3947 in 2019 to 2020\n",
      "Changing vote 3953 in 2019 to 2020\n",
      "Changing vote 3954 in 2019 to 2020\n",
      "Changing vote 3936 in 2019 to 2020\n",
      "Changing vote 3935 in 2019 to 2020\n",
      "Changing vote 3950 in 2019 to 2020\n",
      "Changing vote 3945 in 2019 to 2020\n",
      "Changing vote 3948 in 2019 to 2020\n",
      "Changing vote 3949 in 2019 to 2020\n",
      "Changing vote 3946 in 2019 to 2020\n",
      "Changing vote 3943 in 2019 to 2020\n",
      "Changing vote 3941 in 2019 to 2020\n",
      "Changing vote 3944 in 2019 to 2020\n",
      "Changing vote 3956 in 2019 to 2020\n",
      "Changing vote 3940 in 2019 to 2020\n",
      "Changing vote 3957 in 2019 to 2020\n",
      "Changing vote 3933 in 2019 to 2020\n",
      "Changing vote 3951 in 2019 to 2020\n",
      "Changing vote 3937 in 2019 to 2020\n",
      "Changing vote 3938 in 2019 to 2020\n",
      "Changing vote 3955 in 2019 to 2020\n",
      "Changing vote 3959 in 2019 to 2020\n",
      "Changing vote 3934 in 2019 to 2020\n",
      "Changing vote 3939 in 2019 to 2020\n"
     ]
    }
   ],
   "source": [
    "procesador = ProcesadorDeVotaciones(year, year, 'data')\n",
    "congreso = procesador.procesar()\n",
    "congreso.validate()"
   ]
  },
  {
   "cell_type": "code",
   "execution_count": 5,
   "metadata": {},
   "outputs": [],
   "source": [
    "maker = HeavyGraphMaker(congreso)\n",
    "grafo = maker.create_year_network(year, positive = True)"
   ]
  },
  {
   "cell_type": "markdown",
   "metadata": {},
   "source": [
    "print(f' El grafo tiene {len(grafo.get_edges())} enlaces')"
   ]
  },
  {
   "cell_type": "markdown",
   "metadata": {},
   "source": [
    "plt.hist(grafo.get_sorted_edges_weights().values(), bins = 100)\n",
    "plt.show()\n",
    "\n",
    "print(f'Peso max {max(grafo.get_sorted_edges_weights().values())}')\n",
    "print(f'Peso min {min(grafo.get_sorted_edges_weights().values())}')"
   ]
  },
  {
   "cell_type": "code",
   "execution_count": 6,
   "metadata": {},
   "outputs": [
    {
     "name": "stdout",
     "output_type": "stream",
     "text": [
      "The graph has 27883 edges\n",
      "Max alpha is 0.9599667723469449, min alpha is 0.007888357372729058\n",
      "Enlaces sacados: 1000\n",
      "Enlaces sacados: 2000\n",
      "Enlaces sacados: 3000\n",
      "Enlaces sacados: 4000\n",
      "Enlaces sacados: 5000\n",
      "Enlaces sacados: 6000\n",
      "Enlaces sacados: 7000\n",
      "Enlaces sacados: 8000\n",
      "Enlaces sacados: 9000\n",
      "Enlaces sacados: 10000\n",
      "Enlaces sacados: 11000\n",
      "Enlaces sacados: 12000\n",
      "Enlaces sacados: 13000\n",
      "Enlaces sacados: 14000\n",
      "Enlaces sacados: 15000\n",
      "Enlaces sacados: 16000\n",
      "Enlaces sacados: 17000\n",
      "Enlaces sacados: 18000\n",
      "Enlaces sacados: 19000\n",
      "Enlaces sacados: 20000\n",
      "Enlaces sacados: 21000\n",
      "Enlaces sacados: 22000\n",
      "Enlaces sacados: 23000\n",
      "23337 edges deleted, 4546 left. 16.304% left.\n",
      "Gigant component is 0.9227799227799228 of the total\n"
     ]
    }
   ],
   "source": [
    "grafo_cortado = NewDisparityFilter(grafo).alpha_cut(alpha_t = alpha)"
   ]
  },
  {
   "cell_type": "code",
   "execution_count": 7,
   "metadata": {},
   "outputs": [
    {
     "data": {
      "text/plain": [
       "4546"
      ]
     },
     "execution_count": 7,
     "metadata": {},
     "output_type": "execute_result"
    }
   ],
   "source": [
    "len(grafo_cortado.get_edges())"
   ]
  },
  {
   "cell_type": "code",
   "execution_count": 8,
   "metadata": {},
   "outputs": [
    {
     "data": {
      "text/plain": [
       "239"
      ]
     },
     "execution_count": 8,
     "metadata": {},
     "output_type": "execute_result"
    }
   ],
   "source": [
    "GC_cut, _ = grafo_cortado.gigant_component()\n",
    "len(GC_cut.get_nodes())"
   ]
  },
  {
   "cell_type": "markdown",
   "metadata": {},
   "source": [
    "# Comunidades\n",
    "* Queremos calcular comunidades en la componente gigante del grafo cortado\n",
    "* Luego a cada comunidad guardarla como un atributo del nodo\n",
    "\n",
    "* Analizar composición de la comunidad.\n"
   ]
  },
  {
   "cell_type": "markdown",
   "metadata": {},
   "source": [
    "### Pesos a tener en cuenta"
   ]
  },
  {
   "cell_type": "code",
   "execution_count": 9,
   "metadata": {},
   "outputs": [],
   "source": [
    "new_weights = list(GC_cut.get_edge_attr('weight').values()) "
   ]
  },
  {
   "cell_type": "code",
   "execution_count": 10,
   "metadata": {},
   "outputs": [],
   "source": [
    "import funciones as f\n",
    "funciones_dict = {'Fast greedy': f.fast_greedy,'Leiden': f.leiden1}\n",
    "\n",
    "particiones = {}\n",
    "\n",
    "for name, metodo in funciones_dict.items():\n",
    "    particiones[name] = {}\n",
    "    particion = metodo(GC_cut.graph,new_weights)\n",
    "    particiones[name] = particion  "
   ]
  },
  {
   "cell_type": "markdown",
   "metadata": {},
   "source": [
    "# Agregamos atributos al grafo\n",
    "Queremos que cada nodo tenga tres cosas: comunidad, partido e ideologia"
   ]
  },
  {
   "cell_type": "markdown",
   "metadata": {},
   "source": [
    "### Parties"
   ]
  },
  {
   "cell_type": "code",
   "execution_count": 11,
   "metadata": {},
   "outputs": [],
   "source": [
    "if len(grafo.years) == 1:\n",
    "    graph_year = grafo.years[0]\n",
    "if len(grafo.years) == 2:\n",
    "    graph_year = grafo.years\n",
    "\n",
    "parties_dict = {}\n",
    "for repre in grafo_cortado.get_nodes():\n",
    "    parties_dict[repre] = [party.text for party in repre.parties.get(year)][0]\n",
    "\n",
    "grafo_cortado.set_node_attributes(parties_dict, 'party')"
   ]
  },
  {
   "cell_type": "markdown",
   "metadata": {},
   "source": [
    "### Comunidades"
   ]
  },
  {
   "cell_type": "code",
   "execution_count": 12,
   "metadata": {},
   "outputs": [],
   "source": [
    "#Leiden\n",
    "communities_dict = particiones['Leiden']\n",
    "GC_cut.set_node_attributes(communities_dict, 'community')"
   ]
  },
  {
   "cell_type": "markdown",
   "metadata": {},
   "source": [
    "### Ideologies"
   ]
  },
  {
   "cell_type": "code",
   "execution_count": 13,
   "metadata": {},
   "outputs": [],
   "source": [
    "import json\n",
    "\n",
    "with open('configs/ideologies.json') as json_file:\n",
    "    ideologies_dict = json.load(json_file)\n",
    "\n",
    "ideology_dict_to_add = {}\n",
    "for repre, party in parties_dict.items():\n",
    "    for ideology, list_of_parties in ideologies_dict[f'{graph_year}'].items():\n",
    "        if party in list_of_parties:\n",
    "            ideology_dict_to_add[repre] = ideology\n",
    "    if repre not in ideology_dict_to_add:\n",
    "        ideology_dict_to_add[repre] = 'Sin ideologia'"
   ]
  },
  {
   "cell_type": "code",
   "execution_count": 14,
   "metadata": {},
   "outputs": [],
   "source": [
    "grafo_cortado.set_node_attributes(ideology_dict_to_add, 'ideology')"
   ]
  },
  {
   "cell_type": "markdown",
   "metadata": {},
   "source": [
    "# Creamos un dict para guardar las métricas"
   ]
  },
  {
   "cell_type": "code",
   "execution_count": 15,
   "metadata": {},
   "outputs": [],
   "source": [
    "data = {}\n",
    "data['alpha'] = alpha"
   ]
  },
  {
   "cell_type": "markdown",
   "metadata": {},
   "source": [
    "# Diversidad por partidos, comunidad"
   ]
  },
  {
   "cell_type": "code",
   "execution_count": 16,
   "metadata": {},
   "outputs": [],
   "source": [
    "import numpy as np\n",
    "def diversity_by_party(year):\n",
    "    \"\"\"Este es la unica metrica que no necesita del grafo, pues la saca del congreso.\n",
    "    Se le pasa anios y devuelve dos listas: con la diversidad de partidos para esos anios y \n",
    "    con el total de partidos\n",
    "    \n",
    "        Parameters\n",
    "    ----------\n",
    "    years : lists of years to calculate\n",
    "\n",
    "    Returns\n",
    "    -------\n",
    "    diversities : lists of diversities for each year\n",
    "    total: total number of parties per year\n",
    "    \"\"\"\n",
    "    parties = [party for party in congreso.parties if party.representatives.get(year)]\n",
    "    cant_people = [len(party.representatives[year]) for party in parties]\n",
    "    total = sum(cant_people)\n",
    "    probs = [people / total for people in cant_people]\n",
    "    entropy = -sum(np.log(probs) * probs)\n",
    "    diversity = np.exp(entropy)\n",
    "        \n",
    "        \n",
    "    return diversity, len(parties)\n",
    "\n",
    "def diversity_by_param(grafo, param):\n",
    "    \"\"\"\n",
    "    grafo: RepresentativesGraph\n",
    "    Param: 'community' or 'ideology'. Anything that its a attr of the nodes\"\"\"\n",
    "    params = list(grafo.get_node_attr(param).values())\n",
    "    unique,count = np.unique(params,return_counts=True)\n",
    "    total = sum(count)\n",
    "    probs = count/total\n",
    "    entropy = -sum(np.log(probs)*probs)\n",
    "    div = np.exp(entropy)\n",
    "    total_unique = len(unique)\n",
    "\n",
    "    return div,total_unique"
   ]
  },
  {
   "cell_type": "code",
   "execution_count": 17,
   "metadata": {},
   "outputs": [],
   "source": [
    "div_comm = diversity_by_param(GC_cut, 'community')"
   ]
  },
  {
   "cell_type": "code",
   "execution_count": 18,
   "metadata": {},
   "outputs": [],
   "source": [
    "div_party = diversity_by_party(year)"
   ]
  },
  {
   "cell_type": "code",
   "execution_count": 19,
   "metadata": {},
   "outputs": [],
   "source": [
    "data['div_comm'] = div_comm\n",
    "data['div_party'] = div_party"
   ]
  },
  {
   "cell_type": "markdown",
   "metadata": {},
   "source": [
    "# Info mutua"
   ]
  },
  {
   "cell_type": "code",
   "execution_count": 20,
   "metadata": {},
   "outputs": [],
   "source": [
    "from sklearn.metrics import normalized_mutual_info_score\n",
    "\n",
    "def info_mutua(grafo, ideology = False):\n",
    "    mutual_info = []\n",
    "    communities = list(grafo.get_node_attr('community').values())\n",
    "    if not ideology:\n",
    "        parties = [party for party in grafo.get_node_attr('party').values()]\n",
    "        mutual_info = normalized_mutual_info_score(communities,parties,'geometric')\n",
    "        return mutual_info\n",
    "    else:\n",
    "        ideologies = [ideo for ideo in grafo.get_node_attr('ideology').values()]\n",
    "        mutual_info = normalized_mutual_info_score(communities,ideologies,'geometric')\n",
    "        return mutual_info"
   ]
  },
  {
   "cell_type": "code",
   "execution_count": 21,
   "metadata": {},
   "outputs": [],
   "source": [
    "informacion_mutua = info_mutua(GC_cut)"
   ]
  },
  {
   "cell_type": "code",
   "execution_count": 22,
   "metadata": {},
   "outputs": [],
   "source": [
    "data['info_mutua'] = informacion_mutua"
   ]
  },
  {
   "cell_type": "markdown",
   "metadata": {},
   "source": [
    "# Modularidad"
   ]
  },
  {
   "cell_type": "code",
   "execution_count": 23,
   "metadata": {},
   "outputs": [],
   "source": [
    "import igraph as ig\n",
    "\n",
    "def modularity(grafo, parameter):\n",
    "    param_dict = grafo.get_node_attr(parameter)    \n",
    "    ig_graph = ig.Graph.TupleList(grafo.get_edges(data = True), directed=False, weights = True)\n",
    "    for node in ig_graph.vs:\n",
    "        node[parameter] = param_dict[node['name']]\n",
    "\n",
    "    param = list(set(ig_graph.vs[parameter]))\n",
    "    param_int = [param.index(p) for p in ig_graph.vs[parameter]]\n",
    "    vc = ig.VertexClustering(ig_graph, param_int, params={'weight':ig_graph.es['weight']})\n",
    "    return vc.modularity"
   ]
  },
  {
   "cell_type": "code",
   "execution_count": 24,
   "metadata": {},
   "outputs": [],
   "source": [
    "mod_ideo = modularity(GC_cut, 'ideology')"
   ]
  },
  {
   "cell_type": "code",
   "execution_count": 25,
   "metadata": {},
   "outputs": [],
   "source": [
    "mod_comm = modularity(GC_cut, 'community')"
   ]
  },
  {
   "cell_type": "code",
   "execution_count": 26,
   "metadata": {},
   "outputs": [],
   "source": [
    "mod_party = modularity(GC_cut, 'party')"
   ]
  },
  {
   "cell_type": "code",
   "execution_count": 27,
   "metadata": {},
   "outputs": [],
   "source": [
    "data['modularity_ideology'] = mod_ideo\n",
    "data['modularity_community'] = mod_comm\n",
    "data['modularity_party'] = mod_party"
   ]
  },
  {
   "cell_type": "markdown",
   "metadata": {},
   "source": [
    "# Distance"
   ]
  },
  {
   "cell_type": "code",
   "execution_count": 28,
   "metadata": {},
   "outputs": [],
   "source": [
    "import numpy as np\n",
    "\n",
    "def calculate_dist(grafo, year):\n",
    "    weights = grafo.get_edge_attr('weight')\n",
    "    total_votes = len(congreso.votings[year])\n",
    "    distance = {k: np.sqrt(2 * (1 - w / total_votes)) for k,w in weights.items()}\n",
    "    grafo.set_edge_attributes(distance, 'distance')"
   ]
  },
  {
   "cell_type": "code",
   "execution_count": 29,
   "metadata": {},
   "outputs": [],
   "source": [
    "calculate_dist(GC_cut, year)"
   ]
  },
  {
   "cell_type": "markdown",
   "metadata": {},
   "source": [
    "# Shortest path mean \n",
    "De toda la red"
   ]
  },
  {
   "cell_type": "code",
   "execution_count": 30,
   "metadata": {},
   "outputs": [],
   "source": [
    "from statistics import mean\n",
    "\n",
    "def shortest_path_mean(grafo):\n",
    "        GC, _ = grafo.gigant_component()\n",
    "        len_nodes = len(GC.get_nodes())\n",
    "        dists = []\n",
    "        for node in GC.get_nodes():\n",
    "            path_lens = GC.shortest_path(node).values()\n",
    "            for p in path_lens:\n",
    "                if len(p) >= 2:\n",
    "                    x = sum([distance_edge(GC, p[i], p[i + 1]) for i in range(0, len(p) - 1 )])\n",
    "                    dists.append(x)\n",
    "        m = mean(dists)\n",
    "        return m\n",
    "                    \n",
    "def distance_edge(grafo, node1, node2):\n",
    "    return grafo.graph.edges()[node1, node2]['distance']                    "
   ]
  },
  {
   "cell_type": "code",
   "execution_count": 31,
   "metadata": {},
   "outputs": [],
   "source": [
    "data['shortest_path_mean'] = shortest_path_mean(GC_cut)"
   ]
  },
  {
   "cell_type": "markdown",
   "metadata": {},
   "source": [
    "# Distancia entre partidos\n",
    "La idea es ver la distancia entre el Justicialismo y Radicalismo (por ejemplo) a lo largo de los años y justicialismo entre sí."
   ]
  },
  {
   "cell_type": "code",
   "execution_count": 32,
   "metadata": {},
   "outputs": [],
   "source": [
    "def calculate_shortest_paths(grafo, groups, parties = True):\n",
    "    if parties == True:\n",
    "        param = 'party'\n",
    "    else: \n",
    "        param = 'ideology'\n",
    "        \n",
    "    summary = {k: {} for k in groups}\n",
    "    all_paths = []\n",
    "    for g1 in groups:\n",
    "        summary[g1] = {}\n",
    "        sources = []\n",
    "        for node, ideology in grafo.get_node_attr(param).items():\n",
    "            if ideology == g1:\n",
    "                sources.append(node)\n",
    "        for g2 in groups:\n",
    "            targets = []\n",
    "            paths = []\n",
    "            for node, ideology in grafo.get_node_attr(param).items():\n",
    "                if ideology == g2:\n",
    "                    targets.append(node)\n",
    "            for s in sources:\n",
    "                for t in targets:\n",
    "                    path = grafo.shortest_path(initial_node = s, target_node = t, weight = 'distance')\n",
    "                    if len(path) > 1:\n",
    "                        x =  sum([distance_edge(grafo, path[i], path[i + 1]) for i in range(0, len(path) - 1 )])\n",
    "                        if x > 0:\n",
    "                            paths.append(x)\n",
    "                            all_paths.append(x)\n",
    "            \n",
    "            if len(paths) == 0:\n",
    "                summary[g1][g2] = (np.nan,np.nan,np.nan)\n",
    "                summary[g2][g1] = (np.nan,np.nan,np.nan)\n",
    "            else:\n",
    "                mean = np.mean(paths)\n",
    "                std_dev = np.std(paths)\n",
    "                summary[g1][g2] = (mean,std_dev,len(targets)) \n",
    "                summary[g2][g1] = (mean,std_dev,len(sources))\n",
    "\n",
    "            if g1 == g2:\n",
    "                break\n",
    "                \n",
    "    all_paths_mean = np.mean(all_paths)\n",
    "    all_paths_std = np.std(all_paths)\n",
    "    \n",
    "    return summary,(all_paths_mean,all_paths_std)  "
   ]
  },
  {
   "cell_type": "code",
   "execution_count": 33,
   "metadata": {},
   "outputs": [
    {
     "data": {
      "text/plain": [
       "['Frente para la Victoria - PJ',\n",
       " 'PRO',\n",
       " 'Unión Cívica Radical',\n",
       " 'Coalición Cívica',\n",
       " 'Justicialista',\n",
       " 'Federal Unidos por una Nueva Argentina']"
      ]
     },
     "execution_count": 33,
     "metadata": {},
     "output_type": "execute_result"
    }
   ],
   "source": [
    "pps = [item for items in ideologies_dict[f'{year}'].values() for item in items]\n",
    "pps"
   ]
  },
  {
   "cell_type": "code",
   "execution_count": 34,
   "metadata": {},
   "outputs": [],
   "source": [
    "data['shortest_paths_pps'] = calculate_shortest_paths(GC_cut, pps, parties = True)"
   ]
  },
  {
   "cell_type": "code",
   "execution_count": 35,
   "metadata": {},
   "outputs": [],
   "source": [
    "data['shortest_paths_ideology'] = calculate_shortest_paths(GC_cut, ideologies_dict[f'{year}'], parties = False)"
   ]
  },
  {
   "cell_type": "code",
   "execution_count": 36,
   "metadata": {},
   "outputs": [
    {
     "data": {
      "text/plain": [
       "{'alpha': 0.17,\n",
       " 'div_comm': (2.8953421410446976, 3),\n",
       " 'div_party': (13.112993554692878, 42),\n",
       " 'info_mutua': 0.60257445403763,\n",
       " 'modularity_ideology': 0.4207203714524781,\n",
       " 'modularity_community': 0.5560341140057474,\n",
       " 'modularity_party': 0.30751187112275963,\n",
       " 'shortest_path_mean': 4.341003483009598,\n",
       " 'shortest_paths_pps': ({'Frente para la Victoria - PJ': {'Frente para la Victoria - PJ': (1.2438824284773182,\n",
       "     0.5030165176334321,\n",
       "     63),\n",
       "    'PRO': (3.436366551935795, 0.5982972467875696, 52),\n",
       "    'Unión Cívica Radical': (3.0789807359951373, 0.5771716065992722, 37),\n",
       "    'Coalición Cívica': (3.5148866185606025, 0.5752518098577609, 9),\n",
       "    'Justicialista': (1.999025256860849, 0.657199337300349, 13),\n",
       "    'Federal Unidos por una Nueva Argentina': (2.455001617705034,\n",
       "     0.49815860283860136,\n",
       "     11)},\n",
       "   'PRO': {'Frente para la Victoria - PJ': (3.436366551935795,\n",
       "     0.5982972467875696,\n",
       "     63),\n",
       "    'PRO': (1.279916063658656, 0.5221874497944441, 52),\n",
       "    'Unión Cívica Radical': (1.2838611210808788, 0.487549445559928, 37),\n",
       "    'Coalición Cívica': (1.7121437791374041, 0.4382316394267398, 9),\n",
       "    'Justicialista': (2.4569765412100937, 0.574015185547217, 13),\n",
       "    'Federal Unidos por una Nueva Argentina': (2.375470305136421,\n",
       "     0.46707046947178393,\n",
       "     11)},\n",
       "   'Unión Cívica Radical': {'Frente para la Victoria - PJ': (3.0789807359951373,\n",
       "     0.5771716065992722,\n",
       "     63),\n",
       "    'PRO': (1.2838611210808788, 0.487549445559928, 52),\n",
       "    'Unión Cívica Radical': (1.0805215141929205, 0.44195965644778573, 37),\n",
       "    'Coalición Cívica': (1.6977862146492912, 0.4581459187453201, 9),\n",
       "    'Justicialista': (2.12131139702342, 0.5608712230071278, 13),\n",
       "    'Federal Unidos por una Nueva Argentina': (2.0585030742563424,\n",
       "     0.4354164166263688,\n",
       "     11)},\n",
       "   'Coalición Cívica': {'Frente para la Victoria - PJ': (3.5148866185606025,\n",
       "     0.5752518098577609,\n",
       "     63),\n",
       "    'PRO': (1.7121437791374041, 0.4382316394267398, 52),\n",
       "    'Unión Cívica Radical': (1.6977862146492912, 0.4581459187453201, 37),\n",
       "    'Coalición Cívica': (1.3115878512417822, 0.4925971301401096, 9),\n",
       "    'Justicialista': (2.824700752355057, 0.5019816098886344, 13),\n",
       "    'Federal Unidos por una Nueva Argentina': (2.8004800786804815,\n",
       "     0.42093063475772535,\n",
       "     11)},\n",
       "   'Justicialista': {'Frente para la Victoria - PJ': (1.999025256860849,\n",
       "     0.657199337300349,\n",
       "     63),\n",
       "    'PRO': (2.4569765412100937, 0.574015185547217, 52),\n",
       "    'Unión Cívica Radical': (2.12131139702342, 0.5608712230071278, 37),\n",
       "    'Coalición Cívica': (2.824700752355057, 0.5019816098886344, 9),\n",
       "    'Justicialista': (1.4517484611603702, 0.556387944844409, 13),\n",
       "    'Federal Unidos por una Nueva Argentina': (1.5682463923932715,\n",
       "     0.5481336262536307,\n",
       "     11)},\n",
       "   'Federal Unidos por una Nueva Argentina': {'Frente para la Victoria - PJ': (2.455001617705034,\n",
       "     0.49815860283860136,\n",
       "     63),\n",
       "    'PRO': (2.375470305136421, 0.46707046947178393, 52),\n",
       "    'Unión Cívica Radical': (2.0585030742563424, 0.4354164166263688, 37),\n",
       "    'Coalición Cívica': (2.8004800786804815, 0.42093063475772535, 9),\n",
       "    'Justicialista': (1.5682463923932715, 0.5481336262536307, 13),\n",
       "    'Federal Unidos por una Nueva Argentina': (1.3255153570105442,\n",
       "     0.45111070060589603,\n",
       "     11)}},\n",
       "  (2.0570455862355703, 1.047182260640664)),\n",
       " 'shortest_paths_ideology': ({'Justicialismo': {'Justicialismo': (1.2438824284773182,\n",
       "     0.5030165176334321,\n",
       "     63),\n",
       "    'Cambiemos': (3.3086461989747633, 0.6152857958766678, 98),\n",
       "    'Peronismo disidente': (2.2080144222477673, 0.6319100698769132, 24)},\n",
       "   'Cambiemos': {'Justicialismo': (3.3086461989747633, 0.6152857958766678, 63),\n",
       "    'Cambiemos': (1.3257002451743487, 0.5188862932485394, 98),\n",
       "    'Peronismo disidente': (2.3323062097795755, 0.5596188467092947, 24)},\n",
       "   'Peronismo disidente': {'Justicialismo': (2.2080144222477673,\n",
       "     0.6319100698769132,\n",
       "     63),\n",
       "    'Cambiemos': (2.3323062097795755, 0.5596188467092947, 98),\n",
       "    'Peronismo disidente': (1.486952748979444, 0.5409946283366465, 24)}},\n",
       "  (1.9804392273965186, 1.0201185281141798))}"
      ]
     },
     "execution_count": 36,
     "metadata": {},
     "output_type": "execute_result"
    }
   ],
   "source": [
    "data"
   ]
  },
  {
   "cell_type": "code",
   "execution_count": 37,
   "metadata": {},
   "outputs": [],
   "source": [
    "with open(f'metrics/{year}_metrics.json', 'w') as outfile:\n",
    "    json.dump(data, outfile)"
   ]
  },
  {
   "cell_type": "code",
   "execution_count": null,
   "metadata": {},
   "outputs": [],
   "source": []
  }
 ],
 "metadata": {
  "kernelspec": {
   "display_name": "Python 3",
   "language": "python",
   "name": "python3"
  },
  "language_info": {
   "codemirror_mode": {
    "name": "ipython",
    "version": 3
   },
   "file_extension": ".py",
   "mimetype": "text/x-python",
   "name": "python",
   "nbconvert_exporter": "python",
   "pygments_lexer": "ipython3",
   "version": "3.6.9"
  }
 },
 "nbformat": 4,
 "nbformat_minor": 2
}
