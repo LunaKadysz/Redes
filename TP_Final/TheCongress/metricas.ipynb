{
 "cells": [
  {
   "cell_type": "markdown",
   "metadata": {},
   "source": [
    "Este notebook es para testear las metricas a calcular en las redes. Las mismas luego se pasarán a una clase *analizer*. \n",
    "Cosas a hacer:\n",
    "* Comunidades\n",
    "* Agregar attributos\n",
    "* Modularidad: por partido y comunidad\n",
    "* NMI\n",
    "* Diversity: communities, parties\n",
    "* Distancia\n",
    "* Shortest path mean (de toda red)\n",
    "* Shortest path entre partidos"
   ]
  },
  {
   "cell_type": "code",
   "execution_count": 1,
   "metadata": {},
   "outputs": [],
   "source": [
    "year = 2018"
   ]
  },
  {
   "cell_type": "code",
   "execution_count": 2,
   "metadata": {},
   "outputs": [],
   "source": [
    "import matplotlib.pyplot as plt\n",
    "import networkx as nx"
   ]
  },
  {
   "cell_type": "code",
   "execution_count": 3,
   "metadata": {},
   "outputs": [],
   "source": [
    "from procesador_votaciones import ProcesadorDeVotaciones\n",
    "from heavy_graph_maker import HeavyGraphMaker\n",
    "from new_disparity_filter import NewDisparityFilter"
   ]
  },
  {
   "cell_type": "code",
   "execution_count": 4,
   "metadata": {},
   "outputs": [
    {
     "name": "stdout",
     "output_type": "stream",
     "text": [
      "Loading from data/2018/1\n",
      "Loading from data/2018/2\n",
      "Loading from data/2018/3\n",
      "Loading from data/2018/4\n",
      "Loading from data/2018/5\n",
      "Loading from data/2018/6\n",
      "Loading from data/2018/7\n",
      "Loading from data/2018/8\n",
      "Loading from data/2018/9\n",
      "Loading from data/2018/10\n",
      "Loading from data/2018/11\n",
      "Loading from data/2018/12\n",
      "Loading from data/2019/1\n",
      "Loading from data/2019/2\n",
      "Loading from data/2019/3\n",
      "Loading from data/2019/4\n",
      "Loading from data/2019/5\n",
      "Loading from data/2019/6\n",
      "Loading from data/2019/7\n",
      "Loading from data/2019/8\n",
      "Loading from data/2019/9\n",
      "Loading from data/2019/10\n",
      "Loading from data/2019/11\n",
      "Loading from data/2019/12\n",
      "Loading from data/2020/1\n",
      "Loading from data/2020/2\n",
      "Loading from data/2020/3\n",
      "Loading from data/2020/4\n",
      "Loading from data/2020/5\n",
      "Loading from data/2020/6\n",
      "Loading from data/2020/7\n",
      "Loading from data/2020/8\n",
      "Loading from data/2020/9\n",
      "Loading from data/2020/10\n",
      "Loading from data/2020/11\n",
      "Loading from data/2020/12\n",
      "Changing vote 3952 in 2019 to 2020\n",
      "Changing vote 3958 in 2019 to 2020\n",
      "Changing vote 3942 in 2019 to 2020\n",
      "Changing vote 3947 in 2019 to 2020\n",
      "Changing vote 3953 in 2019 to 2020\n",
      "Changing vote 3954 in 2019 to 2020\n",
      "Changing vote 3936 in 2019 to 2020\n",
      "Changing vote 3935 in 2019 to 2020\n",
      "Changing vote 3950 in 2019 to 2020\n",
      "Changing vote 3945 in 2019 to 2020\n",
      "Changing vote 3948 in 2019 to 2020\n",
      "Changing vote 3949 in 2019 to 2020\n",
      "Changing vote 3946 in 2019 to 2020\n",
      "Changing vote 3943 in 2019 to 2020\n",
      "Changing vote 3941 in 2019 to 2020\n",
      "Changing vote 3944 in 2019 to 2020\n",
      "Changing vote 3956 in 2019 to 2020\n",
      "Changing vote 3940 in 2019 to 2020\n",
      "Changing vote 3957 in 2019 to 2020\n",
      "Changing vote 3933 in 2019 to 2020\n",
      "Changing vote 3951 in 2019 to 2020\n",
      "Changing vote 3937 in 2019 to 2020\n",
      "Changing vote 3938 in 2019 to 2020\n",
      "Changing vote 3955 in 2019 to 2020\n",
      "Changing vote 3959 in 2019 to 2020\n",
      "Changing vote 3934 in 2019 to 2020\n",
      "Changing vote 3939 in 2019 to 2020\n"
     ]
    }
   ],
   "source": [
    "procesador = ProcesadorDeVotaciones(2018, 2020, 'data')\n",
    "congreso = procesador.procesar()\n",
    "congreso.validate()"
   ]
  },
  {
   "cell_type": "code",
   "execution_count": 5,
   "metadata": {},
   "outputs": [],
   "source": [
    "maker = HeavyGraphMaker(congreso)\n",
    "grafo = maker.create_year_network(year, positive = True)"
   ]
  },
  {
   "cell_type": "code",
   "execution_count": 6,
   "metadata": {},
   "outputs": [
    {
     "data": {
      "text/plain": [
       "[2018]"
      ]
     },
     "execution_count": 6,
     "metadata": {},
     "output_type": "execute_result"
    }
   ],
   "source": [
    "grafo.years"
   ]
  },
  {
   "cell_type": "code",
   "execution_count": 7,
   "metadata": {},
   "outputs": [
    {
     "name": "stdout",
     "output_type": "stream",
     "text": [
      "The graph has 19799 edges\n",
      "Max alpha is 0.2152383369725485, min alpha is 0.01713275937275201\n",
      "Enlaces sacados: 1000\n",
      "Enlaces sacados: 2000\n",
      "Enlaces sacados: 3000\n",
      "Enlaces sacados: 4000\n",
      "Enlaces sacados: 5000\n",
      "Enlaces sacados: 6000\n",
      "Enlaces sacados: 7000\n",
      "Enlaces sacados: 8000\n",
      "8111 edges deleted, 11688 left\n",
      "Gigant component is 0.9768339768339769 of the total\n"
     ]
    }
   ],
   "source": [
    "alpha = 0.05\n",
    "copia = grafo.copy()\n",
    "grafo_cortado = NewDisparityFilter(copia).alpha_cut(alpha_t = alpha)"
   ]
  },
  {
   "cell_type": "code",
   "execution_count": 8,
   "metadata": {},
   "outputs": [
    {
     "data": {
      "text/plain": [
       "11688"
      ]
     },
     "execution_count": 8,
     "metadata": {},
     "output_type": "execute_result"
    }
   ],
   "source": [
    "len(grafo_cortado.get_edges())"
   ]
  },
  {
   "cell_type": "code",
   "execution_count": 9,
   "metadata": {},
   "outputs": [
    {
     "data": {
      "text/plain": [
       "253"
      ]
     },
     "execution_count": 9,
     "metadata": {},
     "output_type": "execute_result"
    }
   ],
   "source": [
    "GC_cut, _ = grafo_cortado.gigant_component()\n",
    "len(GC_cut.nodes())"
   ]
  },
  {
   "cell_type": "markdown",
   "metadata": {},
   "source": [
    "# Agregamos atributos al grafo\n",
    "Queremos que cada nodo tenga tres cosas: comunidad, partido e ideologia"
   ]
  },
  {
   "cell_type": "code",
   "execution_count": 10,
   "metadata": {},
   "outputs": [
    {
     "name": "stdout",
     "output_type": "stream",
     "text": [
      "Frente para la Victoria - PJ\n",
      "Frente para la Victoria - PJ\n",
      "Frente para la Victoria - PJ\n",
      "PRO\n",
      "Partido Bloquista de San Juan\n",
      "PRO\n",
      "Coalición Cívica\n",
      "Peronismo para la Victoria\n",
      "Justicialista\n",
      "PRO\n",
      "Justicialista\n",
      "Frente para la Victoria - PJ\n",
      "PRO\n",
      "PTS - Frente de Izquierda\n",
      "PRO\n",
      "PRO\n",
      "Justicialista por Tucumán\n",
      "Frente para la Victoria - PJ\n",
      "Justicialista\n",
      "PRO\n",
      "Peronismo para la Victoria\n",
      "Unión Cívica Radical\n",
      "PRO\n",
      "Evolución Radical\n",
      "PRO\n",
      "PRO\n",
      "Unión Cívica Radical\n",
      "Frente para la Victoria - PJ\n",
      "Trabajo y Dignidad\n",
      "Unión Cívica Radical\n",
      "Frente para la Victoria - PJ\n",
      "Frente para la Victoria - PJ\n",
      "PRO\n",
      "PTS - Frente de Izquierda\n",
      "Frente para la Victoria - PJ\n",
      "Unión Cívica Radical\n",
      "PRO\n",
      "PRO\n",
      "Justicialista\n",
      "Fte. Cívico y Social de Catamarca\n",
      "Federal Unidos por una Nueva Argentina\n",
      "Unión Cívica Radical\n",
      "PRO\n",
      "Unión Cívica Radical\n",
      "PRO\n",
      "Frente para la Victoria - PJ\n",
      "PRO\n",
      "Frente para la Victoria - PJ\n",
      "Concertación FORJA\n",
      "Frente para la Victoria - PJ\n",
      "Red por Argentina\n",
      "Red por Argentina\n",
      "Protectora\n",
      "PRO\n",
      "Frente Cívico por Santiago\n",
      "Justicialista por Tucumán\n",
      "PRO\n",
      "Frente para la Victoria - PJ\n",
      "Federal Unidos por una Nueva Argentina\n",
      "Frente para la Victoria - PJ\n",
      "Coalición Cívica\n",
      "Frente para la Victoria - PJ\n",
      "Federal Unidos por una Nueva Argentina\n",
      "Córdoba Federal\n",
      "Justicialista\n",
      "Unión Cívica Radical\n",
      "PRO\n",
      "Salta Somos Todos\n",
      "PRO\n",
      "Frente para la Victoria - PJ\n",
      "Frente para la Victoria - PJ\n",
      "Justicialista\n",
      "Libres del Sur\n",
      "PRO\n",
      "Justicialista\n",
      "PRO\n",
      "PRO\n",
      "Unión Cívica Radical\n",
      "Elijo Catamarca\n",
      "Frente para la Victoria - PJ\n",
      "Frente para la Victoria - PJ\n",
      "Primero Argentina\n",
      "PRO\n",
      "Unión Cívica Radical\n",
      "Unión Cívica Radical\n",
      "Coalición Cívica\n",
      "Frente para la Victoria - PJ\n",
      "Unión Cívica Radical\n",
      "Nuevo Espacio Santafesino\n",
      "Federal Unidos por una Nueva Argentina\n",
      "Unión Cívica Radical\n",
      "Frente para la Victoria - PJ\n",
      "Federal Unidos por una Nueva Argentina\n",
      "Frente para la Victoria - PJ\n",
      "Frente para la Victoria - PJ\n",
      "Coalición Cívica\n",
      "PRO\n",
      "Unión Cívica Radical\n",
      "Cultura, Educación y Trabajo\n",
      "PRO\n",
      "Frente para la Victoria - PJ\n",
      "Unión Cívica Radical\n",
      "Unión Cívica Radical\n",
      "Justicialista\n",
      "Frente para la Victoria - PJ\n",
      "Justicialista\n",
      "Frente para la Victoria - PJ\n",
      "PRO\n",
      "Justicialista\n",
      "Federal Unidos por una Nueva Argentina\n",
      "Elijo Catamarca\n",
      "Frente de la Concordia Misionero\n",
      "Unidad Justicialista\n",
      "Justicialista\n",
      "Federal Unidos por una Nueva Argentina\n",
      "Frente para la Victoria - PJ\n",
      "PRO\n",
      "Federal Unidos por una Nueva Argentina\n",
      "Frente de la Concordia Misionero\n",
      "Justicialista\n",
      "Red por Argentina\n",
      "Unión Cívica Radical\n",
      "Frente para la Victoria - PJ\n",
      "Partido por la Justicia Social\n",
      "Frente para la Victoria - PJ\n",
      "Justicialista\n",
      "Frente para la Victoria - PJ\n",
      "Todos Juntos por San Juan\n",
      "Unión Cívica Radical\n",
      "Unidad Justicialista\n",
      "Movimiento Popular Neuquino\n",
      "Unión Cívica Radical\n",
      "Frente para la Victoria - PJ\n",
      "Unión Cívica Radical\n",
      "Frente Cívico por Santiago\n",
      "PRO\n",
      "Frente para la Victoria - PJ\n",
      "Unión Cívica Radical\n",
      "Peronismo para la Victoria\n",
      "Unión Cívica Radical\n",
      "PRO\n",
      "Frente Cívico por Santiago\n",
      "Coalición Cívica\n",
      "Coalición Cívica\n",
      "PRO\n",
      "Federal Unidos por una Nueva Argentina\n",
      "PRO\n",
      "Frente para la Victoria - PJ\n",
      "Frente para la Victoria - PJ\n",
      "Frente para la Victoria - PJ\n",
      "Unión Cívica Radical\n",
      "Frente para la Victoria - PJ\n",
      "Unión Cívica Radical\n",
      "Justicialista\n",
      "Frente para la Victoria - PJ\n",
      "Unión Cívica Radical\n",
      "Somos San Juan\n",
      "Unión Cívica Radical\n",
      "PRO\n",
      "Unión Cívica Radical\n",
      "Evolución Radical\n",
      "Unión Cívica Radical\n",
      "Frente para la Victoria - PJ\n",
      "Frente para la Victoria - PJ\n",
      "Justicialista\n",
      "Córdoba Federal\n",
      "Federal Unidos por una Nueva Argentina\n",
      "Frente para la Victoria - PJ\n",
      "PRO\n",
      "PRO\n",
      "Frente para la Victoria - PJ\n",
      "Federal Unidos por una Nueva Argentina\n",
      "PRO\n",
      "PRO\n",
      "Unión Cívica Radical\n",
      "Unión Cívica Radical\n",
      "Justicialista por Tucumán\n",
      "Frente para la Victoria - PJ\n",
      "Frente para la Victoria - PJ\n",
      "Frente para la Victoria - PJ\n",
      "Frente para la Victoria - PJ\n",
      "Unión Cívica Radical\n",
      "PRO\n",
      "Frente para la Victoria - PJ\n",
      "PRO\n",
      "Federal Unidos por una Nueva Argentina\n",
      "Unidad Justicialista\n",
      "PRO\n",
      "Frente para la Victoria - PJ\n",
      "Frente para la Victoria - PJ\n",
      "Coalición Cívica\n",
      "Unión Cívica Radical\n",
      "Frente para la Victoria - PJ\n",
      "Frente para la Victoria - PJ\n",
      "Frente para la Victoria - PJ\n",
      "Somos Mendoza\n",
      "PRO\n",
      "PRO\n",
      "Justicialista\n",
      "Frente para la Victoria - PJ\n",
      "PRO\n",
      "PRO\n",
      "Frente para la Victoria - PJ\n",
      "PRO\n",
      "PRO\n",
      "Unión Cívica Radical\n",
      "PRO\n",
      "Justicialista\n",
      "Unión Cívica Radical\n",
      "Frente para la Victoria - PJ\n",
      "Frente para la Victoria - PJ\n",
      "Frente para la Victoria - PJ\n",
      "Frente para la Victoria - PJ\n",
      "PRO\n",
      "PRO\n",
      "PRO\n",
      "Frente de la Concordia Misionero\n",
      "PRO\n",
      "Frente Cívico por Santiago\n",
      "Unión Cívica Radical\n",
      "Federal Unidos por una Nueva Argentina\n",
      "Unión Cívica Radical\n",
      "Frente Cívico por Santiago\n",
      "PRO\n",
      "Coalición Cívica\n",
      "Coalición Cívica\n",
      "Unión Cívica Radical\n",
      "Peronismo para la Victoria\n",
      "Justicialista\n",
      "Fte. de Izquierda y de los Trabajadores\n",
      "PRO\n",
      "Frente para la Victoria - PJ\n",
      "Unión Cívica Radical\n",
      "PRO\n",
      "Córdoba Federal\n",
      "Frente de la Concordia Misionero\n",
      "PRO\n",
      "Frente para la Victoria - PJ\n",
      "Coalición Cívica\n",
      "Unión Cívica Radical\n",
      "Evolución Radical\n",
      "PRO\n",
      "Unión Cívica Radical\n",
      "Unión Cívica Radical\n",
      "Frente para la Victoria - PJ\n",
      "Frente para la Victoria - PJ\n",
      "Unidad Justicialista\n",
      "Córdoba Federal\n",
      "Frente Progresista Cívico y Social\n",
      "Frente de la Concordia Misionero\n",
      "Red por Argentina\n",
      "Frente para la Victoria - PJ\n",
      "Frente para la Victoria - PJ\n",
      "Frente para la Victoria - PJ\n",
      "Frente para la Victoria - PJ\n",
      "Justicialista\n",
      "Córdoba Trabajo y Producción\n",
      "Federal Unidos por una Nueva Argentina\n",
      "Frente Cívico por Santiago\n"
     ]
    }
   ],
   "source": [
    "for r in grafo.get_nodes():\n",
    "     for p in r.parties[2018]:\n",
    "            print(p.text)"
   ]
  },
  {
   "cell_type": "code",
   "execution_count": 11,
   "metadata": {},
   "outputs": [],
   "source": [
    "if len(grafo.years) == 1:\n",
    "    graph_year = grafo.years[0]\n",
    "if len(grafo.years) == 2:\n",
    "    graph_year = grafo.years\n",
    "\n",
    "parties_dict = {}\n",
    "for repre in grafo.get_nodes():\n",
    "    parties_dict[repre] = [party.text for party in repre.parties.get(year)][0]\n",
    "\n",
    "grafo.set_node_attributes(parties_dict, 'party')\n",
    "\n",
    "#para probar\n",
    "communities_dict = {k: 1 for k in parties_dict}\n",
    "grafo.set_node_attributes(communities_dict, 'community')\n",
    "\n",
    "#ideologies_dict = {}"
   ]
  },
  {
   "cell_type": "markdown",
   "metadata": {},
   "source": [
    "# Diversidad por partidos"
   ]
  },
  {
   "cell_type": "code",
   "execution_count": 12,
   "metadata": {},
   "outputs": [],
   "source": [
    "import numpy as np\n",
    "def diversity_by_party(years):\n",
    "    diversities = []\n",
    "    totals = []\n",
    "    for year in years:\n",
    "        parties = [party for party in congreso.parties if party.representatives.get(year)]\n",
    "        cant_people = [len(party.representatives[year]) for party in parties]\n",
    "        total = sum(cant_people)\n",
    "        probs = [people / total for people in cant_people]\n",
    "        entropy = -sum(np.log(probs) * probs)\n",
    "        diversity = np.exp(entropy)\n",
    "        diversities.append(diversity)\n",
    "        totals.append(len(parties))\n",
    "        \n",
    "    return diversities, totals\n",
    "\n",
    "#TODO Diversity by communities"
   ]
  },
  {
   "cell_type": "code",
   "execution_count": 13,
   "metadata": {},
   "outputs": [
    {
     "data": {
      "text/plain": [
       "([12.12085936056187, 13.112993554692888], [38, 42])"
      ]
     },
     "execution_count": 13,
     "metadata": {},
     "output_type": "execute_result"
    }
   ],
   "source": [
    "diversity_by_party([2018, 2019])"
   ]
  },
  {
   "cell_type": "code",
   "execution_count": 14,
   "metadata": {},
   "outputs": [
    {
     "data": {
      "image/png": "[encoded data removed]",
      "text/plain": [
       "<Figure size 864x144 with 1 Axes>"
      ]
     },
     "metadata": {
      "needs_background": "light"
     },
     "output_type": "display_data"
    }
   ],
   "source": [
    "dates = np.arange(1993, 2021)\n",
    "pps_div, pps_total = diversity_by_party(dates)\n",
    "\n",
    "plt.figure(figsize=(12,2))\n",
    "plt.plot(dates,pps_div,label='political party diversity')\n",
    "#plt.plot(dates,comm_div,label='community diversity')\n",
    "plt.plot(dates,pps_total,label='total of political parties')\n",
    "#plt.plot(dates,comm_total,label='total of communities')\n",
    "plt.legend(loc='upper right',bbox_to_anchor=(1.2, 1.0))\n",
    "labels = [str(int(x)) if float(x)%5 == 0 else '' for x in dates]\n",
    "plt.xticks(np.arange(min(dates), max(dates)+1, 1.0),labels=labels)\n",
    "plt.xlabel('year')\n",
    "#plt.savefig(header+'divs.pdf',format='pdf',bbox_inches=\"tight\")\n",
    "plt.show()"
   ]
  },
  {
   "cell_type": "markdown",
   "metadata": {},
   "source": [
    "# Info mutua"
   ]
  },
  {
   "cell_type": "code",
   "execution_count": 15,
   "metadata": {},
   "outputs": [],
   "source": [
    "from sklearn.metrics import normalized_mutual_info_score\n",
    "\n",
    "def info_mutua(grafo):\n",
    "    mutual_info = []\n",
    "    communities = list(grafo.get_node_attr('community').values())\n",
    "    parties = [party for party in grafo.get_node_attr('party').values()]\n",
    "    mutual_info = normalized_mutual_info_score(communities,parties,'geometric')\n",
    "    return mutual_info"
   ]
  },
  {
   "cell_type": "code",
   "execution_count": 16,
   "metadata": {},
   "outputs": [
    {
     "data": {
      "text/plain": [
       "-0.9375"
      ]
     },
     "execution_count": 16,
     "metadata": {},
     "output_type": "execute_result"
    }
   ],
   "source": [
    "info_mutua(grafo)"
   ]
  },
  {
   "cell_type": "markdown",
   "metadata": {},
   "source": [
    "# Modularidad"
   ]
  },
  {
   "cell_type": "code",
   "execution_count": 17,
   "metadata": {},
   "outputs": [],
   "source": [
    "import igraph as ig\n",
    "\n",
    "def modularity(grafo):\n",
    "    mods_pps = []\n",
    "    mods_comm = []\n",
    "    years = grafo.years\n",
    "    for year in years:\n",
    "        #paso red a igraph\n",
    "        ig_graph = ig.Graph.TupleList(grafo.get_edges(data = True), directed=False, weights = True)\n",
    "        GC, _ = grafo.gigant_component()\n",
    "        outside_GC = set(grafo.get_nodes()).difference((GC.nodes()))\n",
    "        for node in outside_GC:\n",
    "            ig_graph.add_vertex(node)\n",
    "        \n",
    "        parties = list(set(grafo.get_node_attr('party').values()))\n",
    "        param_int = [parties.index(p) for p in grafo.get_node_attr('party').values()]\n",
    "        print(len(param_int))\n",
    "        vc_p = ig.VertexClustering(ig_graph, param_int, params={'weight':ig_graph.es['weight']})\n",
    "        mods_pps.append(vc_p.modularity)\n",
    "        \n",
    "        comms = list(set(grafo.get_node_attr('community').values()))\n",
    "        param_int_comm = [comms.index(p) for p in grafo.get_node_attr('community').values()]\n",
    "        vc_comm = ig.VertexClustering(ig_graph,param_int_comm,params={'weight':ig_graph.es['weight']})\n",
    "        mods_comm.append(vc_comm.modularity)\n",
    "        \n",
    "    return mods_pps, mods_comm\n"
   ]
  },
  {
   "cell_type": "code",
   "execution_count": 18,
   "metadata": {},
   "outputs": [
    {
     "name": "stdout",
     "output_type": "stream",
     "text": [
      "259\n"
     ]
    },
    {
     "data": {
      "text/plain": [
       "([-0.0029839012843254705], [0.0])"
      ]
     },
     "execution_count": 18,
     "metadata": {},
     "output_type": "execute_result"
    }
   ],
   "source": [
    "modularity(grafo)"
   ]
  },
  {
   "cell_type": "markdown",
   "metadata": {},
   "source": [
    "# Shortest path"
   ]
  },
  {
   "cell_type": "code",
   "execution_count": 19,
   "metadata": {},
   "outputs": [],
   "source": [
    "def shortest_path_mean(datas,nets):\n",
    "    means = []\n",
    "    for net in nets:\n",
    "        vcount = net.vcount()\n",
    "        dists = []\n",
    "        for v in net.vs:\n",
    "            path_lens = net.get_shortest_paths(v,to=net.vs,weights='weight')\n",
    "            for p in path_lens:\n",
    "                x = sum(net.es[idx]['distance'] for idx in p)\n",
    "                if x > 0:\n",
    "                    dists.append(x)\n",
    "        m = mean(dists)\n",
    "        means.append(m)\n",
    "    dates = [int(d) for d in datas]\n",
    "    plot(dates,means,'year','shortest paths mean','shortest_paths_mean')\n",
    "    \n",
    "## Necesita distance"
   ]
  },
  {
   "cell_type": "markdown",
   "metadata": {},
   "source": [
    "# Distance"
   ]
  },
  {
   "cell_type": "code",
   "execution_count": 38,
   "metadata": {},
   "outputs": [],
   "source": [
    "import numpy as np\n",
    "\n",
    "def calculate_dist(grafo):\n",
    "    weights = grafo.get_edge_attr('weight')\n",
    "    total_votes = len(congreso.votings[2018])\n",
    "    distance = {k: np.sqrt(2 * (1 - w / total_votes)) for k,w in weights.items()}\n",
    "    grafo.set_edge_attributes(distance, 'distance')"
   ]
  },
  {
   "cell_type": "code",
   "execution_count": 41,
   "metadata": {},
   "outputs": [],
   "source": [
    "calculate_dist(grafo)"
   ]
  },
  {
   "cell_type": "markdown",
   "metadata": {},
   "source": [
    "# Shortest path mean \n",
    "De toda la red"
   ]
  },
  {
   "cell_type": "code",
   "execution_count": 157,
   "metadata": {},
   "outputs": [],
   "source": [
    "from statistics import mean\n",
    "\n",
    "def shortest_path_mean(grafo):\n",
    "        GC, _ = grafo.gigant_component()\n",
    "        len_nodes = len(GC.nodes())\n",
    "        dists = []\n",
    "        for node in GC.nodes():\n",
    "            path_lens = nx.shortest_path(GC, node, weight = 'weight').values()\n",
    "            for p in path_lens:\n",
    "                if len(p) > 2:\n",
    "                    x = sum([distance_edge(GC, p[i], p[i + 1]) for i in range(0, len(p) - 1 )])\n",
    "                    dists.append(x)\n",
    "        m = mean(dists)\n",
    "        return m\n",
    "                    \n",
    "def distance_edge(grafo, node1, node2):\n",
    "    return grafo.edges[node1, node2]['distance']                    "
   ]
  },
  {
   "cell_type": "code",
   "execution_count": 158,
   "metadata": {},
   "outputs": [
    {
     "data": {
      "text/plain": [
       "4.773544207559503"
      ]
     },
     "execution_count": 158,
     "metadata": {},
     "output_type": "execute_result"
    }
   ],
   "source": [
    "shortest_path_mean(grafo)"
   ]
  }
 ],
 "metadata": {
  "kernelspec": {
   "display_name": "Python 3",
   "language": "python",
   "name": "python3"
  },
  "language_info": {
   "codemirror_mode": {
    "name": "ipython",
    "version": 3
   },
   "file_extension": ".py",
   "mimetype": "text/x-python",
   "name": "python",
   "nbconvert_exporter": "python",
   "pygments_lexer": "ipython3",
   "version": "3.6.9"
  }
 },
 "nbformat": 4,
 "nbformat_minor": 2
}
