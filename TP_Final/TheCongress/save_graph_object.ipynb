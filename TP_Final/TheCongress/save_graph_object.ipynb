{
 "cells": [
  {
   "cell_type": "code",
   "execution_count": 1,
   "metadata": {},
   "outputs": [],
   "source": [
    "from procesador_votaciones import ProcesadorDeVotaciones\n",
    "from heavy_graph_maker import HeavyGraphMaker"
   ]
  },
  {
   "cell_type": "code",
   "execution_count": 2,
   "metadata": {},
   "outputs": [
    {
     "name": "stdout",
     "output_type": "stream",
     "text": [
      "Loading from data/2019/1\n",
      "Loading from data/2019/2\n",
      "Loading from data/2019/3\n",
      "Loading from data/2019/4\n",
      "Loading from data/2019/5\n",
      "Loading from data/2019/6\n",
      "Loading from data/2019/7\n",
      "Loading from data/2019/8\n",
      "Loading from data/2019/9\n",
      "Loading from data/2019/10\n",
      "Loading from data/2019/11\n",
      "Loading from data/2019/12\n",
      "Changing vote 3952 in 2019 to 2020\n",
      "Changing vote 3958 in 2019 to 2020\n",
      "Changing vote 3942 in 2019 to 2020\n",
      "Changing vote 3947 in 2019 to 2020\n",
      "Changing vote 3953 in 2019 to 2020\n",
      "Changing vote 3954 in 2019 to 2020\n",
      "Changing vote 3936 in 2019 to 2020\n",
      "Changing vote 3935 in 2019 to 2020\n",
      "Changing vote 3950 in 2019 to 2020\n",
      "Changing vote 3945 in 2019 to 2020\n",
      "Changing vote 3948 in 2019 to 2020\n",
      "Changing vote 3949 in 2019 to 2020\n",
      "Changing vote 3946 in 2019 to 2020\n",
      "Changing vote 3943 in 2019 to 2020\n",
      "Changing vote 3941 in 2019 to 2020\n",
      "Changing vote 3944 in 2019 to 2020\n",
      "Changing vote 3956 in 2019 to 2020\n",
      "Changing vote 3940 in 2019 to 2020\n",
      "Changing vote 3957 in 2019 to 2020\n",
      "Changing vote 3933 in 2019 to 2020\n",
      "Changing vote 3951 in 2019 to 2020\n",
      "Changing vote 3937 in 2019 to 2020\n",
      "Changing vote 3938 in 2019 to 2020\n",
      "Changing vote 3955 in 2019 to 2020\n",
      "Changing vote 3959 in 2019 to 2020\n",
      "Changing vote 3934 in 2019 to 2020\n",
      "Changing vote 3939 in 2019 to 2020\n"
     ]
    }
   ],
   "source": [
    "begin = 2019\n",
    "end = 2019\n",
    "procesador = ProcesadorDeVotaciones(begin,end, 'data')\n",
    "congress = procesador.procesar()\n",
    "congress.validate()"
   ]
  },
  {
   "cell_type": "code",
   "execution_count": 3,
   "metadata": {},
   "outputs": [],
   "source": [
    "maker = HeavyGraphMaker(congress)"
   ]
  },
  {
   "cell_type": "code",
   "execution_count": 4,
   "metadata": {},
   "outputs": [],
   "source": [
    "grafo = maker.create_year_network(2019)"
   ]
  },
  {
   "cell_type": "markdown",
   "metadata": {},
   "source": [
    "Queremos guardar el objeto de grafo, asi tiene dentro los representatives y bla. "
   ]
  },
  {
   "cell_type": "code",
   "execution_count": 5,
   "metadata": {},
   "outputs": [
    {
     "data": {
      "text/plain": [
       "networkx_graph.RepresentativesGraph"
      ]
     },
     "execution_count": 5,
     "metadata": {},
     "output_type": "execute_result"
    }
   ],
   "source": [
    "type(grafo)"
   ]
  },
  {
   "cell_type": "markdown",
   "metadata": {},
   "source": [
    "Importo esta libreria (descargala) que guarda objetos."
   ]
  },
  {
   "cell_type": "code",
   "execution_count": 6,
   "metadata": {},
   "outputs": [],
   "source": [
    "import dill"
   ]
  },
  {
   "cell_type": "markdown",
   "metadata": {},
   "source": [
    "Nuestros grafos son grandes como bokita entonces rompemos nuestra compu y le dejamos que haga mas recursiones antes de frenanrnos. "
   ]
  },
  {
   "cell_type": "code",
   "execution_count": 7,
   "metadata": {},
   "outputs": [],
   "source": [
    "import sys \n",
    "sys.setrecursionlimit(10000)"
   ]
  },
  {
   "cell_type": "markdown",
   "metadata": {},
   "source": [
    "Abro el file donde guardarlo y con .dump lo escribo. "
   ]
  },
  {
   "cell_type": "code",
   "execution_count": 8,
   "metadata": {},
   "outputs": [],
   "source": [
    "with open('lugar_donde_guardar', 'wb') as file:\n",
    "    dill.dump(grafo, file)\n",
    "#wb es write bytes. Porque dill lee y escribe bytes."
   ]
  },
  {
   "cell_type": "markdown",
   "metadata": {},
   "source": [
    "Si quiero abrirlo"
   ]
  },
  {
   "cell_type": "code",
   "execution_count": 9,
   "metadata": {},
   "outputs": [],
   "source": [
    "with open('lugar_donde_guardar', 'rb') as file:\n",
    "    el_mismo_grafo = dill.load(file)\n",
    "#rb es read bytes. Porque dill lee y escribe bytes."
   ]
  },
  {
   "cell_type": "markdown",
   "metadata": {},
   "source": [
    "Probamos usarlo."
   ]
  },
  {
   "cell_type": "code",
   "execution_count": 10,
   "metadata": {},
   "outputs": [
    {
     "data": {
      "text/plain": [
       "NodeView((<representative.Representative object at 0x7fb1d3841630>, <representative.Representative object at 0x7fb198814320>, <representative.Representative object at 0x7fb19856fcc0>, <representative.Representative object at 0x7fb19862e208>, <representative.Representative object at 0x7fb198ab4240>, <representative.Representative object at 0x7fb1986d6eb8>, <representative.Representative object at 0x7fb198d4b240>, <representative.Representative object at 0x7fb1986f3470>, <representative.Representative object at 0x7fb198923898>, <representative.Representative object at 0x7fb198cf2198>, <representative.Representative object at 0x7fb198c44710>, <representative.Representative object at 0x7fb19868b518>, <representative.Representative object at 0x7fb198c448d0>, <representative.Representative object at 0x7fb198cc0ac8>, <representative.Representative object at 0x7fb1986f3748>, <representative.Representative object at 0x7fb19898f5c0>, <representative.Representative object at 0x7fb1986f3ac8>, <representative.Representative object at 0x7fb1986f3278>, <representative.Representative object at 0x7fb198c6e860>, <representative.Representative object at 0x7fb198bbf630>, <representative.Representative object at 0x7fb198c6ec50>, <representative.Representative object at 0x7fb198cb84e0>, <representative.Representative object at 0x7fb1987b4ac8>, <representative.Representative object at 0x7fb198bbf8d0>, <representative.Representative object at 0x7fb1989486a0>, <representative.Representative object at 0x7fb198be14a8>, <representative.Representative object at 0x7fb198c58f60>, <representative.Representative object at 0x7fb198be0240>, <representative.Representative object at 0x7fb1d3864dd8>, <representative.Representative object at 0x7fb198be0b70>, <representative.Representative object at 0x7fb1d382b2e8>, <representative.Representative object at 0x7fb198b2a400>, <representative.Representative object at 0x7fb1d3833358>, <representative.Representative object at 0x7fb198b6cd68>, <representative.Representative object at 0x7fb198ba3518>, <representative.Representative object at 0x7fb198baa1d0>, <representative.Representative object at 0x7fb198bee470>, <representative.Representative object at 0x7fb198c9e5f8>, <representative.Representative object at 0x7fb19865cef0>, <representative.Representative object at 0x7fb198ab4320>, <representative.Representative object at 0x7fb198afa8d0>, <representative.Representative object at 0x7fb198abc7b8>, <representative.Representative object at 0x7fb198d4bd68>, <representative.Representative object at 0x7fb1988c2978>, <representative.Representative object at 0x7fb198d521d0>, <representative.Representative object at 0x7fb198d52908>, <representative.Representative object at 0x7fb1d3810828>, <representative.Representative object at 0x7fb198a21be0>, <representative.Representative object at 0x7fb198a21dd8>, <representative.Representative object at 0x7fb19856f3c8>, <representative.Representative object at 0x7fb1d3841080>, <representative.Representative object at 0x7fb198be17f0>, <representative.Representative object at 0x7fb198be1c50>, <representative.Representative object at 0x7fb198be1b70>, <representative.Representative object at 0x7fb1984c4c50>, <representative.Representative object at 0x7fb1987a7128>, <representative.Representative object at 0x7fb1987a72b0>, <representative.Representative object at 0x7fb1987a76a0>, <representative.Representative object at 0x7fb1987a7828>, <representative.Representative object at 0x7fb198bb34e0>, <representative.Representative object at 0x7fb198bb3630>, <representative.Representative object at 0x7fb1987b4ba8>, <representative.Representative object at 0x7fb198bee0f0>, <representative.Representative object at 0x7fb198694f60>, <representative.Representative object at 0x7fb1985c46d8>, <representative.Representative object at 0x7fb198527278>, <representative.Representative object at 0x7fb198556c50>, <representative.Representative object at 0x7fb19862ec50>, <representative.Representative object at 0x7fb198d52438>, <representative.Representative object at 0x7fb198579828>, <representative.Representative object at 0x7fb198a21d30>, <representative.Representative object at 0x7fb198ab4fd0>, <representative.Representative object at 0x7fb198579c50>, <representative.Representative object at 0x7fb1985794e0>, <representative.Representative object at 0x7fb198cc0c88>, <representative.Representative object at 0x7fb198579dd8>, <representative.Representative object at 0x7fb1984c46d8>, <representative.Representative object at 0x7fb1988c2828>, <representative.Representative object at 0x7fb198579f60>, <representative.Representative object at 0x7fb198a6f2e8>, <representative.Representative object at 0x7fb198845be0>, <representative.Representative object at 0x7fb1984ba2e8>, <representative.Representative object at 0x7fb19840d748>, <representative.Representative object at 0x7fb1987a7400>, <representative.Representative object at 0x7fb1984c4828>, <representative.Representative object at 0x7fb19839e828>, <representative.Representative object at 0x7fb19860b080>, <representative.Representative object at 0x7fb19839ecc0>, <representative.Representative object at 0x7fb198689320>, <representative.Representative object at 0x7fb1984c4978>, <representative.Representative object at 0x7fb198cea940>, <representative.Representative object at 0x7fb198458d68>, <representative.Representative object at 0x7fb19834bf60>, <representative.Representative object at 0x7fb198cea978>, <representative.Representative object at 0x7fb198473080>, <representative.Representative object at 0x7fb1983711d0>, <representative.Representative object at 0x7fb19865ce80>, <representative.Representative object at 0x7fb198429ba8>, <representative.Representative object at 0x7fb198371550>, <representative.Representative object at 0x7fb198aec400>, <representative.Representative object at 0x7fb198473358>, <representative.Representative object at 0x7fb198720c88>, <representative.Representative object at 0x7fb198734438>, <representative.Representative object at 0x7fb1983066d8>, <representative.Representative object at 0x7fb1987d26d8>, <representative.Representative object at 0x7fb1d38175f8>, <representative.Representative object at 0x7fb1987d27b8>, <representative.Representative object at 0x7fb198cea048>, <representative.Representative object at 0x7fb198403048>, <representative.Representative object at 0x7fb198371ac8>, <representative.Representative object at 0x7fb19877bd30>, <representative.Representative object at 0x7fb198306160>, <representative.Representative object at 0x7fb198823550>, <representative.Representative object at 0x7fb19887ad30>, <representative.Representative object at 0x7fb198759240>, <representative.Representative object at 0x7fb198a480b8>, <representative.Representative object at 0x7fb1987596a0>, <representative.Representative object at 0x7fb1988afb38>, <representative.Representative object at 0x7fb1983b94a8>, <representative.Representative object at 0x7fb198759748>, <representative.Representative object at 0x7fb1987d29e8>, <representative.Representative object at 0x7fb1987f1cf8>, <representative.Representative object at 0x7fb1987b4518>, <representative.Representative object at 0x7fb198759c50>, <representative.Representative object at 0x7fb198b0b828>, <representative.Representative object at 0x7fb198759a90>, <representative.Representative object at 0x7fb198786860>, <representative.Representative object at 0x7fb1983547f0>, <representative.Representative object at 0x7fb198a28ef0>, <representative.Representative object at 0x7fb198a984e0>, <representative.Representative object at 0x7fb1982e5550>, <representative.Representative object at 0x7fb1989b82e8>, <representative.Representative object at 0x7fb1983b9eb8>, <representative.Representative object at 0x7fb1982e5a58>, <representative.Representative object at 0x7fb198b5af28>, <representative.Representative object at 0x7fb19840dd68>, <representative.Representative object at 0x7fb198786240>, <representative.Representative object at 0x7fb19885cda0>, <representative.Representative object at 0x7fb1982ba8d0>, <representative.Representative object at 0x7fb198952ac8>, <representative.Representative object at 0x7fb1983c2518>, <representative.Representative object at 0x7fb1989a7ac8>, <representative.Representative object at 0x7fb19873d7b8>, <representative.Representative object at 0x7fb1983a6668>, <representative.Representative object at 0x7fb19830b080>, <representative.Representative object at 0x7fb198952d68>, <representative.Representative object at 0x7fb19834b198>, <representative.Representative object at 0x7fb19830b748>, <representative.Representative object at 0x7fb1989a2a90>, <representative.Representative object at 0x7fb19834b518>, <representative.Representative object at 0x7fb1989ddcc0>, <representative.Representative object at 0x7fb198bb3748>, <representative.Representative object at 0x7fb1988af668>, <representative.Representative object at 0x7fb198713470>, <representative.Representative object at 0x7fb198c67780>, <representative.Representative object at 0x7fb198b75438>, <representative.Representative object at 0x7fb198814438>, <representative.Representative object at 0x7fb1987b4a90>, <representative.Representative object at 0x7fb198967be0>, <representative.Representative object at 0x7fb19881b2e8>, <representative.Representative object at 0x7fb198886ac8>, <representative.Representative object at 0x7fb1989bf710>, <representative.Representative object at 0x7fb198371e48>, <representative.Representative object at 0x7fb198b03e48>, <representative.Representative object at 0x7fb198d52f60>, <representative.Representative object at 0x7fb198a21f28>, <representative.Representative object at 0x7fb198b75cc0>, <representative.Representative object at 0x7fb1d38a8128>, <representative.Representative object at 0x7fb198a10ac8>, <representative.Representative object at 0x7fb198c51fd0>, <representative.Representative object at 0x7fb198a778d0>, <representative.Representative object at 0x7fb198cf9710>, <representative.Representative object at 0x7fb1986f3908>, <representative.Representative object at 0x7fb198306550>, <representative.Representative object at 0x7fb19873d668>, <representative.Representative object at 0x7fb198c02160>, <representative.Representative object at 0x7fb198d4b2b0>, <representative.Representative object at 0x7fb198996470>, <representative.Representative object at 0x7fb198ca8d68>, <representative.Representative object at 0x7fb198a77f98>, <representative.Representative object at 0x7fb198ce0198>, <representative.Representative object at 0x7fb198948908>, <representative.Representative object at 0x7fb1983a6c18>, <representative.Representative object at 0x7fb198ce0320>, <representative.Representative object at 0x7fb198b2a780>, <representative.Representative object at 0x7fb1987597f0>, <representative.Representative object at 0x7fb198d41a58>, <representative.Representative object at 0x7fb198b2aa90>, <representative.Representative object at 0x7fb1982b1710>, <representative.Representative object at 0x7fb198b40668>, <representative.Representative object at 0x7fb198cc0588>, <representative.Representative object at 0x7fb198a087b8>, <representative.Representative object at 0x7fb198c6b978>, <representative.Representative object at 0x7fb198bb3828>, <representative.Representative object at 0x7fb1982b1d30>, <representative.Representative object at 0x7fb198b40860>, <representative.Representative object at 0x7fb1988c21d0>, <representative.Representative object at 0x7fb198759ba8>, <representative.Representative object at 0x7fb198b409e8>, <representative.Representative object at 0x7fb198d52d30>, <representative.Representative object at 0x7fb198d52358>, <representative.Representative object at 0x7fb198354ef0>, <representative.Representative object at 0x7fb198b40ac8>, <representative.Representative object at 0x7fb19862e978>, <representative.Representative object at 0x7fb198b40c88>, <representative.Representative object at 0x7fb198bee2b0>, <representative.Representative object at 0x7fb1986ec978>, <representative.Representative object at 0x7fb198694fd0>, <representative.Representative object at 0x7fb198786d68>, <representative.Representative object at 0x7fb198923f60>, <representative.Representative object at 0x7fb198a21a58>, <representative.Representative object at 0x7fb19830b128>, <representative.Representative object at 0x7fb198c44198>, <representative.Representative object at 0x7fb198be10b8>, <representative.Representative object at 0x7fb19830b7f0>, <representative.Representative object at 0x7fb198c515f8>, <representative.Representative object at 0x7fb198b52c88>, <representative.Representative object at 0x7fb19883a320>, <representative.Representative object at 0x7fb198be1278>, <representative.Representative object at 0x7fb198b757b8>, <representative.Representative object at 0x7fb198986630>, <representative.Representative object at 0x7fb198be1320>, <representative.Representative object at 0x7fb198b75a20>, <representative.Representative object at 0x7fb198bbf7b8>, <representative.Representative object at 0x7fb198b75ba8>, <representative.Representative object at 0x7fb19883aef0>, <representative.Representative object at 0x7fb1987a71d0>, <representative.Representative object at 0x7fb198ca8080>, <representative.Representative object at 0x7fb1987a7978>, <representative.Representative object at 0x7fb19896e780>, <representative.Representative object at 0x7fb198556470>, <representative.Representative object at 0x7fb198ca8400>, <representative.Representative object at 0x7fb1987a7a58>, <representative.Representative object at 0x7fb1986ca358>, <representative.Representative object at 0x7fb198ca8908>, <representative.Representative object at 0x7fb198aec748>, <representative.Representative object at 0x7fb198cb24a8>, <representative.Representative object at 0x7fb198948780>, <representative.Representative object at 0x7fb198aec320>, <representative.Representative object at 0x7fb198d57860>, <representative.Representative object at 0x7fb198b677b8>, <representative.Representative object at 0x7fb198d57d30>, <representative.Representative object at 0x7fb198b6c4e0>, <representative.Representative object at 0x7fb198cf2828>, <representative.Representative object at 0x7fb198be1128>, <representative.Representative object at 0x7fb198c0a780>, <representative.Representative object at 0x7fb19862e438>, <representative.Representative object at 0x7fb198cd5cc0>, <representative.Representative object at 0x7fb198c0a8d0>, <representative.Representative object at 0x7fb19862e908>, <representative.Representative object at 0x7fb198b9ae48>, <representative.Representative object at 0x7fb198694128>, <representative.Representative object at 0x7fb198c96e80>, <representative.Representative object at 0x7fb198b2ada0>, <representative.Representative object at 0x7fb19865c320>, <representative.Representative object at 0x7fb198814b38>, <representative.Representative object at 0x7fb198aac208>, <representative.Representative object at 0x7fb1986f32b0>, <representative.Representative object at 0x7fb1986f3358>))"
      ]
     },
     "execution_count": 10,
     "metadata": {},
     "output_type": "execute_result"
    }
   ],
   "source": [
    "el_mismo_grafo.get_nodes()"
   ]
  },
  {
   "cell_type": "code",
   "execution_count": 11,
   "metadata": {},
   "outputs": [],
   "source": [
    "def save_graph_object(grafo, file_name):\n",
    "    with open(file_name, 'wb') as file:\n",
    "        dill.dump(grafo, file)\n",
    "        \n",
    "def load_graph_object(file_name):\n",
    "    with open(file_name, 'rb') as file:\n",
    "        return dill.load(file)"
   ]
  },
  {
   "cell_type": "markdown",
   "metadata": {},
   "source": [
    "Le vamos a agregar estas funciones a network_graph. Mostramos como usarlo."
   ]
  },
  {
   "cell_type": "code",
   "execution_count": 14,
   "metadata": {},
   "outputs": [],
   "source": [
    "from networkx_graph import RepresentativesGraph"
   ]
  },
  {
   "cell_type": "code",
   "execution_count": 18,
   "metadata": {},
   "outputs": [],
   "source": [
    "RepresentativesGraph.save_graph_object(grafo, 'file_name')"
   ]
  }
 ],
 "metadata": {
  "kernelspec": {
   "display_name": "Python 3",
   "language": "python",
   "name": "python3"
  },
  "language_info": {
   "codemirror_mode": {
    "name": "ipython",
    "version": 3
   },
   "file_extension": ".py",
   "mimetype": "text/x-python",
   "name": "python",
   "nbconvert_exporter": "python",
   "pygments_lexer": "ipython3",
   "version": "3.6.9"
  }
 },
 "nbformat": 4,
 "nbformat_minor": 2
}
