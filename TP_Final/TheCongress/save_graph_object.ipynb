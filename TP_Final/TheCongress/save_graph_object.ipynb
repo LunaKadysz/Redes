{
 "cells": [
  {
   "cell_type": "code",
   "execution_count": 1,
   "metadata": {},
   "outputs": [],
   "source": [
    "from procesador_votaciones import ProcesadorDeVotaciones\n",
    "from heavy_graph_maker import HeavyGraphMaker"
   ]
  },
  {
   "cell_type": "code",
   "execution_count": 2,
   "metadata": {},
   "outputs": [
    {
     "name": "stdout",
     "output_type": "stream",
     "text": [
      "Loading from data/2019/1\n",
      "Loading from data/2019/2\n",
      "Loading from data/2019/3\n",
      "Loading from data/2019/4\n",
      "Loading from data/2019/5\n",
      "Loading from data/2019/6\n",
      "Loading from data/2019/7\n",
      "Loading from data/2019/8\n",
      "Loading from data/2019/9\n",
      "Loading from data/2019/10\n",
      "Loading from data/2019/11\n",
      "Loading from data/2019/12\n",
      "Changing vote 3952 in 2019 to 2020\n",
      "Changing vote 3958 in 2019 to 2020\n",
      "Changing vote 3942 in 2019 to 2020\n",
      "Changing vote 3947 in 2019 to 2020\n",
      "Changing vote 3953 in 2019 to 2020\n",
      "Changing vote 3954 in 2019 to 2020\n",
      "Changing vote 3936 in 2019 to 2020\n",
      "Changing vote 3935 in 2019 to 2020\n",
      "Changing vote 3950 in 2019 to 2020\n",
      "Changing vote 3945 in 2019 to 2020\n",
      "Changing vote 3948 in 2019 to 2020\n",
      "Changing vote 3949 in 2019 to 2020\n",
      "Changing vote 3946 in 2019 to 2020\n",
      "Changing vote 3943 in 2019 to 2020\n",
      "Changing vote 3941 in 2019 to 2020\n",
      "Changing vote 3944 in 2019 to 2020\n",
      "Changing vote 3956 in 2019 to 2020\n",
      "Changing vote 3940 in 2019 to 2020\n",
      "Changing vote 3957 in 2019 to 2020\n",
      "Changing vote 3933 in 2019 to 2020\n",
      "Changing vote 3951 in 2019 to 2020\n",
      "Changing vote 3937 in 2019 to 2020\n",
      "Changing vote 3938 in 2019 to 2020\n",
      "Changing vote 3955 in 2019 to 2020\n",
      "Changing vote 3959 in 2019 to 2020\n",
      "Changing vote 3934 in 2019 to 2020\n",
      "Changing vote 3939 in 2019 to 2020\n"
     ]
    }
   ],
   "source": [
    "begin = 2019\n",
    "end = 2019\n",
    "procesador = ProcesadorDeVotaciones(begin,end, 'data')\n",
    "congress = procesador.procesar()\n",
    "congress.validate()"
   ]
  },
  {
   "cell_type": "code",
   "execution_count": 3,
   "metadata": {},
   "outputs": [],
   "source": [
    "maker = HeavyGraphMaker(congress)"
   ]
  },
  {
   "cell_type": "code",
   "execution_count": 4,
   "metadata": {},
   "outputs": [],
   "source": [
    "grafo = maker.create_year_network(2019)"
   ]
  },
  {
   "cell_type": "markdown",
   "metadata": {},
   "source": [
    "Queremos guardar el objeto de grafo, asi tiene dentro los representatives y bla. "
   ]
  },
  {
   "cell_type": "code",
   "execution_count": 5,
   "metadata": {},
   "outputs": [
    {
     "data": {
      "text/plain": [
       "networkx_graph.RepresentativesGraph"
      ]
     },
     "execution_count": 5,
     "metadata": {},
     "output_type": "execute_result"
    }
   ],
   "source": [
    "type(grafo)"
   ]
  },
  {
   "cell_type": "markdown",
   "metadata": {},
   "source": [
    "Importo esta libreria (descargala) que guarda objetos."
   ]
  },
  {
   "cell_type": "code",
   "execution_count": 6,
   "metadata": {},
   "outputs": [],
   "source": [
    "import dill"
   ]
  },
  {
   "cell_type": "markdown",
   "metadata": {},
   "source": [
    "Nuestros grafos son grandes como bokita entonces rompemos nuestra compu y le dejamos que haga mas recursiones antes de frenanrnos. "
   ]
  },
  {
   "cell_type": "code",
   "execution_count": 7,
   "metadata": {},
   "outputs": [],
   "source": [
    "import sys \n",
    "sys.setrecursionlimit(10000)"
   ]
  },
  {
   "cell_type": "markdown",
   "metadata": {},
   "source": [
    "Abro el file donde guardarlo y con .dump lo escribo. "
   ]
  },
  {
   "cell_type": "code",
   "execution_count": 8,
   "metadata": {},
   "outputs": [],
   "source": [
    "with open('lugar_donde_guardar', 'wb') as file:\n",
    "    dill.dump(grafo, file)\n",
    "#wb es write bytes. Porque dill lee y escribe bytes."
   ]
  },
  {
   "cell_type": "markdown",
   "metadata": {},
   "source": [
    "Si quiero abrirlo"
   ]
  },
  {
   "cell_type": "code",
   "execution_count": 9,
   "metadata": {},
   "outputs": [],
   "source": [
    "with open('lugar_donde_guardar', 'rb') as file:\n",
    "    el_mismo_grafo = dill.load(file)\n",
    "#rb es read bytes. Porque dill lee y escribe bytes."
   ]
  },
  {
   "cell_type": "markdown",
   "metadata": {},
   "source": [
    "Probamos usarlo."
   ]
  },
  {
   "cell_type": "code",
   "execution_count": 10,
   "metadata": {},
   "outputs": [
    {
     "data": {
      "text/plain": [
       "NodeView((<representative.Representative object at 0x7f2a7b1d4ac8>, <representative.Representative object at 0x7f2a3febb9e8>, <representative.Representative object at 0x7f2a403af1d0>, <representative.Representative object at 0x7f2a3fedb128>, <representative.Representative object at 0x7f2a3fedb400>, <representative.Representative object at 0x7f2a3fed42b0>, <representative.Representative object at 0x7f2a3fedb6a0>, <representative.Representative object at 0x7f2a403ba198>, <representative.Representative object at 0x7f2a3fe04128>, <representative.Representative object at 0x7f2a4066aa58>, <representative.Representative object at 0x7f2a3fe045c0>, <representative.Representative object at 0x7f2a4040f128>, <representative.Representative object at 0x7f2a402f7978>, <representative.Representative object at 0x7f2a3fe04748>, <representative.Representative object at 0x7f2a3fff4828>, <representative.Representative object at 0x7f2a3fe04be0>, <representative.Representative object at 0x7f2a405b5668>, <representative.Representative object at 0x7f2a3fe28ba8>, <representative.Representative object at 0x7f2a3fd8e390>, <representative.Representative object at 0x7f2a4006e080>, <representative.Representative object at 0x7f2a3fe28e48>, <representative.Representative object at 0x7f2a3fcd62e8>, <representative.Representative object at 0x7f2a405b5a90>, <representative.Representative object at 0x7f2a4040fac8>, <representative.Representative object at 0x7f2a3fdd8908>, <representative.Representative object at 0x7f2a40403f60>, <representative.Representative object at 0x7f2a40195400>, <representative.Representative object at 0x7f2a40416320>, <representative.Representative object at 0x7f2a40416da0>, <representative.Representative object at 0x7f2a3fd8e7b8>, <representative.Representative object at 0x7f2a4055b358>, <representative.Representative object at 0x7f2a40135518>, <representative.Representative object at 0x7f2a4041de48>, <representative.Representative object at 0x7f2a40425470>, <representative.Representative object at 0x7f2a4055b630>, <representative.Representative object at 0x7f2a406089e8>, <representative.Representative object at 0x7f2a403b23c8>, <representative.Representative object at 0x7f2a3ffe3630>, <representative.Representative object at 0x7f2a3fd1d630>, <representative.Representative object at 0x7f2a404bb080>, <representative.Representative object at 0x7f2a3fd4c780>, <representative.Representative object at 0x7f2a404bb358>, <representative.Representative object at 0x7f2a4054c8d0>, <representative.Representative object at 0x7f2a3fd71a90>, <representative.Representative object at 0x7f2a3fcd6a58>, <representative.Representative object at 0x7f2a40613cf8>, <representative.Representative object at 0x7f2a406aa4e0>, <representative.Representative object at 0x7f2a3fd27160>, <representative.Representative object at 0x7f2a4054b438>, <representative.Representative object at 0x7f2a3fd275f8>, <representative.Representative object at 0x7f2a4054be48>, <representative.Representative object at 0x7f2a4004f780>, <representative.Representative object at 0x7f2a401ab358>, <representative.Representative object at 0x7f2a404bb780>, <representative.Representative object at 0x7f2a3ffe34e0>, <representative.Representative object at 0x7f2a403c34a8>, <representative.Representative object at 0x7f2a3fcb1898>, <representative.Representative object at 0x7f2a404cedd8>, <representative.Representative object at 0x7f2a7b1adc88>, <representative.Representative object at 0x7f2a40505860>, <representative.Representative object at 0x7f2a4040bd68>, <representative.Representative object at 0x7f2a40521550>, <representative.Representative object at 0x7f2a402aa550>, <representative.Representative object at 0x7f2a3ffe3940>, <representative.Representative object at 0x7f2a3fcd6198>, <representative.Representative object at 0x7f2a4051b5c0>, <representative.Representative object at 0x7f2a406aa748>, <representative.Representative object at 0x7f2a3ffc0240>, <representative.Representative object at 0x7f2a40312908>, <representative.Representative object at 0x7f2a3fc6b630>, <representative.Representative object at 0x7f2a4046e400>, <representative.Representative object at 0x7f2a400785f8>, <representative.Representative object at 0x7f2a404d7b00>, <representative.Representative object at 0x7f2a3fd0b7b8>, <representative.Representative object at 0x7f2a400bf160>, <representative.Representative object at 0x7f2a403bb400>, <representative.Representative object at 0x7f2a4054c5c0>, <representative.Representative object at 0x7f2a3fd0bdd8>, <representative.Representative object at 0x7f2a406b34a8>, <representative.Representative object at 0x7f2a40078978>, <representative.Representative object at 0x7f2a7b1ad438>, <representative.Representative object at 0x7f2a3fc17780>, <representative.Representative object at 0x7f2a3ff1c048>, <representative.Representative object at 0x7f2a7b1adac8>, <representative.Representative object at 0x7f2a400a1978>, <representative.Representative object at 0x7f2a7b1adf60>, <representative.Representative object at 0x7f2a4002fbe0>, <representative.Representative object at 0x7f2a7b1ad1d0>, <representative.Representative object at 0x7f2a3fc4b908>, <representative.Representative object at 0x7f2a404467b8>, <representative.Representative object at 0x7f2a3fc4bfd0>, <representative.Representative object at 0x7f2a3fc71358>, <representative.Representative object at 0x7f2a4054c0b8>, <representative.Representative object at 0x7f2a3fc71c50>, <representative.Representative object at 0x7f2a4054cd68>, <representative.Representative object at 0x7f2a3fc71e80>, <representative.Representative object at 0x7f2a3fc71f60>, <representative.Representative object at 0x7f2a4054c128>, <representative.Representative object at 0x7f2a40697588>, <representative.Representative object at 0x7f2a402d62b0>, <representative.Representative object at 0x7f2a406975c0>, <representative.Representative object at 0x7f2a3ff27a90>, <representative.Representative object at 0x7f2a406977b8>, <representative.Representative object at 0x7f2a4019d4e0>, <representative.Representative object at 0x7f2a40697b70>, <representative.Representative object at 0x7f2a4050c7b8>, <representative.Representative object at 0x7f2a40697c50>, <representative.Representative object at 0x7f2a4065a0b8>, <representative.Representative object at 0x7f2a40697e10>, <representative.Representative object at 0x7f2a40661a90>, <representative.Representative object at 0x7f2a40510630>, <representative.Representative object at 0x7f2a40446e10>, <representative.Representative object at 0x7f2a4064e668>, <representative.Representative object at 0x7f2a40637080>, <representative.Representative object at 0x7f2a3ffe3668>, <representative.Representative object at 0x7f2a3ffe3748>, <representative.Representative object at 0x7f2a4064a160>, <representative.Representative object at 0x7f2a3ff77c88>, <representative.Representative object at 0x7f2a4019dcf8>, <representative.Representative object at 0x7f2a4019d438>, <representative.Representative object at 0x7f2a3ff71630>, <representative.Representative object at 0x7f2a4019d0b8>, <representative.Representative object at 0x7f2a3febb2b0>, <representative.Representative object at 0x7f2a3ff1c278>, <representative.Representative object at 0x7f2a7b1ad710>, <representative.Representative object at 0x7f2a7b1ad198>, <representative.Representative object at 0x7f2a4046ef60>, <representative.Representative object at 0x7f2a3febb780>, <representative.Representative object at 0x7f2a405a7240>, <representative.Representative object at 0x7f2a3ff92c88>, <representative.Representative object at 0x7f2a3fe04f98>, <representative.Representative object at 0x7f2a406b3ac8>, <representative.Representative object at 0x7f2a404255c0>, <representative.Representative object at 0x7f2a400a5e80>, <representative.Representative object at 0x7f2a3fd4c400>, <representative.Representative object at 0x7f2a40697898>, <representative.Representative object at 0x7f2a3fd71668>, <representative.Representative object at 0x7f2a406c5a90>, <representative.Representative object at 0x7f2a3fd71ba8>, <representative.Representative object at 0x7f2a405a7b38>, <representative.Representative object at 0x7f2a406559b0>, <representative.Representative object at 0x7f2a403135c0>, <representative.Representative object at 0x7f2a3fd27208>, <representative.Representative object at 0x7f2a403137b8>, <representative.Representative object at 0x7f2a3fcb1048>, <representative.Representative object at 0x7f2a3ffc00b8>, <representative.Representative object at 0x7f2a3fcb1278>, <representative.Representative object at 0x7f2a40510940>, <representative.Representative object at 0x7f2a4036ab70>, <representative.Representative object at 0x7f2a400bfb38>, <representative.Representative object at 0x7f2a4046e240>, <representative.Representative object at 0x7f2a400eb5f8>, <representative.Representative object at 0x7f2a400d79e8>, <representative.Representative object at 0x7f2a400eb710>, <representative.Representative object at 0x7f2a400d7be0>, <representative.Representative object at 0x7f2a3fcb1a20>, <representative.Representative object at 0x7f2a40227550>, <representative.Representative object at 0x7f2a3fcb1c50>, <representative.Representative object at 0x7f2a40227710>, <representative.Representative object at 0x7f2a400ebf98>, <representative.Representative object at 0x7f2a403d7d30>, <representative.Representative object at 0x7f2a40078390>, <representative.Representative object at 0x7f2a4004fb00>, <representative.Representative object at 0x7f2a40078470>, <representative.Representative object at 0x7f2a400eba20>, <representative.Representative object at 0x7f2a3ffe3048>, <representative.Representative object at 0x7f2a400789b0>, <representative.Representative object at 0x7f2a400787b8>, <representative.Representative object at 0x7f2a4002f240>, <representative.Representative object at 0x7f2a3fc17278>, <representative.Representative object at 0x7f2a4033e630>, <representative.Representative object at 0x7f2a3fcba0f0>, <representative.Representative object at 0x7f2a40371048>, <representative.Representative object at 0x7f2a3fcbab70>, <representative.Representative object at 0x7f2a403fa828>, <representative.Representative object at 0x7f2a400a1d68>, <representative.Representative object at 0x7f2a401ea6d8>, <representative.Representative object at 0x7f2a3fc4b470>, <representative.Representative object at 0x7f2a404d7fd0>, <representative.Representative object at 0x7f2a402d0080>, <representative.Representative object at 0x7f2a404a3898>, <representative.Representative object at 0x7f2a3fc4b898>, <representative.Representative object at 0x7f2a4045c048>, <representative.Representative object at 0x7f2a3fc4beb8>, <representative.Representative object at 0x7f2a3fff05f8>, <representative.Representative object at 0x7f2a40308908>, <representative.Representative object at 0x7f2a40510ba8>, <representative.Representative object at 0x7f2a404a3b38>, <representative.Representative object at 0x7f2a40637b70>, <representative.Representative object at 0x7f2a3fc71748>, <representative.Representative object at 0x7f2a4019da90>, <representative.Representative object at 0x7f2a40308e80>, <representative.Representative object at 0x7f2a401292b0>, <representative.Representative object at 0x7f2a40177588>, <representative.Representative object at 0x7f2a403896d8>, <representative.Representative object at 0x7f2a404d7dd8>, <representative.Representative object at 0x7f2a40446a20>, <representative.Representative object at 0x7f2a3fc71278>, <representative.Representative object at 0x7f2a40320400>, <representative.Representative object at 0x7f2a405d0d68>, <representative.Representative object at 0x7f2a40466128>, <representative.Representative object at 0x7f2a4040ff28>, <representative.Representative object at 0x7f2a40180da0>, <representative.Representative object at 0x7f2a40565860>, <representative.Representative object at 0x7f2a4003ad30>, <representative.Representative object at 0x7f2a406ba9e8>, <representative.Representative object at 0x7f2a40637438>, <representative.Representative object at 0x7f2a404bb9e8>, <representative.Representative object at 0x7f2a40637400>, <representative.Representative object at 0x7f2a40449048>, <representative.Representative object at 0x7f2a4064a630>, <representative.Representative object at 0x7f2a40449358>, <representative.Representative object at 0x7f2a4066a2e8>, <representative.Representative object at 0x7f2a4051be48>, <representative.Representative object at 0x7f2a40117cf8>, <representative.Representative object at 0x7f2a40510e48>, <representative.Representative object at 0x7f2a7b1ad320>, <representative.Representative object at 0x7f2a4066a668>, <representative.Representative object at 0x7f2a40211780>, <representative.Representative object at 0x7f2a4066a9e8>, <representative.Representative object at 0x7f2a7b1ad908>, <representative.Representative object at 0x7f2a40601860>, <representative.Representative object at 0x7f2a40623128>, <representative.Representative object at 0x7f2a3ffe38d0>, <representative.Representative object at 0x7f2a406c5978>, <representative.Representative object at 0x7f2a400684a8>, <representative.Representative object at 0x7f2a7b1ade48>, <representative.Representative object at 0x7f2a404aee48>, <representative.Representative object at 0x7f2a40446b70>, <representative.Representative object at 0x7f2a405d05f8>, <representative.Representative object at 0x7f2a40129cf8>, <representative.Representative object at 0x7f2a40446ef0>, <representative.Representative object at 0x7f2a40403278>, <representative.Representative object at 0x7f2a4054c3c8>, <representative.Representative object at 0x7f2a4041da20>, <representative.Representative object at 0x7f2a401ccf98>, <representative.Representative object at 0x7f2a406976d8>, <representative.Representative object at 0x7f2a4058b8d0>, <representative.Representative object at 0x7f2a40697f60>, <representative.Representative object at 0x7f2a4058bcf8>, <representative.Representative object at 0x7f2a406a47f0>, <representative.Representative object at 0x7f2a405125c0>, <representative.Representative object at 0x7f2a4064eeb8>, <representative.Representative object at 0x7f2a404bb8d0>, <representative.Representative object at 0x7f2a40510780>, <representative.Representative object at 0x7f2a404ce358>, <representative.Representative object at 0x7f2a404ce9e8>, <representative.Representative object at 0x7f2a3fff4eb8>, <representative.Representative object at 0x7f2a4056d3c8>, <representative.Representative object at 0x7f2a3ff92cf8>, <representative.Representative object at 0x7f2a4056d7f0>, <representative.Representative object at 0x7f2a3ff92550>, <representative.Representative object at 0x7f2a40505198>, <representative.Representative object at 0x7f2a3ff71da0>, <representative.Representative object at 0x7f2a40449860>, <representative.Representative object at 0x7f2a3ff1ca20>, <representative.Representative object at 0x7f2a40449fd0>, <representative.Representative object at 0x7f2a3ffc0b70>, <representative.Representative object at 0x7f2a3fedbba8>))"
      ]
     },
     "execution_count": 10,
     "metadata": {},
     "output_type": "execute_result"
    }
   ],
   "source": [
    "el_mismo_grafo.get_nodes()"
   ]
  },
  {
   "cell_type": "code",
   "execution_count": 11,
   "metadata": {},
   "outputs": [],
   "source": [
    "def save_graph_object(grafo, file_name):\n",
    "    with open(file_name, 'wb') as file:\n",
    "        dill.dump(grafo, file)\n",
    "        \n",
    "def load_graph_object(file_name):\n",
    "    with open(file_name, 'rb') as file:\n",
    "        return dill.load(file)"
   ]
  },
  {
   "cell_type": "markdown",
   "metadata": {},
   "source": [
    "Le vamos a agregar estas funciones a network_graph "
   ]
  },
  {
   "cell_type": "code",
   "execution_count": 12,
   "metadata": {},
   "outputs": [],
   "source": [
    "from networkx_graph import RepresentativesGraph"
   ]
  },
  {
   "cell_type": "code",
   "execution_count": 13,
   "metadata": {},
   "outputs": [],
   "source": [
    "RepresentativesGraph.save_graph_object(grafo, 'hola')"
   ]
  },
  {
   "cell_type": "code",
   "execution_count": null,
   "metadata": {},
   "outputs": [],
   "source": []
  }
 ],
 "metadata": {
  "kernelspec": {
   "display_name": "Python 3",
   "language": "python",
   "name": "python3"
  },
  "language_info": {
   "codemirror_mode": {
    "name": "ipython",
    "version": 3
   },
   "file_extension": ".py",
   "mimetype": "text/x-python",
   "name": "python",
   "nbconvert_exporter": "python",
   "pygments_lexer": "ipython3",
   "version": "3.6.9"
  }
 },
 "nbformat": 4,
 "nbformat_minor": 2
}
