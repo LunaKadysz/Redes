{
 "cells": [
  {
   "cell_type": "code",
   "execution_count": 1,
   "metadata": {},
   "outputs": [],
   "source": [
    "from procesador_votaciones import ProcesadorDeVotaciones\n",
    "from heavy_graph_maker import HeavyGraphMaker"
   ]
  },
  {
   "cell_type": "code",
   "execution_count": 2,
   "metadata": {},
   "outputs": [
    {
     "name": "stdout",
     "output_type": "stream",
     "text": [
      "Loading from data/2019/1\n",
      "Loading from data/2019/2\n",
      "Loading from data/2019/3\n",
      "Loading from data/2019/4\n",
      "Loading from data/2019/5\n",
      "Loading from data/2019/6\n",
      "Loading from data/2019/7\n",
      "Loading from data/2019/8\n",
      "Loading from data/2019/9\n",
      "Loading from data/2019/10\n",
      "Loading from data/2019/11\n",
      "Loading from data/2019/12\n",
      "Changing vote 3952 in 2019 to 2020\n",
      "Changing vote 3958 in 2019 to 2020\n",
      "Changing vote 3942 in 2019 to 2020\n",
      "Changing vote 3947 in 2019 to 2020\n",
      "Changing vote 3953 in 2019 to 2020\n",
      "Changing vote 3954 in 2019 to 2020\n",
      "Changing vote 3936 in 2019 to 2020\n",
      "Changing vote 3935 in 2019 to 2020\n",
      "Changing vote 3950 in 2019 to 2020\n",
      "Changing vote 3945 in 2019 to 2020\n",
      "Changing vote 3948 in 2019 to 2020\n",
      "Changing vote 3949 in 2019 to 2020\n",
      "Changing vote 3946 in 2019 to 2020\n",
      "Changing vote 3943 in 2019 to 2020\n",
      "Changing vote 3941 in 2019 to 2020\n",
      "Changing vote 3944 in 2019 to 2020\n",
      "Changing vote 3956 in 2019 to 2020\n",
      "Changing vote 3940 in 2019 to 2020\n",
      "Changing vote 3957 in 2019 to 2020\n",
      "Changing vote 3933 in 2019 to 2020\n",
      "Changing vote 3951 in 2019 to 2020\n",
      "Changing vote 3937 in 2019 to 2020\n",
      "Changing vote 3938 in 2019 to 2020\n",
      "Changing vote 3955 in 2019 to 2020\n",
      "Changing vote 3959 in 2019 to 2020\n",
      "Changing vote 3934 in 2019 to 2020\n",
      "Changing vote 3939 in 2019 to 2020\n"
     ]
    }
   ],
   "source": [
    "begin = 2019\n",
    "end = 2019\n",
    "procesador = ProcesadorDeVotaciones(begin,end, 'data')\n",
    "congress = procesador.procesar()\n",
    "congress.validate()"
   ]
  },
  {
   "cell_type": "code",
   "execution_count": 3,
   "metadata": {},
   "outputs": [],
   "source": [
    "maker = HeavyGraphMaker(congress)"
   ]
  },
  {
   "cell_type": "code",
   "execution_count": 4,
   "metadata": {},
   "outputs": [],
   "source": [
    "grafo = maker.create_year_network(2019)"
   ]
  },
  {
   "cell_type": "markdown",
   "metadata": {},
   "source": [
    "Queremos guardar el objeto de grafo, asi tiene dentro los representatives y bla. "
   ]
  },
  {
   "cell_type": "code",
   "execution_count": 31,
   "metadata": {},
   "outputs": [
    {
     "data": {
      "text/plain": [
       "networkx_graph.RepresentativesGraph"
      ]
     },
     "execution_count": 31,
     "metadata": {},
     "output_type": "execute_result"
    }
   ],
   "source": [
    "type(grafo)"
   ]
  },
  {
   "cell_type": "markdown",
   "metadata": {},
   "source": [
    "Importo esta libreria (descargala) que guarda objetos."
   ]
  },
  {
   "cell_type": "code",
   "execution_count": 14,
   "metadata": {},
   "outputs": [],
   "source": [
    "import dill"
   ]
  },
  {
   "cell_type": "markdown",
   "metadata": {},
   "source": [
    "Nuestros grafos son grandes como bokita entonces rompemos nuestra compu y le dejamos que haga mas recursiones antes de frenanrnos. "
   ]
  },
  {
   "cell_type": "code",
   "execution_count": 35,
   "metadata": {},
   "outputs": [],
   "source": [
    "import sys \n",
    "sys.setrecursionlimit(10000)"
   ]
  },
  {
   "cell_type": "markdown",
   "metadata": {},
   "source": [
    "Abro el file donde guardarlo y con .dump lo escribo. "
   ]
  },
  {
   "cell_type": "code",
   "execution_count": 36,
   "metadata": {},
   "outputs": [],
   "source": [
    "with open('lugar_donde_guardar', 'wb') as file:\n",
    "    dill.dump(grafo, file)\n",
    "#wb es write bytes. Porque dill lee y escribe bytes."
   ]
  },
  {
   "cell_type": "markdown",
   "metadata": {},
   "source": [
    "Si quiero abrirlo"
   ]
  },
  {
   "cell_type": "code",
   "execution_count": 42,
   "metadata": {},
   "outputs": [],
   "source": [
    "with open('lugar_donde_guardar', 'rb') as file:\n",
    "    el_mismo_grafo = dill.load(file)\n",
    "#rb es read bytes. Porque dill lee y escribe bytes."
   ]
  },
  {
   "cell_type": "markdown",
   "metadata": {},
   "source": [
    "Probamos usarlo."
   ]
  },
  {
   "cell_type": "code",
   "execution_count": 45,
   "metadata": {},
   "outputs": [
    {
     "data": {
      "text/plain": [
       "NodeView((<representative.Representative object at 0x7faea2909e10>, <representative.Representative object at 0x7faea2924e10>, <representative.Representative object at 0x7faea0793cf8>, <representative.Representative object at 0x7faea0076390>, <representative.Representative object at 0x7fae9bbede10>, <representative.Representative object at 0x7faea079a198>, <representative.Representative object at 0x7faea2a526d8>, <representative.Representative object at 0x7fae9bc7c940>, <representative.Representative object at 0x7faea079abe0>, <representative.Representative object at 0x7fae9bba4400>, <representative.Representative object at 0x7fae9bcf7978>, <representative.Representative object at 0x7faea29248d0>, <representative.Representative object at 0x7fae9bc346d8>, <representative.Representative object at 0x7fae9bc82160>, <representative.Representative object at 0x7fae9bfc4c50>, <representative.Representative object at 0x7fae9bbf53c8>, <representative.Representative object at 0x7faea0097e80>, <representative.Representative object at 0x7fae9bfce860>, <representative.Representative object at 0x7faea079a8d0>, <representative.Representative object at 0x7fae9bfce550>, <representative.Representative object at 0x7fae9bbb7978>, <representative.Representative object at 0x7fae9bc8edd8>, <representative.Representative object at 0x7faea00976a0>, <representative.Representative object at 0x7fae9bfc4160>, <representative.Representative object at 0x7fae9bc3a438>, <representative.Representative object at 0x7faea005fe80>, <representative.Representative object at 0x7fae9bc00c50>, <representative.Representative object at 0x7faea0076cf8>, <representative.Representative object at 0x7fae9bbf6390>, <representative.Representative object at 0x7faea009acc0>, <representative.Representative object at 0x7fae9bcefda0>, <representative.Representative object at 0x7faea0062f98>, <representative.Representative object at 0x7fae9bcad780>, <representative.Representative object at 0x7faea009a2b0>, <representative.Representative object at 0x7fae9bbc3128>, <representative.Representative object at 0x7faea009a390>, <representative.Representative object at 0x7fae9bcbc898>, <representative.Representative object at 0x7faea009a4a8>, <representative.Representative object at 0x7fae9bc41668>, <representative.Representative object at 0x7faea009a7b8>, <representative.Representative object at 0x7fae9bbca5f8>, <representative.Representative object at 0x7fae9bd000f0>, <representative.Representative object at 0x7fae9bc6fe80>, <representative.Representative object at 0x7fae9bbcae80>, <representative.Representative object at 0x7fae9bbd30f0>, <representative.Representative object at 0x7fae9bd00240>, <representative.Representative object at 0x7fae9bc60e80>, <representative.Representative object at 0x7fae9bd00518>, <representative.Representative object at 0x7fae9bc68550>, <representative.Representative object at 0x7fae9bd03320>, <representative.Representative object at 0x7fae9bc6f7f0>, <representative.Representative object at 0x7fae9bd102e8>, <representative.Representative object at 0x7fae9bc267b8>, <representative.Representative object at 0x7fae9bd035c0>, <representative.Representative object at 0x7fae9bd006d8>, <representative.Representative object at 0x7fae9bd03dd8>, <representative.Representative object at 0x7fae9bc77d68>, <representative.Representative object at 0x7fae9bc2e748>, <representative.Representative object at 0x7fae9bd10cc0>, <representative.Representative object at 0x7fae9bc19518>, <representative.Representative object at 0x7fae9bbe1f98>, <representative.Representative object at 0x7fae9bbe3a58>, <representative.Representative object at 0x7fae9bd17400>, <representative.Representative object at 0x7fae9bd1fc18>, <representative.Representative object at 0x7fae9bd2bf60>, <representative.Representative object at 0x7fae9bc19e10>, <representative.Representative object at 0x7faea31bd978>, <representative.Representative object at 0x7fae9bd32d30>, <representative.Representative object at 0x7fae9bd35080>, <representative.Representative object at 0x7fae9bc1cdd8>, <representative.Representative object at 0x7faea076d780>, <representative.Representative object at 0x7fae9bd3f470>, <representative.Representative object at 0x7fae9bd3f780>, <representative.Representative object at 0x7fae9bbe86d8>, <representative.Representative object at 0x7faea0793eb8>, <representative.Representative object at 0x7fae9bcc92e8>, <representative.Representative object at 0x7faea31bdf60>, <representative.Representative object at 0x7fae9bbe8da0>, <representative.Representative object at 0x7fae9bd00748>, <representative.Representative object at 0x7fae9bc263c8>, <representative.Representative object at 0x7fae9bcc9cf8>, <representative.Representative object at 0x7fae9bbebb00>, <representative.Representative object at 0x7fae9bcd2320>, <representative.Representative object at 0x7fae9bc266d8>, <representative.Representative object at 0x7fae9bcd2908>, <representative.Representative object at 0x7faea0793dd8>, <representative.Representative object at 0x7fae9bc2e048>, <representative.Representative object at 0x7fae9bc2e9e8>, <representative.Representative object at 0x7fae9bce3470>, <representative.Representative object at 0x7fae9bce3978>, <representative.Representative object at 0x7fae9bcef588>, <representative.Representative object at 0x7fae9bcef940>, <representative.Representative object at 0x7fae9bcefba8>, <representative.Representative object at 0x7fae9bcefcc0>, <representative.Representative object at 0x7fae9bbd7da0>, <representative.Representative object at 0x7faea29b7630>, <representative.Representative object at 0x7fae9bc06eb8>, <representative.Representative object at 0x7fae9bbf1780>, <representative.Representative object at 0x7faea2a2b2b0>, <representative.Representative object at 0x7fae9bc9a358>, <representative.Representative object at 0x7faea0062940>, <representative.Representative object at 0x7faea296ffd0>, <representative.Representative object at 0x7fae9bc3a358>, <representative.Representative object at 0x7faea0097dd8>, <representative.Representative object at 0x7fae9bc34d68>, <representative.Representative object at 0x7faea2a5cf28>, <representative.Representative object at 0x7fae9bca72e8>, <representative.Representative object at 0x7fae9bc843c8>, <representative.Representative object at 0x7faea289b518>, <representative.Representative object at 0x7fae9bcbcf98>, <representative.Representative object at 0x7fae9bc84b38>, <representative.Representative object at 0x7faea289b358>, <representative.Representative object at 0x7fae9bbffa20>, <representative.Representative object at 0x7fae9bc8b128>, <representative.Representative object at 0x7faea289bd68>, <representative.Representative object at 0x7fae9bc8e0f0>, <representative.Representative object at 0x7faea079a4e0>, <representative.Representative object at 0x7fae9bbc3e80>, <representative.Representative object at 0x7fae9bc8e1d0>, <representative.Representative object at 0x7faea079ab00>, <representative.Representative object at 0x7fae9bfce4a8>, <representative.Representative object at 0x7fae9bc978d0>, <representative.Representative object at 0x7faea005f128>, <representative.Representative object at 0x7fae9bc3a6a0>, <representative.Representative object at 0x7fae9bc54dd8>, <representative.Representative object at 0x7fae9bc3aa58>, <representative.Representative object at 0x7faea00972e8>, <representative.Representative object at 0x7fae9bc3ab00>, <representative.Representative object at 0x7faea005f780>, <representative.Representative object at 0x7faea005f940>, <representative.Representative object at 0x7fae9bbf6f28>, <representative.Representative object at 0x7faea29c09e8>, <representative.Representative object at 0x7faea00627b8>, <representative.Representative object at 0x7fae9bc9a518>, <representative.Representative object at 0x7faea0062240>, <representative.Representative object at 0x7fae9bd00978>, <representative.Representative object at 0x7fae9bc54550>, <representative.Representative object at 0x7fae9bbf9710>, <representative.Representative object at 0x7fae9bbe1470>, <representative.Representative object at 0x7fae9bc9a630>, <representative.Representative object at 0x7fae9bd1f898>, <representative.Representative object at 0x7fae9bc3aba8>, <representative.Representative object at 0x7fae9bd2b828>, <representative.Representative object at 0x7fae9bc68438>, <representative.Representative object at 0x7fae9bbfc400>, <representative.Representative object at 0x7fae9bd2ba90>, <representative.Representative object at 0x7fae9bfc49e8>, <representative.Representative object at 0x7faea076d898>, <representative.Representative object at 0x7fae9bcad0b8>, <representative.Representative object at 0x7fae9bd35b00>, <representative.Representative object at 0x7fae9bd35be0>, <representative.Representative object at 0x7fae9bbff128>, <representative.Representative object at 0x7fae9bd35e10>, <representative.Representative object at 0x7fae9bbe8208>, <representative.Representative object at 0x7fae9bc6f048>, <representative.Representative object at 0x7faea2849828>, <representative.Representative object at 0x7fae9bc205c0>, <representative.Representative object at 0x7fae9bc3af28>, <representative.Representative object at 0x7fae9bc20668>, <representative.Representative object at 0x7fae9bb81278>, <representative.Representative object at 0x7fae9bd3f668>, <representative.Representative object at 0x7fae9bd3fe80>, <representative.Representative object at 0x7fae9bbc32b0>, <representative.Representative object at 0x7fae9bc20cc0>, <representative.Representative object at 0x7fae9bbd7588>, <representative.Representative object at 0x7fae9bbc37b8>, <representative.Representative object at 0x7fae9bc26208>, <representative.Representative object at 0x7fae9bc06588>, <representative.Representative object at 0x7fae9bcadc50>, <representative.Representative object at 0x7fae9bc262b0>, <representative.Representative object at 0x7fae9bbca160>, <representative.Representative object at 0x7faea076dcc0>, <representative.Representative object at 0x7fae9bcadeb8>, <representative.Representative object at 0x7fae9bc265f8>, <representative.Representative object at 0x7faea286e1d0>, <representative.Representative object at 0x7faea2953c88>, <representative.Representative object at 0x7faea076d7f0>, <representative.Representative object at 0x7fae9bcd2fd0>, <representative.Representative object at 0x7fae9bbca240>, <representative.Representative object at 0x7fae9bcdc5c0>, <representative.Representative object at 0x7fae9bbca390>, <representative.Representative object at 0x7fae9bc2e438>, <representative.Representative object at 0x7fae9bc41400>, <representative.Representative object at 0x7faea28becf8>, <representative.Representative object at 0x7fae9bcdcf28>, <representative.Representative object at 0x7fae9bc4be10>, <representative.Representative object at 0x7fae9bbed8d0>, <representative.Representative object at 0x7fae9bc54128>, <representative.Representative object at 0x7fae9bbd34a8>, <representative.Representative object at 0x7fae9bc4b1d0>, <representative.Representative object at 0x7fae9bce33c8>, <representative.Representative object at 0x7fae9bbca518>, <representative.Representative object at 0x7fae9bc4b5f8>, <representative.Representative object at 0x7fae9bce38d0>, <representative.Representative object at 0x7fae9bc4ba58>, <representative.Representative object at 0x7fae9bbefb38>, <representative.Representative object at 0x7fae9bc54630>, <representative.Representative object at 0x7fae9bbd7cf8>, <representative.Representative object at 0x7faea295a5c0>, <representative.Representative object at 0x7fae9bc34160>, <representative.Representative object at 0x7fae9bcad240>, <representative.Representative object at 0x7fae9bbcacc0>, <representative.Representative object at 0x7faea076d940>, <representative.Representative object at 0x7fae9bb83080>, <representative.Representative object at 0x7fae9bbf1160>, <representative.Representative object at 0x7fae9bc00080>, <representative.Representative object at 0x7fae9bc54320>, <representative.Representative object at 0x7fae9bcf7748>, <representative.Representative object at 0x7fae9bca7b70>, <representative.Representative object at 0x7fae9bc54f28>, <representative.Representative object at 0x7fae9bcf7b38>, <representative.Representative object at 0x7fae9bc60390>, <representative.Representative object at 0x7fae9bbf3518>, <representative.Representative object at 0x7fae9bbd3748>, <representative.Representative object at 0x7fae9bc82cc0>, <representative.Representative object at 0x7fae9bc60898>, <representative.Representative object at 0x7fae9bc34b38>, <representative.Representative object at 0x7fae9bbd75c0>, <representative.Representative object at 0x7fae9bbf3cc0>, <representative.Representative object at 0x7fae9bc8e550>, <representative.Representative object at 0x7fae9bbd7940>, <representative.Representative object at 0x7fae9bc8e630>, <representative.Representative object at 0x7fae9bbd7160>, <representative.Representative object at 0x7fae9bcf7470>, <representative.Representative object at 0x7fae9bc97c18>, <representative.Representative object at 0x7fae9bbfcb38>, <representative.Representative object at 0x7fae9bbd7fd0>, <representative.Representative object at 0x7fae9bc9a1d0>, <representative.Representative object at 0x7fae9bb83cc0>, <representative.Representative object at 0x7faea076dfd0>, <representative.Representative object at 0x7faea319fb70>, <representative.Representative object at 0x7fae9bc6ff98>, <representative.Representative object at 0x7faea00762e8>, <representative.Representative object at 0x7faea319f278>, <representative.Representative object at 0x7faea0097cf8>, <representative.Representative object at 0x7faea0062e10>, <representative.Representative object at 0x7faea29b72b0>, <representative.Representative object at 0x7fae9bbdf4a8>, <representative.Representative object at 0x7faea299b5c0>, <representative.Representative object at 0x7fae9bca7400>, <representative.Representative object at 0x7faea079a9b0>, <representative.Representative object at 0x7fae9bfce7f0>, <representative.Representative object at 0x7faea2b07b70>, <representative.Representative object at 0x7faea076d198>, <representative.Representative object at 0x7faea29c0e80>, <representative.Representative object at 0x7fae9bc19c88>, <representative.Representative object at 0x7faea2b07ac8>, <representative.Representative object at 0x7faea29c04a8>, <representative.Representative object at 0x7fae9bc1c400>, <representative.Representative object at 0x7faea28b6048>, <representative.Representative object at 0x7fae9bbe4940>, <representative.Representative object at 0x7faea295a9b0>, <representative.Representative object at 0x7fae9bc41160>, <representative.Representative object at 0x7fae9bc200b8>, <representative.Representative object at 0x7faea295a4a8>, <representative.Representative object at 0x7faea28bed30>, <representative.Representative object at 0x7fae9bc20748>, <representative.Representative object at 0x7faea2849278>, <representative.Representative object at 0x7faea2849860>))"
      ]
     },
     "execution_count": 45,
     "metadata": {},
     "output_type": "execute_result"
    }
   ],
   "source": [
    "el_mismo_grafo.get_nodes()"
   ]
  },
  {
   "cell_type": "code",
   "execution_count": 46,
   "metadata": {},
   "outputs": [],
   "source": [
    "def save_graph_object(grafo, file_name):\n",
    "    with open(file_name, 'wb') as file:\n",
    "        dill.dump(grafo, file)\n",
    "        \n",
    "def load_graph_object(file_name):\n",
    "    with open(file_name, 'rb') as file:\n",
    "        return dill.load(file)"
   ]
  }
 ],
 "metadata": {
  "kernelspec": {
   "display_name": "Python 3",
   "language": "python",
   "name": "python3"
  },
  "language_info": {
   "codemirror_mode": {
    "name": "ipython",
    "version": 3
   },
   "file_extension": ".py",
   "mimetype": "text/x-python",
   "name": "python",
   "nbconvert_exporter": "python",
   "pygments_lexer": "ipython3",
   "version": "3.6.9"
  }
 },
 "nbformat": 4,
 "nbformat_minor": 2
}
