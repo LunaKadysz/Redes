{
 "cells": [
  {
   "cell_type": "code",
   "execution_count": 1,
   "metadata": {},
   "outputs": [],
   "source": [
    "from procesador_votaciones import ProcesadorDeVotaciones\n",
    "from heavy_graph_maker import HeavyGraphMaker\n",
    "\n",
    "begin = 2019\n",
    "end = 2019\n",
    "procesador = ProcesadorDeVotaciones(begin,end, 'data')"
   ]
  },
  {
   "cell_type": "code",
   "execution_count": 2,
   "metadata": {},
   "outputs": [
    {
     "name": "stdout",
     "output_type": "stream",
     "text": [
      "Loading from data/2019/1\n",
      "Loading from data/2019/2\n",
      "Loading from data/2019/3\n",
      "Loading from data/2019/4\n",
      "Loading from data/2019/5\n",
      "Loading from data/2019/6\n",
      "Loading from data/2019/7\n",
      "Loading from data/2019/8\n",
      "Loading from data/2019/9\n",
      "Loading from data/2019/10\n",
      "Loading from data/2019/11\n",
      "Loading from data/2019/12\n",
      "Changing vote 3952 in 2019 to 2020\n",
      "Changing vote 3958 in 2019 to 2020\n",
      "Changing vote 3942 in 2019 to 2020\n",
      "Changing vote 3947 in 2019 to 2020\n",
      "Changing vote 3953 in 2019 to 2020\n",
      "Changing vote 3954 in 2019 to 2020\n",
      "Changing vote 3936 in 2019 to 2020\n",
      "Changing vote 3935 in 2019 to 2020\n",
      "Changing vote 3950 in 2019 to 2020\n",
      "Changing vote 3945 in 2019 to 2020\n",
      "Changing vote 3948 in 2019 to 2020\n",
      "Changing vote 3949 in 2019 to 2020\n",
      "Changing vote 3946 in 2019 to 2020\n",
      "Changing vote 3943 in 2019 to 2020\n",
      "Changing vote 3941 in 2019 to 2020\n",
      "Changing vote 3944 in 2019 to 2020\n",
      "Changing vote 3956 in 2019 to 2020\n",
      "Changing vote 3940 in 2019 to 2020\n",
      "Changing vote 3957 in 2019 to 2020\n",
      "Changing vote 3933 in 2019 to 2020\n",
      "Changing vote 3951 in 2019 to 2020\n",
      "Changing vote 3937 in 2019 to 2020\n",
      "Changing vote 3938 in 2019 to 2020\n",
      "Changing vote 3955 in 2019 to 2020\n",
      "Changing vote 3959 in 2019 to 2020\n",
      "Changing vote 3934 in 2019 to 2020\n",
      "Changing vote 3939 in 2019 to 2020\n"
     ]
    }
   ],
   "source": [
    "congress = procesador.procesar()\n",
    "congress.validate()\n",
    "representatives = congress.representatives"
   ]
  },
  {
   "cell_type": "code",
   "execution_count": 3,
   "metadata": {},
   "outputs": [
    {
     "name": "stdout",
     "output_type": "stream",
     "text": [
      "Loading from data/2019/1\n",
      "Loading from data/2019/2\n",
      "Loading from data/2019/3\n",
      "Loading from data/2019/4\n",
      "Loading from data/2019/5\n",
      "Loading from data/2019/6\n",
      "Loading from data/2019/7\n",
      "Loading from data/2019/8\n",
      "Loading from data/2019/9\n",
      "Loading from data/2019/10\n",
      "Loading from data/2019/11\n",
      "Loading from data/2019/12\n",
      "Changing vote 3952 in 2019 to 2020\n",
      "Changing vote 3958 in 2019 to 2020\n",
      "Changing vote 3942 in 2019 to 2020\n",
      "Changing vote 3947 in 2019 to 2020\n",
      "Changing vote 3953 in 2019 to 2020\n",
      "Changing vote 3954 in 2019 to 2020\n",
      "Changing vote 3936 in 2019 to 2020\n",
      "Changing vote 3935 in 2019 to 2020\n",
      "Changing vote 3950 in 2019 to 2020\n",
      "Changing vote 3945 in 2019 to 2020\n",
      "Changing vote 3948 in 2019 to 2020\n",
      "Changing vote 3949 in 2019 to 2020\n",
      "Changing vote 3946 in 2019 to 2020\n",
      "Changing vote 3943 in 2019 to 2020\n",
      "Changing vote 3941 in 2019 to 2020\n",
      "Changing vote 3944 in 2019 to 2020\n",
      "Changing vote 3956 in 2019 to 2020\n",
      "Changing vote 3940 in 2019 to 2020\n",
      "Changing vote 3957 in 2019 to 2020\n",
      "Changing vote 3933 in 2019 to 2020\n",
      "Changing vote 3951 in 2019 to 2020\n",
      "Changing vote 3937 in 2019 to 2020\n",
      "Changing vote 3938 in 2019 to 2020\n",
      "Changing vote 3955 in 2019 to 2020\n",
      "Changing vote 3959 in 2019 to 2020\n",
      "Changing vote 3934 in 2019 to 2020\n",
      "Changing vote 3939 in 2019 to 2020\n"
     ]
    }
   ],
   "source": [
    "differencias = []\n",
    "congress = procesador.procesar()\n",
    "congress.validate()\n",
    "new_representatives = congress.representatives\n",
    "for repre in new_representatives:\n",
    "    if not any(map(lambda x: x == repre, representatives)):\n",
    "        differencias.append(repre)\n",
    "        print(repre.id, repre.name, repre.last_name)"
   ]
  },
  {
   "cell_type": "code",
   "execution_count": 4,
   "metadata": {},
   "outputs": [],
   "source": [
    "for repre in representatives:\n",
    "    if repre.last_name == 'ALONSO':\n",
    "        massa = repre\n",
    "for repre in new_representatives:\n",
    "    if repre.last_name == 'ALONSO':\n",
    "        massa2 = repre"
   ]
  },
  {
   "cell_type": "code",
   "execution_count": 5,
   "metadata": {},
   "outputs": [
    {
     "name": "stdout",
     "output_type": "stream",
     "text": [
      "dict_values(['AFIRMATIVO', 'AUSENTE', 'AFIRMATIVO', 'AUSENTE', 'AFIRMATIVO', 'AFIRMATIVO', 'AFIRMATIVO', 'AFIRMATIVO', 'AUSENTE', 'AFIRMATIVO', 'AFIRMATIVO', 'AFIRMATIVO', 'AFIRMATIVO', 'AUSENTE', 'AFIRMATIVO', 'AFIRMATIVO', 'AFIRMATIVO', 'AUSENTE', 'AFIRMATIVO', 'NEGATIVO', 'AFIRMATIVO', 'AFIRMATIVO', 'NEGATIVO', 'AFIRMATIVO', 'NEGATIVO', 'NEGATIVO', 'NEGATIVO', 'NEGATIVO', 'AFIRMATIVO', 'NEGATIVO', 'NEGATIVO', 'NEGATIVO', 'NEGATIVO', 'NEGATIVO', 'NEGATIVO', 'NEGATIVO', 'AFIRMATIVO', 'AFIRMATIVO', 'AFIRMATIVO', 'AFIRMATIVO', 'AFIRMATIVO', 'AFIRMATIVO', 'AFIRMATIVO', 'AFIRMATIVO', 'AFIRMATIVO', 'AFIRMATIVO', 'AFIRMATIVO', 'AFIRMATIVO', 'AUSENTE', 'AFIRMATIVO', 'AFIRMATIVO', 'AFIRMATIVO', 'AFIRMATIVO', 'AFIRMATIVO', 'AFIRMATIVO', 'AFIRMATIVO', 'AFIRMATIVO', 'AUSENTE', 'AFIRMATIVO', 'AFIRMATIVO', 'AFIRMATIVO', 'AFIRMATIVO', 'AFIRMATIVO', 'AFIRMATIVO', 'AUSENTE', 'NEGATIVO', 'AFIRMATIVO', 'AFIRMATIVO', 'AFIRMATIVO'])\n"
     ]
    }
   ],
   "source": [
    "print(massa.votes.values())"
   ]
  },
  {
   "cell_type": "code",
   "execution_count": 6,
   "metadata": {},
   "outputs": [],
   "source": [
    "for a, b in zip(massa2.votes.values(), massa.votes.values()):\n",
    "    if not a == b:\n",
    "        print(a)"
   ]
  },
  {
   "cell_type": "code",
   "execution_count": 7,
   "metadata": {},
   "outputs": [],
   "source": [
    "network= HeavyGraphMaker(congress).create_year_network(2019)"
   ]
  },
  {
   "cell_type": "code",
   "execution_count": 8,
   "metadata": {},
   "outputs": [
    {
     "name": "stdout",
     "output_type": "stream",
     "text": [
      "69 -27\n"
     ]
    }
   ],
   "source": [
    "import matplotlib.pyplot as plt\n",
    "x = network.get_sorted_edges_weights().values()\n",
    "print(max(x), min(x))\n",
    "#plt.hist(x, bins = 100)\n",
    "#plt.show()"
   ]
  },
  {
   "cell_type": "code",
   "execution_count": null,
   "metadata": {},
   "outputs": [],
   "source": []
  },
  {
   "cell_type": "code",
   "execution_count": null,
   "metadata": {},
   "outputs": [],
   "source": []
  }
 ],
 "metadata": {
  "kernelspec": {
   "display_name": "Python 3",
   "language": "python",
   "name": "python3"
  },
  "language_info": {
   "codemirror_mode": {
    "name": "ipython",
    "version": 3
   },
   "file_extension": ".py",
   "mimetype": "text/x-python",
   "name": "python",
   "nbconvert_exporter": "python",
   "pygments_lexer": "ipython3",
   "version": "3.6.9"
  }
 },
 "nbformat": 4,
 "nbformat_minor": 2
}
